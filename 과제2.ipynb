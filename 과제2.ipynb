{
 "cells": [
  {
   "cell_type": "markdown",
   "metadata": {},
   "source": [
    "# 과제 2"
   ]
  },
  {
   "cell_type": "code",
   "execution_count": 22,
   "metadata": {
    "collapsed": false
   },
   "outputs": [
    {
     "name": "stdout",
     "output_type": "stream",
     "text": [
      "4\n",
      "1\n",
      "2\n",
      "2\n",
      "1\n",
      "3\n"
     ]
    }
   ],
   "source": [
    "'''•다음 6 개의 Expression에 대해 Evaluation 결과 값을 출력하고, 해당 결과가 나온 이유에 대해 설명하시오'''\n",
    "\n",
    "print 1 and 2 and 3 and 4\n",
    "print 1 or 2 or 3 or 4\n",
    "print 1 and 2 or 3 and 4\n",
    "print (1 and 2) or (3 and 4)\n",
    "print 1 or 2 and 3 or 4\n",
    "print (1 or 2) and (3 or 4)\n"
   ]
  },
  {
   "cell_type": "markdown",
   "metadata": {},
   "source": [
    "첫줄은 처음 1일때 and가 나와 다음 숫자2를 확인한 후 또 and가 나와 다음숫자3를 확인하고 또 and가 나와 다음 숫자 4를 확인하여 마지막 숫자인 4를 프린트합니다.\n",
    "\n",
    "2번째 줄은 처음 1이 나오고 or 연산자가 나와 뒤에 확인할 필요 없이 1이 출력 됩니다.\n",
    "\n",
    "3번째 줄은 1이 나오고 and 연산자가 나와 뒤의 숫자 2를 확인한 후에 or 연산자가 나와 뒤의 숫자를 확인할 필요 없이 2가 출력됩니다.\n",
    "\n",
    "4번째 줄은 먼저 가로안의 연산을 수행 하면 2 or 4 가 되는데 여기서 2를 확인 후 or 이므로 바로 2를 출력 합니다.\n",
    "\n",
    "5번째는 1이 나온 후 or연산자가 나오므로 뒤를 확인하지 않고 1이 출력됩니다.\n",
    "\n",
    "6번째는 가로안의 연산을 수행하면 1 and 3이 되는데 1을 읽은 후 and 이므로 뒤의 3을 읽어 모두 참임으로 3을 출력 합니다."
   ]
  },
  {
   "cell_type": "code",
   "execution_count": 53,
   "metadata": {
    "collapsed": false
   },
   "outputs": [
    {
     "name": "stdout",
     "output_type": "stream",
     "text": [
      "input integer:-38253\n",
      "음수입니다\n"
     ]
    }
   ],
   "source": [
    "'''•키보드로 정수값을 입력 받고 그 값이 양수인지 음수인지를 비트 연산자를 이용하여 판단하는 프로그램을 작성하시오.'''\n",
    "\n",
    "i = input ('input integer:')\n",
    "a= i>>32\n",
    "if(a==0):\n",
    "    print '양수입니다'\n",
    "else :\n",
    "    print '음수입니다'\n"
   ]
  },
  {
   "cell_type": "markdown",
   "metadata": {},
   "source": [
    "가장왼쪽에 있는 수는 최상위 비트이며 입력 받은 정수의 최상위 비트를 right shift(>>) 연산을 통해 제일 오른쪽으로 가지고 오면 정수를 나타내는 비트는 사라지고 부호를 나타내는 비트만 남게 되는데 이 숫자가 0일 경우 양수 그렇지 않으면 음수를 출력 하게 해주었습니다. "
   ]
  },
  {
   "cell_type": "code",
   "execution_count": 164,
   "metadata": {
    "collapsed": false
   },
   "outputs": [
    {
     "name": "stdout",
     "output_type": "stream",
     "text": [
      "['/usr/local/bin', 'python']\n",
      "['/home/chulsoo', 'test.txt']\n"
     ]
    }
   ],
   "source": [
    "'''경로에 해당하는 문자열 1개를 입력 받아 그 안에 디렉토리 경로명과 파일명을 분리하여 리스트로 반환하는 함수 div_path(s)를 작성하시오.'''\n",
    "def div_path(s):\n",
    "    \n",
    "    sol=[]\n",
    "    slash =s.count('/')\n",
    "    index=0\n",
    "    temp =''\n",
    "    \n",
    "    while slash !=0:\n",
    "        if s[index] == '/':\n",
    "            slash -= 1\n",
    "        temp += s[index] \n",
    "        index+=1\n",
    "        \n",
    "   \n",
    "    sol.append(temp[:index-1])\n",
    "    sol.append(s[index:])\n",
    "    \n",
    "    return sol\n",
    "        \n",
    "        \n",
    "print div_path('/usr/local/bin/python')\n",
    "print div_path('/home/chulsoo/test.txt')\n"
   ]
  },
  {
   "cell_type": "markdown",
   "metadata": {},
   "source": [
    "div_path() 함수를 선언하고 그안에 마지막에 디렉토리와 파일을 분리해서 출력할 sol리스트를 선언해줍니다.\n",
    " slash는 받은 문자열의 /의 개수를 저장 하여주고 정수형 index와 문자열 변수 temp를 선언하여 줍니다.\n",
    " 이후 마지막 /가 나올 때 까지 while문을 돌려줍니다.\n",
    "이후 문자열 temp에 받은 문자를 저장 하면서 /가 나타날때마다 slash의 값을 1씩 줄여줍니다.\n",
    "/가 다나오게 되면 while문을 빠져나오고 append를 이용해 sol에 디렉토리인 temp값을 넣어주고 그다음에 index가 /를 가르키고 끝났으므로 슬라이싱을 이용해 index다음부터 저장하도록 append를 이용해 리스트 sol에 추가하여줍니다. "
   ]
  },
  {
   "cell_type": "code",
   "execution_count": 144,
   "metadata": {
    "collapsed": false
   },
   "outputs": [
    {
     "name": "stdout",
     "output_type": "stream",
     "text": [
      "[1, 2, 3, 4]\n",
      "[-10, -5, -1, 0, 9, 100]\n",
      "[0, 1, 2]\n"
     ]
    }
   ],
   "source": [
    "'''두 개의 리스트를 인자로 받아서 그 두 개의 리스트에 대한 '합집합'을 반환하는 함수 list_union(lista, listb)를 작성하시오.'''\n",
    "\n",
    "def list_union(lista, listb):\n",
    "        \n",
    "        result =lista\n",
    "        s=len(listb)\n",
    "        for x in range(s):\n",
    "            if listb[x] in lista :\n",
    "                continue\n",
    "            result.append(listb[x])\n",
    "      \n",
    "        \n",
    "        result.sort()\n",
    "        \n",
    "        return result\n",
    "    \n",
    "print list_union([1, 2, 3], [1, 2, 4])\n",
    "print list_union([-10, -5, 0, -1], [100, 9, 0, 9])\n",
    "print list_union([0, 1, 2], [0, 1, 2])"
   ]
  },
  {
   "cell_type": "markdown",
   "metadata": {},
   "source": [
    "최종 출력될 리스트 result에 일단 lista의 값을 넣고 \n",
    "listb의 크기를 s에 저장한 후에 for문을 써서 listb에 0부터 s까지의 lista와 겹치는 값이 있는지 확인 한다 만약 겹치면 넘어가고 겹치지 않는다면 append함수로 result에 그값을 넣어준뒤 마지막으로 sort함수로 정렬시켜 출력합니다."
   ]
  },
  {
   "cell_type": "code",
   "execution_count": 140,
   "metadata": {
    "collapsed": false
   },
   "outputs": [
    {
     "name": "stdout",
     "output_type": "stream",
     "text": [
      "906609\n"
     ]
    }
   ],
   "source": [
    "'''앞에서부터 읽을 때나 뒤에서부터 읽을 때나 모양이 같은 수를 대칭수(palindrome)라고 부릅니다.\n",
    "\n",
    "두 자리 수를 곱해 만들 수 있는 대칭수 중 가장 큰 수는 9009 (= 91 × 99) 입니다.\n",
    "\n",
    "세 자리 수를 곱해 만들 수 있는 가장 큰 대칭수는 얼마입니까?'''\n",
    "\n",
    "n=0\n",
    "for x in range(1000) :\n",
    "    for y in range(1000) :\n",
    "        z=x*y\n",
    "        if str(z)==str(z)[::-1] :\n",
    "            if n<z :\n",
    "                n =z\n",
    "\n",
    "            \n",
    "print n"
   ]
  },
  {
   "cell_type": "markdown",
   "metadata": {},
   "source": [
    "처음에 n에 0을 저장하여줍니다\n",
    "이중 for문을 이용해 1*1부터 999*999 까지 하면서 값을 z에 저장합니다.\n",
    "이때 나온값을 문자열로 바꾸어 슬라이싱중에 [::-1]을 써주면 역순으로 출력되는 것을 사용해 \n",
    "서로 값이 같으면 대칭인 것이므로 이 값이 n보다 크다면 n에 z값을 저장해 주는 방식으로 가장큰 수를 찾아 출력하여줍니다."
   ]
  },
  {
   "cell_type": "code",
   "execution_count": 84,
   "metadata": {
    "collapsed": false
   },
   "outputs": [
    {
     "name": "stdout",
     "output_type": "stream",
     "text": [
      "232792560\n"
     ]
    }
   ],
   "source": [
    "'''1 ~ 10 사이의 어떤 수로도 나누어 떨어지는 가장 작은 수는 2520입니다.\n",
    "\n",
    "그러면 1 ~ 20 사이의 어떤 수로도 나누어 떨어지는 가장 작은 수는 얼마입니까?'''\n",
    "\n",
    "\n",
    "x=2\n",
    "n=232790000\n",
    "while x<=20:\n",
    "\n",
    "    if n%x ==0:\n",
    "        x=x+1\n",
    "    else:\n",
    "        n=n+1\n",
    "        x=2\n",
    "        \n",
    "print n"
   ]
  },
  {
   "cell_type": "markdown",
   "metadata": {},
   "source": [
    "while문을 이용하여 x를 20이 될 때 까지 반복문을 돌려줍니다.\n",
    "1로는 모두 나눌수 있으므로 x값을 2부터 시작 합니다. (처음에 n값을 2로 주고 시작하였으나 실행시간이 1시간이 넘을 정도로 너무 너무 길어 과제 제출시에는 값이 빨리 나올수 있게 23790000으로 놓고 실행 하였습니다.)  \n",
    "n에 2의 값을 넣어주고 n값을 x로 나눕니다. 이때 나머지가 0이면 나누어 지는 수이므로 x에 1을 더해주어 다시 나누어 봅니다. 이때 나누어지지 않는다면 n값은 나누어지지 않는 값이므로 n+1을 해준후 다시 x를 2부터 나누어 볼수 있게 x에 2를 저장하여 줍니다.\n",
    "이런식으로 while문을 돌리면 결국 x가 20으로 나눌수 있는 숫자 까지 도달하며 이때는 x값이 21이 되어 while 문을 빠져나오게되고 남아있는 n값이 1부터 20까지 모든 수로 나누어지는 가장 작은 숫자입니다.  "
   ]
  },
  {
   "cell_type": "code",
   "execution_count": 146,
   "metadata": {
    "collapsed": false
   },
   "outputs": [
    {
     "name": "stdout",
     "output_type": "stream",
     "text": [
      "25164150\n"
     ]
    }
   ],
   "source": [
    "'''1부터 10까지 자연수를 각각 제곱해 더하면 다음과 같습니다 (제곱의 합).\n",
    "\n",
    "12 + 22 + ... + 102 = 385\n",
    "\n",
    "1부터 10을 먼저 더한 다음에 그 결과를 제곱하면 다음과 같습니다 (합의 제곱).\n",
    "\n",
    "(1 + 2 + ... + 10)2 = 552 = 3025\n",
    "\n",
    "따라서 1부터 10까지 자연수에 대해 \"합의 제곱\"과 \"제곱의 합\" 의 차이는 3025 - 385 = 2640 이 됩니다.\n",
    "\n",
    "그러면 1부터 100까지 자연수에 대해 \"합의 제곱\"과 \"제곱의 합\"의 차이는 얼마입니까?\n",
    "'''\n",
    "\n",
    "n=0\n",
    "m=0\n",
    "L=[]\n",
    "\n",
    "for x in range(101):\n",
    "    L.append(x*x)\n",
    "    \n",
    "for x in range(101):\n",
    "    n=n+L[x]\n",
    "    \n",
    "for x in range(101):\n",
    "    m=m+x\n",
    "m=m**2\n",
    "\n",
    "print m-n\n"
   ]
  },
  {
   "cell_type": "markdown",
   "metadata": {},
   "source": [
    "강의에서 에서배운대로 for문과 append를 이용하여 제곱의 합을 리스트에 저장하여 \n",
    "다시 for문으로 리스트의 모든 값을 n에저장하여 줍니다.\n",
    "합의 제곱은 for문을 사용해 m에 1부터 100까지 더해준후 m을 제곱하였습니다\n",
    "그리고 m에서 n을 빼주었습니다"
   ]
  },
  {
   "cell_type": "code",
   "execution_count": 181,
   "metadata": {
    "collapsed": false
   },
   "outputs": [
    {
     "name": "stdout",
     "output_type": "stream",
     "text": [
      "컴퓨터공학부 // Schoolfun - Study and Fun 로그인 로그인 아이디 비밀번호 로그인 유지 브라우저를 닫더라도 로그인이 계속 유지될 수 있습니다. 로그인 유지 기능을 사용할 경우 다음 접속부터는 로그인할 필요가 없습니다. 단, 게임방, 학교 등 공공장소에서 이용 시 개인정보가 유출될 수 있으니 꼭 로그아웃을 해주세요. 회원가입 ID/PW 찾기 IT 교육의 글로벌 메카!한국기술교육대학교 컴퓨터공학부 Close 소개 구성원소개 학사안내 입학 학부 대학원 학부광장 자료실 대학원 공학교육인증 Registration 컴퓨터공학부 School of Computer Science and Engineering IT 융합소프트웨어 인력양성사업 CK (Creative Korea)-I 교육역량강화사업 온라인 컨텐츠 Online Contents for Education Capability Empowerment IT 교육의 글로벌 메카 한국기술교육대학교 컴퓨터공학부 홈페이지에 오신 것을환영합니다! IT 융합소프트웨어 인력양성사업 글로벌 수준의 IT전문인력 양성 IT융합분야에 대한 국제적인 경쟁력 고취 바로가기 교육역량강화사업 컨텐츠 교육역량강화사업 온라인 컨텐츠를 소개합니다. 바로가기 공지사항 [특성화] 토익, 오픽 강좌 수요조사 공고 2015-10-06 16:41 16:41 [특성화] IT융합 개도국 해외기술지원봉사 참가자 모집... 2015-10-05 16:38 16:38 [특성화] 장비대여 안내 2015-10-05 15:28 15:28 제4회 TOPCIT 정기평가 2015-10-05 14:56 14:56 [특성화] 국제게임전시회 G-star 2015 참관 안내 2015-10-05 11:51 11:51 자유게시판 (주) 엔에스이 에서 개발자를 모집합니다. 2015-09-30 13:30 13:30 졸업작품 전시회 컴퓨터공학부 인기상 투표 이벤트 2015-09-25 01:21 01:21 삼성 대학생 프로그래밍 경진대회 2015-09-15 11:17 11:17 2015년 4차 모의토익 지원 2015-09-09 23:34 23:34 난 괜찮아, 돌아가면 되지~ 2015-09-09 15:51 15:51 취업게시판 [특성화] (주)KMW 인턴사원 모집공고 2015-09-23 14:31 14:31 ㈜인젠트 기술연구소 전문연구요원 모집 2015-09-14 11:54 11:54 펜타인 2015년도 신입사원 채용공고 2015-09-03 16:16 16:16 LIG인베니아 (코스닥상장 LIG그룹사 디스플레이장비전... 2015-09-03 14:01 14:01 ㈜ 한울 소프트웨어 개발자 2015-06-18 10:28 10:28 VENTURESQUARE ‘앱’은 발 빠른 신기술 도입과 유니버설 디자인, ‘게임... 2015-10-07 16:53 16:53 독자가 만드는 오가닉 미디어, 두 번째 여행을 시작합니다 2015-10-07 15:55 15:55 AWS 리인벤트 2015 행사, “글로벌 파트너 네트워크 강... 2015-10-07 14:45 14:45 아카마이, 2015년 2분기 인터넷 보안 현황 보고서 발표 2015-10-07 14:01 14:01 [실리콘밸리 비하인드 스토리 #5] 조금은 늦은 버닝맨 ... 2015-10-07 14:00 14:00 전자신문 LG유플러스 ‘2015 프레지던츠컵’ 방송중계 서비스 제공 2015-10-07 19:12 19:12 케이블TV, `N스크린 서비스`로 승부수···전용 앱 출시 ... 2015-10-07 18:00 18:00 [이슈분석]삼성전자 IM부문 웃지 못했다···4분기도 녹... 2015-10-07 18:00 18:00 쏠리드 컨소시엄, 팬택 인수 9부능선 넘는다···8일 잔... 2015-10-07 18:00 18:00 LG전자,‘LG V10’ 국내 판매 시작 2015-10-07 16:37 16:37 RE/CODE Fantasy Sports Have Real Problems 2015-10-07 19:51 19:51 Samsung Predicts First Quarterly Profit Growth... 2015-10-07 12:44 12:44 Pandora Adds a New Revenue Stream, Buys Ticket... 2015-10-07 12:25 12:25 Elon to Jack: ‘I Wouldn’t Recommend Running Tw... 2015-10-07 10:16 10:16 Elon Musk: Self-Driving Cars Are Coming Sooner... 2015-10-07 10:15 10:15 Quick Navigation 한국기술교육대학교 홈페이지 한국기술교육대학교 WEBMAIL 한국기술교육대학교 온라인 평생교육원 교육역량강화사업 온라인 컨텐츠 IT 융합소프트웨어 인력양성사업 Campus Location Contact CSE 충청남도 천안시 동남구 병천면 충절로 1600한국기술교육대학교 컴퓨터공학부 학과사무실 TEL (041) 560 1460~1461 FAX (041) 560 1462 Facebook Twitter Google Plus Linkedin (31253) 충청남도 천안시 동남구 병천면 충절로 1600 (가전리, 한국기술교육대학교) 컴퓨터공학부 Copyright © 2015. All rights reserved  \n",
      "총438개\n"
     ]
    }
   ],
   "source": [
    "'''웹 URL로 지정된 웹페이지를 문자열로 가져와 1) 모든 HTML 태그를 제외한 순수 텍스트 문자열만을 걸러내고, 2) 그 순수 텍스트 문자열 안에 존재하는 단어가 총 몇개인지 출력하는 프로그램을 작성하시오.'''\n",
    "\n",
    "\n",
    "\n",
    "\n",
    "\n",
    "import urllib2\n",
    "\n",
    "source = urllib2.urlopen(\"http://cse.kut.ac.kr/\").read()\n",
    "\n",
    "\n",
    "\n",
    "#print source # 추후 숙제 답안 제출 때엔 왼쪽 라인은 주석처리할 것\n",
    "from bs4 import BeautifulSoup\n",
    "soup = BeautifulSoup(source)\n",
    "word = soup.text\n",
    "start = word.find('<')\n",
    "end = word.find('>')\n",
    "word = word[0:start] + word[end+1:]\n",
    "\n",
    "count = word.split()\n",
    "\n",
    "for x in range(len(count)):\n",
    "    print count[x],\n",
    "    \n",
    "print ' '\n",
    "print '총'+str(len(count))+ '개'\n"
   ]
  },
  {
   "cell_type": "markdown",
   "metadata": {},
   "source": [
    "태그를 제거하기 위하여 BeautifulSoup 라이브러리를 다운 받아 사용 하였습니다.\n",
    "word에 불러온 소스를 저장시키고 find를 사용하여 문자 <,> 두 개를 찾아서 \n",
    "<와 > 사이에 있는 문자열은 모두 삭제 시켯습니다.\n",
    " 그후 split()을 사용해 문자열을 쪼게어 count에저장 시켜 len으로 개수를 세어 출력하였습니다."
   ]
  }
 ],
 "metadata": {
  "kernelspec": {
   "display_name": "Python 2",
   "language": "python",
   "name": "python2"
  },
  "language_info": {
   "codemirror_mode": {
    "name": "ipython",
    "version": 2
   },
   "file_extension": ".py",
   "mimetype": "text/x-python",
   "name": "python",
   "nbconvert_exporter": "python",
   "pygments_lexer": "ipython2",
   "version": "2.7.9"
  }
 },
 "nbformat": 4,
 "nbformat_minor": 0
}
