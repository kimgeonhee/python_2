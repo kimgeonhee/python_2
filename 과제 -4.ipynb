{
 "cells": [
  {
   "cell_type": "markdown",
   "metadata": {},
   "source": [
    "#과제 4"
   ]
  },
  {
   "cell_type": "code",
   "execution_count": 44,
   "metadata": {
    "collapsed": false
   },
   "outputs": [
    {
     "name": "stdout",
     "output_type": "stream",
     "text": [
      "cat dog\n",
      "dog pig\n",
      "ham bird\n",
      "pig ham\n"
     ]
    }
   ],
   "source": [
    "'''1) 파일 s.txt을 읽어서 각 라인들에 있는 첫 번째 단어(문자열)들을 기준으로 라인별 정렬후 파일 s1.txt에 \n",
    "그 결과를 기록하는 코드를 작성하시오. 즉, 프로그램 수행 후 s1.txt에 있는 파일 내용은 다음과 같다\n",
    "\n",
    "cat dog\n",
    "dog pig\n",
    "ham bird\n",
    "pig ham\n",
    "\n",
    "'''\n",
    "\n",
    "\n",
    "r=[]\n",
    "f=open('s.txt')\n",
    "l=f.readlines()\n",
    "l.sort()\n",
    "for x in l:\n",
    "    r.append(x.strip('\\n'))\n",
    "r=\"\\n\".join(r)\n",
    "print r\n",
    "f1=open('s1.txt','w')\n",
    "f1.write(r)\n"
   ]
  },
  {
   "cell_type": "markdown",
   "metadata": {},
   "source": [
    "s파일을 읽어 readlines()를 사용해 줄마다 읽어 리스트로 저장합니다. 이후 sort()로 정렬 하고 for문을 사용하여 개행문자를 지운 문자열을 새로운 리스트 r에 저장하여 줍니다.\n",
    "이후 join() 매소드를 이용해 각 문자열을 개행 시켜 주고 이를 파일 입력 방법으로 s1에 r을 기록 하여줍니다."
   ]
  },
  {
   "cell_type": "code",
   "execution_count": 64,
   "metadata": {
    "collapsed": false
   },
   "outputs": [
    {
     "name": "stdout",
     "output_type": "stream",
     "text": [
      "ham bird\n",
      "cat dog\n",
      "pig ham\n",
      "dog pig\n"
     ]
    }
   ],
   "source": [
    " '''- 2) 파일 s.txt을 읽어서 각 라인에 있는 두 번째 단어(문자열) 자체들을 기준으로 라인별 정렬후 파일 s2.txt에 \n",
    " 그 결과를 기록하는 코드를 작성하시오. 즉, 프로그램 수행 후 s2.txt에 있는 파일 내용은 다음과 같다.\n",
    "\n",
    "\n",
    " ham bird\n",
    " cat dog\n",
    " pig ham\n",
    " dog pig      '''\n",
    "\n",
    "\n",
    "f=open('s.txt')\n",
    "l=f.readlines()\n",
    "d={}\n",
    "for x in l:\n",
    "    t=x.split()\n",
    "    d[t[1]]=t[0]\n",
    "s=d.keys()\n",
    "s.sort()\n",
    "\n",
    "r=[]\n",
    "for x in s:\n",
    "    r.append(d[x]+' '+x)\n",
    "r=\"\\n\".join(r)\n",
    "print r\n",
    "    \n",
    "f2=open('s2.txt','w')\n",
    "f2.write(r)"
   ]
  },
  {
   "cell_type": "markdown",
   "metadata": {},
   "source": [
    "파일 s를 열어 라인 별로 문자열을 읽어서 리스트 l에 저장 합니다.\n",
    "그후 두 개의 문자를 split()으로 쪼개어 두 번째 문자를 사전의 킷값으로 첫 번째 문자를 사전의 아이템으로 넣어 줍니다. 그 후 킷값을 정렬 하여 주고 정렬된 킷값을 for문을 돌려 아이템에 있던 문자가 먼저 나오고 킷값이 나오도록 리스트에 저장 하여 줍니다. 그 후 join을 사용해 각 문자열을 개행 시켜 줍니다. 그리고 파일쓰기를 사용해 s2에 저장 하여줍니다."
   ]
  },
  {
   "cell_type": "code",
   "execution_count": 78,
   "metadata": {
    "collapsed": false,
    "scrolled": true
   },
   "outputs": [
    {
     "name": "stdout",
     "output_type": "stream",
     "text": [
      "pig ham cat \n",
      "dog ham bird \n",
      "dog pig \n"
     ]
    }
   ],
   "source": [
    "'''3) 파일 s.txt을 읽어서 각 라인들에 있는 모든 단어들을 순차적으로 다시 나열하되 각 라인에 세 개의 단어들이 오도록 하여 s3.txt에 \n",
    "기록하는 코드를 작성하시오. 즉, 프로그램 수행 후 s3.txt에 있는 파일 내용은 다음과 같다.\n",
    "\n",
    "\n",
    "pig ham cat\n",
    "dog ham bird\n",
    "dog pig\n",
    "'''\n",
    "f=open('s.txt')\n",
    "n=f.read().split()\n",
    "i=0\n",
    "r=[]\n",
    "for x in n:\n",
    "    i += 1\n",
    "    r.append(x+' ')\n",
    "    if i % 3 == 0:\n",
    "        r.append('\\n')\n",
    "        \n",
    "r=\"\".join(r)\n",
    "print r\n",
    "f3=open('s3.txt','w')\n",
    "f3.write(r)\n",
    "\n",
    "\n"
   ]
  },
  {
   "cell_type": "markdown",
   "metadata": {},
   "source": [
    "파일을 읽어 온 뒤 모든 문자를 split()으로 쪼개어 리스트 n에 저장 하여 줍니다. 이것을 for문을 이용해 모든 문자를 리스트 r에 저장하는데 문자 3개가 올때마다 개행이 되도록 if문을 써줍니다.\n",
    "리스트에 저장된 값들을 join()을 통해 하나의 문자열로 합쳐 줍니다.\n",
    "파일 쓰기를 통해 s3에 r을 저장합니다."
   ]
  },
  {
   "cell_type": "code",
   "execution_count": null,
   "metadata": {
    "collapsed": false
   },
   "outputs": [
    {
     "name": "stdout",
     "output_type": "stream",
     "text": [
      "Welcome to our Service\n",
      "\n",
      "1. Sign up\n",
      "2. Sign in\n",
      "3. Quit \n"
     ]
    }
   ],
   "source": [
    "\n",
    "# -*- coding: utf-8 -*-\n",
    "import sha\n",
    "import os\n",
    "import pickle\n",
    "\n",
    "def print_menu():\n",
    "    print 'Welcome to our Service\\n'\n",
    "    print '1. Sign up'\n",
    "    print '2. Sign in'\n",
    "    print '3. Quit '\n",
    "    \n",
    "def signup(numbers):\n",
    "    numbers = {}\n",
    "    \n",
    "    if os.path.exists('access.txt') == False:\n",
    "        f = open('access.txt', 'w')\n",
    "        f.close()\n",
    "        \n",
    "    f = open('access.txt', 'r')\n",
    "    for line in f:\n",
    "        ids = line.split(':')[0]\n",
    "        password = line.split(':')[1].split(',')[0][1:]\n",
    "        name = line.split(':')[1].split(',')[1][1:]\n",
    "        school = line.split(':')[1].split(',')[2][1:].strip()\n",
    "        numbers[ids] = (password, name, school)\n",
    "    f.close()\n",
    "        \n",
    "    print '1. Sign up'\n",
    "    while True:\n",
    "        Id=raw_input(\" Id: \")\n",
    "        if Id in numbers:\n",
    "            print \"Sorry, the entered ID is already used.\"\n",
    "            continue\n",
    "        else:\n",
    "            break\n",
    "    Password=raw_input(\" Password: \")\n",
    "    Name=raw_input(\" name: \")\n",
    "    School=raw_input(\" School: \")\n",
    "    Passwordchange=sha.new(Password).hexdigest()\n",
    "    numbers[Id]=Passwordchange,Name,School\n",
    "    \n",
    "    f = open('access.txt', 'a')\n",
    "    for ids in numbers:\n",
    "        f.write(ids + ': ' + numbers[ids][0] + ', ' + numbers[ids][1] + ', ' + numbers[ids][2] + '\\n')\n",
    "    \n",
    "    \n",
    "def signin(numbers):\n",
    "    numbers = {}\n",
    "    \n",
    "    if os.path.exists('access.txt') == False:\n",
    "        f = open('access.txt', 'w')\n",
    "        f.close()\n",
    "        \n",
    "    f = open('access.txt', 'r')\n",
    "    for line in f:\n",
    "        ids = line.split(':')[0]\n",
    "        password = line.split(':')[1].split(',')[0][1:]\n",
    "        name = line.split(':')[1].split(',')[1][1:]\n",
    "        school = line.split(':')[1].split(',')[2][1:].strip()\n",
    "        \n",
    "        numbers[ids] = (password, name, school)\n",
    "    f.close()\n",
    "    \n",
    "    print '2. Sign in'\n",
    "    Id=raw_input(\" Enter Id: \")\n",
    "    if Id in numbers:\n",
    "        Password=raw_input(\" Enter Password: \")\n",
    "        Passwordchange1=sha.new(Password).hexdigest()\n",
    "        if numbers[Id][0] == Passwordchange1:\n",
    "            print 'Hello '+numbers[Id][1]\n",
    "            print numbers[Id][1]\n",
    "        else:\n",
    "            print 'Sorry, the entered password is not correct'\n",
    "    else:\n",
    "        print 'Sorry, you are not a registered member.'\n",
    "    \n",
    "def quit(numbers):\n",
    "     print exit()\n",
    "\n",
    "# __main__\n",
    "numbers={}\n",
    "menu_choice=0\n",
    "print_menu()\n",
    "while True:\n",
    "    menu_choice=input(\" Enter number: \")\n",
    "    if menu_choice==1:\n",
    "        signup(numbers)\n",
    "    elif menu_choice==2:\n",
    "        signin(numbers)\n",
    "    elif menu_choice==3:\n",
    "        break\n",
    "    if menu_choice!=3:\n",
    "        print_menu()\n",
    "\n"
   ]
  },
  {
   "cell_type": "code",
   "execution_count": null,
   "metadata": {
    "collapsed": true
   },
   "outputs": [],
   "source": []
  },
  {
   "cell_type": "code",
   "execution_count": 1,
   "metadata": {
    "collapsed": false
   },
   "outputs": [
    {
     "name": "stdout",
     "output_type": "stream",
     "text": [
      "[0.0, 0.1, 0.2, 0.30000000000000004, 0.4]\n",
      "[1.0, 1.1, 1.2000000000000002, 1.3000000000000003, 1.4000000000000004, 1.5000000000000004, 1.6000000000000005, 1.7000000000000006, 1.8000000000000007, 1.9000000000000008]\n",
      "[2.2, 2.7, 3.2, 3.7]\n"
     ]
    }
   ],
   "source": [
    "'''•[3번 문제] range() 함수와 유사한 frange() 함수를 다음 조건을 참고하여 만드시오.◾1) frange()의 인자 구성은 다음과 같이 range와 동일하지만 각 인수들은 음수를 받지 않는다고 가정한다.\n",
    "\n",
    "range(stop)\n",
    "\n",
    "range(start, stop[, step])\n",
    "\n",
    "◾2) frange() 함수의 인자에 대한 기본 시작(start) 값은 0.0이고, 기본 단계(step) 값은 0.1이다.\n",
    "\n",
    "◾3) frange 사용 예\n",
    "\n",
    "◦3-1) frange(0.5)◦[0.0, 0.1, 0.2, 0.3, 0.4]\n",
    "\n",
    "◦3-2) frange(1.0, 2.0)◦[1.0, 1.1, 1.2, 1.3, 1.4, 1.5, 1.6, 1.7, 1.8, 1.9]\n",
    "\n",
    "◦3-3) frange(2.2, 4.0, 0.5)◦[2.2, 2.7, 3.2, 3.7]'''\n",
    "\n",
    "def frange(a, stop=0.0, step=0.1):\n",
    "    l=[]\n",
    "    if a>stop:\n",
    "        while a > stop:\n",
    "            l.append(stop)\n",
    "            stop =stop+step\n",
    "    elif a<stop :\n",
    "        while a < stop:\n",
    "            l.append(a)\n",
    "            a =a+step\n",
    "    return l\n",
    "\n",
    "        \n",
    "\n",
    "print frange(0.5)\n",
    "print frange(1.0,2.0)\n",
    "print frange(2.2,4.0,0.5)\n",
    "\n"
   ]
  },
  {
   "cell_type": "markdown",
   "metadata": {
    "collapsed": true
   },
   "source": [
    "frange() 함수에 숫자가 한 개만 들어오면 a에 저장 되므로 a값을 마지막값이되고 stop 값이 0.0으로 초기값이 되도록 합니다. 그래서 while문을 돌려 stop값이 0.1씩 커지면서 a값과 같아지면 종료 되도록 해줍니다. 함수에 숫자가 2개 들어올 때는 처음 숫자가 a에 저장되고 두 번째 stop값이 들어온 두 번째 숫자로 바뀌어 while문이 실행됩니다. 3개가 들어올 때도 마찬가지이며 3번째 숫자는 step에 저장 됩니다.  "
   ]
  },
  {
   "cell_type": "code",
   "execution_count": 2,
   "metadata": {
    "collapsed": false
   },
   "outputs": [
    {
     "name": "stdout",
     "output_type": "stream",
     "text": [
      "0\n",
      "3\n",
      "15\n",
      "5\n"
     ]
    }
   ],
   "source": [
    "'''가변인수를 받는 함수 sum()을 다음과 같은 조건을 참고하여 구현하시오\n",
    "•sum() 사용 예 \n",
    "\n",
    "◾sum()◦0\n",
    "\n",
    "◾sum(1, 2)◦3\n",
    "\n",
    "◾sum(1, 2, 3, 4, 5)◦15\n",
    "\n",
    "◾sum(1, 5, 7, 2, -10)◦5\n",
    "\n",
    "'''\n",
    "def sum( *arg):\n",
    "    l=arg\n",
    "    a=0\n",
    "    for x in l:\n",
    "        a=a+x\n",
    "    print a\n",
    "\n",
    "sum()\n",
    "sum(1, 2)\n",
    "sum(1, 2, 3, 4, 5)\n",
    "sum(1, 5, 7, 2,-10)\n",
    "\n",
    "\n",
    "\n"
   ]
  },
  {
   "cell_type": "markdown",
   "metadata": {},
   "source": [
    "가변인수들을 받아 for문으로 모두 더해주고 그것을 출력하는 함수입니다."
   ]
  },
  {
   "cell_type": "code",
   "execution_count": 6,
   "metadata": {
    "collapsed": false
   },
   "outputs": [
    {
     "name": "stdout",
     "output_type": "stream",
     "text": [
      "ASAP\n"
     ]
    }
   ],
   "source": [
    "'''여러 단어로 이루어진 문자열을 입력받아 각 단어의 첫글자로 이루어진 단어를 대문자로 출력하는 myinitial() 함수를 다음 조건을 참고하여 작성하시오.\n",
    "•1) 다음에 제시되는 함수들을 모두 이용해야 한다.\n",
    "◾split\n",
    "◾map\n",
    "◾join\n",
    "\n",
    "•2) myinitial() 함수 사용 예\n",
    "◾myinitial(\"as soon as possible\")\n",
    "◦ASAP\n",
    "'''\n",
    "\n",
    "def myinitial(l):\n",
    "    l=l.title()\n",
    "    l=l.split()\n",
    "    y=map(lambda x: x[0],l)\n",
    "    y=\"\".join(y)\n",
    "    print y\n",
    "    \n",
    "myinitial(\"as soon as possible\")"
   ]
  },
  {
   "cell_type": "markdown",
   "metadata": {},
   "source": [
    "받은 문자의 각 단어의 첫 번째를 대문자로 바꾸어주는 title()을 쓰고 각 단어를 split()으로 쪼개어 줍니다 그리고 map함수를 써서 리스트의 단어들의 첫 번째 글자를 y에 저장해 준 뒤 join()을 사용해 각 글자들을 하나의 문자로 출력 했습니다."
   ]
  },
  {
   "cell_type": "code",
   "execution_count": 7,
   "metadata": {
    "collapsed": false
   },
   "outputs": [
    {
     "name": "stdout",
     "output_type": "stream",
     "text": [
      "17\n",
      "5736396\n"
     ]
    }
   ],
   "source": [
    "'''10 이하의 소수를 모두 더하면 2 + 3 + 5 + 7 = 17 이 됩니다.\n",
    "\n",
    "이백만(2,000,000) 이하 소수의 합은 얼마입니까?\n",
    "'''\n",
    "\n",
    "\n",
    "def primenumber(i):\n",
    "    s=0\n",
    "    for num in range(2,i+1):\n",
    "        co = 0\n",
    "        for n in range(1,num+1):\n",
    "            if num %n ==0:\n",
    "                co +=1\n",
    "            if co >2:\n",
    "                break\n",
    "        if co ==2:\n",
    "            s=s+num\n",
    "    return s\n",
    "\n",
    "print primenumber(10)\n",
    "print primenumber(10000)"
   ]
  },
  {
   "cell_type": "markdown",
   "metadata": {},
   "source": [
    "처음 과제했던 소수를 찾는 방법을 가지고와 소수를 찾으면 s에 더해주는 방식으로 마지막에 s를 출력하였습니다. 여기서 이백만이 너무커 시간이 오래 걸려 10000을 출력하는 것으로 대신 하였습니다."
   ]
  },
  {
   "cell_type": "code",
   "execution_count": 8,
   "metadata": {
    "collapsed": false
   },
   "outputs": [
    {
     "name": "stdout",
     "output_type": "stream",
     "text": [
      "70600674\n"
     ]
    }
   ],
   "source": [
    "'''위에서 대각선 방향으로 연속된 붉은 숫자 네 개의 곱은 26 × 63 × 78 × 14 = 1788696 입니다.\n",
    "\n",
    "그러면 수평, 수직, 또는 대각선 방향으로 연속된 숫자 네 개의 곱 중 최대값은 얼마입니까?\n",
    "'''\n",
    "\n",
    "s = \"\"\"\n",
    "08 02 22 97 38 15 00 40 00 75 04 05 07 78 52 12 50 77 91 08\n",
    "49 49 99 40 17 81 18 57 60 87 17 40 98 43 69 48 04 56 62 00\n",
    "81 49 31 73 55 79 14 29 93 71 40 67 53 88 30 03 49 13 36 65\n",
    "52 70 95 23 04 60 11 42 69 24 68 56 01 32 56 71 37 02 36 91\n",
    "22 31 16 71 51 67 63 89 41 92 36 54 22 40 40 28 66 33 13 80\n",
    "24 47 32 60 99 03 45 02 44 75 33 53 78 36 84 20 35 17 12 50\n",
    "32 98 81 28 64 23 67 10 26 38 40 67 59 54 70 66 18 38 64 70\n",
    "67 26 20 68 02 62 12 20 95 63 94 39 63 08 40 91 66 49 94 21\n",
    "24 55 58 05 66 73 99 26 97 17 78 78 96 83 14 88 34 89 63 72\n",
    "21 36 23 09 75 00 76 44 20 45 35 14 00 61 33 97 34 31 33 95\n",
    "78 17 53 28 22 75 31 67 15 94 03 80 04 62 16 14 09 53 56 92\n",
    "16 39 05 42 96 35 31 47 55 58 88 24 00 17 54 24 36 29 85 57\n",
    "86 56 00 48 35 71 89 07 05 44 44 37 44 60 21 58 51 54 17 58\n",
    "19 80 81 68 05 94 47 69 28 73 92 13 86 52 17 77 04 89 55 40\n",
    "04 52 08 83 97 35 99 16 07 97 57 32 16 26 26 79 33 27 98 66\n",
    "88 36 68 87 57 62 20 72 03 46 33 67 46 55 12 32 63 93 53 69\n",
    "04 42 16 73 38 25 39 11 24 94 72 18 08 46 29 32 40 62 76 36\n",
    "20 69 36 41 72 30 23 88 34 62 99 69 82 67 59 85 74 04 36 16\n",
    "20 73 35 29 78 31 90 01 74 31 49 71 48 86 81 16 23 57 05 54\n",
    "01 70 54 71 83 51 54 69 16 92 33 48 61 43 52 01 89 19 67 48\n",
    "\"\"\"\n",
    "\n",
    "s = s.replace('\\n', ' ')\n",
    "def maxnum():\n",
    "    numbers = [int(x) for x in s.split()]\n",
    "\n",
    "    from functools import reduce\n",
    "    def pr(x, y):\n",
    "        return reduce(lambda x,y:x*y, [numbers[y*20+x+i] for i in range(4)])\n",
    "\n",
    "    def pd(x, y):\n",
    "        return reduce(lambda x,y:x*y, [numbers[(y+i)*20+x] for i in range(4)])    \n",
    "\n",
    "    def pdr(x, y):\n",
    "        return reduce(lambda x,y:x*y, [numbers[(y+i)*20+x+i] for i in range(4)])    \n",
    "\n",
    "    def pdl(x, y):\n",
    "        return reduce(lambda x,y:x*y, [numbers[(y+i)*20+x-i] for i in range(4)])    \n",
    "\n",
    "    p1 = max([pr(x, y) for x in range(20-3) for y in range(20)])\n",
    "    p2 = max([pd(x, y) for x in range(20) for y in range(20-3)])\n",
    "    p3 = max([pdr(x, y) for x in range(20-3) for y in range(20-3)])\n",
    "    p4 = max([pdl(x, y) for x in range(3, 20) for y in range(20-3)])\n",
    "\n",
    "    print(max(p1, p2, p3, p4))\n",
    "\n",
    "maxnum()\n"
   ]
  },
  {
   "cell_type": "markdown",
   "metadata": {},
   "source": [
    "s의 개행 문자를 띄어쓰기로 바꾸어 한 줄로 만들어줍니다.\n",
    "pr(x, y)) 함수는 reduce를 사용하여 x,y값을 토대로 나온 값을 차례대로 오른쪽으로 4개씩 곱 해주는 함수입니다.\n",
    "pd(x, y) 함수는 마찬가지로 받은 x,y값을 토대로 나온 numbers의 값을 찍어 아래로 4개를 곱해주는 함수입니다.\n",
    "pdr(x, y) 함수는 마찬가지로 기준값의 오른쪽 아래 대각선 방향으로 4개를 곱해줍니다.\n",
    "pdl(x, y) 함수도 마찬가지로 기준값의 왼쪽 아래 대각선 방향으로 4개를 곱해주는 함수입니다.\n",
    "이 함수들을 이중 for문을 돌려 각각의 값을 구한 뒤 max()를 사용해 각 함수의 결과값중 최대값들을 찾습니다. 이후 나온 최대값들을 다시 max()를 사용해 제일 큰 값을 출력합니다."
   ]
  },
  {
   "cell_type": "code",
   "execution_count": 9,
   "metadata": {
    "collapsed": false
   },
   "outputs": [
    {
     "name": "stdout",
     "output_type": "stream",
     "text": [
      "76576500\n"
     ]
    }
   ],
   "source": [
    "def factors(n):\n",
    "    k = 1\n",
    "    res = 0\n",
    "    while k * k < n:\n",
    "        if n % k == 0:\n",
    "            res += 2\n",
    "        k += 1\n",
    "    if k * k == n:\n",
    "        res += 1\n",
    "    return res\n",
    "\n",
    "n, k = 0, 1\n",
    "while factors(n) < 500:\n",
    "    n += k\n",
    "    k += 1\n",
    "\n",
    "print n"
   ]
  },
  {
   "cell_type": "markdown",
   "metadata": {},
   "source": [
    "먼저 아래 while문의 factors(n)은 n의 약수의 개수를 반환해 주는 값입니다. 약수의 개수가 500개가 되기 전까지 n에 k의 값이 더해지는데 k는 while문이 한번 실행될때마다 1씩 증가하므로 n값은 삼각수입니다. \n",
    " 약수의 개수를 구하는 함수 factors(n)은 while문을 돌려 n을 k로 나누어 나머지가 없으면 약수가 있으므로 약수의 갯수를 2개 증가시켰습니다. 또 두 값이 같을 땐 약수의 갯수를 1 증가 시키게 하였습니다."
   ]
  },
  {
   "cell_type": "code",
   "execution_count": 10,
   "metadata": {
    "collapsed": false
   },
   "outputs": [
    {
     "name": "stdout",
     "output_type": "stream",
     "text": [
      "837799\n"
     ]
    }
   ],
   "source": [
    "'''양의 정수 n에 대하여, 다음과 같은 계산 과정을 반복하기로 합니다.\n",
    "\n",
    "n → n / 2  (n이 짝수일 때)\n",
    "n → 3 n + 1 (n이 홀수일 때)\n",
    "\n",
    "13에 대하여 위의 규칙을 적용해보면 아래처럼 10번의 과정을 통해 1이 됩니다.\n",
    "\n",
    "13 → 40 → 20 → 10 → 5 → 16 → 8 → 4 → 2 → 1\n",
    "\n",
    "아직 증명은 되지 않았지만, 이런 과정을 거치면 어떤 수로 시작해도 마지막에는 1로 끝나리라 생각됩니다. \n",
    "(역주: 이것은 콜라츠 추측 Collatz Conjecture이라고 하며, 이런 수들을 우박수 hailstone sequence라 부르기도 합니다)\n",
    "\n",
    "그러면, 백만(1,000,000) 이하의 수로 시작했을 때 1까지 도달하는데 가장 긴 과정을 거치는 숫자는 얼마입니까?\n",
    "'''\n",
    "\n",
    "def hailstone(num):\n",
    "    count =1\n",
    "    while num>1:\n",
    "        count +=1\n",
    "        if num%2 ==0:\n",
    "            num=num/2\n",
    "        else :\n",
    "            num=3*num+1\n",
    "    return count\n",
    "      \n",
    "i=hailstone(1)\n",
    "\n",
    "for x in range(1,1000001):\n",
    "    if i <hailstone(x):\n",
    "        i=hailstone(x)\n",
    "        k=x\n",
    "        \n",
    "print k\n",
    "        "
   ]
  },
  {
   "cell_type": "markdown",
   "metadata": {},
   "source": [
    "hailstone() 함수에 우박수의 개념대로 while문으로 코딩을 한뒤 while문이 한번 돌 때마다 카운트를 1씩 올려 과정의 횟수를 세어 결과값을 주도록 합니다.\n",
    "그리고 for문을 100만까지 돌려 count가 큰 값이 올때마다 I에 저장을 하여 최종적으로 I에는 가장 큰 count 값을 가지는 숫자가 오고 이와 동시에 k에 카운트 I값이 출력되도록 넣은 해당숫자를 저장해주어 결국 마지막에 가장큰 카운트를 출력하는 num값이 k에 저장 되므로 k를 출력하면 답이 나옵니다. "
   ]
  },
  {
   "cell_type": "code",
   "execution_count": 11,
   "metadata": {
    "collapsed": false
   },
   "outputs": [
    {
     "name": "stdout",
     "output_type": "stream",
     "text": [
      "137846528820\n"
     ]
    }
   ],
   "source": [
    "'''아래와 같은 2 × 2 격자의 왼쪽 위 모서리에서 출발하여 오른쪽 아래 모서리까지 도달하는 길은 모두 6가지가 있습니다 (거슬러 가지는 않기로 합니다).\n",
    "\n",
    "그러면 20 × 20 격자에는 모두 몇 개의 경로가 있습니까?\n",
    "'''\n",
    "\n",
    "def Fact(x):\n",
    "    if x == 0:\n",
    "        return 1\n",
    "    else:\n",
    "        return x * Fact(x-1)\n",
    "\n",
    "print Fact(40)/(Fact(20) * Fact(20))\n"
   ]
  },
  {
   "cell_type": "markdown",
   "metadata": {},
   "source": [
    "경로의 개수를 구하는 방법으로 중복을 허용하지 않고 순서를 생각하지 않은 조합을 계산하면 (m+n)!/(m!*n!)이므로 팩토리얼 함수 Fact()를 구현 하고 알맞은 값을 넣어 답을 구하였습니다."
   ]
  },
  {
   "cell_type": "code",
   "execution_count": 13,
   "metadata": {
    "collapsed": false
   },
   "outputs": [
    {
     "name": "stdout",
     "output_type": "stream",
     "text": [
      "{u'all': 4, u'bbccookiesreadPolicyperformance': 2, u'icvalidateCookieNamenamefori0icalengthiccaiifcindexOfnameEq0return': 1, u'windowbbcdotcomanalytics': 1, u'lochost': 1, u'blq': 1, u'thissegmentfunction': 1, u'global': 1, u'bbccookiesflag': 3, u'httpstaticbbcicoukid03225modulesidctaidCookie': 1, u'bbcdotcomconfigsetVersion03343': 1, u'OnedurationdateTimePT1Hformatted60': 1, u'httpstaticbbcicoukidapp07176modulesidappidapp1': 1, u'Saint': 1, u'ON': 5, u'talks': 1, u'bbcdotcomdata': 4, u'Ronnie': 2, u'audioProfessor': 1, u'windowrequireistats1': 1, u'TwoWatch': 1, u'windowsfendptnew': 1, u'sabbccoukbbcbbcsnameframeworksbarlesqueorbwebservicejsonpagepalroutewebserviceapimlnamebarlesqueapptyperesponsivelanguageenGBmlversion0284palwebappbarlesqueprodnameframeworksappnameframeworks': 1, u'segments': 1, u'httpssslbbccoukidregisterptrthttpwwwbbccoukhomecustomise': 1, u'young': 1, u'keyValues': 1, u'windoworbreferrer': 1, u'afigmanagerinclude': 1, u'0': 8, u'defineidstatusbarconfig': 1, u'does': 1, u'strforvar': 1, u'srchttpstaticbbcicoukframeworksbbccookies0611scriptbbccookiesjsscriptifwindowbbccookiesflagONbbccookiesacceptsAllwindowbbccookiesdisabledocumentwriteon': 1, u'nsuxcDomain': 1, u'must': 5, u'sent': 1, u'requirepaths': 2, u'getSwfPrefix': 1, u'istatsTrackingUrlmatchnamei1': 1, u'updated': 1, u'MelbourneBBC': 1, u'string': 1, u'puzzled': 1, u'could': 1, u'ParisctatypevideotextscreenWatch': 1, u'setJsPrefix': 1, u'nodeparentNodeclassName': 2, u'sfasyncconfiguid': 1, u'windowhomepagev5': 1, u'locationServicesEnv': 1, u'ISNewsbeatWhy': 1, u'trueisConfirmedfunctionreturn': 1, u'surgeon': 1, u'pickedmin0maxsegmentslength1iftypeof': 1, u'nor': 1, u'themes': 2, u'Parisepisode16112015seriesnullbrandPanoramaattributionBBC': 1, u'disabledByCookie': 2, u'die': 2, u'button': 1, u'TwoEight': 1, u'videournurnbbcnitrob06pyrhgtitleMatch': 1, u'solution': 1, u'recipesBBC': 1, u'andragsBBC': 1, u'p': 4, u'div': 8, u'adson': 2, u'cookies': 5, u'documentcookiematchckpfAPHID': 1, u'loifonullreturn': 1, u'nulldopickedMathfloorMathrandommaxmin1minwhilepickedmaxreturn': 1, u'Only': 1, u'bbcdotcomconfigsetAssetPrefixhttpstaticbbcicoukbbcdotcom03343': 1, u'csspclock1httpstaticbbcicoukframeworksclock019sharedmodulesclock1css': 1, u'istatssetSitehomepage': 1, u'East': 1, u'statusbarStatusbarididctastatusbarpubliclyCacheabletrue': 1, u'sfasyncconfigsections': 1, u'bovar': 1, u'parguments0rarguments1ifpnecessaryrtruesbsprelseiftypeof': 1, u'useoverlay': 1, u'DateoptsstartgetTimenew': 1, u'morealiul': 1, u'unavailable': 1, u'nsux': 1, u'HIVMagazineWhy': 1, u'sfstartpt': 2, u'anthem': 1, u'section': 2, u'beaten': 1, u'shares': 2, u'trueelsereturn': 1, u'oqsSurveyManagerwindow': 1, u'Explore': 1, u'registerUrl': 1, u'doesnt': 1, u'new': 15, u'experience': 1, u'UnionThe': 1, u'told': 2, u'pioneering': 1, u'ratenumberMathrandomratereturn': 1, u'removeExpiredexpiresvar': 1, u'sitestatistatsTrackingUrl': 1, u'recruits': 1, u'partners': 1, u'gdocumentbggetElementByIdblqpremasteggetElementByIdblqbbccookiestmplafifbgcreateElementagcreateElementdivfeinnerHTMLffreplaceCDATAreplaceainnerHTMLfbappendChildablqCookieContinueButtonggetElementByIdbbccookiescontinuebuttonblqCookieContinueButtononclickfunctionaparentNoderemoveChildareturn': 1, u'OnePeopleRugby': 1, u'We': 2, u'parseIntidCookieInstancetimestamp': 2, u'istatstrackdownload': 1, u'Greek': 1, u'documentcookieogetfunctionreturn': 1, u'objects': 1, u'sandboxintdevbbccotestwindowlocationhref': 1, u'settingsa': 1, u'based': 1, u'ctatypevideotextscreenWatch': 1, u'DateqsetYearqgetFullYear1bbccookiessetejsdomainbbccoukpathexpiresqtoUTCStringbbccookiessetejsdomainbbccompathexpiresqtoUTCStringvar': 1, u'change': 1, u'fcachepvar': 1, u'great': 1, u'misinterpret': 1, u'classbbccookiesinternationalmessage': 1, u'idbbccookies': 1, u'receive': 1, u'my': 1, u'functionwindowfigwindowfigwindowfigmanagerincludefunctionaaawindowvar': 1, u'cookieAphidMatch': 2, u'istatsaddLabelsbbchid': 1, u'documentwriteunescape3Cscript': 3, u'Erroridcta': 1, u'women': 1, u'survey': 1, u'idappversion07176hostnamesslbbccoukinsecurehostnamewwwbbccouktldbbccoukidtranslationsversion03327identitybaseUrlhttpstalkbacklivebbccoukidentitycookieAgeDays730accessTokenCookieNamecknsIDAATKNpathwaynamenullstaticAssetUrlhttpstaticbbcicoukidapp07176modulesidappidapp1Viewcssidpurlhttpsidpapibbccoukidpoauth2authorizeclientidbbccoukresponsetypecodescopeopenidplaybbcstorerplaysanywplaysanyrfollowsanywfollowsanyrfavouritesanywfavouritesanyridmbasicrmodulebbccoukstateptrt3Dhttp3A2F2Fwwwbbccouk2F26locale3DenGBredirecturihttps3A2F2Fsslbbccouk2Fid2Foauth22Fconsume2Fidpbbccouk': 1, u'documentcookiegetCrumbfunctionoiforeturn': 1, u'action': 1, u'Home': 1, u'residents': 1, u'sneaky': 1, u'navigation': 1, u'thats': 1, u'Parisa': 1, u'love': 1, u'br': 2, u'ovar': 1, u'OnedurationdateTimePT30Mformatted30': 2, u'win': 2, u'nsreferrer': 1, u'jquery1httpstaticbbcicoukframeworksjquery030sharedmodulesjquery172': 1, u'documentwritescr': 1, u'worldWorldIve': 1, u'Jeb': 1, u'arguments0stringvar': 1, u'Le': 2, u'strreturn': 1, u'requireistats1': 5, u'segmentspickedwindowbbcMandolinStoragefunctionnamevalidateCookieNamenamethiscookieNamenamethisisEnabledbbccookiesisAllowedthiscookieNametruebbccookiescookiesEnabledtruewindowbbcMandolinStorageprototypesetItemfunctionkeyvaluevar': 1, u'idCookiegetInstance': 1, u'select': 1, u'translationsignedout': 1, u'environment': 1, u'validateCookieNamenameifnamematch': 1, u'from': 7, u'idCookieInstancetimestamp': 1, u'wrecking': 1, u'nullreturn': 2, u'DategetTimen6060241000return': 1, u'getCssPrefix': 1, u'contains': 1, u'visit': 1, u'init': 4, u'iftypeof': 1, u'Playing': 1, u'live': 4, u'prey': 2, u'isActive': 2, u'https': 2, u'6': 1, u'until': 1, u'milliseconds': 1, u'obreturn': 1, u'iWonderHow': 1, u'compatriot': 1, u'October': 1, u'idbbccookiesmorea': 1, u'bbcdotcomdatastats': 5, u'Denmark': 1, u'siegeEuropeListen': 1, u'Wednesday': 1, u'showCTAflag': 2, u'istats1httpstaticbbcicoukframeworksistats0284modulesistats1': 1, u'flag': 2, u'adverts': 1, u'OnedurationdateTimePT40Mformatted40': 1, u'requireorbasyncfooterpromo': 1, u'document': 1, u'idorbjsscript': 1, u'StationBBC': 1, u'account': 1, u'cbaorbaorbaorbfigfunctiondreturnargumentslengthcdcdeserialisefunctionbvar': 1, u'join': 1, u'deserialisationevalo': 1, u'f': 3, u'signed': 1, u'documentwriteif': 3, u'textjavascript': 1, u'HuntlongSubtitleEpisode': 1, u'Datenew': 3, u'can': 1, u'windowdocument': 1, u'meet': 2, u'documentcookieoexpiresmfunction': 1, u'Marseillaise': 1, u'winlocation': 1, u'Children': 2, u'Spyurlhttpwwwbbccoukiplayerepisodeb06qbchgimagetemplateUrlichefbbcicoukimagesicrecipep037yd6vjpgaltTextnullcopyrightnulltitlesassetnullepisodeEpisode': 1, u'social': 2, u'salutes': 1, u'Customise': 1, u'links': 1, u'give': 1, u'bbccookiesisAlloweds1': 3, u'Segments': 1, u'Capital': 2, u'honey': 1, u'Charlies': 1, u'storeDatakeythissavestoreDatawindowbbcMandolinStorageprototypegetItemsfunctionreturn': 1, u'functionidCookie': 1, u'hostmatchpalsandboxi': 1, u'Digital': 2, u'Policy': 1, u'OBJECTTOKENObjectESCAPEDCHARnru2028u2029u000Au000Du005CALLOWEDCHARESCAPEDCHARESCAPEDCHARKEYALLOWEDCHARVALUEnullALLOWEDCHAROBJECTTOKENKEYVALUEKEYVALUEKEYVALUESEQUENCEKEYVALUEKEYVALUEOBJECTLITERALKEYVALUESEQUENCEobjectPatternnew': 1, u'occur': 1, u'counterName': 1, u'faceHealthBehind': 1, u'windowbbccookies': 1, u'mapidctaoverlayManager': 1, u'end': 2, u'winter': 1, u'ParislongTitlePanoramalongSubtitle16112015': 1, u'idgnlContinuousPlayEnabled': 1, u'idgnlAnalyticsEnabled': 1, u'dooms': 1, u'promoManagereventpromoloadedfiree': 1, u'7script': 1, u'j': 1, u'1': 18, u'how': 1, u'CBeebies': 2, u'env': 1, u'USAs': 1, u'DateqgetTimeosetMonthogetMonth1bbccookiessetbbccookiesPOLICYEXPIRYCOOKIENAMEqgetTimedomainbbccoukpathexpiresotoUTCStringbbccookiessetbbccookiesPOLICYEXPIRYCOOKIENAMEqgetTimedomainbbccompathexpiresotoUTCStringreturn': 1, u'blqs': 1, u'blqr': 1, u'config': 2, u'pageGive': 1, u'blqv': 1, u'A': 1, u'map': 4, u'Laurens': 1, u'overridden': 1, u'may': 2, u'after': 2, u'dateifthisstartTsthissignupEndTsthissignupEndTsthisendTsthrow': 1, u'defineidconfig': 1, u'confidenceHomeThe': 1, u'wrong': 1, u'start': 2, u'storeDatakeywindowbbcMandolinStorageprototyperemoveItemfunctionkeyvar': 1, u'httpstaticbbcicoukid03225modulesidctaoverlayManager': 1, u'orbfooterpromofailed': 1, u'3seriesThe': 1, u'date': 1, u'istatsaddLabelsnsnc': 1, u'adFormatstandardadKeywordadModesmartadsEnabledtrueappAnalyticsSectionsasyncEnabledfalsedisableInitialLoadfalseadvertInfoPageUrlhttpwwwbbccoukfaqsonlineadvertsgeneraladvertisementTextAdvertisementanalyticsEnabledtrueappNamebarlesqueassetPrefixhttpstaticbbcicoukbbcdotcom03343continuousPlayEnabledfalsecustomAdParamscustomStatsParamsheadlineidinAssociationWithTextin': 1, u'classorbbanner': 1, u'validateSerialisationfunctionvar': 1, u'bbccookiesPOLICYREFRESHDATEMILLISogetTimeelsereturn': 1, u'murderous': 1, u'decodeURIComponentRegExp1ifoverridesthisidthissegmentSetindexOfoverridesthisid1throw': 1, u'All': 5, u'\\xa9': 1, u'third': 2, u'oscript': 1, u'light': 1, u'ForestsctatypevideotextscreenWatch': 1, u'scoop': 1, u'Weather': 2, u'so': 1, u'MarseillaiseBBC': 1, u'media': 2, u'virtualSite': 2, u'saleBBC': 1, u'ArtsFloyd': 1, u'bIDENTITYtestdocumentcookie': 1, u'documentcookieindexOfadsdebug': 1, u'Hide': 3, u'hrefhttpstaticbbcicoukbbcdotcom03343styleorbbbccomcss': 1, u'sfunction': 1, u'blqe': 1, u'sitestatn': 1, u'cvar': 1, u'Jan': 1, u'stringifObjectprototypetoStringcallsegmentsobject': 1, u'setConfig': 1, u'meters': 1, u'oldHas': 1, u'responsive': 1, u'hell': 1, u'decodeURIComponentdocumentcookiereplacenew': 1, u'its': 1, u'Match': 4, u'1ifthisstartTsthisendTsthrow': 1, u'TraffordBBC': 1, u'write': 1, u'mapidctaidcta1': 1, u'20': 1, u'idstringthrow': 1, u'makeUrl': 1, u'Parental': 1, u'bbcdotcomconfigisActiveanalytics': 1, u'fix': 1, u'solving': 1, u'li': 5, u'happlythisargumentsreadPolicyfunctionreturn': 1, u'klength': 1, u'GooglesummarytypestaticBasebbcdotcomstaticHosthttpstaticbbcicoukstaticVersion03343staticPrefixhttpstaticbbcicoukbbcdotcom03343dataHttptpsbbccomdataHttpssslbbccomflagHttpwwwbbccoukflagHttpssslbbccoukanalyticsHttpsabbccomanalyticsHttpsssabbccom': 1, u'thaturl': 2, u'2015': 2, u'World': 3, u'srchttpstaticbbcicoukbbcdotcom03343scriptorbadvertsadSuitesjsx3Cscript': 1, u'classorbbannercontent': 1, u'isDefaultModules1': 1, u'waitSeconds': 1, u'falsewhilestrmatchobjectPatternstrstrreplaceobjectPatternOBJECTTOKENreturn': 1, u'return': 7, u'ParisPanorama': 1, u'videournurnbbcnitrob06rx8v7titlePanoramaurlhttpwwwbbccoukiplayerepisodeb06rx8v7imagetemplateUrlichefbbcicoukimagesicrecipep0386p66jpgaltTextnullcopyrightnulltitlesassetTerror': 1, u'Mayweather': 1, u'nvar': 1, u'CanadaPopular': 1, u'qfcachefunction': 1, u'minsassetTypeVideoliveBadgefalsedescriptionRoxy': 1, u'BushUS': 1, u'locprotocol': 1, u'Dayurlhttpwwwbbccoukiplayerepisodeb06pyrhgimagetemplateUrlichefbbcicoukimagesicrecipep03867m4jpgaltTextnullcopyrightnulltitlesassetDavid': 1, u'party': 2, u'foot': 1, u'istatsgetDefaultURL': 1, u'nameEqnamecawindowbbccookiesgetsplit': 1, u'now': 1, u'60toGMTString': 1, u'association': 1, u'wont': 1, u'HuntEpisode': 1, u'Date20154210000getTimePOLICYEXPIRYCOOKIENAMEcknspolicyexpsetEverywhereicookiesEnabledfunctionvar': 1, u'promomanagerOverridep': 1, u'name': 1, u'Skip': 1, u'odocumentcreateElementscriptosetAttributelanguagejavascriptosetAttributetypetextjavascriptosetAttributesrcstaticchartbeatcomjschartbeatjsdocumentbodyappendChildovar': 1, u'c0objecttypeof': 1, u'iD': 1, u'pfunction': 1, u'newsMartin': 1, u'valuewindowbbcMandolinStorageprototypeisEnabledfunctionreturn': 1, u'minsassetTypeVideoliveBadgefalsedescriptionDanny': 1, u'bbcdotcomdatab': 1, u'iPlayer': 4, u'Sport': 3, u'ccharAt1': 1, u'relay1httpstaticbbcicoukframeworksrelay026sharedmodulesrelay1': 1, u'byadsByGoogleTextAds': 1, u'everyone': 1, u'Archers16112015Tony': 1, u'ccharAt2': 1, u'srchttpstaticbbcicoukbbcdotcom03343scriptorbbbcdotcomjsx3Cscript': 1, u'demi1httpstaticbbcicoukframeworksdemi0100sharedmodulesdemi1': 1, u'windowrequire': 1, u'gelui1httpstaticbbcicoukframeworksgelui0913sharedmodulesgelui1': 1, u'used': 1, u'police': 1, u'documentdocumentElementclassName': 2, u'httpssslbbccoukidsignin': 1, u'minsLondon': 1, u'staticchartbeatcomjschartbeatjs': 1, u'swfobject2httpstaticbbcicoukframeworksswfobject0110sharedmodulesswfobject2': 1, u'Factor': 1, u'our': 4, u'GMTkadstruepersonalisationtrueperformancetruenecessarytruefunction': 1, u'ifadstestwindowlocationhref': 1, u'event': 2, u'Announced': 1, u'out': 1, u'arrayifoverridesnulloverridesthisidthissegmentoverridesthisidelseifstoredItemthisstoregetItemthisidthissegmentstoredItemsegmentelseifthisstartTsnownowthissignupEndTsnowthisendTsthisstoreisEnabledtruethissegmentpicksegmentsthisrateifoptsendundefinedthisstoresetItemthisidsegmentthissegmentelsethisstoresetItemthisidsegmentthissegmentendthisendTslogcallthismandolinsegmentlogcallthismandolinviewwindowbbcMandolinprototypegetSegmentfunctionreturn': 1, u'missed': 1, u'brags': 1, u'edddpdocumentcookiematchoifpreturn': 1, u'onError': 1, u'setAssetPrefix': 1, u'Welcome': 1, u'UKsfasyncconfigsectionsHomepage': 1, u'your': 6, u'content': 3, u'bbcdotcomflaga': 1, u'Holm': 1, u'audioAthletics': 1, u'srchttpstaticbbcicoukframeworksbarlesque29313orb4scriptorbminjs': 1, u'video60': 1, u'hrefprivacycookiesbbcFind': 1, u'get': 2, u'ForestssubtitleEpisode': 1, u'todayListen': 1, u'sportLiveSportsday': 1, u'bbcdotcomflag': 1, u'promoManager': 3, u'idorbpanel': 1, u'wallpaper': 4, u'END': 1, u'poelsereturn': 1, u'loc': 1, u'This': 2, u'tableBBC': 1, u'RegExp': 1, u'othisisConfirmedthispolicyRequiresRefreshwindowctaenabledthiscookiesEnabledwindowbbccookiesdisablereturnwindoworbwindoworbfigowindoworbfignowindoworbfigckobbccookiesgetPolicybbccookiesreadPolicyfunction': 1, u'2subtitleEpisode': 1, u'windowonloadofunctioneo': 1, u'kgindexOfstux': 1, u'classbbccomdisplaynone3E3Cscript3E': 3, u'cookie': 5, u'x3Cscript': 1, u'maths': 1, u'owindowsfendptnew': 1, u'dirltr': 1, u'orb': 2, u'jlocation': 1, u'log': 1, u'istatsisEnabled': 1, u'g': 3, u'overrideswindowbbccookiesgetmatchcknsmandolinsetSegmentsifoverridesnullevaloverrides': 1, u'MoresubtitleSeries': 1, u'falsesetPolicyfunctionoreturn': 1, u'coloursBBC': 1, u'mathematiciansBBC': 1, u'Terms': 1, u'Sign': 1, u'httpstaticbbcicoukid03225modulesidctaidcta1': 1, u'isPersonalisedfalse': 1, u'hsiftypeof': 1, u'separator': 1, u'Paris': 4, u'Datewinnernew': 1, u'app': 1, u'uncoditional': 1, u'srchttpstaticbbcicoukframeworksbarlesque29313orb4scriptvendoredrjsscript': 1, u'think': 1, u'1000': 1, u'RegExp1': 1, u'9seriesSeries': 1, u'bbcmc': 1, u'oqsSurveyManagerw': 1, u'panelcontent': 1, u'googletagdisplaybbccomwallpaper': 1, u'stux': 1, u'linking': 1, u'getJsPrefix': 1, u'opsplitqdoqunshiftojoinopopwhileq0fcachepqreturn': 1, u'1The': 1, u'wwwgoogletagservicescomtagjsgptjs': 1, u'functionpromo': 1, u'ServiceListen': 2, u'throwIllegal': 1, u'Local': 2, u'ShortFrench': 1, u'p1function': 1, u'script': 4, u'typetextjavascriptbbcdotcomconfigsetIE9truex3Cscriptendif': 1, u'orbfig': 2, u'caught': 2, u'OnedurationdateTimePT50Mformatted50': 1, u'clock1httpstaticbbcicoukframeworksclock019sharedmodulesclock1': 1, u'ocknstestcookieMathfloorMathrandom100000thisseto1ifthisgetindexOfo1goreturn': 1, u'bbcdotcomconfigisActivecontinuousPlay': 1, u'opmatchreturnoolengtho0function': 1, u'Arraythrow': 1, u'gpt': 1, u'Such': 1, u'4Listen': 2, u'CONFIGURATION': 2, u'srcservicemaxymisernetcdnmbbccoUKjsmmcorejs': 1, u'setAdKeyValue': 1, u'uas': 1, u'idCookieInstancehasCookie': 1, u'bbcdotcomutils': 1, u'Search': 1, u'Alexs': 2, u'DategetTime10006010toGMTStringsetFigfunctionabfunctionvar': 1, u'itemsthisstoregetItemsexpiresIntexpiresforvar': 1, u'BBC': 22, u'q0uwlengthquqxwqyotrdomainrxpathxpexpirespbbccookiessetytruewindowbbccookiesPOLICYREFRESHDATEMILLISnew': 1, u'bbccouk': 1, u'eadocumentgecookiebgmatch': 1, u'sundefinedskiftypeof': 1, u'iPlayerrecommendationsTitleTV': 1, u'iotpvar': 1, u'MarpleA': 1, u'functionstatusbar': 1, u'canvasclock1httpstaticbbcicoukframeworksclock019sharedmodulescanvasclock1': 1, u'footage': 2, u'isNationfalse': 1, u'posplitreturnadsp0personalisationp1performancep2necessarytruefunction': 1, u'setAnalyticsEnabled': 1, u'b': 2, u'Verrier': 2, u'requireorbpromomanager': 1, u'1m': 1, u'require': 5, u'enabled': 1, u'endDateendDatenew': 1, u'bapplythisargumentsdeletePolicyfunctioniemisAllowedfunctionreturn': 1, u'idbbccookiessettings': 1, u'exdptestwindowlocationhref': 1, u'addEvent': 1, u'minsNewsdayNigerian': 1, u'were': 5, u'k': 1, u'Advertise': 1, u'screenwidth': 2, u'hostmatchwwwsslmintteststagelivebbci': 1, u'windoworb': 2, u'ArtsBruce': 1, u'browser': 1, u'before': 2, u'classorbbannertitle': 1, u'false': 7, u'isAnalyticsEnabled': 1, u'idbbccookiesprompt': 1, u'forestlongTitleThe': 1, u'PoliticsTwo': 1, u'idgnlAdsEnabled': 1, u'translationsignedin': 1, u'ZlatanEuropean': 1, u'Other': 1, u'have': 1, u'newsSportsdayOutofsorts': 1, u'sfasyncconfigdomain': 1, u'Holly': 1, u'null': 1, u'saw': 1, u'puzzleBBC': 1, u'expiresgetLastExpirationDatedatatoUTCStringwindowbbcMandolinStorageprototypereadCookiefunctionnamevar': 1, u'setSections': 1, u'truereturn': 1, u'esetAttributesrc': 1, u'DateparseIntoosetYearogetFullYear1return': 1, u'built': 1, u'mapidapp1': 1, u'Food': 2, u'bbccookiessetcknsorbnopromo1': 1, u'ptrt': 1, u'responsible': 1, u'assetsHttpPrefix': 1, u'also': 1, u'MoreTerrifying': 1, u'mapidctastatusbar': 1, u'typeofdocument': 2, u'istatsgetSite': 1, u'DategetTimevar': 1, u'Radio': 9, u'notset': 1, u'istatsinvoke': 1, u'themes0': 1, u'HuntbrandnullattributionBBC': 1, u'storeDatathisgetItemsdelete': 1, u'jquery19httpstaticbbcicoukframeworksjquery030sharedmodulesjquery191': 1, u'Episode': 4, u'promoManagerinitdocumentgetElementByIdnavporbfooterpromo': 1, u'bbcdotcomassetPrefix': 1, u'track': 2, u'esetAttributetype': 1, u'price': 1, u'expires': 2, u'relstylesheet': 1, u'classorbpanelcontent': 1, u'oldonload': 2, u'star': 1, u'sponsored': 1, u'nullvar': 1, u'videournurnbbcnitrob06q659ttitleThe': 1, u'windowscreen': 1, u'bbcdotcomcurrencyProviders': 2, u'idCookieInstance': 1, u'50924': 1, u'promomanagerOverride': 1, u'NowreaderWatch': 6, u'singJulien': 1, u'000000': 1, u'url': 6, u'ewindowonloadwindowonloadfunctiontypeof': 1, u'professor': 1, u'cover': 1, u'which': 1, u'windowwindowbbcMandolinStorageCOOKIENAMEthisoptsoptsthisrateoptsrateundefinedoptsrateDEFAULTRATEthisstartTsoptsstartundefinednew': 1, u'googletagcmd': 2, u'British': 1, u'Earth': 4, u'feta': 1, u'UKScotlandALBAWalesCymruNI': 2, u'Robinson': 1, u'httpshomepagerecsserviceapibbccoukrecommendations': 1, u'serialiseovar': 1, u'functionundefinedifwindowbbcwindowbbcvar': 1, u'show': 2, u'thatmakeUrllight': 1, u'httpwwwbbccoukwwscriptsflagx3Cscript': 1, u'Flash': 1, u'discovered': 2, u'recovering': 1, u'session': 1, u'minsToday16112015': 1, u'srchttps': 2, u'httpssslbbccom': 1, u'httpssslbbccouk': 1, u'data': 1, u'find': 1, u'feedback': 1, u'videournurnbbcnitrob06qbchgtitleLondon': 1, u'inspiring': 1, u'layout': 1, u'WhoattributionBBC': 1, u'documentdomain': 1, u'audio30': 1, u'brighten': 1, u'RegExpOBJECTLITERALgreturn': 1, u'should': 2, u'Nature': 2, u'theme': 4, u'going': 2, u'bbcFlagpolesistats': 1, u'explosionSouth': 1, u'eventmixinpromoManager': 1, u'underground': 1, u'ErrorInvalid': 6, u'orblibevent': 1, u'thatthisrequireistats1functionistatsistatslogactionTypethatidthatsegmentparamsparamsfunction': 1, u'his': 1, u'OFF': 1, u'getLastExpirationDatedatavar': 1, u'defineorbpromomanager': 1, u'documentbodyappendChilde': 1, u'UKsfasyncconfigregiondomesticsfasyncconfigtitleHomepage': 1, u'first': 1, u'DaterollingExpirewindowbbcMandolinprototypelogfunctionparamslogcallthismandolinlogparamswindowbbcMandolinprototypeconvertfunctionparamslogcallthismandolinconvertparamsthisconvertfunctionfunction': 1, u'websitespan': 1, u'ssl': 1, u'Copyright': 1, u'httpstaticbbcicoukid03225modulesidctastatusbar': 1, u'onew': 2, u'requireidctastatusbar': 1, u'knocks': 1, u'typetextjavascript': 8, u'geo': 1, u'him': 2, u'fpiffcachepreturn': 1, u'decodeURIkgsubstringm': 1, u'mapidctaidCookie': 1, u'SignupEnd': 1, u'Help': 2, u'settings': 2, u'bbcdotcomdatac': 1, u'h': 4, u'bbcdotcomdataa': 1, u'cry': 2, u'superheroRugby': 1, u'esetAttributelanguage': 1, u'istatsaddCollectorname': 1, u'csspgelui1overlayhttpstaticbbcicoukframeworksgelui0913sharedmodulesgelui1overlaycss': 1, u'documentcookieindexOfexdp': 1, u'ecknspolicymThu': 1, u'jcookiesplit': 1, u'x': 1, u'RegExpsencodeURIComponentoreplacegss1nullpolicyRequiresRefreshfunctionvar': 1, u'valid': 1, u'generations': 1, u'us': 2, u'dataifdatakeyendundefinedrollingExpirewinnerwinnerrollingExpireelseifdatakeyendwinnerwinnerdatakeyendreturnwinnernew': 1, u'set': 2, u'bbccookiesreadPolicycbbccookiesreadPolicyperformancesfasyncconfignoCookiescvar': 1, u'qnew': 1, u'locale': 2, u'arguments0objectsnecessarytruevar': 1, u'national': 1, u'idCookieInstanceisDowngraded': 1, u'jquery14httpstaticbbcicoukframeworksjquery030sharedmodulesjquery14': 1, u'documentwrite': 1, u'module': 1, u'istatsaddLabelsapptype': 1, u'goreturn': 1, u'bbccouknavpromocard': 1, u'see': 1, u'minsMatch': 1, u'2seriesLondon': 1, u'domain': 1, u'bbccookiescookiesEnabled': 1, u'14112015': 3, u'falsesetfunctionoreturn': 1, u'time': 1, u'best': 1, u'defends': 1, u'01': 1, u'stats': 2, u'deadBBC': 1, u'library': 1, u'deadlongTitleLondon': 1, u'thisisEnabledwindowbbcMandolinStorageprototypegetItemfunctionkeyvar': 1, u'sites': 1, u'functionifbbccookiesshowPromptvar': 1, u'Jonah': 1, u'3': 3, u'Unicefs': 2, u'Sheen': 1, u'use': 4, u'between': 2, u'without': 1, u'Bitesize': 2, u'bbcdotcomdataads': 6, u'approach': 1, u'To': 1, u'hostmatchwwwinttesti': 1, u'do': 1, u'javascript': 1, u'orbfiguk': 2, u'Silicon': 1, u'Onevar': 1, u'jcarousel1httpstaticbbcicoukframeworksjcarousel0110modulesjcarousel1': 1, u'27': 1, u'servicesBBC': 1, u's0vzlengthsvsrzsforvar': 1, u'nullfunction': 1, u'downgrade': 1, u'TwodurationdateTimePT58Mformatted58': 1, u'windowlocationpathname': 1, u'downgraded': 3, u'Chipping': 1, u'googletagdisplaybbccominterstitial': 1, u'sfasyncconfigtitle': 1, u'c': 2, u'video50': 1, u'screenheight': 2, u'orbfigad': 2, u'region': 2, u'escape': 2, u'video58': 1, u'against': 1, u'attackMagazineLatest': 1, u'Contact': 1, u'WalesSupport': 1, u'sabbccoukbbcbbcs': 1, u'27th': 1, u'ojoindexOf01getCookieNamefunctionreturn': 1, u'requests': 1, u'istatssetCounternamecounterName': 1, u'whole': 1, u'minsassetTypeVideoliveBadgefalsedescriptionTerrifying': 1, u'bbcdotcom': 2, u'TVRADIORECOMMENDATIONS1447866409736': 1, u'encodeURIwindoworbreferrer': 1, u'relevant': 1, u'key': 2, u'policyname': 1, u'Travel': 4, u'Hunturlhttpwwwbbccoukiplayerepisodeb06q659timagetemplateUrlichefbbcicoukimagesicrecipep0379y3vjpgaltTextnullcopyrightnulltitlesassetHide': 1, u'bump3empbbcicoukempbump3bump3': 1, u'pop': 1, u'typetextjavascriptbbcdotcomconfigsetIE8truex3Cscriptendif': 1, u'60': 1, u'Music': 2, u'timestamp27thOct': 2, u'Guidance': 1, u'aftermath': 1, u'minsSportsworldShes': 1, u'doping': 1, u'storeDatathisgetItemsreturn': 1, u'storeDatathisgetItemsstoreDatakeyvaluethissavestoreDatareturn': 1, u'ad': 1, u'ps': 1, u'LomuAsia100': 1, u'httpstaticbbcicoukbbcdotcom03343': 1, u'OneWatch': 4, u'puts': 1, u'pnew': 1, u'documentcookiematchbcknspolicyddd': 1, u'Timestamp': 1, u'cggetElementByIdbbccookiesifcwindoworbfigukcclassNamecclassNamereplacebbbccookiesdbcclassNamecclassName': 1, u'minsassetTypeVideoliveBadgefalsedescriptionPanorama': 1, u'baseUrl': 1, u'been': 2, u'ctaenabled': 1, u'httpwwwbbccouk': 1, u'nownew': 1, u'Your': 1, u'parents': 4, u'lovely': 1, u'RioBBC': 1, u'acachepvar': 1, u'promoManagerpromoLoaded': 1, u'Beckhams': 4, u'audio7': 1, u'dapplythisargumentsshowPromptfunctionvar': 1, u'audio1': 1, u'audio2': 2, u'else': 6, u'locationname': 1, u'policy': 1, u'videournurnbbcnitrob06pxz98titleDoctor': 1, u'external': 2, u'Future': 2, u'News': 4, u'what': 2, u'screenresolution': 1, u'httpssslbbccoukidsigninptrthttpwwwbbccoukhomecustomise': 1, u'Autos': 2, u'those': 2, u'input': 1, u'paying': 1, u'nsuxcPath': 1, u'dpvar': 1, u'has': 1, u'Old': 2, u'picksegmentsratevar': 1, u'withkeywordslanguageorbTransitionalfalseoutbrainEnabledtruepalEnvliveproductNamesectionssiteCatalystEnabledtruecomScoreEnabledtrueslotssponsoredByTextis': 1, u'cookieAphidMatch1': 1, u'DateoptsendgetTimedaysFromNowROLLINGPERIODDAYSthissignupEndTsoptssignupEndundefinednew': 1, u'strreplacegreplacegfunction': 1, u'UFC': 1, u'onSuccess': 1, u'typebutton': 1, u'choices': 1, u'Culture': 2, u'bbcdotcomconfiginitbbcdotcomConfig': 1, u'ongoing': 1, u'typeof': 11, u'windowlocation': 2, u'exist': 1, u'invited': 2, u'bbcdotcomutilsgetMetaPropertyContentwwhpedition': 1, u'enableInPageControlstrue': 1, u'nsuxcName': 1, u'newsLivingstone': 1, u'cknsorbfigifbgindexOfcknsorbnofig11thissetFigano1elseifbbthisdeserialisedecodeURIComponentRegExp1thissetFigabewritescript': 1, u'4Bataclan': 1, u'Menu': 1, u'utils': 1, u'DategetTimestoredItemDEFAULTSTARTnowDEFAULTRATE1COOKIENAMEckpfmandolinoptsoptsthisididthissegmentSetsegmentsthisstorenew': 1, u'site': 2, u'ForestsepisodeEpisode': 1, u'typetvradiorecommendationstitlePopular': 1, u'liveListen': 1, u'devastatedThe': 1, u'bbccookiesfunctiontypeof': 1, u'Override': 1, u'invitationBBC': 1, u'uplift': 1, u'unreserved': 1, u'classorbbanneroptions': 1, u'id': 1, u'bcknspolicydd0testdocumentcookie': 1, u'happy': 1, u'Valley': 1, u'harsh': 2, u'SpybrandnullattributionBBC': 1, u'proto': 2, u'things': 1, u'make': 2, u'httptpsbbccomwwscriptsdatax3Cscript': 1, u'functionistats': 2, u'same': 1, u'any': 2, u'sfasyncconfigregion': 1, u'promoLoaded': 1, u'10toGMTString': 1, u'complex': 2, u'bbcdotcomutilsaddHtmlTagClassbbcdotcomexdp': 1, u'srchttpsfigbbccoukframeworksfig1figjsscriptconfirmfunctionaaawindowifaorbaorbfigaorbfignothissetNoFigCookieaifaorbundefinedaorbfigundefinedthissetFigano1thissetNoFigCookieasetNoFigCookiefunctionaadocumentcookiecknsorbnofig1': 1, u'setAdsEnabled': 1, u'windoworbfiguk': 1, u'changedlongTitleEastEnderslongSubtitle16112015subtitle16112015ctatypevideotextscreenWatch': 1, u'MoreepisodeEpisode': 1, u'pal': 1, u'grows': 1, u'Murder': 1, u'advertising': 1, u'documentwritelink': 1, u'About': 1, u'ball': 1, u'http': 1, u'winner0rollingExpiredaysFromNowROLLINGPERIODDAYSforvar': 1, u'paths': 2, u'I': 2, u'ParisBBC': 2, u'enGB': 1, u'iPlayerWatch': 1, u'couldDavid': 1, u'hrefprivacycookiesmanagingcookiesettingshtmlChange': 1, u'homepagewindowbbcredirection': 1, u'dateremoveExpiredcallthisnowvar': 1, u'9script': 1, u'v5': 3, u'changing': 1, u'jssignals1httpstaticbbcicoukframeworksjssignals036modulesjssignals1': 1, u'HomepagewwhpEdition': 2, u'IE': 3, u'googletag': 2, u'DaylongSubtitle20152016': 1, u'undefined': 14, u'Billy': 2, u'Seek': 4, u'Is': 1, u'well': 1, u'It': 2, u'1970': 1, u'itemsifitemskeyendundefineditemskeyendexpiresIntthisstoreremoveItemkeyfunction': 1, u'Rate': 1, u'arialabelledbyorbnav': 1, u'solve': 1, u'greatest': 1, u'minsassetTypeVideoliveBadgefalsedescriptionPredators': 1, u'functionvar': 1, u'claims': 1, u'ForestsPredators': 1, u'wreckage': 2, u'156year': 1, u'adstestwindowlocationhref': 1, u'If': 1, u'NadalTennisLomu': 1, u'windowistatscountername': 3, u'Childrensubtitle20152016': 1, u'documentlocationprotocol': 3, u'ServiceInventor': 1, u'interrupt': 1, u'orbjs': 1, u'idCookieInstancedowngrade': 1, u'getAssetPrefix': 1, u'whyWhat': 1, u'istatsTrackingUrl': 3, u'yet': 1, u'documentreferrer': 1, u'windowonload': 3, u'e': 4, u'retirement': 1, u'ads': 2, u'functionstr': 1, u'TraffordlongTitleMatch': 1, u'18': 1, u'sfasyncconfig': 1, u'Privacy': 1, u'had': 2, u'jcookieindexOfstux': 1, u'day': 1, u'minsPanorama16112015': 1, u'ifestatus': 1, u'documentwritescript': 6, u'n': 1, u'sings': 1, u'4': 1, u'ROLLINGPERIODDAYS30windowbbcMandolinfunctionidsegmentsoptsvar': 1, u'Childrenepisode14112015series20152016brandMatch': 1, u'googletagdisplaywallpaper': 1, u'save': 1, u'MorectatypevideotextscreenWatch': 1, u'smart': 1, u'Shop': 2, u'typetextjavascriptbbcdotcomconfigsetIE7truex3Cscriptendif': 1, u'istats1': 1, u'minIn': 1, u'around': 3, u'loss': 1, u'surgeryEntertainment': 1, u'classorbpanel': 1, u'mancave': 1, u'dark': 1, u'opobjectopnullnullserialiseopoptoStringreturn': 1, u'TrustComplaints': 1, u'wallpapersetDomElementbbccomwallpaper': 1, u'Denis': 1, u'makes': 1, u'30': 1, u'world': 3, u'sfasyncconfigsfasyncconfiguid50924sfasyncconfigdomainbbccouksfasyncconfigauthorsHomepage': 1, u'DatepsetHours0psetMinutes0psetSeconds0psetMilliseconds0ifbbccookiesPOLICYREFRESHDATEMILLISpgetTimevar': 1, u'deserialisestrvar': 1, u'loadChartbeat': 3, u'functionnode': 1, u'requiredifoptsrateundefinedoptsrate0optsrate1throw': 1, u'Cookies': 2, u'ns': 1, u'gift': 1, u'success': 1, u'isAdsEnabled': 1, u'youmodelurnurnbbcnitrob06q9692titleEastEndersurlhttpwwwbbccoukiplayerepisodeb06q9692imagetemplateUrlichefbbcicoukimagesicrecipep037yvpljpgaltTextnullcopyrightnulltitlesasset16112015episode16112015seriesnullbrandEastEndersattributionBBC': 1, u'hunt': 3, u'downBBC': 1, u'requireidctaidCookie': 1, u'UKsfasyncconfigpathukbbccookiesbbccookiesreadPolicyperformancefunctionfunction': 1, u'successTechnologyDo': 1, u'forestBBC': 1, u'deserialisethisreadCookiethiscookieNamewindowbbcMandolinStorageprototypesavefunctiondatawindowbbccookiessetthiscookieNameencodeURIComponentserialisedata': 1, u'journalist': 1, u'zconcatawindowlocationhostnamewfwindowlocationpathnameyrxforvar': 1, u'figmanagerconfirm': 1, u'logactionTypeparamsvar': 1, u'page': 2, u'signinurl': 1, u'www': 1, u'videoNigellas': 1, u'ipt': 1, u'videominItems4maxItems6urlhttpwwwbbccoukiplayernewTagfalsefootertitleMore': 1, u'people': 1, u'tells': 1, u'aneurysm': 1, u'windowistats': 1, u'back': 1, u'screenWidthAndHeight': 3, u'Accessibility': 3, u'documentcookieindexOfcknsorbnopromo1': 1, u'minsMiss': 1, u'windowbbcdotcom': 12, u'dataassetpathhttpstaticbbcicoukframeworksbarlesque29313orb4': 1, u'Parissubtitle16112015': 1, u'Terror': 3, u'bbccookiesd': 1, u'orbbannerwrapper': 1, u'5': 2, u'bbccomdisplaynonedisplaynone': 1, u'users': 4, u'Honey': 2, u'dense': 2, u'promoloadthaturl': 1, u'RouseyHomeHow': 1, u'bbcdotcomconfigisAsync': 1, u'documentcreateElementscript': 1, u'DateDEFAULTSTARTgetTimethisendTsoptsendundefinednew': 1, u'2Danny': 1, u'ASNYC': 1, u'everBBC': 1, u'headlinesListen': 1, u'apifacachepreturn': 1, u'continue': 1, u'setVersion': 1, u'changedBBC': 1, u'WholongSubtitleSeries': 1, u'2ctatypevideotextscreenWatch': 1, u'mastermindEuropeMessage': 1, u'signInUrl': 1, u'protomatchsi': 1, u'bf': 1, u'who': 3, u'truth': 2, u'SpylongSubtitleEpisode': 1, u'oacachefunction': 1, u'testdocumentcookie': 2, u'Nick': 1, u'Whourlhttpwwwbbccoukiplayerepisodeb06pxz98imagetemplateUrlichefbbcicoukimagesicrecipep037k7lnjpgaltTextnullcopyrightnulltitlesassetSleep': 1, u'David': 4, u'endDatefunction': 1, u'waits': 1, u'host': 1, u'windowpromomanagerOverride': 2, u'Forsyth': 1, u'found': 1, u'FoodBanish': 1, u'istatsaddLabelsbbcidentity': 1, u'functionstrifstrindexOfOBJECTTOKEN1return': 1, u'Russia': 1, u'lasagnes': 1, u'apologyUK': 1, u'src': 3, u'about': 2, u'httpstaticbbcicouk': 1, u'6am': 1, u'attacks': 3, u'9brandDoctor': 1, u'hatredBBC': 1, u'violence': 2, u'wwhpEdition': 6, u'Argument': 5, u'bgp': 2, u'orbfooterpromoloaded': 1, u'dinner': 1, u'reporterEurope3': 1, u'ensure': 2, u'UK': 1, u'falsebbccookiessetPolicybbccookiesreadPolicyvar': 1, u'Cameron': 2, u'classbbccookiesbanner': 1, u'recommended': 1, u'Rousey': 1, u'Use': 1, u'useSSL': 2, u'Ronda': 2, u'Blacks': 1, u'No': 4, u'h2': 2, u'Make': 2, u'year': 1, u'Arts': 2, u'son': 1, u'bbccookiesw': 1, u'hes': 2, u'apiKey': 1, u'ccharAt0': 1, u'CBBC': 2, u'Day20152016': 1, u'windownspixelUrl': 2, u'sports': 1, u'assume': 1, u'The': 2, u'abreplaceaz209gfunctionaRegExp1RegExp2return': 1, u'advert': 1, u'video40': 1, u'joreturnoads10opersonalisation10operformance10function': 1, u'audioGunshots': 1, u'her': 1, u'istatslogerror': 1, u'segment': 1, u'thatp': 1, u'typetextcss': 1, u'fight': 1, u'DayattributionBBC': 1, u'enticed': 1, u'minsassetTypeVideoliveBadgefalsedescriptionHighlights': 1, u'adsdebugtestwindowlocationhref': 1, u'var': 33, u'pf': 1, u'November': 1, u'1445925600000': 1, u'attacksWatch': 1, u'strict': 1, u'bbccookiessete': 1, u'function': 63, u'bbcdotcomConfig': 2, u'9': 6, u'gardenEnglandWatch': 1, u'mourns': 1, u'Star': 4, u'plcifppkiforeturn': 1, u'brand': 1, u'LiveTwo': 1, u'setSwfPrefix': 1, u'FoodCelebrity': 1, u'bbcdotcomhttpstaticbbcicoukbbcdotcom03343script': 1, u'httphomepagefilesbbcicoukshomepagev51803': 1, u'windowbbcFlagpolesistats': 1, u'bbcdotcomcurrencyProviderspostWrite': 1, u'RadioListen': 1, u'true': 3, u'he': 1, u'reset': 1, u'StationlongTitleDoctor': 1, u'throw': 1, u'made': 1, u'builds': 1, u'embedded': 1, u'moneyBusinessFoodWatch': 1, u'default': 3, u'ut': 1, u'audio14': 1, u'videoApprentice': 1, u'up': 2, u'Murray': 1, u'tell': 1, u'ul': 1, u'TV': 2, u'stories': 2, u'dirty': 1, u'CDATA': 25, u'video30': 2, u'minsEastEnders16112015Roxy': 1, u'wdocumentwritescript': 1, u'problem': 1, u'addLoadEvent': 1, u'bbcdotcomcurrencyProviderswrite': 1, u'obbccookiesgetCrumbbbccookiesPOLICYEXPIRYCOOKIENAMEifoonew': 1, u'How': 1, u'150': 1, u'promises': 2, u'atk0a997sff3g': 1, u'daysFromNownvar': 1, u'FootballLifestyleX': 1, u'Space': 2, u'defined': 1, u'iPlayerurlhttpwwwbbccoukiplayerrefKeyTVRADIORECOMMENDATIONS1447866409736renderNoScripttruePopular': 1, u'typeofcookieAphidMatch1': 1, u'oifohasOwnPropertypstrptypeof': 1, u'ostrstrifvalidateSerialisationstrthrowInvalid': 1, u'pie': 1, u'DateoptssignupEndgetTimethisendTsthissegmentnulliftypeof': 1, u'an': 1, u'qpsplitowhileqlengthcoukcomindexOfqjoin1ifqlengthopushqjoinqshiftfcacheporeturn': 1, u'idbbccookiescontinuebuttonContinuebutton': 1, u'tasty': 1, u'However': 1, u'HomepagePlease': 1, u'terror': 1, u'path': 2, u'Homepage': 3, u'blues': 1, u'minsDoctor': 1, u'istatsaddLabelspalroutewebserviceapimlnamebarlesqueapptyperesponsivelanguageenGBmlversion0284palwebappbarlesqueprodnameframeworksappnameframeworks': 1, u'gunmen': 1, u'istats': 5, u'recommendationsEndpoint': 1, u'Cleghorn': 1, u'bbcdotcomadvertsadRegistergetAdwallpaper': 1, u'Read': 1, u'when': 2, u'youspan': 1, u'cyberbullying': 1, u'iWonder': 2, u'website': 3, u'decodeURIComponentcsubstringnameEqlengthclengthreturn': 1, u'Fridays': 1, u'functione': 1, u'orbfigap': 1, u'typeofdocumentcookie': 2, u'test': 1, u'strOBJECTTOKENfunction': 1, u'you': 9, u'really': 2, u'setCssPrefix': 1, u'node': 1, u'bbcdotcomconfigisActiveads': 3, u'sfasyncconfigpath': 1, u'Alex': 2, u'addHtmlTagClass': 1, u'Wembley': 2, u'provided': 2, u'steelworks': 1, u'statsProvider': 2, u'expiresnew': 1, u'm': 2, u'WhoSeries': 1, u'includes': 1, u'START': 1, u'SpyEpisode': 1, u'8script': 1, u'bbcdotcomanalyticspage': 1, u'ExtraThe': 1, u'rolling': 1, u'istatstrackexternal': 1, u'bbcRequireMap': 2, u'googletagcmdpushfunction': 2, u'suffers': 1, u'SyriaUKLatest': 1, u'Ad': 1, u'cnullacceptsAllfunctionvar': 1, u'istatsaddLabels': 1, u'we': 3, u'hears': 2, u'bottom': 1, u'websites': 1, u'Highlights': 1, u'4The': 1, u'courageEntertainment': 1, u'Sleep': 3, u'La': 2, u'panelname': 2, u'DategetTime': 5, u'idbbccookiescontinue': 1, u'4d': 1, u'minsThe': 2, u'4What': 1, u'videoWhy': 1, u'srchttpstaticbbcicoukbbcdotcom03343scriptorbindividualjsx3Cscript': 1, u'documentgetElementsByTagNamebody0': 2} {u'limited': 1, u'wetlands': 1, u'Andreas': 1, u'Sadly': 1, u'Harald': 1, u'suicidal': 1, u'appetite': 1, u'relationships': 2, u'ideastedcom': 1, u'eligible': 1, u'beduration740views1374111thumbhttptedcdnpeaakamaihdnetimagested2fafdaf65535f886a087fcc875dee66e7ff705472880x1620jpgposted20151030': 1, u'under': 3, u'Teitur': 1, u'Nearly': 1, u'void': 1, u'oceans': 2, u'every': 3, u'Tomm': 1, u'150000published1444834800id2346slugvijaykumarthefutureofflyingrobotsnameVijay': 1, u'courageous': 1, u'encounter': 1, u'look': 4, u'perfect': 1, u'Dazols': 2, u'even': 6, u'prisons': 2, u'cooking': 1, u'HaradaeventdescriptionAt': 1, u'fossil': 1, u'resilient': 1, u'supplies': 1, u'increasing': 1, u'ever': 4, u'told': 1, u'pioneering': 1, u'localtitleDont': 1, u'hero': 1, u'reporter': 1, u'helpduration1015views341412thumbhttptedcdnpeaakamaihdnetimagestedafb813c390ea9265fffffdd3fea7c1e76a141a5c2880x1620jpgposted20151026': 1, u'men': 2, u'here': 1, u'reported': 1, u'subjugate': 1, u'aftermath': 1, u'100': 1, u'Theres': 1, u'kids': 3, u'chilling': 2, u'stressed': 1, u'Home': 1, u'divide': 1, u'Privacy': 1, u'LEDs': 1, u'Pistorius\\u2019s': 1, u'visible': 1, u'moral': 2, u'mortality': 1, u'leaks': 1, u'EvergladesspeakerMac': 1, u'call': 1, u'calm': 2, u'survive': 1, u'type': 1, u'tell': 1, u'Christine': 1, u'TEDstartTime': 1, u'locked': 1, u'rights': 1, u'Text': 1, u'work': 7, u'textjavascript': 1, u'worth': 2, u'neurons': 1, u'my': 4, u'Virtual': 2, u'Reality': 1, u'want': 5, u'times': 1, u'howspeakerSandrine': 1, u'end': 2, u'provide': 5, u'someoneduration881views513046thumbhttptedcdnpeaakamaihdnetimagested414f232fce96dc6a85d03cbab4eda2302ebbb6752880x1620jpgposted20151015': 1, u'sitting': 1, u'damage': 1, u'how': 15, u'amazing': 2, u'toxic': 1, u'womentitleWhy': 1, u'beach': 2, u'A': 4, u'beauty': 4, u'mess': 1, u'social': 3, u'after': 1, u'lab': 2, u'Will': 1, u'curiosity': 1, u'law': 1, u'elusive': 1, u'enter': 2, u'order': 1, u'updates': 1, u'multilocal': 1, u'154000published1444146000id2339slugalicebowslarkinweretoolatetopreventclimatechangehereshowweadaptnameAlice': 1, u'singersongwriter': 1, u'over': 2, u'keyboard': 1, u'commerceduration711views213353thumbhttptedcdnpeaakamaihdnetimagested3146c5a3402cc8d271207eb48300c7ed98262c282880x1620jpgposted20151116': 1, u'before': 1, u'His': 1, u'personal': 2, u'highlights': 1, u'fix': 2, u'153416published1446219256id2365slugmathiasjudartthatletsyoutalkbacktonsaspiesnameMathias': 1, u'Here': 2, u'better': 6, u'edits': 1, u'Luber': 2, u'hidden': 3, u'eventually': 1, u'them': 6, u'diseases': 3, u'Christiansen': 1, u'effects': 3, u'Arrow': 3, u'schools': 1, u'one': 9, u'grasslands': 1, u'India': 1, u'API': 1, u'153501published1444750501id2348slugmichaelgreenhowwecanmaketheworldabetterplaceby2030nameMichael': 1, u'Check': 1, u'luck': 1, u'series': 1, u'contracting': 1, u'taught': 3, u'trading': 1, u'collector': 1, u'LevitineventdescriptionYoure': 1, u'network': 1, u'washed': 3, u'i1': 1, u'adapttitleClimate': 1, u'medicine': 3, u'got': 3, u'cutest': 1, u'University': 1, u'elparentNodeinsertBefores': 1, u'management': 1, u'formation': 1, u'smarterduration789views649774thumbhttptedcdnpeaakamaihdnetimagested87f82eddb91d2c806ebb11465d846c47f481902c2880x1620jpgposted20151013': 1, u'wanted': 1, u'knit': 1, u'nodeparentNodeinsertBeforegads': 1, u'created': 2, u'September': 1, u'refugee': 2, u'messages': 2, u'Embassy': 1, u'soundsspeakerMeklit': 1, u'Human': 1, u'154919published1445615359id2356slugtomuglowaninternetwithoutscreensmightlooklikethisnameTom': 1, u'uses': 2, u'onto': 1, u'industrial': 1, u'Working': 1, u'researcher': 1, u'Please': 7, u'hearing': 1, u'philosophical': 1, u'another': 1, u'Press': 1, u'insightful': 1, u'tool': 1, u'Date': 2, u'distance': 1, u'frankly': 1, u'2030speakerMichael': 1, u'Sex': 1, u'See': 1, u'comscorepush': 1, u'solely': 1, u'Unit': 1, u'wideranging': 1, u'industrializing': 1, u'mind': 5, u'spectrum': 1, u'spent': 1, u'seen': 1, u'tells': 1, u'relatively': 1, u'knewtitleHow': 1, u'responsible': 1, u'Everglades': 1, u'They': 1, u'megaspace': 1, u'Gallery': 2, u'though': 1, u'drought': 1, u'environmental': 1, u'medical': 2, u'metal': 1, u'swamp': 2, u'2030titleHow': 1, u'Its': 1, u'urgency': 1, u'discontent': 1, u'mustsee': 1, u'hunger': 1, u'insects': 1, u'solutions': 2, u'participate': 1, u'earth': 1, u'd1': 1, u'situations': 2, u'womenspeakerAlyson': 1, u'geologist': 1, u'rich': 1, u'wearing': 1, u'162002published1447777202id2371slugjoshluberthesecretsneakermarketandwhyitmattersnameJosh': 1, u'Netherlands': 1, u'de': 4, u'watch': 1, u'haunted': 1, u'new': 19, u'reconstruct': 1, u'countries': 1, u'bad': 3, u'architecture': 1, u'release': 1, u'UgloweventdescriptionDesigner': 1, u'ears': 2, u'fascinating': 1, u'Heres': 4, u'GreeneventdescriptionCan': 1, u'Anderson': 1, u'result': 2, u'fail': 1, u'nocturnal': 1, u'best': 1, u'MarieventdescriptionIn': 1, u'away': 1, u'prince': 1, u'paintbrushduration691views349775thumbhttptedcdnpeaakamaihdnetimagestedee7d7b0abbc72ed262e4ccc93e3bbb4be3a7e4522880x1620jpgposted20151106': 1, u'unable': 1, u'ouserIdl1': 1, u'we': 27, u'never': 3, u'nationwide': 1, u'locationhost': 1, u'BowsLarkin': 2, u'news': 3, u'improve': 1, u'climate': 6, u'Chances': 1, u'country': 4, u'robotsspeakerVijay': 1, u'against': 1, u'similarities': 1, u'tepuis': 1, u'imaginative': 1, u'250': 1, u'speak': 1, u'conference': 1, u'asks': 5, u'HclassNameHclassNamereplacebloggedoutbloggedin': 1, u'154426published1443800666id2338slugmartinpistoriushowmymindcamebacktolifeandnooneknewnameMartin': 1, u'three': 1, u'been': 3, u'quickly': 1, u'much': 1, u'basic': 1, u'deathtitleThe': 1, u'Enormous': 1, u'deeper': 2, u'attacked': 1, u'Pennsylvania': 1, u'facetoface': 1, u'physician': 1, u'has': 9, u'colorspeakerKaki': 1, u'Follow': 2, u'inspired': 3, u'crisesduration579views311548thumbhttptedcdnpeaakamaihdnetimagested302b5ddbb830b2be25cbb628216acdf89e72a1952880x1620jpgposted20151102': 1, u'Ideas': 1, u'cant': 1, u'promiseduration1155views737256thumbhttptedcdnpeaakamaihdnetimagestedb2236fa5fe68cf8d207f7679b6da0d717d817c392880x1620jpgposted20150930': 1, u'Shields': 2, u'trusted': 1, u'perform': 1, u'things': 1, u'make': 8, u'Kaki': 1, u'complex': 1, u'potentially': 1, u'babies': 1, u'President': 1, u'emphatic': 1, u'independent': 1, u'Institute': 1, u'pick': 1, u'possible': 1, u'Stunning': 1, u'qhomeinittalksid2379sluganotetongmycountrywillbeunderwatersoonunlessweworktogethernameAnote': 1, u'groundbreaking': 2, u'Nonny': 1, u'Vijay': 1, u'thoughts': 1, u'bodyduration848views1205636thumbhttptedcdnpeaakamaihdnetimagesteda72a925408a497864046056efff653b2c04f8a2a2880x1620jpgposted20151001': 1, u'youre': 4, u'ocean': 2, u'materials': 1, u'musical': 4, u'agency': 1, u'just': 5, u'unemployment': 1, u'thanks': 2, u'human': 3, u'yet': 1, u'knewspeakerMartin': 1, u'Thuret': 2, u'photographer': 2, u'had': 4, u'countrys': 1, u'Baghdad': 1, u'easy': 1, u'prison': 1, u'save': 3, u'which': 6, u'Alice': 1, u'Emilie': 1, u'Art': 1, u'localspeakerTaiye': 1, u'161310published1447344790id2369slugandreasekstromthemoralbiasbehindyoursearchresultsnameAndreas': 1, u'theyre': 1, u'lowlying': 1, u'gads': 1, u'Swedish': 1, u'right': 1, u'BowsLarkineventdescriptionImagine': 1, u'deal': 1, u'people': 15, u'deaf': 1, u'Hilary': 1, u'Tiny': 1, u'born': 1, u'escape': 3, u'everything': 1, u'biologyspeakerNeri': 1, u'Facebook': 1, u'HaderoeventdescriptionUsing': 1, u'denied': 1, u'Chris': 1, u'Are': 1, u'School': 1, u'LubereventdescriptionJosh': 1, u'bold': 2, u'marketing': 1, u'SauroeventdescriptionCave': 1, u'Daily': 2, u'DoSomethingorg': 1, u'losing': 1, u'Pe\\xf1a': 3, u'pillspeakerSiddhartha': 1, u'raised': 1, u'Nike': 1, u'prisoners': 1, u'likeduration444views446748thumbhttptedcdnpeaakamaihdnetimagestedd2dba45393b333dff9751f5e9d068f6ba03f349a2880x1620jpgposted20151105': 1, u'down': 1, u'entrepreneur': 1, u'beings': 2, u'support': 1, u'flying': 2, u'TED': 40, u'transform': 1, u'Doudna': 3, u'conservation': 1, u'way': 3, u'music': 4, u'war': 1, u'happy': 1, u'DNA': 3, u'offering': 1, u'differences': 1, u'wireless': 2, u'notifications': 1, u'illuminating': 1, u'hear': 1, u'solar': 1, u'Floridas': 1, u'true': 4, u'Pe\\xf1aeventdescriptionWhat': 1, u'robotstitleThe': 1, u'Tong': 2, u'inside': 7, u'devices': 1, u'smashed': 1, u'bodiesduration929views732009thumbhttptedcdnpeaakamaihdnetimagested1b1a683e5ebe9dcb2fdde87144516ce3aa0e025d2880x1620jpgposted20151014': 1, u'proud': 1, u'hotter': 1, u'drive': 1, u'locationprotocol': 1, u'Melissa': 1, u'prayer': 1, u'shines': 1, u'Fellow': 7, u'check': 4, u'radically': 1, u'newsletter': 1, u'us': 12, u'when': 5, u'reality': 3, u'holding': 1, u'digital': 3, u'test': 1, u'developers': 1, u'node': 2, u'felt': 1, u'journey': 2, u'TEDisFirstVisit': 1, u'rolling': 1, u'detox': 1, u'googletagcmdpushfunction': 2, u'billion': 1, u'happening': 2, u'changedduration1275views0thumbhttptedcdnpeaakamaihdnetimagestedfdfeb3082f3bf3cb3a35f8df39347c79b0aeb37d2880x1620jpgposted20151118': 1, u'together': 1, u'Fleming': 2, u'time': 3, u'others': 1, u'songs': 1, u'Mathias': 1, u'global': 1, u'unregulated': 1, u'premortem': 1, u'MukherjeeeventdescriptionCurrent': 1, u'disorders': 1, u'discovering': 2, u'Prize': 1, u'trouble': 1, u'governments': 1, u'Just': 1, u'dig': 1, u'leave': 1, u'guitars': 1, u'team': 2, u'adunit': 2, u'unexpected': 2, u'says': 9, u'sign': 3, u'beforetitleThe': 1, u'roof': 1, u'CMU': 1, u'httpssb': 1, u'stressful': 2, u'shares': 3, u'Explore': 4, u'filled': 1, u'reshaping': 1, u'learn': 1, u'beforespeakerWill': 1, u'water': 3, u'address': 3, u'alone': 2, u'along': 1, u'teaches': 1, u'change': 9, u'gadsdisplayAd': 1, u'worldspeakerJenni': 1, u'Francesco': 1, u'usually': 1, u'studies': 2, u'love': 10, u'Fjellberg': 2, u'logical': 1, u'realitytitleThe': 1, u'Farming': 1, u'windownavigatordoNotTrack': 1, u'market': 6, u'everybody': 3, u'manufacturing': 1, u'additive': 1, u'troops': 1, u'working': 5, u'httpb': 1, u'positive': 1, u'live': 1, u'going': 1, u'https': 3, u'memory': 1, u'today': 2, u'aspirin': 1, u'These': 1, u'neglected': 1, u'visual': 1, u'cute\\u201d': 1, u'behalf': 1, u'Latest': 1, u'German': 1, u'overloaded': 1, u'Pacific': 1, u'reviews': 1, u'can': 33, u'wiselyspeakerJennifer': 1, u'growing': 1, u'Our': 1, u'Out': 1, u'heard': 2, u'Supergays': 2, u'survivorsspeakerMelissa': 1, u'wetsuits': 1, u'7341760': 1, u'Terms': 1, u'humanitys': 1, u'bonds': 1, u'range': 1, u'eradicateduration558views320297thumbhttptedcdnpeaakamaihdnetimagested90eeddc216ca86ad2fbf99d0823a39fe681e75132880x1620jpgposted20151110': 1, u'Lublin': 1, u'H': 1, u'speaks': 1, u'Why': 2, u'birdsong': 1, u'map': 1, u'designer': 1, u'McGregoreventdescriptionYou': 1, u'explorer': 1, u'aging': 1, u'may': 3, u'sacrifice': 1, u'deforestation': 1, u'heartbreaking': 3, u'Martin': 1, u'data': 4, u'grow': 4, u'classroom': 1, u'stress': 1, u'natural': 3, u'neck': 1, u'whenever': 1, u'maybe': 1, u'ittitleThe': 1, u'instills': 1, u'Radio': 1, u'healduration1055views755534thumbhttptedcdnpeaakamaihdnetimagested41ac82f3910374b1dee363913218e5f632a226302880x1620jpgposted20151006': 1, u'StoneeventdescriptionFor': 1, u'talk': 14, u'typical': 1, u'exclusive': 1, u'howtitleYou': 1, u'Hong': 1, u'argues': 1, u'brain': 4, u'resultsspeakerAndreas': 1, u'scorecardresearchcombeaconjs': 1, u'still': 1, u'solitary': 1, u'group': 1, u'thank': 1, u'beliefs': 3, u'platform': 1, u'offers': 1, u'policy': 2, u'Using': 2, u'halt': 1, u'nation': 1, u'answer': 3, u'She': 3, u'now': 8, u'discuss': 1, u'152411published1445959451id2364slughilarycottamsocialservicesarebrokenhowwecanfixthemnameHilary': 1, u'battlefields': 1, u'equality': 2, u'name': 1, u'pilltitleSoon': 1, u'KumareventdescriptionAt': 1, u'Earths': 2, u'bridging': 1, u'significantly': 1, u'ed': 1, u'143850published1445524730id2354slugjenniferdoudnawecannoweditourdnabutletsdoitwiselynameJennifer': 1, u'breakthrough': 3, u'happen': 1, u'living': 3, u'opened': 1, u'space': 1, u'looking': 1, u'seriously': 1, u'rational': 1, u'worldduration756views283422thumbhttptedcdnpeaakamaihdnetimagestedfdc5961387a74f59d7785e515eda25ccb76ff52f2880x1620jpgposted20151112': 1, u'shows': 3, u'Stone': 3, u'050000published1447390800id2372slugchelseashieldshowimworkingforchangeinsidemychurchnameChelsea': 1, u'million': 2, u'spies': 1, u'complicated': 1, u'spied': 1, u'care': 2, u'language': 1, u'Harbour': 1, u'Sign': 1, u'thing': 5, u'place': 5, u'think': 3, u'first': 2, u'Brazil': 1, u'There': 2, u'Asia': 1, u'yourself': 2, u'multibillion': 1, u'networksduration776views304538thumbhttptedcdnpeaakamaihdnetimagested86d74020299b5fce92e47bf9a9d9ee7a4a1a9c7b2880x1620jpgposted20151029': 1, u'long': 1, u'message': 2, u'open': 2, u'ethics': 1, u'city': 1, u'sheer': 1, u'district': 1, u'buildingsduration1056views945604thumbhttptedcdnpeaakamaihdnetimagesteda4817b9887ab589f58ea7258b3e4cecbafa126c22880x1620jpgposted20151007': 1, u'anyone': 1, u'2': 1, u'realityspeakerNonny': 1, u'Data': 1, u'gives': 1, u'eyes': 1, u'Neck': 1, u'releases': 2, u'brains': 1, u'edit': 2, u'short': 1, u'than': 7, u'11': 2, u'10': 2, u'13': 1, u'12': 1, u'15': 2, u'Conferences': 1, u'future': 9, u'were': 5, u'investors': 1, u'remained': 1, u'referer': 1, u'qqfunctionqpusharguments': 1, u'say': 2, u'inhibiting': 1, u'insatiable': 1, u'any': 2, u'Do': 1, u'form': 1, u'ideas': 5, u'endangered': 2, u'take': 2, u'converged': 1, u'destroy': 1, u'qhomespotlight': 1, u'150000published1444057200id2341slugemiliewapnickwhysomeofusdonthaveonetruecallingnameEmilie': 1, u'switching': 1, u'sure': 1, u'pain': 2, u'track': 1, u'falls': 1, u'154648published1447861608id2376slugnonnydelapenathefutureofnewsvirtualrealitynameNonny': 1, u'pages': 1, u'multipotentialites': 1, u'FjellbergeventdescriptionWhen': 1, u'especially': 1, u'gacreateUA407817552tedcomo': 1, u'later': 3, u'hungry': 1, u'Big': 1, u'teduseriddwindownavigator': 1, u'precise': 1, u'Trending': 2, u'imagines': 1, u'discovered': 1, u'We': 5, u'treasure': 3, u'behind': 3, u'only': 2, u'wood': 1, u'outrage': 1, u'Translation': 2, u'awareness': 1, u'immersedduration783views556807thumbhttptedcdnpeaakamaihdnetimagested3085bac9fb6e6d3a1132abb7cad0026dd77118b82880x1620jpgposted20151016': 1, u'get': 9, u'Amid': 1, u'documentcreateElementscript': 2, u'outlet': 1, u'secondary': 1, u'Instagram': 1, u'artist': 2, u'Kong': 1, u'ShieldseventdescriptionHow': 1, u'where': 10, u'Twitter': 1, u'vision': 1, u'seas': 1, u'Patricia': 1, u'TEDabby': 1, u'up': 8, u'languagetitleThe': 1, u'collects': 1, u'lightbulbduration503views825610thumbhttptedcdnpeaakamaihdnetimagested04210e05cfb511bd0cec7a4ae49ec98a8f233c4b2880x1620jpgposted20151022': 1, u'farmers': 1, u'ways': 6, u'LDS': 1, u'162511published1446567911id2362slugnancylublintheheartbreakingtextthatinspiredacrisishelplinenameNancy': 1, u'outside': 1, u'between': 6, u'gasetdimension4100rc11': 1, u'\\u201cawww': 1, u'across': 1, u'infrastructure': 1, u'jobs': 1, u'cortisol': 1, u'Wachter': 1, u'172745published1446485265id2361slugdaniellevitinhowtostaycalmwhenyouknowyoullbestressednameDaniel': 1, u'analyzes': 1, u'guitar': 2, u'LGBT': 3, u'spark': 1, u'come': 2, u'Levitin': 2, u'Religions': 1, u'tour': 1, u'Through': 2, u'labslength': 1, u'expression': 1, u'nearby': 1, u'ThureteventdescriptionCan': 1, u'storiesspeakerAnders': 1, u'exploit': 1, u'learning': 1, u'aerial': 1, u'boat': 2, u'combines': 1, u'But': 8, u'don\\u2019t': 2, u'Known': 1, u'500': 3, u'photos': 3, u'Learn': 1, u'Francisco': 1, u'those': 5, u'sound': 4, u'prehistoric': 1, u'engineering': 1, u'Open': 2, u'coolest': 2, u'survivorstitleA': 1, u'assetBuster1447804270playerPathtedcdnpbaakamaihdnetassetsplayerflashhlsplayer400009swfplayerPathRemotetedcdnpbaakamaihdnetassetsplayerflashhlsplayer400009swfplayerPathLocalassetsplayerflashhlsplayer400009swfassetHosthttpstedcdnpaaakamaihdnetauthHosthttpsauthtedcomsettingsUrlhttpswwwtedcomsettingsaccountsignInUrlsessionnewsignOutUrlhttpsauthtedcomsessionlogoutsignInHelpUrlhttpsauthtedcomaccountpasswordnewsignUpUrlhttpsauthtedcomusersnewcsClientId7341760gaDimensionsbreakpointdimension1talkIddimension2authStatedimension3versiondimension4playlistIddimension5testIddimension7embedZonedimension8': 1, u'thisspeakerTom': 1, u'bias': 2, u'Hidden': 2, u'technology': 8, u'everyday': 5, u'movements': 1, u'different': 1, u'author': 2, u'NSA': 3, u'tastemakers': 1, u'same': 1, u'surveillance': 1, u'events': 1, u'pan': 1, u'centuries': 1, u'I': 7, u'persons': 1, u'fruit': 1, u'footprint': 1, u'tradition': 2, u'enchanting': 2, u'153144published1446046304id2363slugcesarharadahowiteachkidstolovesciencenameCesar': 1, u'Is': 1, u'accountable': 1, u'without': 3, u'Im': 6, u'In': 13, u'model': 2, u'bodies': 4, u'If': 2, u'being': 4, u'rest': 1, u'gadsasync': 1, u'Daniel': 1, u'kill': 2, u'Selasi': 2, u'languageduration917views337064thumbhttptedcdnpeaakamaihdnetimagested2f0d8f23511830353514f7bb7a31c0dbd8a70dd12880x1620jpgposted20151028': 1, u'death': 2, u'Jobs': 1, u'thinking': 2, u'languagespeakerChristine': 1, u'lets': 5, u'treatment': 1, u'pill': 1, u'day\\u2019s': 1, u'around': 4, u'spectacular': 1, u'oneduration746views1472046thumbhttptedcdnpeaakamaihdnetimagested11e3541d75d4afba6badc2c3c058b8cb4bfe58632880x1620jpgposted20151002': 1, u'read': 1, u'Many': 1, u'forduration710views295060thumbhttptedcdnpeaakamaihdnetimagestedf3d0420b123a32fe10941e2cda324cf4f195bf152880x1620jpgposted20151109': 1, u'early': 1, u'listening': 2, u'using': 2, u'DoudnaeventdescriptionGeneticist': 1, u'iftop': 1, u'facing': 1, u'audience': 2, u'churchtitleHow': 1, u'twelve': 1, u'sneaker': 2, u'Pinterest': 1, u'GCHQ': 1, u'moving': 1, u'Mari': 4, u'150331published1445353411id2352slugwillpotterthesecretusprisonsyouveneverheardofbeforenameWill': 1, u'thinks': 1, u'Listen': 1, u'mood': 1, u'critical': 1, u'projectionmapping': 1, u'TongeventdescriptionFor': 1, u'freed': 1, u'scientific': 1, u'power': 2, u'equivalent': 1, u'communicate': 1, u'broken': 2, u'Christoph': 1, u'swarms': 1, u'violence': 1, u'side': 3, u'practical': 1, u'nothing': 2, u'youve': 3, u'mean': 1, u'Ads': 1, u'documentcookiematch': 3, u'spreading': 2, u'rising': 1, u'inbox': 1, u'soundscape': 1, u'Meeting': 1, u'your': 16, u'mental': 1, u'her': 9, u'wiselytitleWe': 1, u'symbiosis': 1, u'coinvented': 1, u'bubble': 1, u'enough': 2, u'mammals': 1, u'CRISPRCas9': 2, u'Translators': 1, u'Hadero': 2, u'McGregor': 2, u'technologies': 2, u'trying': 2, u'DazolseventdescriptionAs': 1, u'mattersspeakerJosh': 1, u'you\\u201d': 1, u'emissions': 1, u'Crisis': 1, u'detailed': 1, u'ssrc': 1, u'playlists': 2, u'WapnickeventdescriptionWhat': 1, u'moved': 1, u'deep': 2, u'an': 14, u'Blog': 1, u'How': 13, u'politics': 1, u'An': 1, u'hospitals': 1, u'again': 5, u'astronautsduration877views765527thumbhttptedcdnpeaakamaihdnetimagested64e494bbcb3d5e0c93f11d1f255990db5a8766862880x1620jpgposted20151023': 1, u'rememberedtitleHome': 1, u'valid': 1, u'5': 1, u'someones': 1, u'you': 23, u'really': 1, u'Climate': 1, u'important': 1, u'brands': 1, u'building': 1, u'applause': 1, u'calls': 3, u'traumaduration930views253659thumbhttptedcdnpeaakamaihdnetimagested66e122f4205e293e4d3a81a96a857ca401e1c2d92880x1620jpgposted20151113': 1, u'roams': 1, u'impossibility': 1, u'dyes': 1, u'contexthttpschemaorgtypeOrganizationnameTEDurlhttpwwwtedcomlogohttpstedcdnpiaakamaihdnetrtedcdnpaaakamaihdnetimagesTEDlogopngsameAshttpswwwfacebookcomTEDhttpswwwtwittercomtedtalkshttpswwwlinkedincomcompanytedconferenceshttpswwwyoutubecomuserTEDtalksDirectorhttpswwwpinterestcomtednews': 1, u'original': 1, u'all': 3, u'since': 1, u'consider': 1, u'dollar': 1, u'month': 1, u'sunk': 2, u'thoughtful': 1, u'Take': 1, u'gptProxydata': 1, u'talks': 11, u'religious': 1, u'children': 1, u'synthetic': 1, u'catastrophe': 1, u'sciencespeakerFrancesco': 1, u'ts': 1, u'woman': 2, u'song': 2, u'very': 1, u'horror': 1, u'translations': 1, u'documentdocumentElement': 1, u'difference': 1, u'InternettitleA': 1, u'OxmaneventdescriptionDesigner': 1, u'biological': 1, u'NPR': 1, u'Impact': 1, u'Browse': 1, u'invention': 1, u'design': 2, u'artist\\u2019s': 1, u'creatures': 2, u'what': 6, u'Latin': 1, u'tapirs': 1, u'swamps': 1, u'overload': 1, u'150000published1445007600id2353slugandersfjellbergtwonamelessbodieswasheduponthebeachherearetheirstoriesnameAnders': 1, u'scientists': 3, u'learned': 1, u'Norway\\u2019s': 1, u'full': 2, u'advocate\\u2019s': 1, u'empower': 1, u'answers': 1, u'Contact': 1, u'windowga': 1, u'adaptspeakerAlice': 1, u'search': 6, u'ahead': 1, u'Spreading': 1, u'allows': 1, u'experience': 4, u'published': 1, u'153640published1446824200id2368slugharaldhaasabreakthroughnewkindofwirelessinternetnameHarald': 1, u'family': 2, u'Wapnick': 2, u'screens': 3, u'put': 2, u'KingeventdescriptionA': 1, u'Tom': 1, u'Chang': 3, u'takes': 2, u'two': 5, u'more': 12, u'company': 1, u'tested': 1, u'American': 2, u'known': 1, u'mounted': 1, u'town': 1, u'science': 2, u'Oxman': 2, u'debated': 1, u'evolved': 2, u'Harada': 2, u'pioneered': 1, u'male': 2, u'Your': 2, u'Anote': 1, u'share': 1, u'unbiased': 1, u'numbers': 1, u'information': 4, u'Sandrine': 1, u'teduserid': 1, u'comscore': 2, u'comfort': 1, u'occasionally': 1, u'explains': 2, u'plant': 1, u'advice': 1, u'treatments': 1, u'iGoogleAnalyticsObjectririrfunctionirqirqpushargumentsirl1new': 1, u'coming': 1, u'Swiss': 1, u'Lisa': 3, u'neurogenesis\\u2014improving': 1, u'willpottercomcmuduration895views876824thumbhttptedcdnpeaakamaihdnetimagesteda1f6ba3d17e6e9d7404ee1ff61546579c2126b522880x1620jpgposted20151019': 1, u'imagery': 1, u'orchard': 1, u'Deep': 1, u'Neri': 1, u'travel': 1, u'What': 3, u'help': 9, u'soon': 3, u'isnt': 2, u'already': 1, u'through': 1, u'its': 7, u'dont': 3, u'20': 1, u'might': 4, u'alter': 1, u'someone': 1, u'KimeventdescriptionArtist': 1, u'Michael': 1, u'Bay': 1, u'framework': 1, u'EvergladestitleStunning': 1, u'communities': 1, u'Senior': 1, u'151825published1444403905id2342slugsandrinethuretyoucangrownewbraincellshereshownameSandrine': 1, u'mystery': 2, u'imprisoned': 1, u'achievedduration879views629969thumbhttptedcdnpeaakamaihdnetimagested7e282e3b442c167b2993f0ef4a51d5e641174c1d2880x1620jpgposted20151012': 1, u'always': 2, u'Potter': 3, u'inequality': 1, u'Thanks': 1, u'positions': 1, u'ifl': 1, u'found': 2, u'Global': 1, u'Pistorius': 3, u'generation': 1, u'idea': 3, u'deathspeakerJeanPaul': 1, u'More': 1, u'travels': 1, u'initiatives': 1, u'dominates': 1, u'poachers': 1, u'Ambien': 1, u'surrounded': 1, u'research': 2, u'health': 1, u'7': 3, u'expansive': 1, u'Hour': 1, u'According': 1, u'extraordinary': 1, u'imagine': 2, u'ask': 5, u'teach': 2, u'beginning': 1, u'duration1155views678890thumbhttptedcdnpeaakamaihdnetimagestedd7978ab526f1922c090ced88497e7f80c1f6174c2880x1620jpgposted20151103': 1, u'Lubers': 1, u'Haas': 2, u'TEDcom': 2, u'colortitleA': 1, u'feel': 2, u'feet': 2, u'wwwgoogletagservicescomtagjsgptjs': 1, u'wayduration664views1522012thumbhttptedcdnpeaakamaihdnetimagestedec6df2369a3294452ed45750f41e6468c3a586212880x1620jpgposted20151008': 1, u'story': 6, u'Started': 1, u'leading': 1, u'interact': 1, u'Precision': 1, u'store': 1, u'Language': 2, u'trapped': 1, u'togethertitleMy': 1, u'FlemingeventdescriptionAboard': 1, u'part': 2, u'doctors': 1, u'believe': 1, u'kind': 3, u'grew': 1, u'imperiled': 1, u'Partnership': 1, u'conceptduration991views1116295thumbhttptedcdnpeaakamaihdnetimagested13e6ec8601cf8e0705fa80ffb2c4e4fea204d1e42880x1620jpgposted20150929': 1, u'documentgetElementsByTagNamescript0': 2, u'architect': 1, u'supposed': 1, u'Campless': 1, u'treated': 1, u'soundstitleThe': 1, u'strengthen': 1, u'sciencetitleHow': 1, u'sciencespeakerCesar': 1, u'lid': 1, u'honeybees': 1, u'PottereventdescriptionInvestigative': 1, u'self': 1, u'spiesspeakerMathias': 1, u'also': 2, u'build': 1, u'Kim': 2, u'solve': 1, u'With': 2, u'experienced': 2, u'reach': 1, u'Communications': 1, u'70': 1, u'services': 4, u'The': 25, u'resultstitleThe': 1, u'Bridge': 1, u'Google': 1, u'clear': 1, u'sometimes': 2, u'cover': 1, u'traditional': 1, u'Subscribe': 1, u'googletagcmd': 2, u'clean': 1, u'hindrance': 1, u'liberate': 1, u'sector': 1, u'JudeventdescriptionIn': 1, u'hugging': 1, u'routinely': 1, u'melody': 1, u'themspeakerHilary': 1, u'access': 1, u'writer': 1, u'failed': 1, u'150000published1444316400id2344slugnerioxmandesignattheintersectionoftechnologyandbiologynameNeri': 1, u'8': 1, u'his': 14, u'feels': 1, u'preparing': 1, u'boils': 1, u'him': 1, u'spikes': 1, u'Help': 1, u'medicines': 1, u'cry': 1, u'common': 1, u'hype': 1, u'Uglow': 2, u'set': 4, u'art': 1, u'For': 2, u'functionsogamascreateElementomsgetElementsByTagNameo0aasync1asrcgmparentNodeinsertBeforeamdocumentscriptwwwgoogleanalyticscomanalyticsjs': 1, u'activists': 1, u'signups': 1, u'lion': 1, u'sea': 3, u'MedicieventdescriptionAlthough': 1, u'threats': 2, u'defineSlot5641ted2home': 1, u'expert': 2, u'currently': 1, u'Selector': 1, u'stressedspeakerDaniel': 1, u'marriage': 1, u'King': 2, u'genes': 1, u'recently': 1, u'creating': 1, u'environmentalists': 1, u'attention': 2, u'vanishing': 1, u'conservationist': 1, u'genre': 1, u'became': 1, u'Green': 2, u'whole': 2, u'finds': 1, u'load': 1, u'simple': 1, u'English': 1, u'community': 2, u'itspeakerPatr\\xedcia': 1, u'decline': 1, u'My': 1, u'create': 3, u'wasnt': 1, u'secret': 4, u'fuses': 1, u'California': 1, u'collected': 1, u'threaten': 1, u'4': 2, u'institutionalized': 1, u'gay': 2, u'gas': 1, u'lives': 3, u'Dont': 1, u'while': 1, u'Church': 1, u'theres': 2, u'spiestitleArt': 1, u'itself': 1, u'sciencetitleDeep': 1, u'leaving': 1, u'funny': 1, u'Weve': 1, u'grant': 1, u'government': 3, u'TED2015': 1, u'2030': 1, u'development': 1, u'About': 1, u'used': 1, u'island': 1, u'Neuroscientist': 2, u'moment': 1, u'levels': 1, u'arrived': 1, u'fabrication': 1, u'googletag': 3, u'dark': 1, u'Sauro': 2, u'Ed': 1, u'Ekstr\\xf6m': 2, u'aftershock': 2, u'Talks': 5, u'organization': 2, u'chemistry': 1, u'163542published1447173342id2370slugjennichangandlisadazolsthisiswhatlgbtlifeislikearoundtheworldnameJenni': 1, u'Meklit': 1, u'openly': 1, u'questions': 1, u'Internet': 4, u'continent': 1, u'unto': 1, u'gems': 2, u'cut': 1, u'parents': 1, u'Goals': 1, u'Last': 1, u'lacking': 1, u'Did': 1, u'big': 2, u'couple': 1, u'Dig': 1, u'Curator': 1, u'InternetspeakerHarald': 1, u'matterstitleThe': 1, u'quest': 2, u'Alyson': 1, u'150928published1443539368': 1, u'differently\\u2014a': 1, u'yields': 1, u'translators': 1, u'160945published1447085385id2366slugkakikingamusicalescapeintoaworldoflightandcolornameKaki': 1, u'popular': 1, u'disorder': 1, u'Find': 2, u'Management': 1, u'often': 3, u'collectors': 1, u'absolutely': 1, u'some': 2, u'back': 6, u'economic': 1, u'examples': 1, u'curious': 1, u'145241published1446130361id2357slugchristinesunkimtheenchantingmusicofsignlanguagenameChristine': 1, u'acquaintance': 1, u'tools': 3, u'crisis': 4, u'religion': 1, u'sneakers': 3, u'eating': 1, u'300': 1, u'processing': 1, u'step': 1, u'gadsgptAd': 1, u'wildlife': 1, u'most': 2, u'coexist': 1, u'themtitleSocial': 1, u'messaging': 1, u'posttraumatic': 1, u'silence': 1, u'pollution': 1, u'computational': 1, u'within': 2, u'Their': 1, u'lesson': 1, u'stressedtitleHow': 1, u'question': 3, u'specifically': 1, u'analyze': 1, u'himself': 1, u'togetherspeakerAnote': 1, u'Filter': 1, u'library': 2, u'hopes': 1, u'microorganisms': 1, u'transmits': 1, u'Africa': 1, u'Soon': 1, u'psychosis': 1, u'Books': 4, u'autonomous': 1, u'strands': 1, u'called': 1, u'associated': 1, u'adults': 2, u'single': 2, u'cure': 2, u'surveying': 1, u'evocative': 1, u'phantom': 1, u'humanities': 1, u'callingspeakerEmilie': 1, u'Mormon': 1, u'preventing': 2, u'Mac': 1, u'points': 1, u'draw': 1, u'problems': 2, u'robots': 2, u'helping': 1, u'Patr\\xedcia': 1, u'utterly': 1, u'ago': 1, u'land': 1, u'texted': 1, u'algorithm': 1, u'age': 3, u'responded': 1, u'2003': 1, u'As': 1, u'carrying': 3, u'Buried': 1, u'broad': 1, u'far': 1, u'failures': 1, u'having': 1, u'code': 1, u'lowland': 1, u'existing': 1, u'alien': 1, u'ga': 1, u'intricate': 1, u'storiestitleTwo': 1, u'issues': 2, u'Business': 1, u'young': 3, u'send': 1, u'languages': 1, u'excluded': 1, u'Now': 3, u'CottameventdescriptionWhen': 1, u'confirmation': 1, u'linespeakerNancy': 1, u'minerals': 1, u'entire': 1, u'gender': 2, u'Sabbath': 1, u'try': 4, u'Cesar': 1, u'optics': 1, u'Long': 1, u'googletagpubadsenableAsyncRendering': 1, u'Norway': 1, u'plays': 2, u'business': 2, u'giving': 2, u'multimedia': 1, u'cell': 2, u'Line': 1, u'America': 4, u'America\\u2019s': 1, u'body': 2, u'explore': 1, u'poverty': 1, u'making': 1, u'Ekstr\\xf6meventdescriptionSearch': 1, u'receive': 1, u'Jennifer': 1, u'suggests': 1, u'products': 1, u'Taiye': 1, u'nameless': 2, u'makes': 1, u'Staff': 1, u'HaaseventdescriptionWhat': 1, u'singing': 1, u'use': 1, u'from': 19, u'LublineventdescriptionWhen': 1, u'\\u2026': 2, u'next': 2, u'started': 2, u'becomes': 2, u'musician': 1, u'impress': 1, u'infection': 1, u'train': 1, u'Gut': 1, u'antennas': 1, u'sessionlogout': 1, u'women': 3, u'account': 1, u'animals': 1, u'172258published1446744178id2367slugpatriciamedicithecoolestanimalyouknownothingaboutandhowwecansaveitnamePatr\\xedcia': 1, u'control': 1, u'do': 9, u'process': 1, u'something': 3, u'Policy': 2, u'He': 1, u'164723published1447692443id2374slugjeanpaulmarithechillingaftershockofabrushwithdeathnameJeanPaul': 1, u'six': 2, u'animal': 3, u'stock': 1, u'collection': 1, u'abuse': 1, u'realized': 1, u'discusses': 1, u'light': 5, u'Community': 1, u'One': 2, u'healthcare': 1, u'addiction': 1, u'evolutionary': 1, u'own': 2, u'Usage': 1, u'subversive': 1, u'underwater': 3, u'la': 4, u'Mundano': 1, u'ships': 1, u'vital': 1, u'degrees': 1, u'2015': 1, u'2013': 1, u'arbiters': 1, u'orthodox': 1, u'160041published1445875241id2359slugfrancescosaurodeepundertheearthssurfacediscoveringbeautyandsciencenameFrancesco': 1, u'ship': 1, u'Two': 1, u'toplocationreplacelocation': 1, u'Don\\u2019t': 2, u'hands': 1, u'day': 1, u'worlds': 5, u'San': 1, u'worldtitleThis': 1, u'truth': 1, u'functionirldo': 1, u'Use': 1, u'Weekly': 2, u'Arts': 1, u'161234published1443629554id2333slugtaiyeselasidontaskwhereimfromaskwhereimalocalnameTaiye': 1, u'doing': 1, u'books': 2, u'our': 15, u'sexual': 1, u'out': 3, u'secretly': 1, u'entertainment': 1, u'activist': 1, u'socalled': 1, u'TEDsignOutUrl': 1, u'cause': 1, u'This': 3, u'completely': 1, u'Meet': 1, u'could': 7, u'scars': 1, u'keep': 2, u'conversation': 1, u'powerful': 2, u'scene': 1, u'sneakerhead': 1, u'multilayered': 1, u'ancient': 3, u'privacy': 1, u'unknown': 1, u'system': 2, u'Kiribati': 2, u'interests': 1, u'enforcement': 1, u'shell': 1, u'yourselfduration588views470514thumbhttptedcdnpeaakamaihdnetimagested50f20fdf4e841d45d6a16658e8167f0ae35e378f2880x1620jpgposted20151027': 1, u'herself': 2, u'googletagenableServices': 1, u'UNs': 1, u'Berlins': 1, u'isolation': 1, u'richer': 1, u'patients': 1, u'providing': 1, u'anthropologist': 1, u'Information': 1, u'unlikely': 2, u'have': 15, u'need': 3, u'viewed': 3, u'documents': 1, u'After': 1, u'able': 1, u'lilt': 1, u'ashore': 1, u'tapir': 5, u'unless': 2, u'who': 8, u'intentions': 1, u'Advertising': 1, u'why': 3, u'toolduration953views550211thumbhttptedcdnpeaakamaihdnetimagestedaa33beda36e8737f3ec0029a9df20dc8448f164d2880x1620jpgposted20151020': 1, u'enthusiastic': 1, u'disease': 1, u'face': 1, u'JeanPaul': 1, u'fact': 1, u'emerging': 1, u'Microbes': 1, u'text': 4, u'agreed': 1, u'longevity': 1, u'Small': 1, u'greenhouse': 1, u'Worth': 1, u'inspiring': 1, u'pause': 1, u'knowledge': 1, u'Meanwhile': 1, u'millennia': 1, u'rememberedspeakerTeitureventdescriptionFor': 1, u'achieve': 1, u'photographs': 1, u'handle': 1, u'Medici': 3, u'watching': 1, u'ones': 1, u'words': 1, u'Popular': 1, u'gadstype': 1, u'Organizers': 1, u'places': 2, u'she': 13, u'cells': 3, u'Area': 1, u'national': 1, u'humans': 1, u'extinctionduration692views388037thumbhttptedcdnpeaakamaihdnetimagestedc5b34633c771fdd970e027ef01dda942dc9a11c42880x1620jpgposted20151104': 1, u'fact\\u2014and': 1, u'wayduration567views109233thumbhttptedcdnpeaakamaihdnetimagestedddaf3e1ce01e2c3ee875970d3c7bf8bb4e9e92c32880x1620jpgposted20151117': 1, u'reform': 1, u'closed': 1, u'progress': 1, u'neither': 1, u'youll': 2, u'email': 6, u'Body': 1, u'ability': 3, u'opening': 1, u'importance': 1, u'agencies': 1, u'HclassNameHclassNamereplacebnojsbjs': 1, u'key': 1, u'probing': 1, u'\\u201cDagbladet\\u201d': 1, u'empathy': 1, u'taking': 1, u'155815published1444665495id2345slugteiturhomeisasongivealwaysrememberednameTeitur': 1, u'Design': 2, u'gasetdimension3loggedl': 1, u'gadssrc': 1, u'invites': 2, u'Hes': 1, u'respect': 1, u'Jud': 2, u'Get': 1, u'\\xa9': 1, u'genetic': 1, u'hottest': 1, u'Kumar': 2, u'am': 2, u'c2': 1, u'c1': 1, u'171139published1446657099id2358slugmelissaflemingaboatcarrying500refugeessunkatseathestoryoftwosurvivorsnameMelissa': 1, u'present': 1, u'volunteer': 1, u'And': 1, u'choices': 1, u'stunning': 2, u'Siddhartha': 1, u'discoveries': 1, u'thistitleAn': 1, u'surface': 2, u'Cottam': 3, u'lifetime': 1, u'linetitleThe': 1, u'You': 2, u'let': 1, u'began': 2, u'strange': 1, u'largest': 1, u'units': 1, u'http': 1, u'reporting': 2, u'endearing': 1, u'correspondent': 1, u'off': 2, u'i': 1, u'obstacles': 1, u'well': 2, u'thought': 1, u'Have': 1, u'latest': 1, u'Project': 2, u'Social': 2, u'documentlocationprotocol': 2, u'sources': 2, u'mistakes': 2, u'\\u2014': 6, u'PistoriuseventdescriptionImagine': 1, u'years': 3, u'biologist': 1, u'Argentina': 1, u'homeduration649views604610thumbhttptedcdnpeaakamaihdnetimagested8a93dd2e23f0b10e2dbb2bb352dfab11a2a083bc2880x1620jpgposted20151009': 1, u'churchs': 1, u'YouTube': 1, u'biologytitleDesign': 1, u'citizen': 1, u'challenges': 1, u'clouded': 1, u'identical': 1, u'Programs': 1, u'know': 8, u'Newest': 2, u'intersection': 3, u'like': 8, u'lost': 1, u'journalism': 1, u'brainstormed': 1, u'journalist': 3, u'Anders': 1, u'become': 2, u'works': 3, u'refugees': 3, u'Sun': 3, u'stabilityduration863views728221thumbhttptedcdnpeaakamaihdnetimagestedf6879e1c78d4a069735bf745ecfede71ccf4a3522880x1620jpgposted20151005': 1, u'alive': 1, u'150000published1444230000id2343slugsiddharthamukherjeesoonwellcurediseaseswithacellnotapillnameSiddhartha': 1, u'growth': 1, u'legislated': 1, u'Mukherjee': 2, u'home': 2, u'supportive': 1, u'Sorry': 1, u'happens': 1, u'lead': 1, u'SelasieventdescriptionWhen': 1, u'avoid': 2, u'thats': 1, u'LLC': 1, u'150000published1445266800id2351slugmeklithaderotheunexpectedbeautyofeverydaysoundsnameMeklit': 1, u'biology': 2, u'addServicegoogletagpubads': 1, u'stage': 1, u'about': 13, u'rare': 1, u'engines': 1, u'world': 15, u'offtheshelf': 1, u'US': 4, u'UN': 1, u'UK': 3, u'Speakers': 1, u'useSSL': 2, u'wilderness': 1, u'el': 2, u'commitment': 1, u'doesnt': 1, u'brush': 2, u'female': 1, u'artists': 1, u'1984': 1, u'Most': 2, u'TEDx': 3, u'describes': 2, u'var': 8, u'ggfunctiongpusharguments': 1, u'function': 5, u'searches': 1, u'Science': 2, u'brand': 1, u'Well': 2, u'reminds': 1, u'goals': 1, u'editing': 1, u'Chelsea': 1, u'he': 17, u'Ive': 2, u'made': 1, u'Ways': 1, u'sasync': 1, u'dangerous': 3, u'absdocumentcookiematchabbywwg': 1, u'dms': 1, u'stories': 4, u'Jenni': 1, u'piece': 2, u'universal': 1, u'Writer': 1, u'life': 9, u'Fellows': 2, u'churchspeakerChelsea': 1, u'deadly': 1, u'forests': 1, u'virtual': 1, u'drugs': 2, u'book': 1, u'details': 2, u'callingtitleWhy': 1, u'160245published1444924965id2349slugalysonmcgregorwhymedicineoftenhasdangeroussideeffectsforwomennameAlyson': 1, u'stay': 2, u'risked': 1, u'April': 1, u'South': 4, u'ghost': 1, u'came': 2, u'154804published1443714484id2334slugmacstonestunningphotosoftheendangeredevergladesnameMac': 1, u'understand': 2} {u'pregnantthumbnailhttpi2cdnturnercomcnnnextdamassets151113161500babyabdinoormohamadabdiheldbyhisgrandmotherhalimasomodimasmall11jpgdurationdescriptionThe': 2, u'habitatthumbnailhttpi2cdnturnercomcnnnextdamassets15103012262505snowleopardssmall11jpgdurationdescriptionlayouticonTypegalleryuri20151110autosgalleryfamousmoviecarsindexhtmlheadlineHoly': 2, u'all': 2, u'people': 10, u'skit': 2, u'onechild': 2, u'layouturi20151116middleeastlebanonadeltermosbeirutheroindexhtmlheadlineHero': 2, u'Moos': 2, u'Take': 2, u'controversial': 2, u'go': 2, u'bomber': 4, u'whose': 2, u'suicide': 6, u'trueinfo': 1, u'Bonds': 2, u'honoring': 2, u'togetherthumbnailhttpi2cdnturnercomcnnnextdamassets150929145850mexicoobamaputin2012small11jpgdurationdescriptionlayouturi20151117worldturkeyjihadijohnassociateindexhtmlheadlineISIS': 2, u'Watch': 4, u'young': 2, u'articleListuri20151118worldparisattacksindexhtmlheadlineu003cul': 2, u'inpersistentCtaTextExperiencetemppassTempPassCNN10minCNNImageBreakpoints': 2, u'0': 16, u'finally': 4, u'does': 4, u'preferenceConfirmSearchNewsWorldSportTechnologyEntertainmentStyleTravelMoneyRegionsUSChinaAsiaMiddle': 2, u'terror': 20, u'siblings': 2, u'layouturi20151114worldgalleryparisattackreactionindexhtmlheadlineWorld': 2, u'include': 4, u'Newsourcefunction': 2, u'layouticonTypegalleryuri20151117opinionsmulvaneyfacebookfrenchflagindexhtmlheadlineEnough': 2, u'falseenableShareButtons': 1, u'Majoli': 2, u'very': 2, u'could': 2, u'Europethumbnailhttpi2cdnturnercomcnnnextdamassets151105103638isisflagtanksmall11jpgdurationdescriptionlayouturi20151118africanigeriablastsindexhtmlheadlineDozens': 2, u'trueenableAmazonVideoAds': 1, u'ProjectQuick': 2, u'Stringvoid': 2, u'facebook': 2, u'mechaniclayouticonTypevideouri20151112hotelsgallerymalaysiarainforestresortsindexhtmlheadline12': 2, u'fall': 4, u'trueenableOutbrainVideoKPI': 1, u'blast': 2, u'UTColdCookieNametosAgreedoldCookieExpirationTue': 2, u'school': 2, u'frisson': 2, u'prize': 2, u'ExtrasCNN': 6, u'who': 8, u'shock': 2, u'trueenableBreakingNews': 1, u'try': 2, u'solved': 2, u'hrefhttpfoodporndailycom': 2, u'math': 2, u'layouticonTypevideourivideosentertainment20151117charliesheenhivpositivetodayshowmssorigcnnheadlineCharlie': 2, u'laborthumbnailhttpi2cdnturnercomcnnnextdamassets131218125900kimjongunwavesmall11jpgdurationdescriptionlayouturi20151008middleeastisisrapetheologysoldiersrapewomentomakethemmuslimindexhtmlheadlineISIS': 2, u'layouturi20151117travelmisscolombianamedindexhtmlheadlineIs': 2, u'shows': 4, u'Tai': 4, u'trueenableAmazonDisplayAds': 1, u'cookies': 4, u'says': 2, u'villa': 2, u'porn': 8, u'Festival': 2, u'Belgiumborn': 2, u'uaindexOfandroid': 2, u'tou003cbrall': 4, u'ShowlayouticonTypevideourivideosworld20151116parisattackslandmarksturnbluewhiteredorigsdgcnnheadlineLandmarks': 2, u'editioncnncommainhomepage': 1, u'Should': 2, u'past': 2, u'across': 2, u'LaBelle': 2, u'1800CNNOptimizelyConfig': 2, u'GoogleCNN': 2, u'LeadershipInternational': 2, u'Red': 2, u'blue': 4, u'what': 4, u'Korea': 4, u'storyCNNToggleOutbrain': 2, u'McCafelayouturi20151116politicstrumpsecurityparisattacksindexhtmlheadlineTrump': 2, u'section': 2, u'BREAKING': 2, u'fond': 2, u'current': 2, u'analytics': 2, u'version': 2, u'refreshsubscriptionErrorTextYour': 4, u'above': 4, u'scientists': 2, u'international': 4, u'claimed': 2, u'public': 2, u'CNNcom': 2, u'TwitterCNN': 2, u'trueenableVideoPinning': 1, u'Charlie': 2, u'never': 2, u'stared': 2, u'Profiles': 6, u'Patti': 4, u'met': 2, u'togetherISIS': 2, u'1toLowerCasewinedition': 2, u'classmtrusteicon': 2, u'lazyLoad': 2, u'c1351000': 1, u'hrefprivacyPrivacy': 2, u'converterServicecommonmodulesiframecurrencyConverterasplookupServiceservicescnndotcomlookupaspserviceHosthttpmarketsmoneycnncomCNNMetaRefreshRate': 2, u'BataclanlayouticonTypevideourivideosus20151118pattilabellesweetpotatopiesreviewersingsmoospkgerincnnheadlineDo': 2, u'appears': 2, u'LeadershipCNN': 2, u'raidFrench': 2, u'Yola': 2, u'31': 2, u'30': 2, u'haunts': 2, u'experience': 2, u'trueCNNMailchimp': 2, u'functionDYAPIactions': 2, u'xdocument': 2, u'military': 4, u'NOW': 2, u'makes': 4, u'chatterlayouturi20151005middleeastyazidiwomensuicideinisiscaptivityindexhtmlheadlineWomen': 2, u'396vrqpushautomate': 2, u'named': 2, u'8766314API': 2, u'Privacy': 2, u'entertainmentzoneadIdadrectbtf02outBrainIdAR38healthzoneadIdadrectatf01outBrainIdSF8livingzoneadIdadrectatf01outBrainIdSF9politicszoneadIdadrectatf01outBrainIdSF6techzoneadIdadrectatf01outBrainIdSF7travelzoneadIdadrectatf01outBrainIdSF10uszoneadIdadrectatf01outBrainIdSF4worldzoneadIdadrectatf01outBrainIdSF5CNNTripAdvisor': 2, u'win': 2, u'aftermathlayouturi20151115worldparisattacksportraitsindexhtmlheadlineParis': 2, u'Browne': 2, u'brought': 2, u'Enough': 2, u'href': 2, u'names': 4, u'Nigeria': 4, u'ChangedmessageTextBy': 2, u'during': 8, u'crisis': 2, u'huntthumbnailhttpi2cdnturnercomcnnnextdamassets151117162340frenchsoldierfighterjetsmall11jpgdurationdescriptionlayouturi20151118sportparisattacksenglandfrancefansindexhtmlheadlineu003cstrongSOCCER': 2, u'transplant': 4, u'Europe': 4, u'use': 4, u'pleaselayouturi20151113africakenyamostdangerousplacetobepregnantindexhtmlheadlineMost': 2, u'citySearchweathercitySearchenableInHeadertrueenableInFootertruegetForecastweathergetForecastserviceCitySearchHosthttpweathercnncomserviceForecastHosthttpweathercnncomstoredLocationsAmount6CNNZones': 2, u'would': 2, u'trips': 2, u'browse': 2, u'layouticonTypegalleryuri20151110travelgallerynewthemeparksof2015indexhtmlheadlineThe': 2, u'raidu003cliu003cstrongu003cstrongu003cliFemale': 2, u'visit': 4, u'two': 4, u'next': 10, u'theme': 2, u'live': 4, u'blaststhumbnailhttpi2cdnturnercomcnnnextdamassets15111809315001yolanigeriafilesmall11jpgdurationdescriptionAt': 2, u'music': 2, u'6': 4, u'films': 2, u'themselves': 2, u'preview': 4, u'type': 2, u'until': 2, u'more': 6, u'son': 2, u'sharing': 2, u'Ben': 4, u'Carsons': 2, u'Parisian': 2, u'logothumbnailhttpi2cdnturnercomcnnnextdamassets151117023404parissecuritysmall11jpgdurationdescriptionEnough': 2, u'inpersistentCtaTextExperiencetemppassTempPassCNN10minmutedPlayerstartTime0stopInterval30stopTime0timeZoneGMTembedLinksclipboardOperationsSWFhttpicdnturnercomcnnvideoassetsCNNVideoClipboardCopyswfbuttonImagecdnassetpathbuildassetsembedvideobuttonpngimageButtonXOffset0imageButtonYOffset3embedLinkPatternu003ciframe': 2, u'windowconsole': 2, u'rarest': 8, u'Lizhu': 2, u'bike': 2, u'aware': 2, u'Asher': 2, u'flag': 2, u'So': 2, u'logothumbnailhttpi2cdnturnercomcnnnextdamassets151117023404parissecuritysmall11jpgdurationdescriptionlayouturi20151113opinionsbergenisisjihadijohnindexhtmlheadlineEnd': 2, u'8': 2, u'HIVpositive': 2, u'sectionindexhtmlenablePictureFillfalseenableZonesScrollToLoadfalselazyLoadtrueloadAllZonesLazyfalsezonesminWidth0indexhtmlintlhomepage1zone1indexhtmlintlhomepage1zone2intlindex3htmlintlhomepagemagellanzone1intlindex3htmlintlhomepagemagellanzone2intlindex3htmlintlhomepagemagellanzone3intlindex3htmlintlhomepagemagellanzone4indexhtmlintlhomepage3zone4640indexhtmlintlhomepage1zone1indexhtmlintlhomepage1zone2indexhtmlintlhomepage1zone3indexhtmlintlhomepage1zone4indexhtmlintlhomepage2zone1indexhtmlintlhomepage3zone1indexhtmlintlhomepage3zone2indexhtmlintlhomepage3zone3indexhtmlintlhomepage3zone4800indexhtmlintlhomepage1zone1indexhtmlintlhomepage1zone2indexhtmlintlhomepage1zone3indexhtmlintlhomepage1zone4indexhtmlintlhomepage2zone1indexhtmlintlhomepage3zone1indexhtmlintlhomepage3zone2indexhtmlintlhomepage3zone3indexhtmlintlhomepage3zone4index2htmlenablePictureFilltrueenableZonesScrollToLoadfalselazyLoadtruezonesminWidth0index2htmlintlhomepage1zone1index2htmlintlhomepage1zone2index2htmlintlhomepage1zone3index2htmlintlhomepage1zone4index2htmlintlhomepage2zone1index2htmlintlhomepage3zone1index2htmlintlhomepage3zone2index2htmlintlhomepage3zone3index2htmlintlhomepage3zone4640index2htmlintlhomepage1zone1index2htmlintlhomepage1zone2index2htmlintlhomepage1zone3index2htmlintlhomepage1zone4index2htmlintlhomepage2zone1index2htmlintlhomepage3zone1index2htmlintlhomepage3zone2index2htmlintlhomepage3zone3index2htmlintlhomepage3zone4800index2htmlintlhomepage1zone1index2htmlintlhomepage1zone2index2htmlintlhomepage1zone3index2htmlintlhomepage1zone4index2htmlintlhomepage2zone1index2htmlintlhomepage3zone1index2htmlintlhomepage3zone2index2htmlintlhomepage3zone3index2htmlintlhomepage3zone4CNNSiblingNavigation': 2, u'Chanu003ca': 4, u'women': 2, u'me': 2, u'Now': 2, u'Beckham': 2, u'c125920': 1, u'work': 2, u'Taiwanese': 2, u'windoweditionadTargets': 2, u'falsewarn': 1, u'anywhere': 3, u'Video': 1, u'can': 2, u'following': 2, u'about': 10, u'EditionUSInternationalArabicEspa\\xf1olSet': 4, u'Inc': 2, u'intlhomepage': 2, u'months': 2, u'give': 2, u'favorite': 6, u'campsite': 2, u'hreftermsTerms': 2, u'trumped': 2, u'pieces': 4, u'heard': 4, u'blastsThe': 2, u'want': 2, u'EuropeDozens': 2, u'bones': 2, u'dcreateElementax': 2, u'rape': 2, u'thumbnailhttpi2cdnturnercomcnnnextdamassets151117202451newhampshirebodiesmysterypressersot00011822small11jpgdurationdescriptionRecent': 2, u'information': 2, u'SyriaBOMBARDMENT': 2, u'Terms': 2, u'width416': 2, u'HIV': 2, u'hrefhttpeditioncnncom20151110autosfamousmoviecarsbatmanindexhtml': 2, u'six': 2, u'isthumbnailhttpi2cdnturnercomcnnnextdamassets151106142012housingtheinterlacebyomaburoolescheerensingaporesmall11jpgdurationdescriptionIf': 2, u'1': 2, u'how': 4, u'killedlayouturi20151117sportjonahlomuobitindexhtmlheadlineAll': 2, u'titillation': 2, u'preloaded': 2, u'env': 2, u'interview': 2, u'ordinary': 2, u'classjstrustemodalCookie': 2, u'designer': 6, u'explores': 2, u'airthumbnailhttpi2cdnturnercomcnnnextdamassets151118124741parispolicecordonsmall11jpgdurationdescriptionlayouturi20151117politicsisisputinobamaindexhtmlheadlineISIS': 2, u'earlier': 2, u'frameborder0u003ciframenetworkcnnCNNWeatherConfig': 2, u'Putin': 4, u'trueenableJumbotronAutoScroll': 1, u'enableGalleryAds': 1, u'CNNSocialConfig': 2, u'pageType': 2, u'farParis': 2, u'seediness': 2, u'solidarity': 2, u'ISISthumbnailhttpi2cdnturnercomcnnnextdamassets150226160941leaddntsciuttojihadijohnunmasked00000000small11jpgdurationdescriptionlayouturivideosworld20151118parisraidsexplosionsgunfiregoranibermancnnheadlineExplosions': 2, u'All': 2, u'goodold': 2, u'sectionName': 2, u'u003ca': 36, u'futures': 2, u'anytime': 3, u'st': 2, u'tale': 2, u'chief': 2, u'Weather': 1, u'so': 4, u'ultimate': 2, u'necklace': 4, u'httptrafficoutbraincomnetworktrackpxladvid814actionviewCNNPushAlertsConfig': 2, u'enableAdLock': 1, u'athletes': 2, u'Mississippi': 2, u'Who': 4, u'feedback': 2, u'office': 4, u'threshold640var': 2, u'thatll': 2, u'thumbnailhttpi2cdnturnercomcnnnextdamassets15110619180002ritalevimontalcinirestrictedsmall11jpgdurationdescriptionlayouturi20151108worldcnnphotossyrianchildrenrefugeessleepingindexhtmlheadlineTerror': 2, u'pound': 4, u'CNNcontentModel': 2, u'years': 2, u'Jan': 4, u'held': 2, u'layouticonTypevideouri20151029asianorthkoreaunforcedlaboroverseasindexhtmlheadlineNorth': 2, u'129': 2, u'briefly': 2, u'its': 6, u'operative': 4, u'leader': 2, u'Carson': 2, u'somewhere': 2, u'undermined': 2, u'sexiest': 2, u'OK': 4, u'moreu003ca': 2, u'detected': 2, u'degrees': 2, u'armsthumbnailhttpi2cdnturnercomcnnnextdamassets151118114006frenchfanteasesmall11jpgdurationdescriptionArriving': 2, u'supportedmessageTextThank': 2, u'2015': 6, u'World': 5, u'weeks': 2, u'governments': 2, u'might': 2, u'feats': 2, u'happened': 2, u'c95680': 1, u'moreCNN': 2, u'them': 6, u'evening': 2, u'return': 6, u'Cable': 2, u'apiloaderBaseURLFULLPATHhttpwwwcnncomelementwidgetvideovideoapiapiloaderBaseURLelementwidgetvideovideoapiapiloaderBaseURLLocalhttplocalhostcnncom3000buildapiversionlatestcollectionplayNextVideoTimeout1500goFreePreviewadobeEnvironmentprodaspenContextprev10endSlatectaTextSign': 2, u'84yearold': 2, u'safariwebServiceURLhttpsalertshubcnncomdistributionhubwebsitePushIDwebcomcnnredalertCNNadTimers': 2, u'records': 2, u'autoScrollEnabledfalseautoScrollInterval8000pauseAutoscrollWhenInvisibletruepauseVideoWhenInvisibletrueresponsiveContainerConstraintsmobile480tablet800desktop2500scrollPausesJumbotronInterval5000CNNLazyLoad': 2, u'Maikano': 2, u'Ban': 2, u'leopards': 2, u'traveled': 4, u'killed': 6, u'bank': 2, u'mystery': 2, u'worlds': 10, u'CNNcontentModelanalyticscaptopicssplitswindow': 2, u'thrill': 2, u'Fooku003ca': 4, u'times': 2, u'arrested': 4, u'rocks': 2, u'targetblankterror': 2, u'truth': 4, u'debug': 1, u'inherent': 2, u'positivethumbnaildurationdescriptionlayouturi20151117ustexascampsitemurderindexhtmlheadline6': 2, u'economy': 4, u'concerts': 4, u'falseenableOmniture': 1, u'barrels': 4, u'NewsToggle': 2, u'en': 4, u'Sharapovathumbnailhttpi2cdnturnercomcnnnextdamassets151118093216mirzateasesmall11jpgdurationdescriptionlayouturi20151117travelchinahangzhouoldvillamcdonaldsindexhtmlheadlineWorlds': 2, u'Network': 2, u'ArabicCNN': 2, u'series': 2, u'know': 2, u'Live': 2, u'Fridayu003ca': 4, u'timethumbnailhttpi2cdnturnercomcnnnextdamassets151023110127bondcarsspectresmall11jpgdurationdescriptionlayouturi20151105opinionsbergenisisonarollindexhtmlheadlineWhy': 2, u'blows': 4, u'SOLIDARITY': 2, u'out': 6, u'continuing': 2, u'Kenya': 2, u'insurgency': 2, u'willthumbnailhttpi2cdnturnercomcnnnextdamassets15111613231101abdelhamidabaaoudsmall11jpgdurationdescriptionlayouturi20151118europeparisattacksataglanceindexhtmlheadlineu003cstrongHAPPENING': 2, u'your': 25, u'looking': 2, u'Flag': 4, u'WorldwideFeaturesTravelAll': 4, u'7': 4, u'We\\u2019ve': 2, u'targetblanktroubleshooting': 4, u'attacksu003ca': 2, u'worldthumbnailhttpi2cdnturnercomcnnnextdamassets151116173628shockingadsteasebenettonsmall11jpegdurationdescriptionlayouturivideosus20151115snlsaturdaynightlivebencarsonviolentpastorigbtscnnheadlineSNL': 2, u'amznkey3288': 1, u'c115840': 1, u'attended': 2, u'housed': 2, u'WorldCNN': 2, u'diesthumbnailhttpi2cdnturnercomcnnnextdamassets151118091723jonahlomuobitrunsmall11jpgdurationdescriptionlayouturi20151118tennissaniamirzatennisindiaindexhtmlheadlineHow': 2, u'cars': 2, u'reacts': 2, u'million': 2, u'winedition': 2, u'mourning': 2, u'masterpiece': 2, u'CNN': 23, u'Architecture': 2, u'ATTACKS': 2, u'crowned': 2, u'hrefhttpwwwgillianlaubcom': 2, u'beginning': 2, u'registryFilesplit0': 2, u'CNNUtilsexistsCNNcontentModelanalyticscaptopics': 2, u'trueenableAspenForTOS': 1, u'layouturi20151116fashionadvertsthatchangedtheworldindexhtmlheadlineFashion': 2, u'mecreateElementscriptmtypetextjavascriptmasync0msrcstaticyieldmocomymm2jsegetElementsByTagNamehead0egetElementsByTagNamebody0appendChildmelse': 2, u'recovering': 2, u'agree': 4, u'where': 4, u'refugee': 2, u'persists': 4, u'calories': 2, u'setRefDomwin': 2, u'turn': 2, u'dgetElementsByTagNamea0sasync': 2, u'place': 4, u'rainforest': 2, u'routes': 2, u'thumbnailhttpi2cdnturnercomcnnnextdamassets151112024037peshmergafightersmall11jpgdurationdescriptionlayouturi20151118entertainmentdavidbeckhampeoplesexiestmanalivefeatindexhtmlheadlineDavid': 2, u'star': 2, u'usWork': 2, u'blood': 4, u'HIVpositivethumbnailhttpi2cdnturnercomcnnnextdamassets15111618361916charliesheenthroughtheyearssmall11jpgduration0126descriptionActor': 2, u'Bondlayouturi20151101asiachinaschoolbullyingindexhtmlheadlineBullying': 2, u'Cooper': 2, u'ISISWAR': 2, u'trueCNNFeeds': 1, u'weaponsthumbnailhttpi2cdnturnercomcnnnextdamassets151026173358syriaypgfightersgunbulletssmall11jpgdurationdescriptionlayout': 2, u'falselog': 1, u'Please': 6, u'Indias': 2, u'one': 12, u'Turner': 2, u'targetblankChow': 4, u'president': 6, u'minutethumbnailhttpi2cdnturnercomcnnnextdamassets151116191441pariscrimescenesmall11jpgduration0109descriptionA': 2, u'comic': 2, u'bullied': 2, u'between': 4, u'destinations': 2, u'city': 6, u'North': 4, u'service': 4, u'2016thumbnailhttpi2cdnturnercomcnnnextdamassets151112112741kenya1creditaksmall11jpgdurationdescriptionlayouturi20151118fashioncaressofthegazewearabletechindexhtmlheadlineHate': 2, u'everthumbnailhttpi2cdnturnercomcnnnextdamassets151116113726facetransplantsplithardisonsmall11jpgdurationdescriptionlayouturi20151113travelluxurytravel2016indexhtmlheadline10': 2, u'caught': 2, u'girls': 4, u'least': 4, u'2015thumbnailhttpi2cdnturnercomcnnnextdamassets141224103144attractions2015funtasyislandsmall11jpgdurationdescriptionlayouticonTypegalleryuri20151109worldgalleryclimatechange4degreesindexhtmlheadlineWhat': 2, u'2': 2, u'white': 4, u'Iraq': 2, u'structures': 2, u'2115': 4, u'damaging': 2, u'hrefhttpwwwcnncom20151115worldparisattacksindexhtmlat': 2, u'otherif': 2, u'murder': 2, u'growth': 4, u'way': 6, u'bulldog': 4, u'Patrick': 2, u'took': 2, u'zoneIds': 2, u'var': 11, u'reflecting': 2, u'adobeEnvironmentprodaspenContextprev10endSlatectaTextSign': 1, u'DategetTimeBreaking': 2, u'VideosShowsCNN': 4, u'inconvenient': 4, u'reporter': 4, u'affiliatesrchttpicdntravelcnncomsitesalllibrariesaffiliatelinkercnntravelaffiliatelinkerjspartnerHotelsapiKeyE6E67BB01FD2467688ED25D5F5BC095AapiBaseUrlhttpapitripadvisorcomapipartner20locationservicePathservicestravelpartnerHotelswidgetapiKeyE6E67BB01FD2467688ED25D5F5BC095AsrchttpicdntravelcnncomsitesalllibrariescnntravelcnntravelmapsjsmapapiMapboxapiKeypkeyJ1IjoiY25uZGlnaXRhbCIsImEiOiJhMmI0NTFkNWMzNmMyODU4NTQyMjQzNWFkM2I5OGFkMCJ9S01hv9vVgIbHvy1QuAsoyQoptionsKeymapboxaccesstokenCNNUserMessageConfig': 2, u'13': 2, u'Sep': 4, u'scenes': 2, u'httpavisualrevenuecomvrsjsxparentNodeinsertBefores': 2, u'Latest': 4, u'future': 2, u'contrary': 2, u'were': 10, u'NewsWorldSportTechnologyEntertainmentStyleTravelMoneyRegionsUSChinaAsiaMiddle': 2, u'trueenableAspenForCVP': 1, u'thumbnailhttpi2cdnturnercomcnnnextdamassets151007175713nikifeijenruinsphotography3small11jpgdurationdescriptionAh': 2, u'intlhomepage1zone1intlhomepage1zone2intlhomepage1zone3intlhomepage1zone4intlhomepage2zone1intlhomepage3zone1intlhomepage3zone2intlhomepage3zone3intlhomepage3zone4': 2, u'browser': 4, u'Richard': 2, u'portraits': 2, u'partnership': 4, u'turned': 2, u'bathed': 2, u'have': 8, u'layouturi20151118europesaintdenisparispoliceraidatikashubertindexhtmlheadlineCNN': 2, u'CNNcomvar': 1, u'tells': 2, u'forced': 2, u'recreated': 2, u'suspectthumbnailhttpi2cdnturnercomcnnnextdamassets15111615283207parisattacksmanhuntsmall11jpgdurationdescriptionAuthorities': 2, u'enableForCarouselstrueenableForImagestruethreshold300CNNFeatures': 1, u'self': 4, u'Fardowsa': 2, u'uaindexOfipad': 2, u'snow': 2, u'parks': 2, u'warmerthumbnailhttpi2cdnturnercomcnnnextdamassets151109134020climatechange4degreessmall11jpgdurationdescriptionlayouticonTypegalleryuri20150903luxurygallery11000diamondswallacechanindexhtmlheadlineWhat': 2, u'which': 4, u'green': 2, u'Dr': 2, u'armsREMEMBERED': 2, u'trueenableZoneOutbrain': 1, u'experienced': 2, u'hrefhttpeditioncnncom20141119worldasiahumanfacejewels': 4, u'price': 2, u'expires': 4, u'MexicoCNN': 2, u'targetblankfood': 2, u'Aliyu': 2, u'most': 6, u'01': 8, u'72': 2, u'McDonaldsthumbnailhttpi2cdnturnercomcnnnextdamassets151117121339mcdonaldshangzhoucardsmall11jpgdurationdescriptionAn': 2, u'phenomenonlayouticonTypevideourivideosworld20151113skateboardingbulldogbreaksrecordzianasherpkgcnnheadlineSkateboarding': 2, u'cabinet': 2, u'CNNeventTimers': 2, u'Policyu003ca': 2, u'Bond': 4, u'ProvidertroubleShootingTextIf': 4, u'2015thumbnailhttpi2cdnturnercomcnnnextdamassets151112172906trudeaucabinetsmall11jpgdurationdescriptionlayouturi20151116opinionsclosingmigrationrouteswontstopterrorismindexhtmlheadlineMigrant': 2, u'000000': 8, u'mobile': 2, u'doc': 2, u'professor': 2, u'tackling': 2, u'metal': 2, u'sale': 2, u'ParislayouticonTypevideourivideoshealth20151116facetransplantsurgerypatientnyufacialplasticorigcnnheadlineFirefighter': 2, u'face': 8, u'targetblankWallace': 4, u'tech': 2, u'error': 8, u'Earth': 2, u'left': 2, u'Saturday': 2, u'fact': 2, u'Espa\\xf1olCNN': 2, u'targetblankRead': 2, u'bomb': 6, u'26yearold': 2, u'Paris': 20, u'layouturi20151118africanigeriacabinetindexhtmlheadlinePower': 2, u'navigatoruserAgenttoLowerCaseif': 2, u'Agency': 2, u'hrefhttpstheconversationcomautopicspornography': 2, u'visualRevenueResponsed': 2, u'determine': 4, u'serving': 2, u'retreatsthumbnailhttpi2cdnturnercomcnnnextdamassets151112120511malaysiarainforestresortsdatailangkawismall11jpgdurationdescriptionlayouticonTypegalleryuri20151112opinionsgallerysnowleopardsindexhtmlheadlineGloomy': 2, u'fwNetworkId': 1, u'editioncnncommobilemobilewebhomepage': 1, u'href20151112worldspacejunkimpactfeatindexhtml': 2, u'soldiers': 2, u'find': 4, u'decade': 2, u'European': 2, u'norail': 2, u'access': 4, u'classtroubleshootinglink': 4, u'terrorthumbnailhttpi2cdnturnercomcnnnextdamassets150806193341calaismigrantssmall11jpgdurationdescriptionlayouturi20151113opinionskennedysyriavietnamindexhtmlheadlineSyria': 2, u'layout': 2, u'Service': 9, u'CNNs': 2, u'title': 2, u'Vietnamthumbnailhttpi2cdnturnercomcnnnextdamassets15110612371501obamakeystone1106small11jpgdurationdescriptionlayouturi20151113opinionsspacejunkwt1190fconversationindexhtmlheadlineSpace': 2, u'viralthumbnailhttpi2cdnturnercomcnnnextdamassets151117201220bataclanpastconcertsmall11jpgduration0123descriptionFollowing': 2, u'ruin': 4, u'Muslim': 2, u'fans': 4, u'French': 14, u'crime': 2, u'like': 8, u'being': 2, u'only': 2, u'going': 4, u'Abdi': 2, u'ISISthumbnailhttpi2cdnturnercomcnnnextdamassets15111212445701trump1112small11jpgdurationdescriptionlayouturi20151117opinionsmulvaneyfacebookfrenchflagindexhtmlheadlineOpinion': 2, u'local': 2, u'hope': 4, u'junk': 2, u'do': 4, u'specialstitleTextYour': 4, u'FacebookCNN': 2, u'watching': 3, u'AZCNN': 6, u'pageTopheadlineauthorshowNameisArticleVideoCollectionfalsepublishDate20151118T170130ZpageBrandingdefaultbrandingcontentpagedefaultbrandingcontentzonedefaultbrandingcontentcontainerdefaultdefiningmomentsbrandingcontentcard': 2, u'stop': 2, u'photograph': 2, u'sectionentertainmentenableFooterfalseenableIncludetruehealthenableFooterfalseenableIncludetruelivingenableFooterfalseenableIncludetruepoliticsenableFooterfalseenableIncludetruetechenableFooterfalseenableIncludetruetravelenableFooterfalseenableIncludetrueusenableFooterfalseenableIncludetrueworldenableFooterfalseenableIncludetrueCNNMarketsConfig': 2, u'yielded': 2, u'amazon': 1, u'SearchInternational': 2, u'unearthed': 4, u'words': 2, u'new': 2, u'falseCNNAdsConfig': 1, u'Jeanne': 2, u'him': 2, u'streets': 2, u'hrefhttpwwwcnncom20151113worldgalleryparisattacksindexhtml': 2, u'lauded': 2, u'Because': 2, u'lavish': 4, u'avatarhostavatarcnncomembedscriptsinstagramjsplatforminstagramcomenUSembedsjstwitterjsplatformtwittercomwidgetsjslivefyrejscdnlivefyrecomLivefyrejsgigyaappId3gtUbleJNtrRITgx1mMci7GcIrH8xL9WVfAbzSa4zpFrRwnpqeYd8QTRkr7VCenableOnLeaftrueenableOnFirstZonetrueshareStatsPostURLhttpactioneventcnncomapiv1eventaddEventlivefyremobileCommentsBaseUrlhttpcnnbootstrapfyrecoapi11publiccommentsncommentsnetworkcnnfyrecositeId353270srcDomainhttpcdnlivefyrecomappembedappembed066msibauthUrlcnncommentslivefyreauthenticationbaseUrlhttpsaudiencecnncomservicescnnerrorUrlcnncommentslivefyreerrorloginUrlcnncommentslivefyreloginwhatsappbaseUrlwhatsappsendtextCNN': 2, u'shy': 2, u'Laubu003ca': 2, u'CNNpageTimer': 1, u'absurdly': 4, u'worried': 2, u'Hardison': 2, u'spleenlayouturi20151012architecturewhatruinporntellsusaboutruinsandpornindexhtmlheadlineWhat': 2, u'onceinalifetime': 2, u'calls': 2, u'aftermath': 2, u'ruins': 2, u'restaurants': 2, u'UTCheightsmall120medium100large110idtrusteheaderTextCookie': 2, u'reveals': 2, u'attacksthumbnailhttpi2cdnturnercomcnnnextdamassets151116220345sydneyoperahouseparistributesmall11jpgdurationdescriptionSee': 2, u'Heres': 2, u'jade': 4, u'testing': 2, u'full16x91101large781medium461mini0small308xsmall221CNNJumbotronConfig': 2, u'1960s': 2, u'France': 8, u'edition': 8, u'Anderson': 4, u'attackslayouticonTypevideourivideostv20151116paristerrorattackstictocmobileorigcnnheadlineParis': 2, u'now': 4, u'Boltthumbnailhttpi2cdnturnercomcnnnextdamassets151118110642richardbrowneamericanflagsmall11jpgdurationdescriptionA': 2, u'wont': 2, u'surgery': 2, u'best': 4, u'0tymchkPlstymchkPlsdocumentwindow': 2, u'System': 2, u'said': 2, u'searchpgsection': 2, u'movie': 2, u'leg': 2, u'trueenableSafariPushAlerts': 1, u'forecast': 2, u'Espa\\xf1olTVTV': 4, u'behind': 2, u'EastAfricaEuropeAmericasVideoMust': 4, u'Sheen': 6, u'ISISthumbnailhttpi2cdnturnercomcnnnextdamassets150318083603cnneepkgbrownpamelajihadijohnprofile00002425small11jpgdurationdescriptionlayouturi20151113opinionsodomdiversitystilllackingconferencesindexhtmlheadlineTrudeaus': 2, u'diamonds': 8, u'ruptured': 2, u'we': 8, u'UsePrivacy': 2, u'willHAPPENING': 2, u'sprinter': 2, u'rolled': 2, u'Africas': 4, u'architectfashion': 2, u'WAFlayouturi20151106healthjamesbondspectreaccentsindexhtmlheadlineWhats': 2, u'ShowsScheduleFaces': 4, u'idie8headerTextInternet': 2, u'nationthumbnailhttpi2cdnturnercomcnnnextdamassets151022033803huangtanghongcloseupsmall11jpgdurationdescriptionLiu': 2, u'clues': 2, u'news': 2, u'companionAdStates': 1, u'cities': 2, u'getAirportDataairportstatusserviceHosthttpservicesfaagovCNNBannerBreakpoints': 1, u'TODAY': 2, u'ringleader': 4, u'assumptions': 2, u'accident': 2, u'survival': 2, u'height234': 2, u'restaurant': 2, u'oversee': 2, u'many': 4, u'region': 2, u'according': 2, u'Click': 4, u'Nigerian': 6, u'siegethumbnailhttpi2cdnturnercomcnnnextdamassets151118044246franceparispoliceshootoutsmall11jpgduration0056descriptionA': 2, u'Mosul': 2, u'devicedismissCookienameNotifiedIE8SupportvaluetrueexpirationTue': 2, u'icebergthumbnailhttpi2cdnturnercomcnnnextdamassets151113133013yoroicetease1small11jpgdurationdescriptionlayouticonTypegalleryuri20151117africariemannhypothesisunsolvedindexhtmlheadline156yearold': 2, u'classcnnrichtextu003cstrongu003cliDNA': 2, u'Zap': 2, u'cnncomif': 1, u'By': 2, u'suspect': 2, u'srchttphostvideoapiembedhtmlvideovideoId': 2, u'httpzcdnturnercomadscnnicnnihomepagejs': 2, u'reportslayouticonTypevideourivideosworld20151116parisattackswomanhangingfromwindowledgecooperdntaccnnheadlinePregnant': 2, u'English': 4, u'Sexiest': 2, u'football': 2, u'unfolded': 2, u'laugh': 2, u'sexy': 2, u'sing': 4, u'idadmod85a882a72scriptNamehttpzcdnturnercomadscnnisinglescnnientitlement01jsidadmode74dbd68dscriptNamehttpzcdnturnercomadscnnisinglescnnientitlement02jsidadmod596291844scriptNamehttpzcdnturnercomadscnnisinglescnnientitlement03jsidadmod9a979d11scriptNamehttpzcdnturnercomadscnnisinglescnnientitlement04jsidadmod2b3ba0432scriptNamehttpzcdnturnercomadscnnisinglescnnientitlement05js': 2, u'earning': 2, u'custody': 2, u'Crunch': 2, u'ISISPARIS': 2, u'recordthumbnailhttpi2cdnturnercomcnnnextdamassets151113023136skateboardingbulldogbreaksrecordzianasherpkg00002628small11jpgduration0114descriptionOtto': 2, u'vrqIsOnHP': 2, u'ablebodied': 2, u'come': 2, u'preferenceConfirm\\xa9': 2, u'window': 2, u'been': 4, u'backlash': 2, u'jstrusteicon': 2, u'Brooklyn': 2, u'dielayouturi20151115healthfacetransplantfirefighterindexhtmlheadlineMost': 2, u'red': 4, u'interest': 2, u'Your': 2, u'trueenableWeather': 1, u'improve': 2, u'Serviceu003cadismissCookienameCNNtosAgreedvaluetrueexpirationTue': 2, u'4': 3, u'website': 2, u'life': 6, u'pastthumbnailhttpi2cdnturnercomcnnnextdamassets151115083935snlsaturdaynightlivebencarsonviolentpastorigbts00011620small11jpgduration0124descriptionDuring': 2, u'diversity': 2, u'c1451080CNNCNNXStreamUrl': 1, u'Cross': 2, u'designed': 4, u'formed': 4, u'else': 10, u'policy': 2, u'dramatic': 2, u'lives': 4, u'Syriathumbnailhttpi2cdnturnercomcnnnextdamassets151118163244frencharmyrafalejetsmall11jpgduration0049descriptionlayouticonTypevideouri20151116europeparisterrorattackmastermindabdelhamidabaaoudindexhtmlheadlineu003cstrongRINGLEADERu003cstrong': 2, u'Night': 2, u'catch': 4, u'suspected': 2, u'an': 6, u'former': 2, u'volunteer': 2, u'case': 2, u'Koreathumbnailhttpi2cdnturnercomcnnnextdamassets151116113520bankimoonsmall11jpgdurationdescriptionUN': 2, u'trueenableUserMessage': 1, u'look': 6, u'trueenableVideoEndSlate': 1, u'Intl': 2, u'httpgocnncomstreamCNNDemandLoadConfig': 1, u'harder': 2, u'budget': 2, u'air': 2, u'aim': 2, u'tragedy': 2, u'typeof': 1, u'country': 4, u'investigating': 2, u'trueenableVisualRevenueVideo': 1, u'courselayouturi20151117foodanddrinkrestaurantshardtogetintoindexhtmlheadline9': 2, u'PolicyAdChoicesAdvertise': 2, u'coolest': 2, u'layouturi20151115worldcnnphotosparisattacksalexmajoliindexhtmlheadlineIm': 2, u'internationaltoUpperCasehost': 2, u'Building': 2, u'changed': 2, u'0tymvar': 2, u'played': 2, u'Photographer': 4, u'injury': 2, u'DY': 2, u'site': 4, u'good': 2, u'gunfire': 2, u'reports': 4, u'Pharoah': 2, u'Usain': 2, u'ReservedTerms': 2, u'terrorist': 2, u'falsetimeStamp': 1, u'players': 2, u'vrq': 4, u'pay': 4, u'make': 6, u'Kongs': 4, u'HeroesImpact': 2, u'unity': 4, u'carsthumbnailhttpi2cdnturnercomcnnnextdamassets15110913431220batmobilerestrictedsmall11jpgdurationdescriptionKapow': 2, u'c105760': 1, u'hostsearchwgooglew23ww': 2, u'largest': 12, u'document': 2, u'documentbodyclassName': 2, u'expirederrorSlatedefaultTextAn': 4, u'week': 2, u'wineditionadTargetscapTopics': 2, u'oil': 2, u'raid': 2, u'see': 6, u'I': 2, u'camera': 2, u'CNNgou003cbrSign': 3, u'mobileSSID': 1, u'FeaturesOpinionsiReportMore\\u2026PhotosWeatherCNN': 4, u'11551': 4, u'photographers': 2, u'running': 2, u'Rights': 2, u'Marsthumbnailhttpi2cdnturnercomcnnnextdamassets150828091044marsiguanasmall11jpgdurationdescriptionlayouturi20151027middleeastinsidesyriafrontlineagainstisisindexhtmlheadlineMen': 2, u'uaindexOfiphone': 2, u'waistlinethumbnailhttpi2cdnturnercomcnnnextdamassets1511111301073randazzocbriosciacontsmall11jpgdurationdescriptionTheres': 2, u'NOWu003cstrong': 2, u'officiallayouturi20151117opinionsisisnomilitaryanswerpatonwalshindexhtmlheadlineThe': 2, u'hostsearchwmoneycnncom': 2, u'trueerror': 1, u'undefined': 1, u'smokes': 2, u'magical': 2, u'fighting': 4, u'Policy': 2, u'desktopSSID': 1, u'contact': 4, u'Have': 2, u'In': 2, u'claims': 2, u'1million': 2, u'breaks': 2, u'Batmobile': 2, u'Paristhumbnailhttpi2cdnturnercomcnnnextdamassets151116220345sydneyoperahouseparistributesmall11jpgduration0112descriptionFamiliar': 2, u'c000': 1, u'just': 2, u'moments': 2, u'money': 2, u'tco': 2, u'instructionsu003cagoSmartLinkhttpcnnitgopersistentCtacobrandingTextIn': 4, u'kill': 2, u'shocked': 2, u'world': 8, u'childrenthumbnailhttpi2cdnturnercomcnnnextdamassets15102318115601cnnphotossyrianchildrenteasesmall11jpgdurationdescriptionlayouturi20151026autoscoolest007bondcarsofalltimeindexhtmlheadlineThe': 2, u'wearable': 2, u'rundown': 2, u'targetblankGillian': 2, u'ads': 2, u'hostsearchwfacebookcom': 2, u'labelsmallminWidth0labellargeminWidth768': 1, u'Jay': 2, u'photographer': 2, u'had': 2, u'day': 6, u'scsec': 2, u'script': 2, u'book': 4, u'developments': 4, u'sweet': 2, u'News': 6, u'extensive': 2, u'has': 22, u'injured': 2, u'excited': 2, u'match': 2, u'joke': 2, u'cnnihomepagetry': 2, u'instanceof': 2, u'tests': 4, u'northeastern': 2, u'victims': 4, u'around': 6, u'spectacular': 2, u'CNNgo': 4, u'James': 2, u'Salah': 2, u'SOLIDARITYu003cstrong': 2, u'Texaslayouturi20151118sportrichardbrowneparalympicsriousainbolt100mindexhtmlheadlineAmputee': 2, u'historic': 2, u'jadeite': 4, u'UTCexpirationPeriod2592000000oldCookieNamenoneoldCookieExpirationTue': 2, u'destroy': 6, u'taking': 4, u'depicts': 4, u'pies': 2, u'dreams': 2, u'Proof': 2, u'ON': 4, u'everthumbnailhttpi2cdnturnercomcnnnextdamassets151117102052cartagenafestivalprofilesmall11jpgdurationdescriptionlayouturi20151113artsgalleryseanyoroglaciermuralindexhtmlheadlineHaunting': 2, u'fortune': 2, u'preferencesu003ca': 2, u'layouticonTypegalleryuri20150828techmarsphotosalienlifeindexhtmlheadlinePhotos': 2, u'cool': 2, u'FB': 2, u'SecretaryGeneral': 2, u'theyre': 2, u'fighter': 4, u'sofa': 2, u'withcountdownTextPreview': 4, u'page': 2, u'timeline': 2, u'mathematical': 2, u'usContact': 2, u'google': 2, u'shabby': 2, u'tym': 2, u'Guinness': 2, u'kidthumbnailhttpi2cdnturnercomcnnnextdamassets151029175652stevenjiangfamilyphotosmall11jpgdurationdescriptionlayouturi20151106architecturewafworldarchitecturefestival2015indexhtmlheadlineAnd': 2, u'twitter': 2, u'pusharguments': 1, u'Lomu': 2, u'thumbnailhttpi2cdnturnercomcnnnextdamassets151116113203nigeriacabinetsmall11jpgdurationdescriptionSix': 2, u'hair': 2, u'Muhammadu': 2, u'capitallayouticonTypevideourivideosworld20151117parisattacksbataclanmemoriestwitterorigcnnheadlineMemories': 2, u'usAbout': 2, u'Syriau003cstrongu003cliu003culthumbnailhttpi2cdnturnercomcnnnextdamassets15111806120709saintdenisraid1118small11jpgdurationdescriptionlayouturivideostv20151118franceintensifiesraqqaattacksvocnnheadlineu003cstrongBOMBARDMENTu003cstrong': 2, u'solvedthumbnailhttpi2cdnturnercomcnnnextdamassets151117130958einsteinequationsmall11jpgdurationdescriptionA': 2, u'escape': 2, u'images': 2, u'New': 2, u'Wembley': 2, u'Abdeslam': 2, u'interval20isVisibletruepageTypesectionresetDelay3resetThreshold17sectionNameintlhomepageBreaking': 1, u'c85600': 1, u'falsevrqpushid': 2, u'solutionthumbnailhttpi2cdnturnercomcnnnextdamassets1511181253463dwearabletechnologygazesmall11jpgdurationdescriptionThis': 2, u'attackslayouticonTypegalleryuri20151116worldgalleryparisattacksmanhuntindexhtmlheadlineManhunt': 2, u'brings': 4, u'spoofs': 2, u'memories': 2, u'candidate': 2, u'MobileTools': 6, u'get': 6, u'raidFemale': 2, u'bomberthumbnailhttpi2cdnturnercomcnnnextdamassets151116133943adeltermosmournersbeirutbombingssmall11jpgdurationdescriptionlayouturi20151117usnewhampshirebodiesmysteryindexhtmlheadlineNew': 2, u'hrefcookieTell': 2, u'breakingNewsttl120000urlhttpdatacnncomjsonpbreakingnewsinternationaljsonCNNGoFreePreviewConfig': 1, u'Facebook': 4, u'confidencelayouturi20151118foodanddrinkitalyforeatersfooddestinationsindexhtmlheadlineItalian': 2, u'provider': 4, u'cnn': 2, u'prod': 2, u'collaboration': 4, u'wordsthumbnailhttpi2cdnturnercomcnnnextdamassets151115012727parisportraitsteasesmall11jpgdurationdescriptionVigils': 2, u'156yearold': 2, u'core': 4, u'FootageCNN': 2, u'Buhari': 2, u'pornu003ca': 4, u'windowdocumentdomain': 1, u'communicate': 2, u'crammed': 2, u'attackslayouticonTypegalleryuri20151113techpioneerswomenscientistsindexhtmlheadlineWomen': 2, u'hrefwwwcnncomhelpcnngotroubleshootinghtml': 4, u'host': 2, u'Kimoon': 2, u'found': 4, u'from': 10, u'taboo': 2, u'wineditionadTargetsrefdom': 12, u'Think': 6, u'after': 12, u'Explorer': 2, u'dismissCookienametrusteConsentvaluetrueexpirationskiptrueheightsmall135medium110large130CNNVideoConfig': 2, u'rallying': 2, u'origins': 4, u'attacks': 12, u'fwProfile': 1, u'targetblankpornpornu003ca': 2, u'urlcdnoptimizelycomjs128727546jsCNNOutbrainVideoKPISrc': 2, u'u003cimg': 2, u'US': 1, u'Bomb': 2, u'LaBellethumbnailhttpi2cdnturnercomcnnnextdamassets151117202405pattilabellesweetpotatopiesreviewersingsmoospkgerin00000911small11jpgduration0207descriptionPattis': 2, u'Bataclan': 2, u'truessrc': 2, u'hospital': 4, u'DYAPIactions': 2, u'Hong': 4, u'own': 4, u'Blacks': 2, u'thumbnaildurationdescriptionSitting': 2, u'logo': 2, u'hereu003ca': 2, u'puzzle': 2, u'retailer': 4, u'three': 4, u'Few': 2, u'underway': 4, u'SyriaRINGLEADER': 2, u'promise': 2, u'docreferrerreplacehttpswi': 2, u'Stadium': 2, u'artists': 2, u'15yearold': 2, u'counts': 4, u'whos': 2, u'The': 14, u'trueenableRefreshTimers': 1, u'raidu003cliu003cstrongu003cstrongu003cliFrench': 2, u'ISIS': 16, u'than': 4, u'her': 2, u'hes': 2, u'support': 4, u'Entertainment': 1, u'firefighter': 2, u'buildingslayouturi20150903luxurygallery11000diamondswallacechanindexhtmlheadlineWorlds': 2, u'gallery': 4, u'start': 2, u'reportslayouturi20151117healthcharliesheenhealthindexhtmlheadlineCharlie': 2, u'vrqIsOnHPvrqpushtrack': 2, u'homemade': 2, u'biggest': 2, u'bodies': 2, u'November': 2, u'war': 4, u'Obama': 4, u'function': 10, u'reviewer': 2, u'north': 2, u'sfstartptnew': 2, u'airISIS': 2, u'Freedom': 2, u'airstrikes': 4, u'hundreds': 4, u'accentthumbnailhttpi2cdnturnercomcnnnextdamassets151022104016spectrefilmstillsmall11jpgdurationdescriptionThe': 2, u'NEWSDNA': 2, u'ended': 2, u'dead': 10, u'potato': 2, u'e': 4, u'ProvidermessageTextKeep': 3, u'true': 4, u'he': 8, u'count': 2, u'woman': 4, u'made': 4, u'spreethumbnailhttpi2cdnturnercomcnnnextdamassets150325082152socialgfxcnnlogosmall11jpgdurationdescriptionAuthorities': 2, u'romantic': 2, u'LinksPhotosWeatherCNN': 2, u'Tuesday': 2, u'harrowing': 2, u'cnnmobileweblinktag2CNNAirportDelaysConfig': 1, u'up': 10, u'us': 4, u'thumbnailhttpi2cdnturnercomcnnnextdamassets150904103055wallacechantease2small11jpgdurationdescriptionThe': 2, u'County': 2, u'record': 2, u'economic': 2, u'mobilizes': 4, u'Alivethumbnailhttpi2cdnturnercomcnnnextdamassets151118064956davidbeckhamsexiestpeoplefilesmall11jpgdurationdescriptionlayouturi20151118asianorthkoreabankimoonvisitindexhtmlheadlineUN': 2, u'piece': 4, u'ua': 2, u'clear': 2, u'ConsentmessageTextWe': 2, u'UTCheightsmall140medium120large130idtosheaderTextOur': 2, u'his': 10, u'dangerous': 2, u'freak': 2, u'targetblanksomething': 2, u'horrific': 2, u'Space': 2, u'hrefhttpwwwchowtaifookcomen': 4, u'threshold1200disableHoverThreshold1CNNBylineImages': 2, u'am': 2, u'pie': 4, u'Hampshire': 2, u'registryFile': 4, u'targetblankpoverty': 2, u'functionetiftymvoid': 2, u'diamond': 2, u'fashioned': 2, u'our': 6, u'Homepage': 2, u'deadly': 4, u'teeth': 2, u'hostsearchwwwwuseditionnextcnncom': 2, u'national': 4, u'TV': 15, u'reflectsthumbnailhttpi2cdnturnercomcnnnextdamassets151117130359fullbleedcnnphotosparismajolismall11jpgdurationdescriptionMagnum': 2, u'clings': 2, u'srchttpchoicestrustecomgetnameadmarkericontrpng': 2, u'40': 2, u'hrefhttpstheconversationcomstrugglestreetispovertypornwithanextradoseofclassracism41346': 2, u'Batman': 4, u'Fridays': 2, u'5': 2, u'ledge': 2, u'becomes': 2, u'huntSOCCER': 2, u'you': 14, u'registryURL': 2, u'wineditionadTargets': 2, u'cyborg': 2, u'Man': 2, u'LeadershipWAR': 2, u'thumbnailhttpi2cdnturnercomcnnnextdamassets151116161349facetransplant01small11jpegduration0149description41yearold': 2, u'usHelpTranscriptsLicense': 2, u'Alex': 2, u'brothers': 2, u'Zain': 2, u'dies': 2, u'rollthumbnailhttpi2cdnturnercomcnnnextdamassets151105103638isisflagtanksmall11jpgdurationdescriptionlayouturi20151029asiachinaonechildpolicypersonaltakeindexhtmlheadlineLife': 2, u'Year': 2, u'apiEndpointhttpmailcarcnncomapiv1': 2, u'update': 2, u'occurred': 4, u'worriedthumbnailhttpi2cdnturnercomcnnnextdamassets150810185852perseidmeteorshowerorigmg00003606small11jpgdurationdescriptionAccording': 2, u'militants': 2, u'journey': 4, u'48804': 1, u'Harvardthumbnailhttpi2cdnturnercomcnnnextdamassets151029135217rosesluxurywashingtonrestaurantfoodsmall11jpgdurationdescriptionBetter': 2, u'authorities': 2, u'Americas': 2, u'presidential': 2, u'falsegalleryAdClicks': 1, u'explosions': 6, u'jewelry': 8, u'ISIScontrolled': 2, u'connotations': 2, u'diamondsthumbnailhttpi2cdnturnercomcnnnextdamassets150904103055wallacechantease2small11jpgdurationdescriptionThe': 2, u'remote': 2, u'escapethumbnailhttpi2cdnturnercomcnnnextdamassets151116204555parisattackswomanhangingfromwindowledgecooperdntac00002405small11jpgduration0212descriptionCNNs': 2, u'longer': 4, u'using': 4, u'Closing': 2, u'entitlementSingletons': 2, u'visual': 4, u'walked': 2, u'subscription': 4, u'Broadcasting': 2, u'back': 2, u'time': 2, u'understand': 2, u'pushargumentsSign': 1, u'original': 2, u'others': 2} {u'Many': 4, u'6px': 5, u'NYT': 2, u'Leap': 2, u'0833': 1, u'NYC': 3, u'pageManagertrackingFireEventQueue': 1, u'Watch': 1, u'urlhttpcssnytcomimagesiconsbullet4x4gif': 1, u'Nytimescom': 1, u'Cases': 1, u'h4sectionHeaderHome': 2, u'spec': 1, u'Retreat': 1, u'GOODNOUGH': 1, u'h3containsThe': 1, u'envar': 1, u'every': 1, u'updates': 1, u'Military': 3, u'nrrequireforvar': 1, u'Campaign': 3, u'\\u2018Abyss\\u2019': 1, u'abovebannerregion': 1, u'fontweight': 13, u'Go': 4, u'force': 2, u'Festival': 1, u'0052': 1, u'0051': 1, u'Tracker': 1, u'END': 1, u'2015Today\\u2019s': 1, u'Weary': 1, u'Game': 3, u'new': 5, u'Ethicist': 1, u'widget': 2, u'wrapping': 1, u'protection': 1, u'kicker': 4, u'102': 1, u'100': 1, u'101': 2, u'Tuesday': 1, u'135rem': 1, u'credit': 2, u'Affirms': 1, u'Sought': 2, u'military': 1, u'Continent': 1, u'sansserif': 3, u'Privacy': 1, u'Support': 1, u'Jeb': 1, u'Health': 7, u'acolumn': 1, u'Repercussions': 1, u'Abortions': 2, u'romantimesserif': 5, u'Stronger': 2, u'Rule': 1, u'94': 1, u'locked': 1, u'work': 1, u'avisited': 2, u'Header': 1, u'Anthony\\u2019': 1, u'Advertisers': 1, u'A81817': 2, u'addictive': 1, u'Lie': 1, u'Stressful': 1, u'organized': 1, u'alinknythpBriefingNewsletterSignup': 1, u'Bruni': 1, u'Digital': 1, u'Lord': 2, u'guarantee': 1, u'realEstateSearch': 1, u'Editorials': 1, u'Watching': 1, u'nytfranklinArialsansserif': 1, u'A': 5, u'earlier': 1, u'Will': 3, u'Yorker': 1, u'texttransform': 6, u'All': 2, u'homeowners': 1, u'Lloyd': 3, u'Ancient': 1, u'office': 1, u'\\u2018A': 1, u'CenturyOld': 1, u'Surveillance': 1, u'JOANNE': 1, u'His': 2, u'NYTABTESTengineisUserVariantwatchingNoScroll': 1, u'fleeing': 1, u'Donation': 1, u'Glimpses': 1, u'400': 4, u'videoFactory': 1, u'hidden': 1, u'Him': 1, u'SAT': 1, u'Observatory': 2, u'Berlin': 1, u'Mobile': 2, u'tentifrcallenreturn': 1, u'went': 1, u'Check': 1, u'13px': 2, u'joined': 1, u'Cyclone': 1, u'raid': 1, u'Styles': 2, u'BEGIN': 1, u'driving': 1, u'content': 1, u'authgrowl': 1, u'foundation': 1, u'disputed': 1, u'nythpElection2016Header': 12, u'Work': 1, u'Metal': 1, u'standard': 1, u'Rome\\u2019': 1, u'Starwood': 1, u'Clinton': 3, u'Contributors': 1, u'002': 1, u'Photo': 1, u'levels': 1, u'tdocumentcreateElementscripttasync0ttypetextjavascriptvar': 1, u'Carry': 1, u'httpstatic01nytcomjs2buildvideo20videofactoryrequire': 1, u'messengersuggestions': 5, u'Please': 1, u'Fight': 3, u'DESCRIBES': 1, u'another': 1, u'Laden\\u2019': 1, u'studentathletes': 1, u'googletaggoogletaggoogletagcmdgoogletagcmdfunctionvar': 1, u'top': 2, u'0066': 1, u'0067': 1, u'0064': 1, u'nythpGiftguide': 8, u'0063': 1, u'0061': 1, u'0069': 1, u'Search': 6, u'B': 2, u'staticPath': 3, u'TRIP': 1, u'Code': 1, u'ireturnnew': 1, u'Sex': 1, u'oet1nreturn': 1, u'httpstatic01nytcomvideovhsbuildvhs2xmin': 1, u'Version': 1, u'Sea': 1, u'\\u2018Democrats\\u2019': 1, u'messagebed': 1, u'Dying': 1, u'E2E2E2': 1, u'tevar': 1, u'EuroTrump': 1, u'Rate': 1, u'Ask': 2, u'Chappatte': 1, u'Alabama': 2, u'aenfececoncatnfunction': 1, u'Bernie': 1, u'Exploitation': 1, u'Scene': 1, u'Single': 1, u'Election': 1, u'Want': 1, u'Its': 2, u'Manheim\\u2019s': 1, u'Helvetica': 1, u'PARKER': 1, u'nythpHideKickers': 1, u'headline': 1, u'Photography': 1, u'Amazon': 2, u'Free': 1, u'Blasio': 1, u'Account': 1, u'Turns': 1, u'dataoptionseventid7600eventslugparisattacksliveupdatesheaderspan': 1, u'countries': 1, u'Whites': 1, u'Over': 1, u'architecture': 1, u'Nets': 1, u'textdecoration': 3, u'rreturnvar': 1, u'paddingbottom': 1, u'Dogs': 1, u'Quarterback': 1, u'01': 1, u'Risk': 1, u'05': 6, u'09': 1, u'actionlink': 1, u'Water': 1, u'nythpSplitCode': 6, u'aactive': 2, u'Roundup': 1, u'Settings': 1, u'paddingtop': 2, u'backgroundcolor': 1, u'Bronx': 1, u'Among': 1, u'Dance': 1, u'Kristaps': 1, u'\\u2018SNL\\u2019': 1, u'KAUFMAN': 1, u'players': 1, u'Classifieds': 1, u'Syrian': 1, u'Policing': 1, u'height': 4, u'Closed': 1, u'Counterattack': 1, u'Gives': 1, u'targeting': 1, u'been': 1, u'Early': 1, u'Chance': 2, u'Groups': 1, u'loft': 1, u'Weddings': 1, u'Voice': 1, u'Rocker': 2, u'Debt': 1, u'Manage': 1, u'Billions': 1, u'Culture': 1, u'near': 1, u'0074': 1, u'3px': 4, u'Menu': 1, u'Bush': 2, u'Candidates': 1, u'LEARN': 1, u'id': 8, u'Georgetown': 1, u'Bolder': 1, u'Stop': 1, u'Zimbabwe': 1, u'President': 2, u'Snoops': 1, u'Taking': 1, u'BREEDEN': 1, u'Room': 2, u'Institute': 2, u'h6active': 3, u'suburb': 1, u'Home': 4, u'Morning': 1, u'SHEAR': 1, u'spanablayout': 2, u'801': 1, u'left': 3, u'Sarah': 1, u'Brawn': 1, u'just': 1, u'previous': 1, u'Offer': 1, u'Reform': 1, u'had': 2, u'Boss': 1, u'Connecticut': 1, u'tentreturn': 1, u'News': 5, u'has': 2, u'Building': 2, u'D': 1, u'Restaurant': 1, u'James': 1, u'week\\u2019s': 1, u'siteindexbrandinglink': 1, u'oamarkdomContentifunction': 1, u'background': 6, u'15px': 1, u'Wine': 1, u'Art': 10, u'Trump': 1, u'Newsletters': 1, u'Driven': 1, u'intercollegiate': 1, u'21px': 3, u'Bezos': 1, u'Are': 1, u'anythpBriefingNewsletterSignup': 1, u'Screening': 1, u'right': 4, u'people': 1, u'Hitchhiker': 2, u'Suspect': 2, u'escape': 1, u'Rugby': 1, u'enemies': 1, u'Topic': 1, u'Poker': 1, u'bottom': 1, u'h3containsHoliday': 1, u'Safe': 2, u'backgroundposition': 2, u'Facebook': 1, u'denied': 2, u'Chris': 1, u'bold': 1, u'Calls': 1, u'Cafes': 1, u'Mortgages': 1, u'Frugal': 1, u'Place': 4, u'AURELIEN': 1, u'Explores': 1, u'0px': 9, u'First': 6, u'ltie10': 9, u'attacks': 3, u'Cheap': 1, u'islands': 1, u'sectionopinion': 2, u'Birds': 1, u'raised': 1, u'Missed': 1, u'Blacks': 1, u'Make': 1, u'float': 4, u'SUV': 1, u'Draft': 3, u'Martha': 2, u'ISIS': 8, u'Indiscriminate': 1, u'width': 1, u'Hans': 1, u'NBA': 1, u'war': 1, u'optsvariation': 1, u'offer': 1, u'Column': 3, u'Invest': 1, u'Defeat': 1, u'true': 2, u'Interactive': 1, u'Suburban': 1, u'St\\u2019': 1, u'tnvar': 1, u'20px': 1, u'Electronic': 1, u'Dissidents': 1, u'Carson': 1, u'StDenis': 1, u'PaperVideo': 1, u'libefore': 1, u'us': 1, u'Andrew': 2, u'14px': 3, u'Pages': 1, u'football': 1, u'died': 1, u'backgroundsize': 1, u'longer': 1, u'Estate': 5, u'Win': 1, u'subscription': 1, u'time': 1, u'Roger': 1, u'Today': 1, u'0': 17, u'Day': 2, u'unfamiliar': 1, u'windowNREUMNREUMNREUMinfobeaconbamnrdatanetlicenseKeyb5bcf2eba4applicationID4491446transactionNameYwFXZhRYVhAEVUZcX1pLYEAPFlkTFRhCXUAqueueTime0applicationTime559ttGuidagentTokenuserAttributeserrorBeaconbamnrdatanetagentjsagentnewreliccomnr686minjs': 1, u'Tech': 3, u'\\u2018I\\u2019': 1, u'Where': 1, u'Just': 1, u'ahover': 2, u'Global': 1, u'Accounts': 1, u'div': 5, u'Debate': 2, u'trend': 1, u'Linklater\\u2019s': 1, u'Rich': 1, u'Finding': 2, u'a81817': 1, u'Rides': 1, u'Seeks': 1, u'inlineblock': 5, u'Subscriptions': 5, u'Opulent': 1, u'Ford': 1, u'shared': 1, u'Along': 1, u'1011': 1, u'1013': 1, u'Me': 2, u'40px': 1, u'upgrade': 1, u'margintop': 5, u'Times': 12, u'My': 2, u'topnews': 5, u'Sees': 1, u'MM': 1, u'BAB8B3': 1, u'Dead': 2, u'326891': 1, u'Seek': 1, u'Said': 3, u'useful': 1, u'When': 2, u'foundationmain': 1, u'0875': 1, u'nrrequirereturn': 1, u'Sanders': 1, u'Novels': 1, u'Dies': 4, u'helvetica': 2, u'075rem': 1, u'sports': 1, u'Lunch': 2, u'YoungAdult': 1, u'WILLIE': 1, u'optspoll': 1, u'Deports': 1, u'Calling': 1, u'HipHop': 1, u'Time': 1, u'Retail': 3, u'Bet': 2, u'FD8249': 2, u'Celebrations': 1, u'timesvideo': 1, u'Family': 1, u'Pacific': 1, u'Down': 1, u'urlhttpgraphics8nytimescompackagesimageshomepagebriefingsdogearsmpng': 1, u'can': 2, u'believed': 1, u'Our': 1, u'Children': 2, u'Ethnicity': 1, u'1980s': 1, u'ureturn': 1, u'editiondomestic': 1, u'Terms': 2, u'We\\u2019re': 1, u'1': 19, u'8px': 3, u'Trump\\u2019s': 1, u'Why': 2, u'may': 1, u'vhsxs': 1, u'ANDREW': 1, u'AsiaPacific': 1, u'applications': 12, u'Yale': 1, u'Corporate': 1, u'View': 1, u'Series': 2, u'switch': 1, u'Bader': 2, u'tutoring': 1, u'opts': 2, u'httpstatic01nytcomjs2buildvideoplayersextended20appRequire': 1, u'Hunting': 1, u'Breaking': 2, u'years': 1, u'Juggernaut': 2, u'White': 2, u'LIZ': 1, u'group': 1, u'selves': 1, u'Defiance': 1, u'World': 5, u'936': 1, u'Hiding': 1, u'Bamba\\u2019': 2, u'env': 1, u'BLAISE': 1, u'Choices': 1, u'Socialism': 1, u'EDITORIAL': 2, u'now': 2, u'name': 1, u'Everything': 1, u'Skip': 2, u'thttpsssplit0esslForHttpdprotothttpshttpamarkonloadivar': 1, u'em': 1, u'paddingleft': 3, u'Television': 2, u'Split': 1, u'year': 1, u'Save': 2, u'themenewsheadlines': 2, u'container': 1, u'liveupdatesflextypepromo': 1, u'Joy': 1, u'Journey': 1, u'Key': 1, u'avisitednythpBriefingNewsletterSignup': 1, u'1138': 1, u'Theater': 3, u'Estefan': 2, u'Cashing': 1, u'Cover': 1, u'20': 2, u'Security': 1, u'httpstatic01nytcomjsmtr': 1, u'toi0foro': 1, u'flexData': 2, u'Brazil': 1, u'\\u201cfinstagram\\u201d': 1, u'Asia': 1, u'Attackers': 1, u'Black': 1, u'little': 1, u'Problems': 1, u'tallWatchingModule': 1, u'Notebook': 1, u'Outpost': 1, u'rehandleoe1ie2undefinedtypeof': 1, u'ObjectdefinePropertyenvalueowritable0enumerable1ocatchireturn': 1, u'padding': 9, u'Trumps': 1, u'Elena': 1, u'History': 2, u'10': 3, u'12': 2, u'Love': 4, u'18': 1, u'require': 3, u'Fake': 1, u'LISA': 1, u'Advertise': 1, u'browser': 1, u'DE': 1, u'Sites': 2, u'Tight': 1, u'say': 1, u'Inquiry': 2, u'De': 1, u'Blame': 2, u'DategetTimevar': 1, u'mediaphotomediumthumb': 2, u'Articles': 2, u'\\u4e2d\\u6587': 1, u'Off': 2, u'normal': 1, u'Embracing': 1, u'remarks': 1, u'Ferrante': 1, u'GOP': 1, u'later': 1, u'tteelength0forvar': 1, u'Recommendation': 2, u'Comments': 6, u'Role': 1, u'Test': 1, u'Across': 1, u'Wants': 1, u'Woman': 2, u'\\u2018Everybody': 1, u'3': 1, u'only': 2, u'Diary': 1, u'Services': 1, u'Magazine': 6, u'Instagram': 1, u'nytcheltenhamshgeorgiatimes': 3, u'UPDATESstrongspanhomepageFeedfalseinteractivefalsemaxitems5': 2, u'summary': 3, u'Anger': 1, u'Education': 4, u'Provide': 2, u'1923': 2, u'BOARD': 2, u'arialhelveticasansserif': 1, u'Shopping': 2, u'That': 1, u'federal': 1, u'Forgive': 1, u'Jonah': 1, u'05625rem': 1, u'letterspacing': 2, u'Than': 1, u'editioninternational': 1, u'requirehttpstatic01nytcombijstagxtagxjs': 1, u'abcolumn': 1, u'250px': 1, u'article': 8, u'Facing': 1, u'optslimit': 1, u'many': 3, u'Through': 1, u'Death': 1, u'nytcheltenhamgeorgiatimes': 1, u'color': 10, u'Travel': 5, u'Note': 2, u'nythpBriefings': 2, u'storyheading': 4, u'Events': 3, u'\\u2018SPQR': 1, u'homepage20151113101625jshomepage': 2, u'longheld': 1, u'Promos': 1, u'Prostate': 1, u'633': 1, u'shopping': 1, u'ercalleotinoeoi1return': 1, u'Pleasures': 1, u'KIMIKO': 1, u'suspected': 1, u'ALDERMAN': 1, u'case': 1, u'windowlocationsearchindexOfportalvariantwatchingNoScroll': 1, u'Stepping': 1, u'1101': 1, u'margin': 2, u'Oak': 1, u'Charge': 1, u'different': 1, u'media': 1, u'functionPortal': 1, u'document': 1, u'NYTDNYTD': 2, u'Silver': 1, u'I': 4, u'Clear': 1, u'\\u201cmost': 1, u'allocation': 12, u'Dread': 1, u'Says': 1, u'Dreamland\\u2019': 1, u'Is': 8, u'nythpBreakingnythpNoRule': 1, u'It': 1, u'Rent': 1, u'In': 12, u'Nazi': 1, u'nation\\u2019s': 1, u'ccc': 1, u'Lomu': 1, u'Loading': 2, u'Service': 1, u'displaynone': 3, u'being': 2, u'actress': 1, u'coloredSharetools': 1, u'Belgian': 2, u'staging': 1, u'Spot': 1, u'Applications': 1, u'ccolumn': 6, u'Follows': 1, u'Tackles': 1, u'\\u2018Predict': 1, u'Tour': 1, u'nytfranklin': 3, u'Prematurely': 1, u'Brancaccio\\u2019s': 1, u'Talk': 1, u'Shop': 1, u'Show': 2, u'Hacks': 1, u'tower': 1, u'windowlocationsearchindexOfdisabletagx': 1, u'uppercase': 6, u'ereturneobjectnfunctionn1ewindow0ieofunctionreturn': 1, u'Terror': 3, u'New': 16, u'organizing': 1, u'pinnedMasthead': 1, u'30story': 1, u'legal': 2, u'timetimestamp': 1, u'ontexportset0calloexportsfunctionnvar': 1, u'Recipes': 1, u'refer': 3, u'Venetian': 1, u'Druckerman': 2, u'Rock': 1, u'FISHER': 1, u'windowNREUMNREUMnrrequirefunctionentfunction': 1, u'requirehomepagemain': 2, u'subdued': 1, u'history\\u201d': 1, u'Paper': 1, u'trajectory': 1, u'Story': 1, u'No': 1, u'image': 1, u'baseUrl': 1, u'odocumentgetElementsByTagNamescript0oparentNodeinsertBeforeto': 1, u'accounts': 1, u'Pains': 1, u'Powers': 1, u'your': 2, u'Store': 3, u'paidPostDriver': 1, u'hed': 1, u'start': 1, u'Letter': 2, u'Obama': 2, u'Percent': 1, u'J': 1, u'30px': 1, u'Small': 1, u'Guide': 4, u'shortterm': 1, u'House': 3, u'Alterations': 1, u'\\u2018La': 2, u'Close': 1, u'bucked': 1, u'aehandlece1uwindowfudocumente2var': 1, u'videos': 1, u'Space': 1, u'Wordplay': 1, u'an': 3, u'How': 8, u'Hot': 1, u'Webber': 2, u'Real': 7, u'premiums': 1, u'5': 1, u'Purpose': 1, u'vhsmetadatacontainer': 1, u'you': 2, u'Terdjman': 1, u'At': 4, u'Great': 2, u'Country': 2, u'videoPlaylist': 1, u'important': 6, u'coverage': 1, u'serious': 1, u'Volkswagen\\u2019s': 1, u'building': 1, u'Holy': 1, u'Myanmar': 1, u'Runner': 1, u'scroll': 1, u'HASSAN': 1, u'onrcontextiegosnexportstgos7eSDFheefunctionennexportseQJf3ax3functionenfunction': 1, u'all': 2, u'Fix': 2, u'apartment': 1, u'icons': 1, u'Treem': 1, u'Amazon\\u2019s': 3, u'homepage': 6, u'Eat': 1, u'activities': 1, u'4em': 1, u'very': 1, u'Listings': 2, u'Sale': 2, u'Headers': 1, u'1px': 8, u'slocationsplit0pbeaconbamnrdataneterrorBeaconbamnrdatanetagentjsagentnewreliccomnr686minjsdnexportsoffsetioriginsfeaturesfaddEventListenerfaddEventListenerDOMContentLoadedo1uaddEventListenerloadt1fattachEventonreadystatechangeruattachEventonloadtamarkfirstbytei11223handleD5DuLPloaderfunctionennexportseG9z0Bl12functionenfunction': 1, u'Seasonal': 1, u'Unbuttoned': 1, u'TA\\xcfA': 1, u'flexDatainteractive': 1, u'Chase': 1, u'windowmagnumwriteLogosmall': 1, u'Log': 1, u'Only': 2, u'Welling': 1, u'Join': 1, u'East': 1, u'ribbon': 1, u'rfcreateElementscriptrsrcdprotoeagentnparentNodeinsertBeforernfunction': 1, u'what': 1, u'Latin': 1, u'consumers': 1, u'rvar': 1, u'vhsvideocta': 1, u'rlistenerselengthremitentvoidrqrqerqerqepushnvar': 1, u'Studied': 1, u'Adapts': 1, u'Gift': 3, u'Tracing': 1, u'NFL': 1, u'Contact': 1, u'Gloves': 1, u'Briefing': 2, u'search': 2, u'Business': 4, u'Open': 1, u'experience': 1, u'Itself': 1, u'social': 1, u'action': 1, u'Style': 4, u'Yoga': 1, u'family': 1, u'nythpDeveloping': 1, u'Top': 3, u'href': 1, u'Preserved': 1, u'ET': 9, u'Europe': 1, u'Phys': 1, u'Explorer': 1, u'Some\\u2019': 1, u'Automobiles': 2, u'Lives': 1, u'textalign': 3, u'Philippines': 1, u'Mass': 1, u'none': 17, u'SX': 1, u'Today\\u2019s': 3, u'sweeps': 1, u'Coney': 2, u'bordertop': 3, u'Your': 4, u'tentnn0undefinedtypeof': 1, u'candidate\\u2019s': 1, u'matchHeight': 1, u'Injury': 1, u'urlhttpgraphics8nytimescompackagesimageshomepagenewslettericonpng': 1, u'Fall': 1, u'Lower': 2, u'RAID': 1, u'Arrested': 2, u'Foreign': 1, u'Continue': 1, u'Syria': 1, u'Strengthen': 1, u'ribbonChartbeatMostEmailed': 1, u'tvar': 2, u'Player': 1, u'0667': 1, u'Film': 1, u'What': 3, u'Arial': 1, u'Illinois': 1, u'bordertopcolor': 1, u'its': 2, u'ccolumncolumn': 3, u'arial': 2, u'freturnonaemitncreateulistenersceventsffunction': 1, u'splitlayout': 5, u'waitSeconds': 1, u'return': 3, u'seeking': 1, u'timestamp': 2, u'demographics': 1, u'Michael': 1, u'flexDataeventid': 1, u'georgiatimes': 1, u'Era': 1, u'Ethical': 1, u'SMALE': 1, u'referheading': 1, u'Mommsen': 1, u'Dish': 1, u'shocking': 1, u'Poll': 1, u'End': 3, u'Sports': 5, u'insurance': 1, u'More': 7, u'health': 1, u'7': 4, u'Cook': 1, u'paidPostFivePack': 1, u'reeecreatenexportstteerrqeeQJf3axhandlefunctionennexportseD5DuLPXL7HBIfunctionenfunction': 1, u'4px': 4, u'collectionfirstchild': 2, u'Opinion': 12, u'People': 1, u'Ed': 1, u'columnfirstchild': 2, u'Hornets': 1, u'rcompletefreadyStateofunction': 1, u'EmailedMost': 1, u'Speaks': 1, u'story': 4, u'Nature': 1, u'recommendedLabelTest': 1, u'militant': 1, u'Merger': 1, u'part': 1, u'Suspect\\u2019s': 1, u'Road': 2, u'throttle': 12, u'Cancer': 1, u'Hunger': 1, u'gotten': 1, u'Puzzle': 2, u'Layouts': 1, u'2020': 1, u'Depend': 1, u'nythpBriefingNewsletterSignup': 1, u'Peace': 1, u'Pierre': 1, u'asetPageViewNameaddPageActionsetCustomAttributefinishedaddToTraceinlineHitnoticeErroroafunctionenwindowNREUMntapinnexportswindowNREUM112213handleD5DuLPgosfunctionennexportse7eSDFh7eSDFhfunctionenfunction': 1, u'Equity': 1, u'ALISON': 1, u'paths': 1, u'Food': 9, u'Iceland': 1, u'borderbottom': 7, u'Kia': 1, u'With': 7, u'Rewatching': 1, u'Attacks': 5, u'Kentucky': 1, u'most': 1, u'sponsored': 1, u'The': 24, u'fluctuate': 1, u'Finds': 1, u'NYTDFlexTypes': 4, u'1041': 1, u'clear': 1, u'Affair\\u2019': 1, u'Subscribe': 3, u'Portfolio': 1, u'ABDELLAH': 1, u'Shrinking': 1, u'Annadale': 1, u'storythemesummarylede': 1, u'Explain': 1, u'Islamist': 1, u'norepeat': 5, u'Abaaoud': 2, u'marginleft': 6, u'Hill': 1, u'ADEEL': 1, u'find': 1, u'22px': 1, u'writes': 1, u'documentreadyfunction': 2, u'French': 4, u'equity': 1, u'IAN': 1, u'gains': 1, u'nythpSplitCodelayout': 2, u'Thanksgiving': 2, u'Abdelhamid': 2, u'classtimestampstrongLATEST': 2, u'2': 3, u'banner': 1, u'Isn\\u2019t': 1, u'Help': 1, u'More\\u2019': 1, u'France': 1, u'Wright': 1, u'Citing': 1, u'windowliveUpdatesFlextypeLoaded': 2, u'edinfoNREUMinfonfgetElementsByTagNamescript0ifeelicenseKeyeapplicationIDncpfunctionntn': 1, u'Brains': 1, u'Park': 2, u'costconscious': 1, u'Part': 1, u'spanabtopregion': 8, u'testId': 12, u'lineheight': 9, u'Revisiting': 1, u'Makes': 2, u'Dana': 1, u'last': 1, u'cashing': 1, u'realestate': 1, u'\\u2018Sinatra': 1, u'Superman': 1, u'TMQ': 1, u'simple': 1, u'Way': 1, u'Yielded': 3, u'War': 1, u'Play': 2, u'dataoptionswidth177height132jsonphttpjson8nytimescomslideshow20151118nytnowyourwednesdaybriefingslideshowjsonplinkhttpwwwnytimescom20151118nytnowlatestnewsparisattacktornadoeshtmlphotosphotourlcreditadvanceddelay5limitjsonp0renditiontargetoverrideabbreviatecreditstrue': 1, u'create': 1, u'strategy': 1, u'Most': 1, u'Plan': 2, u'Herself': 1, u'\\u2018Fake': 1, u'slideshow': 1, u'else': 1, u'h3kicker': 2, u'lives': 1, u'GuideparentaddClassnythpGiftguide': 1, u'prices': 1, u'16px': 2, u'Embraces': 1, u'Todays': 3, u'Journeys': 1, u'solid': 7, u'Market': 1, u'Hotels': 1, u'City': 2, u'nytfranklinhelveticaarialsansserif': 1, u'Racism': 1, u'Eagles': 1, u'Tempura': 1, u'Island': 3, u'9': 1, u'fefunction': 1, u'higher': 1, u'About': 3, u'Fouls': 1, u'Podcasts': 1, u'Movies': 2, u'moment': 1, u'000': 6, u'backgroundimage': 2, u'Named': 1, u'navigation': 2, u'Tastes': 1, u'Economic': 1, u'Tools': 1, u'know': 1, u'Here\\u2019s': 1, u'Living': 3, u'Fans': 1, u'Pamela': 1, u'Logue': 1, u'questions': 1, u'Internet': 1, u'Snowpacks': 1, u'advisers': 1, u'Readers': 1, u'Edsall': 1, u'Christopher': 1, u'homeland': 1, u'input': 1, u'rObjectprototypehasOwnPropertynexportst13functionenfunction': 1, u'bin': 1, u'On': 1, u'Graphic': 2, u'Longer': 1, u'demands': 1, u'Did': 1, u'Die': 1, u'matters': 1, u'nythpHideBylines': 1, u'Who': 3, u'modifications': 1, u'd': 1, u'Cohen': 1, u'KIMBERLY': 1, u'\\u2018He\\u2019': 1, u'Rising': 2, u'Columnists': 1, u'velcroSocialFollow': 1, u'extremism': 1, u'back': 1, u'homepage20151113101625jsshared': 1, u'Culinary': 2, u'Email': 2, u'Daypart': 1, u'Frank': 2, u'nythpBreaking': 3, u'liveupdatesmodule': 1, u'elnupdateswidget7600elnsulsm': 1, u'SXSW': 1, u'Look': 1, u'David': 2, u'httpstatic01nytcomlivecoveragelive': 1, u'\\u2018The': 2, u'SolarCity': 1, u'Looks': 1, u'borderbottomwidth': 1, u'block': 1, u'Baron': 2, u'NewsDeveloping': 1, u'\\u201980s': 1, u'Their': 1, u'Flights': 1, u'Speech': 1, u'Ruth': 2, u'Beard': 1, u'Lens': 1, u'Theismann': 1, u'borderbottomcolor': 1, u'Side': 2, u'User': 1, u'Coverage': 2, u'Wanted': 1, u'Come': 1, u'hoped': 1, u'link': 1, u'Opinionator': 1, u'Marriott': 1, u'raising': 1, u'Jeff': 1, u'Loan': 1, u'Murray': 1, u'Books': 4, u'0012': 1, u'Knicks': 2, u'nytmmFadingSlideShow': 2, u'Defiant': 1, u'To': 2, u'Outside': 1, u'International': 3, u'Upshot': 1, u'Manhattan': 1, u'Map': 1, u'TV': 2, u'Mary': 1, u'application': 1, u'bcolumn': 17, u'Student': 1, u'eentvar': 1, u'pageManager': 2, u'Refugee': 1, u'It\\u2019s': 1, u'AM': 9, u'Wednesday': 2, u'Cast': 2, u'Technology': 1, u'Ad': 1, u'Government': 1, u'An': 1, u'2000': 1, u'summit': 1, u'presenting': 1, u'Blows': 1, u'Newsletter': 1, u'having': 1, u'Sell': 1, u'sharply': 1, u'results': 1, u'Manhunt': 1, u'broader': 1, u'ArtsBeat': 1, u'Seeking': 1, u'young': 1, u'Joint': 1, u'getFlexData': 2, u'25px': 1, u'\\xbb': 36, u'Now': 1, u'Porzingis': 2, u'Stress': 1, u'FARHAD': 1, u'Region': 1, u'Instagram\\u2019': 1, u'Myths': 1, u'Children\\u2019s': 1, u'Related': 1, u'Talking': 1, u'functionrenew': 1, u'rtifntvar': 1, u'Index': 1, u'requireportalapp': 1, u'Long': 3, u'State': 6, u'Suit': 1, u'Teaching': 1, u'Maryland': 2, u'Sections': 3, u'America': 1, u'America\\u2019s': 1, u'Numbers': 1, u'r1otn0iArray0o0oroirenrreturn': 1, u'Behemoth': 1, u'Light': 2, u'Greet': 1, u'explore': 1, u'Technicolor': 1, u'otifObjectdefinePropertyObjectkeystryreturn': 1, u'Chinese': 1, u'tenvar': 1, u'30': 1, u'18px': 7, u'makes': 1, u'Staffers': 1, u'Decay': 1, u'Multimedia': 2, u'Trademark': 1, u'Contributing': 1, u'Treatment': 3, u'Answer': 1, u'from': 1, u'Lend': 1, u'next': 1, u'httpa1nytcomassetshomepage20151113101625imagesfoundationlogos': 1, u'few': 1, u'Novel': 1, u'NYTDFlexTypespushtargetFT100000004037217typeHPLiveUpdate3dataoptionseventid7600eventslugparisattacksliveupdatesheaderspan': 1, u'STYLING': 2, u'visibility': 1, u'Editorial': 3, u'women': 2, u'Feedback': 1, u'Library': 1, u'Video': 5, u'Traveler': 1, u'Cites': 1, u'Police': 3, u'httpstatic01nytcomjsauthgrowldefault': 1, u'Feature': 1, u'his': 1, u'urged': 1, u'Policy': 1, u'photospotregion': 3, u'ViewedRecommended': 1, u'tereturn': 1, u'iconbefore': 1, u'NYTABTEST': 1, u'Joel': 2, u'Myopia': 1, u'Foiling': 1, u'Letters': 1, u'r1onridiegosnexportstgos7eSDFhidfunctionennexportseXL7HBIG9z0Blfunctionenfunction': 1, u'Texts': 1, u'Critic\\u2019s': 1, u'Politics': 4, u'httpa1nytcomassets': 1, u'Ginsburg': 2, u'sfunction': 1, u'including': 1, u'looks': 1, u'Wave': 1, u'Optima': 1, u'byline': 2, u'Minutes': 1, u'Friedman': 1, u'storythemefeature': 3, u'Brooks': 1, u'li': 4, u'BRADLEY': 1, u'fontfamily': 13, u'NYTABTESTengine': 1, u'2015': 1, u'paidPostFivePackMock': 1, u'2016': 1, u'MANJOO': 1, u'Hawks': 1, u'simpleExtendedByline': 1, u'Stapleton': 1, u'auto': 1, u'Loses': 1, u'Can': 3, u'messagecontainer': 1, u'Social': 1, u'Strands': 2, u'day': 1, u'\\u2018American': 1, u'Say': 3, u'Replica': 1, u'10px': 3, u'Arts': 6, u'From': 3, u'700': 8, u'urlhttpgraphics8nytimescomnewsgraphics20150225electionnavigationassetsimageselection2016logopng': 1, u'meta': 1, u'cereturn': 1, u'Chronicling': 1, u'85': 1, u'Season': 1, u'China': 4, u'enoovar': 1, u'inexportstG9z0Bl': 1, u'Prices': 1, u'supports': 1, u'Cartoon': 1, u'This': 1, u'roonooexportsreturn': 1, u'Corrections': 1, u'alerticon': 1, u'spanablayoutlayout': 1, u'Topics': 1, u'FREYTASTAMURA': 1, u'ehttpsdocumentlocationprotocoltsrcehttpshttpwwwgoogletagservicescomtagjsgptjsvar': 1, u'Aides': 1, u'ntexportsiffunctiontypeof': 1, u'CarScent': 1, u'Review': 10, u'shuffleRecommendations': 1, u'Program': 1, u'NY': 2, u'data': 2, u'requirefoundationmain': 3, u'Tied': 1, u'h6hover': 3, u'652': 1, u'Iraq': 1, u'Smash': 1, u'Characters': 1, u'97px': 1, u'fontsize': 13, u'foundationviewspagemanager': 2, u'Democratic': 1, u'Rivals': 1, u'Edition': 1, u'requirejquerynyt': 2, u'getFlexDatadataoptions': 1, u'mediaslideshow': 1, u'classarticleinteractivepromodiv': 1, u'false': 1, u'Richard': 1, u'Chairman\\u2019': 1, u'Writers': 1, u'have': 3, u'close': 1, u'need': 1, u'One': 1, u'border': 2, u'After': 2, u'Loyalty': 1, u'authmtr': 1, u'Blogs': 1, u'who': 1, u'relstylesheet': 1, u'said': 1, u'Games': 1, u'Cabs': 1, u'masthead': 1, u'why': 1, u'Predictive': 1, u'homepage20151113101625jsfoundation': 1, u'Some': 1, u'Pursuits': 1, u'face': 1, u'Donald': 1, u'nythpHideTimestamps': 1, u'wounded': 1, u'\\u2018War': 1, u'Rise': 2, u'Manheim': 1, u'Paris': 16, u'text': 1, u'0036': 1, u'0033': 1, u'Public': 2, u'Elkes': 2, u'knowledge': 1, u'Undo': 1, u'should': 1, u'York': 12, u'5px': 2, u'commentspanel': 1, u'Homes': 2, u'watching': 1, u'DategetTimeconcatiargumentsvar': 1, u'999': 4, u'Matsui': 1, u'Coal': 1, u'Stories': 1, u'Cowin': 1, u'THE': 2, u'o0oppupapplystreturn': 1, u'Experts': 2, u'officials': 1, u'vhs': 1, u'165rem': 1, u'storythemesummary': 2, u'Good': 1, u'liveupdateflextypecss': 1, u'21rem': 1, u'Republican': 1, u'2px': 7, u'fontstyle': 1, u'Race': 1, u'Raid': 2, u'50px': 2, u'Devotees': 1, u'Insurance': 1, u'Osama': 1, u'Camryn': 2, u'Design': 5, u'Campus': 2, u'Workplace': 1, u'unclear': 1, u'OpEd': 7, u'Music': 4, u'Struggling': 1, u'Asks': 1, u'Get': 1, u'\\xa9': 1, u'Refugees': 2, u'Yahoo': 2, u'Brooklyn': 1, u'Obituaries': 2, u'Thailand': 1, u'Insider': 4, u'Expand': 2, u'f8e9d2': 1, u'liveupdateflextypev4js': 1, u'swarmed': 1, u'backgroundrepeat': 2, u'runaroundRight': 2, u'kickers': 1, u'bulk': 1, u'abortions': 2, u'Neighborhood': 1, u'Fact': 1, u'Force': 1, u'Music\\u2019': 1, u'nytfranklinarialhelveticasansserif': 2, u'Any': 2, u'MORE': 1, u'Literary': 1, u'You': 4, u'PREVOST': 1, u'Hope': 1, u'halt': 1, u'terrorist': 2, u'Return': 1, u'Beat': 1, u'ntypeof': 1, u'NYTimescom': 2, u'terrorism': 1, u'LILIA': 1, u'GABRIEL': 1, u'effect': 1, u'Gloria': 2, u'center': 2, u'Staten': 1, u'fighting': 1, u'thought': 1, u'Fantasy': 2, u'Experiments': 1, u'Need': 1, u'Sunday': 2, u'\\u2014': 1, u'Be': 5, u'NYTDFlexTypespushtargetFT100000004044254typeFadingSlideShowdataoptionswidth177height132jsonphttpjson8nytimescomslideshow20151118nytnowyourwednesdaybriefingslideshowjsonplinkhttpwwwnytimescom20151118nytnowlatestnewsparisattacktornadoeshtmlphotosphotourlcreditadvanceddelay5limitjsonp0renditiontargetoverrideabbreviatecreditstrue': 1, u'Company': 1, u'Friday': 1, u'transparent': 1, u'Crackle\\u2019s': 1, u'Despite': 2, u'\\u2018Pike': 1, u'By': 17, u'match': 2, u'Hits': 2, u'Psychosis': 2, u'Camels': 1, u'T': 3, u'variants': 12, u'Throws': 1, u'That\\u2019s': 1, u'Fashion': 3, u'like': 1, u'Within': 2, u'testName': 12, u'tryTypekitloadcatche': 1, u'become': 1, u'Fear': 2, u'11px': 4, u'because': 1, u'12px': 8, u'Crossword': 4, u'Editor': 3, u'Cooperation': 1, u'home': 2, u'Terrorism': 2, u'Coffee': 1, u'avoid': 1, u'pthemecomments': 1, u'AheadparentaddClassnythpBriefings': 1, u'Bryant': 1, u'windowmagnumprocessFlagslimitFabrikSavemoreFollowSuggestionsunfollowCommentshomepageOpinionKickerCssfollowFeatureallTheEmphasesvideoVHSCovervideoVHSHomepageCoveradditionalOpinionRegionshpViewabilityminiNavCountnewsEventHierarchyfreeTrialinsiderLaunch': 1, u'Inside': 5, u'MICHAEL': 1, u'Up': 1, u'Us': 2, u'Blocks': 1, u'about': 2, u'Sounds': 1, u'hpHeader': 25, u'column': 2, u'withdrew': 1, u'US': 5, u'nythpDaypartRegion': 6, u'dwrite': 3, u'windownewrelicnewrelicwindowNREUMvar': 1, u'Alerts': 1, u'h6': 28, u'h5': 2, u'Remnick': 1, u'Kimmelman': 1, u'Hillary': 3, u'ABBY': 1, u'var': 8, u'November': 1, u'function': 12, u'wfloading': 1, u'HIGGINS': 1, u'Science': 3, u'Statement': 1, u'Well': 1, u'Except': 1, u'Steinem': 2, u'he': 2, u'productionpublished': 1, u'display': 9, u'Portalcreatenytinthpwatching': 1, u'marketplace': 1, u'marginbottom': 9, u'Lake': 1, u'Private': 1, u'urlhttpi1nytcomimagesiconsiconalert12x12a81817png': 1, u'Mayflower': 1, u'Centered': 2, u'Million': 2, u'40': 2, u'Jobs': 1, u'Delivery': 1, u'Islamic': 1, u'Know': 1, u'WITNESS': 1, u'HPHEADER': 2, u'Remove': 1, u'rObjectprototypehasOwnPropertynexportstD5DuLPfunctionenfunction': 1, u'Added': 2, u'friends': 1, u'Page': 1, u'South': 2, u'Stewart': 2, u'pocketregion': 6, u'Site': 3, u'maxHeight': 1, u'\\u2018She\\u2019': 1} {u'all': 2, u'partial': 2, u'blackandwhite': 2, u'nynorsk': 2, u'Celebrated': 2, u'four': 2, u'crake': 6, u'todays': 2, u'issues': 2, u'Foundation': 6, u'suicide': 2, u'1943': 2, u'1940': 2, u'arid': 2, u'languages': 4, u'Dansk': 2, u'under': 4, u'Day': 4, u'resources': 2, u'southwest': 2, u'League': 6, u'woman': 2, u'Calvin': 2, u'Ongoing': 2, u'updates': 2, u'hatching': 2, u'Force': 2, u'Ruins': 2, u'Dont': 2, u'bravest': 2, u'Kyi': 2, u'Sloven\\u0161\\u010dina': 2, u'Reference': 2, u'crops': 2, u'notes': 2, u'Wikipedia\\xae': 2, u'list': 2, u'large': 4, u'Inc': 2, u'small': 6, u'brave': 2, u'WikipediaWikipedia': 2, u'subSaharan': 2, u'second': 2, u'Wilhelm': 4, u'bluishgrey': 2, u'depression': 2, u'selected': 2, u'Printexport': 2, u'Boys': 2, u'version': 2, u'fifth': 2, u'Wikipedias': 8, u'international': 2, u'bird': 2, u'Photograph': 2, u'led': 2, u'Nominate': 2, u'Neys': 2, u'Wanderers': 2, u'Contact': 2, u'English': 8, u'along': 4, u'Marshal': 2, u'2046': 2, u'Venetian': 2, u'search': 2, u'fledge': 2, u'technical': 2, u'impacted': 2, u'leaves': 2, u'37': 2, u'commonly': 2, u'2\\u20131': 2, u'leadership': 2, u'defeat': 2, u'usually': 2, u'history': 2, u'Technology': 2, u'elongated': 2, u'family': 4, u'Privacy': 4, u'win': 4, u'IndonesiaBahasa': 2, u'Magyar': 2, u'Languages': 2, u'Book': 4, u'Award': 2, u'apply': 2, u'precocial': 2, u'tools': 2, u'crisis': 2, u'from': 10, u'Russias': 2, u'Hungarian': 2, u'injure': 2, u'contains': 2, u'bush': 2, u'Russia': 4, u'Federal': 2, u'competition': 2, u'call': 2, u'Wikisource': 2, u'bill': 2, u'excommunicated': 2, u'informationWikidata': 2, u'bookDownload': 2, u'said': 2, u'Wiktionary': 2, u'about': 6, u'St': 2, u'American': 2, u'known': 2, u'bokm\\xe5l': 2, u'Bulletin': 2, u'town': 2, u'1995': 2, u'Pope': 4, u'Text': 2, u'modified': 2, u'Zell': 2, u'can': 2, u'male': 2, u'gastropod': 2, u'Archive': 6, u'Concordat': 2, u'breeds': 2, u'streak': 2, u'portals': 2, u'links': 2, u'activities': 4, u'frogs': 2, u'Policy': 2, u'Innocent': 2, u'also': 2, u'Myanmars': 2, u'tan': 2, u'species': 6, u'Paisley': 2, u'Terms': 2, u'provide': 2, u'travel': 2, u'PDFPrintable': 2, u'seeds': 2, u'blackish': 2, u'III': 2, u'A': 4, u'plant': 2, u'itemCite': 2, u'AttributionShareAlike': 2, u'License': 2, u'may': 6, u'waters': 2, u'after': 8, u'List': 2, u'British': 2, u'Roman': 2, u'terrorist': 2, u'date': 2, u'invasion': 2, u'WikipediaCommunity': 2, u'View': 4, u'documentdocumentElementclassNamereplace': 2, u'All': 2, u'wins': 2, u'prefers': 2, u'Japanese': 2, u'Community': 2, u'encyclopedia': 6, u'media': 2, u'Esperanto': 2, u'volunteers': 2, u'\\u010ce\\u0161tina': 2, u'chicks': 2, u'What': 2, u'Kaiser': 4, u'over': 2, u'soon': 2, u'embassy': 2, u'including': 4, u'Wikibooks': 2, u'Final': 2, u'bombing': 2, u'50000': 2, u'Vi\\u1ec7t': 2, u'Full': 2, u'Recently': 6, u'Views': 2, u'Monticello': 2, u'writing': 2, u'destroyed': 2, u'territorial': 2, u'Nederlands': 2, u'17': 2, u'2015': 6, u'coordinated': 2, u'weeks': 2, u'Grace': 2, u'accountLog': 2, u'downy': 2, u'Berlin': 2, u'Mobile': 2, u'Oman': 2, u'material': 2, u'fileSpecial': 2, u'Lomu': 2, u'one': 4, u'killed': 2, u'Srpskohrvatski': 2, u'\\u0627\\u0644\\u0639\\u0631\\u0628\\u064a\\u0629': 2, u'San': 2, u'Wikivoyage': 2, u'edit': 2, u'\\u0e44\\u0e17\\u0e22': 2, u'victory': 4, u'invertebrates': 2, u'found': 2, u'athletics': 2, u'predatory': 2, u'Airbus': 2, u'Arts': 2, u'From': 4, u'snakes': 2, u'series': 6, u'fish': 2, u'communication': 2, u'satellite': 2, u'Frog': 2, u'Sloven\\u010dina': 2, u'documentdocumentElementclassName': 2, u'hosted': 2, u'More': 14, u'Wikiversity': 2, u'Elizabeth': 2, u'Holy': 2, u'Welcome': 2, u'Wars': 2, u'investigation': 2, u'Namespaces': 2, u'manuals': 2, u'red': 4, u'city': 2, u'This': 6, u'Indonesia': 2, u'free': 6, u'five': 2, u'Windfall': 2, u'base': 2, u'Security': 2, u'marine': 2, u'nomin': 6, u'ministry': 2, u'ruins': 2, u'National': 4, u'days': 2, u'Jump': 2, u'threat': 2, u'During': 2, u'nonprofit': 4, u'south': 2, u'first': 8, u'Oladunni': 2, u'Galego': 2, u'Twains': 2, u'Royal': 2, u'Creative': 2, u'Start': 2, u'featured': 14, u'Black': 4, u'least': 4, u'comic': 2, u'fight': 2, u'Local': 2, u'mwusertokensseteditTokenpatrolTokenwatchToken': 2, u'Wikiquote': 2, u'story': 2, u'Dictionary': 2, u'Started': 2, u'Academy': 2, u'moderately': 2, u'Srpski': 2, u'anyone': 2, u'2': 2, u'listed': 2, u'Matthews': 2, u'white': 2, u'5012644': 4, u'store': 2, u'Wiki': 2, u'eyes': 2, u'murder': 2, u'releases': 2, u'season': 2, u'shallow': 4, u'A321231': 2, u'1918': 2, u'overwhelming': 2, u'Bolton': 2, u'than': 12, u'History': 2, u'wide': 6, u'13': 2, u'portalRecent': 2, u'Napoleons': 2, u'14': 2, u'inducted': 2, u'Deutsch': 2, u'brownstreaked': 2, u'18': 6, u'anniversaries': 4, u'Italiano': 2, u'project': 2, u'historical': 2, u'Biography': 2, u'function': 6, u'eventsRandom': 2, u'topics': 2, u'Search': 2, u'Monacis': 2, u'\\u0441\\u0440\\u043f\\u0441\\u043a\\u043e\\u0445\\u0440\\u0432\\u0430\\u0442\\u0441\\u043a\\u0438SuomiSvenska\\u0e44\\u0e17\\u0e22Ti\\u1ebfng': 2, u'Current': 2, u'operated': 2, u'shell': 2, u'have': 2, u'Announcements': 2, u'Watterson': 2, u'confirms': 2, u'Flight': 4, u'built': 2, u'depending': 2, u'1000000': 2, u'majority': 2, u'subjects': 2, u'Minister': 2, u'forces': 2, u'mammals': 2, u'Ask': 2, u'new': 2, u'Bosanski': 2, u'200': 2, u'\\u4e2d\\u6587': 2, u'eggs': 2, u'In': 2, u'most': 8, u'MetaWiki': 2, u'eaten': 2, u'Run': 4, u'The': 18, u'queens': 2, u'1clientjs2': 2, u'especially': 2, u'cornutus': 2, u'Wikimedia': 8, u'hereRelated': 2, u'changesUpload': 2, u'grassland': 2, u'Its': 2, u'atmosphere': 2, u'bomb': 2, u'Paris': 2, u'Agency': 2, u'Memorial': 4, u'defended': 2, u'\\u65e5\\u672c\\u8a9e': 2, u'Jonah': 2, u'\\ud55c\\uad6d\\uc5b4': 2, u'Independence': 2, u'European': 2, u'Hours': 4, u'knowledge': 2, u'earned': 2, u'menu': 2, u'writer': 2, u'MelayuBosanski\\u0411\\u044a\\u043b\\u0433\\u0430\\u0440\\u0441\\u043a\\u0438Catal\\xe0\\u010ce\\u0161tinaDanskDeutschEesti\\u0395\\u03bb\\u03bb\\u03b7\\u03bd\\u03b9\\u03ba\\u03acEspa\\xf1olEsperantoEuskara\\u0641\\u0627\\u0631\\u0633\\u06ccFran\\xe7aisGalego\\ud55c\\uad6d\\uc5b4\\u05e2\\u05d1\\u05e8\\u05d9\\u05eaHrvatskiItaliano\\u10e5\\u10d0\\u10e0\\u10d7\\u10e3\\u10da\\u10d8Latvie\\u0161uLietuvi\\u0173MagyarNederlands\\u65e5\\u672c\\u8a9eNorsk': 2, u'French': 2, u'\\u0441\\u0440\\u043f\\u0441\\u043a\\u043e\\u0445\\u0440\\u0432\\u0430\\u0442\\u0441\\u043a\\u0438': 2, u'\\u0395\\u03bb\\u03bb\\u03b7\\u03bd\\u03b9\\u03ba\\u03ac': 2, u'bombings': 2, u'black': 2, u'breeding': 2, u'httpsenwikipediaorgwindexphptitleMainPageoldid688747750': 2, u'Prime': 2, u'his': 4, u'H': 2, u'de': 2, u'coast': 2, u'despite': 2, u'129': 2, u'him': 2, u'areas': 8, u'Hiry\\u016b': 2, u'Help': 2, u'founded': 2, u'covering': 2, u'textbooks': 2, u'Sinjar': 2, u'English\\u0627\\u0644\\u0639\\u0631\\u0628\\u064a\\u0629Bahasa': 2, u'19': 2, u'common': 2, u'characteristic': 2, u'Krasnoi': 2, u'Lorenzo': 2, u'tussock': 2, u'where': 2, u'windowRLQpush': 6, u'view': 2, u'Crex': 4, u'For': 4, u'Create': 4, u'Latvie\\u0161u': 2, u'humans': 2, u'articleDonate': 2, u'Vi\\u1ec7tT\\xfcrk\\xe7e\\u0423\\u043a\\u0440\\u0430\\u0457\\u043d\\u0441\\u044c\\u043a\\u0430\\u4e2d\\u6587': 2, u'\\u2013': 22, u'barring': 2, u'sea': 2, u'discussions': 2, u'sport': 2, u'hammer': 2, u'Beirut': 2, u'siphonal': 2, u'pageContentsFeatured': 2, u'pictures': 2, u'away': 2, u'currently': 2, u'its': 10, u'boundaries': 2, u'pump': 2, u'Part': 2, u'3\\u201311': 2, u'birds': 2, u'email': 4, u'pictured': 6, u'available': 4, u'terms': 2, u'underparts': 2, u'Disclaimers': 2, u'Aung': 2, u'Sri': 2, u'aircraft': 4, u'Eesti': 2, u'African': 6, u'Directory': 2, u'article': 8, u'srpskiSrpskohrvatski': 2, u'grass': 6, u'last': 2, u'brown': 2, u'Ti\\u1ebfng': 2, u'distinctively': 2, u'Worms': 2, u'against': 2, u'display': 2, u'Nigerian': 2, u'Tours': 2, u'Sherlock': 2, u'Calaveras': 2, u'Wikispecies': 2, u'Developers': 2, u'tone': 2, u'simple': 2, u'others': 2, u'migrant': 4, u'written': 2, u'learning': 2, u'news': 6, u'War': 2, u'\\u0420\\u0443\\u0441\\u0441\\u043a\\u0438\\u0439': 2, u'poem': 2, u'Kurdish': 2, u'west': 2, u'windowRLQ': 12, u'trademark': 2, u'been': 2, u'Melanie': 2, u'territory': 2, u'Women': 2, u'1210': 2, u'egregia': 2, u'sufficient': 2, u'Cry': 2, u'great': 2, u'Catal\\xe0': 2, u'policy': 2, u'1865': 2, u'World': 4, u'improved': 2, u'an': 6, u'Navigation': 4, u'Michel': 2, u'Secretary': 2, u'Holmes': 2, u'Todays': 2, u'\\u0641\\u0627\\u0631\\u0633\\u06cc': 2, u'belly': 2, u'straight': 2, u'Lietuvi\\u0173': 2, u'WT1190F': 2, u'Recent': 2, u'near': 2, u'Other': 2, u'policies': 2, u'Church': 6, u'Battle': 4, u'guide': 2, u'Euskara': 2, u'equator': 2, u'site': 2, u'Tyrone': 2, u'itself': 4, u'\\u05e2\\u05d1\\u05e8\\u05d9\\u05ea': 2, u'commanded': 2, u'Main': 6, u'Complete': 2, u'1812': 2, u'author': 2, u'Retrieved': 2, u'began': 2, u'mwconfigsetwgBackendResponseTime98wgHostnamemw1095': 2, u'shorter': 2, u'Did': 2, u'250000': 2, u'largest': 2, u'Variants': 2, u'Lanka': 2, u'events': 2, u'development': 2, u'UTC': 2, u'About': 2, u'AntiDoping': 2, u'snail': 4, u'nest': 2, u'published': 4, u'rail': 2, u'IV': 2, u'Latvia': 2, u'portal': 2, u'nickname': 2, u'Norsk': 4, u'Serving': 2, u'charges': 2, u'navigation': 2, u'colour': 2, u'It': 4, u'rains': 2, u'materials': 2, u'Wikidata': 2, u'krrr': 2, u'organization': 4, u'Tools': 2, u'ambassador': 2, u'Hrvatski': 2, u'Service': 2, u'\\u0441\\u0440\\u043f\\u0441\\u043a\\u0438': 2, u'Espa\\xf1ol': 2, u'nicknamed': 2, u'Permanent': 2, u'kill': 2, u'questions': 4, u'alangaralangkkarabalangmznalangpsalangurtextdecorationnone': 2, u'coordination': 2, u'rapid': 2, u'nynorskPolskiPortugu\\xeasRom\\xe2n\\u0103\\u0420\\u0443\\u0441\\u0441\\u043a\\u0438\\u0439Sloven\\u010dinaSloven\\u0161\\u010dina\\u0421\\u0440\\u043f\\u0441\\u043a\\u0438': 2, u'campaign': 2, u'cup': 2, u'Football': 2, u'except': 2, u'day': 2, u'source': 2, u'board': 2, u'grating': 2, u'mournful': 2, u'has': 4, u'By': 6, u'On': 2, u'changesContact': 2, u'mwloaderloadmediawikipagestartupmediawikilegacywikibitsextcentralauthcentralautologinextgadgetWatchlistBaseextgadgetWatchlistGreenIndicatorsmmvheadextvisualEditordesktopArticleTargetinitextulsinitextulsinterfaceextquicksurveysinitextcentralNoticebannerControllerskinsvectorjs': 2, u'articles': 16, u'Napoleonic': 2, u'Many': 2, u'suspends': 2, u'Commons': 4, u'Air': 2, u'Muricidae': 2, u'know': 2, u'facial': 2, u'desk': 4, u'press': 2, u'world': 2, u'height': 2, u'projects': 6, u'Melayu': 2, u'Wikinews': 2, u'success': 2, u'retake': 2, u'Dawes': 2, u'Simple': 2, u'spiny': 2, u'popular': 2, u'Talk': 2, u'page': 8, u'Portugu\\xeas': 2, u'Fran\\xe7ais': 2, u'Democracy': 2, u'people': 4, u'sclientnojss': 2, u'quotations': 2, u'9268': 4, u'some': 4, u'Yazidi': 2, u'Mark': 2, u'Suu': 2, u'election': 2, u'pale': 2, u'Mary': 2, u'smallish': 2, u'Government': 2, u'clubshaped': 2, u'Jumping': 2, u'hosts': 2, u'Hobbes': 2, u'Interaction': 2, u'repository': 2, u'Baker': 2, u'Bill': 2, u'Polski': 2, u'LOr\\xe9alUNESCO': 2, u'T\\xfcrk\\xe7e': 2, u'flanks': 2, u'Emperor': 2, u'feeds': 2, u'upperparts': 2, u'Rom\\xe2n\\u0103': 2, u'sister': 2, u'Taylor': 2, u'attacks': 2, u'IAAF': 2, u'range': 10, u'carrier': 2, u'tributary': 2, u'software': 2, u'jQuery': 2, u'Use': 2, u'Cup': 4, u'librarians': 2, u'Two': 2, u'Metrojet': 4, u'Otto': 2, u'strip': 2, u'your': 2, u'canal': 2, u'1985': 2, u'ISIS': 2, u'additional': 2, u'HelpAbout': 2, u'Liverpools': 2, u'Collection': 2, u'mwconfigsetwgCanonicalNamespacewgCanonicalSpecialPageNamefalsewgNamespaceNumber0wgPageNameMainPagewgTitleMain': 2, u'mwloaderstateextglobalCssJssitereadyextglobalCssJsuserreadyuserreadyusergroupsreadymwloaderloadmediawikiactionviewpostEditsitemediawikiusermediawikihidpimediawikipagereadymediawikisearchSuggestexteventLoggingsubscriberextwikimediaEventsextnavigationTimingextgadgetteahouseextgadgetReferenceTooltipsextgadgetDRNwizardextgadgetcharinsertextgadgetrefToolbarextgadgetswitcherextgadgetfeaturedarticleslinksmmvbootstrapautostartextvisualEditortargetLoaderschemaUniversalLanguageSelectorextulseventloggerextulsinterlanguage': 2, u'start': 2, u'pagesPermanent': 2, u'prey': 2, u'November': 14, u'contentCurrent': 2, u'illuminated': 2, u'Suomi': 2, u'Science': 6, u'registered': 2, u'thesaurus': 2, u'Wikipedia': 28, u'annul': 2, u'library': 2, u'Following': 2, u'he': 2, u'mollusc': 2, u'MediaWiki': 2, u'\\u0423\\u043a\\u0440\\u0430\\u0457\\u043d\\u0441\\u044c\\u043a\\u0430': 2, u'Africa': 4, u'Svenska': 2, u'County': 2, u'Society': 2, u'below': 2, u'more': 2, u'agree': 2, u'linkPage': 2, u'deaths': 2, u'Personal': 2, u'Free': 10, u'general': 2, u'Mathematics': 2, u'moves': 2, u'Wikipediarelated': 2, u'Garland': 2, u'Read': 2, u'virtual': 2, u'other': 6, u'you': 4, u'\\u0411\\u044a\\u043b\\u0433\\u0430\\u0440\\u0441\\u043a\\u0438': 2, u'Freecontent': 4, u'picture': 2, u'Martel': 4, u'bokm\\xe5lNorsk': 2, u'Reload': 2, u'militants': 2, u'Bolinus': 2, u'tackle': 2, u'Page': 4, u'using': 4, u'Charles': 2, u'Site': 2, u'Second': 2, u'2001': 4, u'At': 2, u'Village': 2, u'Bahasa': 4, u'mwloaderimplementuseroptionsfunctionjQuerymwuseroptionssetvariantenmwloaderimplementusertokensfunction': 2, u'PagewgCurRevisionId688747750wgRevisionId688747750wgArticleId15580374wgIsArticletruewgIsRedirectfalsewgActionviewwgUserNamenullwgUserGroupswgCategorieswgBreakFramesfalsewgPageContentLanguageenwgPageContentModelwikitextwgSeparatorTransformTablewgDigitTransformTablewgDefaultDateFormatdmywgMonthNamesJanuaryFebruaryMarchAprilMayJuneJulyAugustSeptemberOctoberNovemberDecemberwgMonthNamesShortJanFebMarAprMayJunJulAugSepOctNovDecwgRelevantPageNameMainPagewgRelevantArticleId15580374wgIsProbablyEditablefalsewgRestrictionEditsysopwgRestrictionMovesysopwgIsMainPagetruewikiloverecipientwikiloveanon0wgWikiEditorEnabledModulestoolbartruedialogstruepreviewfalsepublishfalsewgBetaFeaturesFeatureswgMediaViewerOnClicktruewgMediaViewerEnabledByDefaulttruewgVisualEditorpageLanguageCodeenpageLanguageDirltrusePageImagestrueusePageDescriptionstruewgGatherShouldShowTutorialtruewgGatherEnableSample0wgGatherPageImageThumbnailuploadwikimediaorgwikipediaenthumb00eCrakeAfrican228byMarkTittley29TFAjpg100pxCrakeAfrican228byMarkTittley29TFAjpgwgULSAcceptLanguageListenusenwgULSCurrentAutonymEnglishwgFlaggedRevsParamstagsstatuslevels1quality2pristine3wgStableRevisionIdnullwgCategoryTreePageCategoryOptionsmode0hideprefix20showcounttruenamespacesfalsewgNoticeProjectwikipediawgCentralNoticeCategoriesUsingLegacyFundraisingwgWikibaseItemIdQ5296wgVisualEditorToolbarScrollOffset0': 2, u'Geography': 2}\n",
      "\n",
      "\n",
      "\n",
      "\n",
      "\n",
      "\n",
      "three words:\n",
      "function 63\n",
      "TED 40\n",
      "u003ca 36\n"
     ]
    },
    {
     "name": "stderr",
     "output_type": "stream",
     "text": [
      "C:\\Users\\ljh3\\AppData\\Local\\Enthought\\Canopy\\User\\lib\\site-packages\\IPython\\kernel\\__main__.py:43: UnicodeWarning: Unicode equal comparison failed to convert both arguments to Unicode - interpreting them as being unequal\n"
     ]
    }
   ],
   "source": [
    "#-*- coding: cp949-*-\n",
    "#-*- coding: utf-8-*-\n",
    "import urllib2\n",
    "import os\n",
    "import string\n",
    "import pickle\n",
    "import itertools\n",
    "source1 = urllib2.urlopen(\"http://cse.kut.ac.kr/\").read()\n",
    "source2 = urllib2.urlopen(\"http://www.naver.com/\").read()\n",
    "source3 = urllib2.urlopen(\"http://www.daum.net/\").read()\n",
    "source4 = urllib2.urlopen(\"http://www.nytimes.com/\").read()\n",
    "\n",
    "\n",
    "#print source # 추후 숙제 답안 제출 때엔 왼쪽 라인은 주석처리할 것\n",
    "def parsing(source):\n",
    "    from bs4 import BeautifulSoup\n",
    "    soup = BeautifulSoup(source,\"html.parser\")\n",
    "    word = soup.text\n",
    "    start = word.find('<')\n",
    "    end = word.find('>')\n",
    "    word = word[0:start] + word[end+1:]\n",
    "    \n",
    "    delet = string.punctuation\n",
    "    for i in range(len(delet)):\n",
    "        word = word.replace(delet[i],'')\n",
    "    \n",
    "    count = word.split()\n",
    "    \n",
    "    D={}\n",
    "    for word in count:\n",
    "        if word in D:\n",
    "            D[word]+=1\n",
    "        else:\n",
    "            D[word]=1\n",
    "    \n",
    "    g = ['a','and','are','as','at','be','but','by','for', \n",
    "              'if','in','into','is','it','no','not','of','on',\n",
    "              'or','s','such','t','that','the','their','then',\n",
    "              'there','these','they','this','to','was','will',\n",
    "              'with','»']\n",
    "    \n",
    "    for word in D.keys():\n",
    "        if word in g:\n",
    "            del D[word]\n",
    "\n",
    "  \n",
    "    \n",
    "    return D;\n",
    "\n",
    "\n",
    "\n",
    "\n",
    "if os.path.exists('site') == False:\n",
    "    os.mkdir('site')\n",
    "    \n",
    "site = open(\"./site/www.bbc.co.uk.html\",\"w\")\n",
    "site.write(urllib2.urlopen(\"https://www.bbc.co.uk\").read())\n",
    "site.close()\n",
    "f = open(\"./site/www.bbc.co.uk.words.frequency\", \"w\")\n",
    "pickle.dump(parsing(urllib2.urlopen(\"https://www.bbc.co.uk\").read()), f)\n",
    "f.close()\n",
    "\n",
    "site = open(\"./site/www.ted.com.html\",\"w\")\n",
    "site.write(urllib2.urlopen(\"http://www.ted.com/\").read())\n",
    "site.close()\n",
    "f = open(\"./site/www.ted.com.words.frequency\", \"w\")\n",
    "pickle.dump(parsing(urllib2.urlopen(\"http://www.ted.com\").read()), f)\n",
    "f.close()\n",
    "\n",
    "site = open(\"./site/edition.cnn.com.html\",\"w\")\n",
    "site.write(urllib2.urlopen(\"http://edition.cnn.com/\").read())\n",
    "site.close()\n",
    "f = open(\"./site/edition.cnn.com.words.frequency\", \"w\")\n",
    "pickle.dump(parsing(urllib2.urlopen(\"http://edition.cnn.com/\").read()), f)\n",
    "f.close()\n",
    "\n",
    "site = open(\"./site/www.nytimes.com.html\",\"w\")\n",
    "site.write(urllib2.urlopen(\"https://www.nytimes.com\").read())\n",
    "site.close()\n",
    "f = open(\"./site/www.nytimes.com.words.frequency\", \"w\")\n",
    "pickle.dump(parsing(urllib2.urlopen(\"http://www.nytimes.com\").read()), f)\n",
    "f.close()\n",
    "\n",
    "site = open(\"./site/en.wikipedia.org.html\",\"w\")\n",
    "site.write(urllib2.urlopen(\"https://en.wikipedia.org\").read())\n",
    "site.close()\n",
    "f = open(\"./site/en.wikipedia.org.words.frequency\", \"w\")\n",
    "pickle.dump(parsing(urllib2.urlopen(\"https://en.wikipedia.org\").read()), f)\n",
    "f.close()\n",
    "\n",
    "\n",
    "\n",
    "f1 = open(\"./site/www.bbc.co.uk.words.frequency\",\"r\")\n",
    "t1 = pickle.load(f1)\n",
    "\n",
    "f2 = open(\"./site/www.ted.com.words.frequency\", \"r\")\n",
    "t2 = pickle.load(f2)\n",
    "\n",
    "\n",
    "f3 = open(\"./site/edition.cnn.com.words.frequency\", \"r\")\n",
    "t3 = pickle.load(f3)\n",
    "\n",
    "\n",
    "f4 = open(\"./site/www.nytimes.com.words.frequency\", \"r\")\n",
    "t4 = pickle.load(f4)\n",
    "\n",
    "f5 = open(\"./site/en.wikipedia.org.words.frequency\", \"r\")\n",
    "t5 = pickle.load(f5)\n",
    "\n",
    "def words(*args):\n",
    "        l = [['0',0], ['0',0], ['0',0]]\n",
    "        \n",
    "        for x in args:\n",
    "            for keyword, count in x.items():\n",
    "                if l[0][1] < count:\n",
    "                    \n",
    "                    l[1:3] =l[0:2]\n",
    "                    l[0] = [keyword, count]\n",
    "                elif l[1][1] < count:\n",
    "                    l[2:3] = l[1:2]\n",
    "                    l[1] = [keyword, count]\n",
    "                elif l[2][1] < count:\n",
    "                    l[2] = [keyword, count]\n",
    "        print \"three words:\"\n",
    "        for key, value in l:\n",
    "            print key, value\n",
    "print t1,t2,t3,t4,t5\n",
    "print \"\\n\\n\\n\\n\\n\"\n",
    "words(t1,t2,t3,t4,t5)\n"
   ]
  },
  {
   "cell_type": "markdown",
   "metadata": {},
   "source": [
    "과제3에서 했던 코드를 불러온 뒤 g에 불용어를 저장한 후 사전 D를 for문을 돌려 불용어가 있을 경우 del을 통해 삭제해 줍니다.\n",
    "생성되는 파일10개를 저장 할 site라는 폴더를 만들어 준 뒤 각 사이트들의 소스를 불러와 저장하고 pickle을 사용하여 파싱된 최종 값을 저장 해줍니다.\n",
    "pickle.dump를 통해 다시 데이터를 불러온 뒤 t1~t5에 저장 합니다.\n",
    "이후 words() 함수를 통해 제일 큰값 3개를 불러오는데 들어온 모든 사전을 for문을 돌려 count값이 제일크면 리스트 l에 맨 왼쪽에 들어오고 원래 있던 리스트는 뒤로 밀리도록 코딩을 하였습니다. 최종적으로  function 63 TED 40 u003ca 36 이 출력 되었습니다."
   ]
  }
 ],
 "metadata": {
  "kernelspec": {
   "display_name": "Python 2",
   "language": "python",
   "name": "python2"
  },
  "language_info": {
   "codemirror_mode": {
    "name": "ipython",
    "version": 2
   },
   "file_extension": ".py",
   "mimetype": "text/x-python",
   "name": "python",
   "nbconvert_exporter": "python",
   "pygments_lexer": "ipython2",
   "version": "2.7.9"
  }
 },
 "nbformat": 4,
 "nbformat_minor": 0
}
