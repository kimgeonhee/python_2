{
 "cells": [
  {
   "cell_type": "markdown",
   "metadata": {},
   "source": [
    "#과제 4"
   ]
  },
  {
   "cell_type": "code",
   "execution_count": 44,
   "metadata": {
    "collapsed": false
   },
   "outputs": [
    {
     "name": "stdout",
     "output_type": "stream",
     "text": [
      "cat dog\n",
      "dog pig\n",
      "ham bird\n",
      "pig ham\n"
     ]
    }
   ],
   "source": [
    "'''1) 파일 s.txt을 읽어서 각 라인들에 있는 첫 번째 단어(문자열)들을 기준으로 라인별 정렬후 파일 s1.txt에 \n",
    "그 결과를 기록하는 코드를 작성하시오. 즉, 프로그램 수행 후 s1.txt에 있는 파일 내용은 다음과 같다\n",
    "\n",
    "cat dog\n",
    "dog pig\n",
    "ham bird\n",
    "pig ham\n",
    "\n",
    "'''\n",
    "\n",
    "\n",
    "r=[]\n",
    "f=open('s.txt')\n",
    "l=f.readlines()\n",
    "l.sort()\n",
    "for x in l:\n",
    "    r.append(x.strip('\\n'))\n",
    "r=\"\\n\".join(r)\n",
    "print r\n",
    "f1=open('s1.txt','w')\n",
    "f1.write(r)\n"
   ]
  },
  {
   "cell_type": "markdown",
   "metadata": {},
   "source": [
    "s파일을 읽어 readlines()를 사용해 줄마다 읽어 리스트로 저장합니다. 이후 sort()로 정렬 하고 for문을 사용하여 개행문자를 지운 문자열을 새로운 리스트 r에 저장하여 줍니다.\n",
    "이후 join() 매소드를 이용해 각 문자열을 개행 시켜 주고 이를 파일 입력 방법으로 s1에 r을 기록 하여줍니다."
   ]
  },
  {
   "cell_type": "code",
   "execution_count": 64,
   "metadata": {
    "collapsed": false
   },
   "outputs": [
    {
     "name": "stdout",
     "output_type": "stream",
     "text": [
      "ham bird\n",
      "cat dog\n",
      "pig ham\n",
      "dog pig\n"
     ]
    }
   ],
   "source": [
    " '''- 2) 파일 s.txt을 읽어서 각 라인에 있는 두 번째 단어(문자열) 자체들을 기준으로 라인별 정렬후 파일 s2.txt에 \n",
    " 그 결과를 기록하는 코드를 작성하시오. 즉, 프로그램 수행 후 s2.txt에 있는 파일 내용은 다음과 같다.\n",
    "\n",
    "\n",
    " ham bird\n",
    " cat dog\n",
    " pig ham\n",
    " dog pig      '''\n",
    "\n",
    "\n",
    "f=open('s.txt')\n",
    "l=f.readlines()\n",
    "d={}\n",
    "for x in l:\n",
    "    t=x.split()\n",
    "    d[t[1]]=t[0]\n",
    "s=d.keys()\n",
    "s.sort()\n",
    "\n",
    "r=[]\n",
    "for x in s:\n",
    "    r.append(d[x]+' '+x)\n",
    "r=\"\\n\".join(r)\n",
    "print r\n",
    "    \n",
    "f2=open('s2.txt','w')\n",
    "f2.write(r)"
   ]
  },
  {
   "cell_type": "markdown",
   "metadata": {},
   "source": [
    "파일 s를 열어 라인 별로 문자열을 읽어서 리스트 l에 저장 합니다.\n",
    "그후 두 개의 문자를 split()으로 쪼개어 두 번째 문자를 사전의 킷값으로 첫 번째 문자를 사전의 아이템으로 넣어 줍니다. 그 후 킷값을 정렬 하여 주고 정렬된 킷값을 for문을 돌려 아이템에 있던 문자가 먼저 나오고 킷값이 나오도록 리스트에 저장 하여 줍니다. 그 후 join을 사용해 각 문자열을 개행 시켜 줍니다. 그리고 파일쓰기를 사용해 s2에 저장 하여줍니다."
   ]
  },
  {
   "cell_type": "code",
   "execution_count": 78,
   "metadata": {
    "collapsed": false,
    "scrolled": true
   },
   "outputs": [
    {
     "name": "stdout",
     "output_type": "stream",
     "text": [
      "pig ham cat \n",
      "dog ham bird \n",
      "dog pig \n"
     ]
    }
   ],
   "source": [
    "'''3) 파일 s.txt을 읽어서 각 라인들에 있는 모든 단어들을 순차적으로 다시 나열하되 각 라인에 세 개의 단어들이 오도록 하여 s3.txt에 \n",
    "기록하는 코드를 작성하시오. 즉, 프로그램 수행 후 s3.txt에 있는 파일 내용은 다음과 같다.\n",
    "\n",
    "\n",
    "pig ham cat\n",
    "dog ham bird\n",
    "dog pig\n",
    "'''\n",
    "f=open('s.txt')\n",
    "n=f.read().split()\n",
    "i=0\n",
    "r=[]\n",
    "for x in n:\n",
    "    i += 1\n",
    "    r.append(x+' ')\n",
    "    if i % 3 == 0:\n",
    "        r.append('\\n')\n",
    "        \n",
    "r=\"\".join(r)\n",
    "print r\n",
    "f3=open('s3.txt','w')\n",
    "f3.write(r)\n",
    "\n",
    "\n"
   ]
  },
  {
   "cell_type": "markdown",
   "metadata": {},
   "source": [
    "파일을 읽어 온 뒤 모든 문자를 split()으로 쪼개어 리스트 n에 저장 하여 줍니다. 이것을 for문을 이용해 모든 문자를 리스트 r에 저장하는데 문자 3개가 올때마다 개행이 되도록 if문을 써줍니다.\n",
    "리스트에 저장된 값들을 join()을 통해 하나의 문자열로 합쳐 줍니다.\n",
    "파일 쓰기를 통해 s3에 r을 저장합니다."
   ]
  },
  {
   "cell_type": "code",
   "execution_count": null,
   "metadata": {
    "collapsed": false
   },
   "outputs": [
    {
     "name": "stdout",
     "output_type": "stream",
     "text": [
      "Welcome to our Service\n",
      "\n",
      "1. Sign up\n",
      "2. Sign in\n",
      "3. Quit \n"
     ]
    }
   ],
   "source": [
    "\n",
    "# -*- coding: utf-8 -*-\n",
    "import sha\n",
    "import os\n",
    "import pickle\n",
    "\n",
    "def print_menu():\n",
    "    print 'Welcome to our Service\\n'\n",
    "    print '1. Sign up'\n",
    "    print '2. Sign in'\n",
    "    print '3. Quit '\n",
    "    \n",
    "def signup(numbers):\n",
    "    numbers = {}\n",
    "    \n",
    "    if os.path.exists('access.txt') == False:\n",
    "        f = open('access.txt', 'w')\n",
    "        f.close()\n",
    "        \n",
    "    f = open('access.txt', 'r')\n",
    "    for line in f:\n",
    "        ids = line.split(':')[0]\n",
    "        password = line.split(':')[1].split(',')[0][1:]\n",
    "        name = line.split(':')[1].split(',')[1][1:]\n",
    "        school = line.split(':')[1].split(',')[2][1:].strip()\n",
    "        numbers[ids] = (password, name, school)\n",
    "    f.close()\n",
    "        \n",
    "    print '1. Sign up'\n",
    "    while True:\n",
    "        Id=raw_input(\" Id: \")\n",
    "        if Id in numbers:\n",
    "            print \"Sorry, the entered ID is already used.\"\n",
    "            continue\n",
    "        else:\n",
    "            break\n",
    "    Password=raw_input(\" Password: \")\n",
    "    Name=raw_input(\" name: \")\n",
    "    School=raw_input(\" School: \")\n",
    "    Passwordchange=sha.new(Password).hexdigest()\n",
    "    numbers[Id]=Passwordchange,Name,School\n",
    "    \n",
    "    f = open('access.txt', 'a')\n",
    "    for ids in numbers:\n",
    "        f.write(ids + ': ' + numbers[ids][0] + ', ' + numbers[ids][1] + ', ' + numbers[ids][2] + '\\n')\n",
    "    \n",
    "    \n",
    "def signin(numbers):\n",
    "    numbers = {}\n",
    "    \n",
    "    if os.path.exists('access.txt') == False:\n",
    "        f = open('access.txt', 'w')\n",
    "        f.close()\n",
    "        \n",
    "    f = open('access.txt', 'r')\n",
    "    for line in f:\n",
    "        ids = line.split(':')[0]\n",
    "        password = line.split(':')[1].split(',')[0][1:]\n",
    "        name = line.split(':')[1].split(',')[1][1:]\n",
    "        school = line.split(':')[1].split(',')[2][1:].strip()\n",
    "        \n",
    "        numbers[ids] = (password, name, school)\n",
    "    f.close()\n",
    "    \n",
    "    print '2. Sign in'\n",
    "    Id=raw_input(\" Enter Id: \")\n",
    "    if Id in numbers:\n",
    "        Password=raw_input(\" Enter Password: \")\n",
    "        Passwordchange1=sha.new(Password).hexdigest()\n",
    "        if numbers[Id][0] == Passwordchange1:\n",
    "            print 'Hello '+numbers[Id][1]\n",
    "            print numbers[Id][1]\n",
    "        else:\n",
    "            print 'Sorry, the entered password is not correct'\n",
    "    else:\n",
    "        print 'Sorry, you are not a registered member.'\n",
    "    \n",
    "def quit(numbers):\n",
    "     print exit()\n",
    "\n",
    "# __main__\n",
    "numbers={}\n",
    "menu_choice=0\n",
    "print_menu()\n",
    "while True:\n",
    "    menu_choice=input(\" Enter number: \")\n",
    "    if menu_choice==1:\n",
    "        signup(numbers)\n",
    "    elif menu_choice==2:\n",
    "        signin(numbers)\n",
    "    elif menu_choice==3:\n",
    "        break\n",
    "    if menu_choice!=3:\n",
    "        print_menu()\n",
    "\n"
   ]
  },
  {
   "cell_type": "code",
   "execution_count": null,
   "metadata": {
    "collapsed": true
   },
   "outputs": [],
   "source": []
  },
  {
   "cell_type": "code",
   "execution_count": 1,
   "metadata": {
    "collapsed": false
   },
   "outputs": [
    {
     "name": "stdout",
     "output_type": "stream",
     "text": [
      "[0.0, 0.1, 0.2, 0.30000000000000004, 0.4]\n",
      "[1.0, 1.1, 1.2000000000000002, 1.3000000000000003, 1.4000000000000004, 1.5000000000000004, 1.6000000000000005, 1.7000000000000006, 1.8000000000000007, 1.9000000000000008]\n",
      "[2.2, 2.7, 3.2, 3.7]\n"
     ]
    }
   ],
   "source": [
    "'''•[3번 문제] range() 함수와 유사한 frange() 함수를 다음 조건을 참고하여 만드시오.◾1) frange()의 인자 구성은 다음과 같이 range와 동일하지만 각 인수들은 음수를 받지 않는다고 가정한다.\n",
    "\n",
    "range(stop)\n",
    "\n",
    "range(start, stop[, step])\n",
    "\n",
    "◾2) frange() 함수의 인자에 대한 기본 시작(start) 값은 0.0이고, 기본 단계(step) 값은 0.1이다.\n",
    "\n",
    "◾3) frange 사용 예\n",
    "\n",
    "◦3-1) frange(0.5)◦[0.0, 0.1, 0.2, 0.3, 0.4]\n",
    "\n",
    "◦3-2) frange(1.0, 2.0)◦[1.0, 1.1, 1.2, 1.3, 1.4, 1.5, 1.6, 1.7, 1.8, 1.9]\n",
    "\n",
    "◦3-3) frange(2.2, 4.0, 0.5)◦[2.2, 2.7, 3.2, 3.7]'''\n",
    "\n",
    "def frange(a, stop=0.0, step=0.1):\n",
    "    l=[]\n",
    "    if a>stop:\n",
    "        while a > stop:\n",
    "            l.append(stop)\n",
    "            stop =stop+step\n",
    "    elif a<stop :\n",
    "        while a < stop:\n",
    "            l.append(a)\n",
    "            a =a+step\n",
    "    return l\n",
    "\n",
    "        \n",
    "\n",
    "print frange(0.5)\n",
    "print frange(1.0,2.0)\n",
    "print frange(2.2,4.0,0.5)\n",
    "\n"
   ]
  },
  {
   "cell_type": "markdown",
   "metadata": {
    "collapsed": true
   },
   "source": [
    "frange() 함수에 숫자가 한 개만 들어오면 a에 저장 되므로 a값을 마지막값이되고 stop 값이 0.0으로 초기값이 되도록 합니다. 그래서 while문을 돌려 stop값이 0.1씩 커지면서 a값과 같아지면 종료 되도록 해줍니다. 함수에 숫자가 2개 들어올 때는 처음 숫자가 a에 저장되고 두 번째 stop값이 들어온 두 번째 숫자로 바뀌어 while문이 실행됩니다. 3개가 들어올 때도 마찬가지이며 3번째 숫자는 step에 저장 됩니다.  "
   ]
  },
  {
   "cell_type": "code",
   "execution_count": 2,
   "metadata": {
    "collapsed": false
   },
   "outputs": [
    {
     "name": "stdout",
     "output_type": "stream",
     "text": [
      "0\n",
      "3\n",
      "15\n",
      "5\n"
     ]
    }
   ],
   "source": [
    "'''가변인수를 받는 함수 sum()을 다음과 같은 조건을 참고하여 구현하시오\n",
    "•sum() 사용 예 \n",
    "\n",
    "◾sum()◦0\n",
    "\n",
    "◾sum(1, 2)◦3\n",
    "\n",
    "◾sum(1, 2, 3, 4, 5)◦15\n",
    "\n",
    "◾sum(1, 5, 7, 2, -10)◦5\n",
    "\n",
    "'''\n",
    "def sum( *arg):\n",
    "    l=arg\n",
    "    a=0\n",
    "    for x in l:\n",
    "        a=a+x\n",
    "    print a\n",
    "\n",
    "sum()\n",
    "sum(1, 2)\n",
    "sum(1, 2, 3, 4, 5)\n",
    "sum(1, 5, 7, 2,-10)\n",
    "\n",
    "\n",
    "\n"
   ]
  },
  {
   "cell_type": "markdown",
   "metadata": {},
   "source": [
    "가변인수들을 받아 for문으로 모두 더해주고 그것을 출력하는 함수입니다."
   ]
  },
  {
   "cell_type": "code",
   "execution_count": 6,
   "metadata": {
    "collapsed": false
   },
   "outputs": [
    {
     "name": "stdout",
     "output_type": "stream",
     "text": [
      "ASAP\n"
     ]
    }
   ],
   "source": [
    "'''여러 단어로 이루어진 문자열을 입력받아 각 단어의 첫글자로 이루어진 단어를 대문자로 출력하는 myinitial() 함수를 다음 조건을 참고하여 작성하시오.\n",
    "•1) 다음에 제시되는 함수들을 모두 이용해야 한다.\n",
    "◾split\n",
    "◾map\n",
    "◾join\n",
    "\n",
    "•2) myinitial() 함수 사용 예\n",
    "◾myinitial(\"as soon as possible\")\n",
    "◦ASAP\n",
    "'''\n",
    "\n",
    "def myinitial(l):\n",
    "    l=l.title()\n",
    "    l=l.split()\n",
    "    y=map(lambda x: x[0],l)\n",
    "    y=\"\".join(y)\n",
    "    print y\n",
    "    \n",
    "myinitial(\"as soon as possible\")"
   ]
  },
  {
   "cell_type": "markdown",
   "metadata": {},
   "source": [
    "받은 문자의 각 단어의 첫 번째를 대문자로 바꾸어주는 title()을 쓰고 각 단어를 split()으로 쪼개어 줍니다 그리고 map함수를 써서 리스트의 단어들의 첫 번째 글자를 y에 저장해 준 뒤 join()을 사용해 각 글자들을 하나의 문자로 출력 했습니다."
   ]
  },
  {
   "cell_type": "code",
   "execution_count": 7,
   "metadata": {
    "collapsed": false
   },
   "outputs": [
    {
     "name": "stdout",
     "output_type": "stream",
     "text": [
      "17\n",
      "5736396\n"
     ]
    }
   ],
   "source": [
    "'''10 이하의 소수를 모두 더하면 2 + 3 + 5 + 7 = 17 이 됩니다.\n",
    "\n",
    "이백만(2,000,000) 이하 소수의 합은 얼마입니까?\n",
    "'''\n",
    "\n",
    "\n",
    "def primenumber(i):\n",
    "    s=0\n",
    "    for num in range(2,i+1):\n",
    "        co = 0\n",
    "        for n in range(1,num+1):\n",
    "            if num %n ==0:\n",
    "                co +=1\n",
    "            if co >2:\n",
    "                break\n",
    "        if co ==2:\n",
    "            s=s+num\n",
    "    return s\n",
    "\n",
    "print primenumber(10)\n",
    "print primenumber(10000)"
   ]
  },
  {
   "cell_type": "markdown",
   "metadata": {},
   "source": [
    "처음 과제했던 소수를 찾는 방법을 가지고와 소수를 찾으면 s에 더해주는 방식으로 마지막에 s를 출력하였습니다. 여기서 이백만이 너무커 시간이 오래 걸려 10000을 출력하는 것으로 대신 하였습니다."
   ]
  },
  {
   "cell_type": "code",
   "execution_count": 8,
   "metadata": {
    "collapsed": false
   },
   "outputs": [
    {
     "name": "stdout",
     "output_type": "stream",
     "text": [
      "70600674\n"
     ]
    }
   ],
   "source": [
    "'''위에서 대각선 방향으로 연속된 붉은 숫자 네 개의 곱은 26 × 63 × 78 × 14 = 1788696 입니다.\n",
    "\n",
    "그러면 수평, 수직, 또는 대각선 방향으로 연속된 숫자 네 개의 곱 중 최대값은 얼마입니까?\n",
    "'''\n",
    "\n",
    "s = \"\"\"\n",
    "08 02 22 97 38 15 00 40 00 75 04 05 07 78 52 12 50 77 91 08\n",
    "49 49 99 40 17 81 18 57 60 87 17 40 98 43 69 48 04 56 62 00\n",
    "81 49 31 73 55 79 14 29 93 71 40 67 53 88 30 03 49 13 36 65\n",
    "52 70 95 23 04 60 11 42 69 24 68 56 01 32 56 71 37 02 36 91\n",
    "22 31 16 71 51 67 63 89 41 92 36 54 22 40 40 28 66 33 13 80\n",
    "24 47 32 60 99 03 45 02 44 75 33 53 78 36 84 20 35 17 12 50\n",
    "32 98 81 28 64 23 67 10 26 38 40 67 59 54 70 66 18 38 64 70\n",
    "67 26 20 68 02 62 12 20 95 63 94 39 63 08 40 91 66 49 94 21\n",
    "24 55 58 05 66 73 99 26 97 17 78 78 96 83 14 88 34 89 63 72\n",
    "21 36 23 09 75 00 76 44 20 45 35 14 00 61 33 97 34 31 33 95\n",
    "78 17 53 28 22 75 31 67 15 94 03 80 04 62 16 14 09 53 56 92\n",
    "16 39 05 42 96 35 31 47 55 58 88 24 00 17 54 24 36 29 85 57\n",
    "86 56 00 48 35 71 89 07 05 44 44 37 44 60 21 58 51 54 17 58\n",
    "19 80 81 68 05 94 47 69 28 73 92 13 86 52 17 77 04 89 55 40\n",
    "04 52 08 83 97 35 99 16 07 97 57 32 16 26 26 79 33 27 98 66\n",
    "88 36 68 87 57 62 20 72 03 46 33 67 46 55 12 32 63 93 53 69\n",
    "04 42 16 73 38 25 39 11 24 94 72 18 08 46 29 32 40 62 76 36\n",
    "20 69 36 41 72 30 23 88 34 62 99 69 82 67 59 85 74 04 36 16\n",
    "20 73 35 29 78 31 90 01 74 31 49 71 48 86 81 16 23 57 05 54\n",
    "01 70 54 71 83 51 54 69 16 92 33 48 61 43 52 01 89 19 67 48\n",
    "\"\"\"\n",
    "\n",
    "s = s.replace('\\n', ' ')\n",
    "def maxnum():\n",
    "    numbers = [int(x) for x in s.split()]\n",
    "\n",
    "    from functools import reduce\n",
    "    def pr(x, y):\n",
    "        return reduce(lambda x,y:x*y, [numbers[y*20+x+i] for i in range(4)])\n",
    "\n",
    "    def pd(x, y):\n",
    "        return reduce(lambda x,y:x*y, [numbers[(y+i)*20+x] for i in range(4)])    \n",
    "\n",
    "    def pdr(x, y):\n",
    "        return reduce(lambda x,y:x*y, [numbers[(y+i)*20+x+i] for i in range(4)])    \n",
    "\n",
    "    def pdl(x, y):\n",
    "        return reduce(lambda x,y:x*y, [numbers[(y+i)*20+x-i] for i in range(4)])    \n",
    "\n",
    "    p1 = max([pr(x, y) for x in range(20-3) for y in range(20)])\n",
    "    p2 = max([pd(x, y) for x in range(20) for y in range(20-3)])\n",
    "    p3 = max([pdr(x, y) for x in range(20-3) for y in range(20-3)])\n",
    "    p4 = max([pdl(x, y) for x in range(3, 20) for y in range(20-3)])\n",
    "\n",
    "    print(max(p1, p2, p3, p4))\n",
    "\n",
    "maxnum()\n"
   ]
  },
  {
   "cell_type": "markdown",
   "metadata": {},
   "source": [
    "s의 개행 문자를 띄어쓰기로 바꾸어 한 줄로 만들어줍니다.\n",
    "pr(x, y)) 함수는 reduce를 사용하여 x,y값을 토대로 나온 값을 차례대로 오른쪽으로 4개씩 곱 해주는 함수입니다.\n",
    "pd(x, y) 함수는 마찬가지로 받은 x,y값을 토대로 나온 numbers의 값을 찍어 아래로 4개를 곱해주는 함수입니다.\n",
    "pdr(x, y) 함수는 마찬가지로 기준값의 오른쪽 아래 대각선 방향으로 4개를 곱해줍니다.\n",
    "pdl(x, y) 함수도 마찬가지로 기준값의 왼쪽 아래 대각선 방향으로 4개를 곱해주는 함수입니다.\n",
    "이 함수들을 이중 for문을 돌려 각각의 값을 구한 뒤 max()를 사용해 각 함수의 결과값중 최대값들을 찾습니다. 이후 나온 최대값들을 다시 max()를 사용해 제일 큰 값을 출력합니다."
   ]
  },
  {
   "cell_type": "code",
   "execution_count": 9,
   "metadata": {
    "collapsed": false
   },
   "outputs": [
    {
     "name": "stdout",
     "output_type": "stream",
     "text": [
      "76576500\n"
     ]
    }
   ],
   "source": [
    "def factors(n):\n",
    "    k = 1\n",
    "    res = 0\n",
    "    while k * k < n:\n",
    "        if n % k == 0:\n",
    "            res += 2\n",
    "        k += 1\n",
    "    if k * k == n:\n",
    "        res += 1\n",
    "    return res\n",
    "\n",
    "n, k = 0, 1\n",
    "while factors(n) < 500:\n",
    "    n += k\n",
    "    k += 1\n",
    "\n",
    "print n"
   ]
  },
  {
   "cell_type": "markdown",
   "metadata": {},
   "source": [
    "먼저 아래 while문의 factors(n)은 n의 약수의 개수를 반환해 주는 값입니다. 약수의 개수가 500개가 되기 전까지 n에 k의 값이 더해지는데 k는 while문이 한번 실행될때마다 1씩 증가하므로 n값은 삼각수입니다. \n",
    " 약수의 개수를 구하는 함수 factors(n)은 while문을 돌려 n을 k로 나누어 나머지가 없으면 약수가 있으므로 약수의 갯수를 2개 증가시켰습니다. 또 두 값이 같을 땐 약수의 갯수를 1 증가 시키게 하였습니다."
   ]
  },
  {
   "cell_type": "code",
   "execution_count": 10,
   "metadata": {
    "collapsed": false
   },
   "outputs": [
    {
     "name": "stdout",
     "output_type": "stream",
     "text": [
      "837799\n"
     ]
    }
   ],
   "source": [
    "'''양의 정수 n에 대하여, 다음과 같은 계산 과정을 반복하기로 합니다.\n",
    "\n",
    "n → n / 2  (n이 짝수일 때)\n",
    "n → 3 n + 1 (n이 홀수일 때)\n",
    "\n",
    "13에 대하여 위의 규칙을 적용해보면 아래처럼 10번의 과정을 통해 1이 됩니다.\n",
    "\n",
    "13 → 40 → 20 → 10 → 5 → 16 → 8 → 4 → 2 → 1\n",
    "\n",
    "아직 증명은 되지 않았지만, 이런 과정을 거치면 어떤 수로 시작해도 마지막에는 1로 끝나리라 생각됩니다. \n",
    "(역주: 이것은 콜라츠 추측 Collatz Conjecture이라고 하며, 이런 수들을 우박수 hailstone sequence라 부르기도 합니다)\n",
    "\n",
    "그러면, 백만(1,000,000) 이하의 수로 시작했을 때 1까지 도달하는데 가장 긴 과정을 거치는 숫자는 얼마입니까?\n",
    "'''\n",
    "\n",
    "def hailstone(num):\n",
    "    count =1\n",
    "    while num>1:\n",
    "        count +=1\n",
    "        if num%2 ==0:\n",
    "            num=num/2\n",
    "        else :\n",
    "            num=3*num+1\n",
    "    return count\n",
    "      \n",
    "i=hailstone(1)\n",
    "\n",
    "for x in range(1,1000001):\n",
    "    if i <hailstone(x):\n",
    "        i=hailstone(x)\n",
    "        k=x\n",
    "        \n",
    "print k\n",
    "        "
   ]
  },
  {
   "cell_type": "markdown",
   "metadata": {},
   "source": [
    "hailstone() 함수에 우박수의 개념대로 while문으로 코딩을 한뒤 while문이 한번 돌 때마다 카운트를 1씩 올려 과정의 횟수를 세어 결과값을 주도록 합니다.\n",
    "그리고 for문을 100만까지 돌려 count가 큰 값이 올때마다 I에 저장을 하여 최종적으로 I에는 가장 큰 count 값을 가지는 숫자가 오고 이와 동시에 k에 카운트 I값이 출력되도록 넣은 해당숫자를 저장해주어 결국 마지막에 가장큰 카운트를 출력하는 num값이 k에 저장 되므로 k를 출력하면 답이 나옵니다. "
   ]
  },
  {
   "cell_type": "code",
   "execution_count": 11,
   "metadata": {
    "collapsed": false
   },
   "outputs": [
    {
     "name": "stdout",
     "output_type": "stream",
     "text": [
      "137846528820\n"
     ]
    }
   ],
   "source": [
    "'''아래와 같은 2 × 2 격자의 왼쪽 위 모서리에서 출발하여 오른쪽 아래 모서리까지 도달하는 길은 모두 6가지가 있습니다 (거슬러 가지는 않기로 합니다).\n",
    "\n",
    "그러면 20 × 20 격자에는 모두 몇 개의 경로가 있습니까?\n",
    "'''\n",
    "\n",
    "def Fact(x):\n",
    "    if x == 0:\n",
    "        return 1\n",
    "    else:\n",
    "        return x * Fact(x-1)\n",
    "\n",
    "print Fact(40)/(Fact(20) * Fact(20))\n"
   ]
  },
  {
   "cell_type": "markdown",
   "metadata": {},
   "source": [
    "경로의 개수를 구하는 방법으로 중복을 허용하지 않고 순서를 생각하지 않은 조합을 계산하면 (m+n)!/(m!*n!)이므로 팩토리얼 함수 Fact()를 구현 하고 알맞은 값을 넣어 답을 구하였습니다."
   ]
  }
 ],
 "metadata": {
  "kernelspec": {
   "display_name": "Python 2",
   "language": "python",
   "name": "python2"
  },
  "language_info": {
   "codemirror_mode": {
    "name": "ipython",
    "version": 2
   },
   "file_extension": ".py",
   "mimetype": "text/x-python",
   "name": "python",
   "nbconvert_exporter": "python",
   "pygments_lexer": "ipython2",
   "version": "2.7.9"
  }
 },
 "nbformat": 4,
 "nbformat_minor": 0
}
