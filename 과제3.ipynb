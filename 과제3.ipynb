{
 "cells": [
  {
   "cell_type": "markdown",
   "metadata": {},
   "source": [
    "# 3번째 과제#\n",
    "\n"
   ]
  },
  {
   "cell_type": "code",
   "execution_count": 6,
   "metadata": {
    "collapsed": false
   },
   "outputs": [
    {
     "name": "stdout",
     "output_type": "stream",
     "text": [
      "[1, 100, 4, 5]\n"
     ]
    }
   ],
   "source": [
    "#L=[1, 2, 3, 4, 5]일 때 다음 각 문장을 수행한 후의 결과를 보고 납득할 만한 이유를 설명하시오. \n",
    "\n",
    "L=[1, 2, 3, 4, 5]\n",
    "\n",
    "L[1:3] =[100]\n",
    "print L\n"
   ]
  },
  {
   "cell_type": "markdown",
   "metadata": {},
   "source": [
    "리스트 L에서 1부터 3까지에 100을 저장 하는 것으로 2,3 대신 100을 넣어 [1, 100, 4, 5] 가 출력됩니다."
   ]
  },
  {
   "cell_type": "code",
   "execution_count": 45,
   "metadata": {
    "collapsed": false,
    "scrolled": true
   },
   "outputs": [
    {
     "name": "stdout",
     "output_type": "stream",
     "text": [
      "[1, 100, 4, 5]\n"
     ]
    }
   ],
   "source": [
    "L=[1, 2, 3, 4, 5]\n",
    "\n",
    "L[1:3] = [(100)]\n",
    "\n",
    "print L"
   ]
  },
  {
   "cell_type": "markdown",
   "metadata": {},
   "source": [
    "리스트 L에서 1부터 3까지에 100을 저장 하는 것으로 2,3 대신 리스트로 100을 넣어 [1, 100, 4, 5] 가 출력됩니다.(하나의 튜플을 넣어 정수 처리 되었습니다.)"
   ]
  },
  {
   "cell_type": "code",
   "execution_count": 37,
   "metadata": {
    "collapsed": false
   },
   "outputs": [
    {
     "ename": "TypeError",
     "evalue": "can only assign an iterable",
     "output_type": "error",
     "traceback": [
      "\u001b[1;31m---------------------------------------------------------------------------\u001b[0m",
      "\u001b[1;31mTypeError\u001b[0m                                 Traceback (most recent call last)",
      "\u001b[1;32m<ipython-input-37-1ad846aab580>\u001b[0m in \u001b[0;36m<module>\u001b[1;34m()\u001b[0m\n\u001b[0;32m      1\u001b[0m \u001b[0mL\u001b[0m\u001b[1;33m=\u001b[0m\u001b[1;33m[\u001b[0m\u001b[1;36m1\u001b[0m\u001b[1;33m,\u001b[0m \u001b[1;36m2\u001b[0m\u001b[1;33m,\u001b[0m \u001b[1;36m3\u001b[0m\u001b[1;33m,\u001b[0m \u001b[1;36m4\u001b[0m\u001b[1;33m,\u001b[0m \u001b[1;36m5\u001b[0m\u001b[1;33m]\u001b[0m\u001b[1;33m\u001b[0m\u001b[0m\n\u001b[1;32m----> 2\u001b[1;33m \u001b[0mL\u001b[0m\u001b[1;33m[\u001b[0m\u001b[1;36m1\u001b[0m\u001b[1;33m:\u001b[0m\u001b[1;36m3\u001b[0m\u001b[1;33m]\u001b[0m \u001b[1;33m=\u001b[0m \u001b[1;36m100\u001b[0m\u001b[1;33m\u001b[0m\u001b[0m\n\u001b[0m\u001b[0;32m      3\u001b[0m \u001b[1;32mprint\u001b[0m \u001b[0mL\u001b[0m\u001b[1;33m\u001b[0m\u001b[0m\n",
      "\u001b[1;31mTypeError\u001b[0m: can only assign an iterable"
     ]
    }
   ],
   "source": [
    "L=[1, 2, 3, 4, 5]\n",
    "L[1:3] = 100\n",
    "print L"
   ]
  },
  {
   "cell_type": "markdown",
   "metadata": {},
   "source": [
    "리스트 L에서 1:3이면 인덱스 1과2 두곳을 가르키는데 한가지 정수만을 저장하려 하여 오류가 납니다. 이때는 리스트로 바꾸어 주거나 정수 하나를 더 써주면 저장이 가능합니다."
   ]
  },
  {
   "cell_type": "code",
   "execution_count": 38,
   "metadata": {
    "collapsed": false
   },
   "outputs": [
    {
     "ename": "TypeError",
     "evalue": "can only assign an iterable",
     "output_type": "error",
     "traceback": [
      "\u001b[1;31m---------------------------------------------------------------------------\u001b[0m",
      "\u001b[1;31mTypeError\u001b[0m                                 Traceback (most recent call last)",
      "\u001b[1;32m<ipython-input-38-143eddb86e76>\u001b[0m in \u001b[0;36m<module>\u001b[1;34m()\u001b[0m\n\u001b[0;32m      1\u001b[0m \u001b[0mL\u001b[0m\u001b[1;33m=\u001b[0m\u001b[1;33m[\u001b[0m\u001b[1;36m1\u001b[0m\u001b[1;33m,\u001b[0m \u001b[1;36m2\u001b[0m\u001b[1;33m,\u001b[0m \u001b[1;36m3\u001b[0m\u001b[1;33m,\u001b[0m \u001b[1;36m4\u001b[0m\u001b[1;33m,\u001b[0m \u001b[1;36m5\u001b[0m\u001b[1;33m]\u001b[0m\u001b[1;33m\u001b[0m\u001b[0m\n\u001b[1;32m----> 2\u001b[1;33m \u001b[0mL\u001b[0m\u001b[1;33m[\u001b[0m\u001b[1;36m1\u001b[0m\u001b[1;33m:\u001b[0m\u001b[1;36m3\u001b[0m\u001b[1;33m]\u001b[0m \u001b[1;33m=\u001b[0m \u001b[1;33m(\u001b[0m\u001b[1;36m100\u001b[0m\u001b[1;33m)\u001b[0m\u001b[1;33m\u001b[0m\u001b[0m\n\u001b[0m\u001b[0;32m      3\u001b[0m \u001b[1;32mprint\u001b[0m \u001b[0mL\u001b[0m\u001b[1;33m\u001b[0m\u001b[0m\n",
      "\u001b[1;31mTypeError\u001b[0m: can only assign an iterable"
     ]
    }
   ],
   "source": [
    "L=[1, 2, 3, 4, 5]\n",
    "L[1:3] = (100)\n",
    "print L"
   ]
  },
  {
   "cell_type": "markdown",
   "metadata": {},
   "source": [
    "리스트 L에서 1:3이면 인덱스 1과2 두곳을 가르키는데 한가지 튜플만을 저장하려 하여 오류가 납니다. 이때는 리스트로 바꾸어 주거나 튜플 하나를 더 써주면 저장이 가능합니다."
   ]
  },
  {
   "cell_type": "code",
   "execution_count": 39,
   "metadata": {
    "collapsed": false,
    "scrolled": true
   },
   "outputs": [
    {
     "name": "stdout",
     "output_type": "stream",
     "text": [
      "[1, 100, 101, 102, 4, 5]\n"
     ]
    }
   ],
   "source": [
    "L=[1, 2, 3, 4, 5]\n",
    "L[1:3] = (100, 101, 102)\n",
    "print L"
   ]
  },
  {
   "cell_type": "markdown",
   "metadata": {},
   "source": [
    "리스트 L에서 1부터 3까지 즉 2,3 대신에 튜플 100 10.1 102를 저장 하여 [1, 100, 101, 102, 4, 5] 이출력됩니다. "
   ]
  },
  {
   "cell_type": "code",
   "execution_count": 41,
   "metadata": {
    "collapsed": false
   },
   "outputs": [
    {
     "name": "stdout",
     "output_type": "stream",
     "text": [
      "[1, 100, 101, 102, 4, 5]\n"
     ]
    }
   ],
   "source": [
    "L=[1, 2, 3, 4, 5]\n",
    "L[1:3] = [100, 101, 102]\n",
    "print L"
   ]
  },
  {
   "cell_type": "markdown",
   "metadata": {},
   "source": [
    "리스트 L에서 1부터 3까지 즉 2,3 대신에 리스트 100 10.1 102를 저장 하여 [1, 100, 101, 102, 4, 5] 이출력됩니다. "
   ]
  },
  {
   "cell_type": "code",
   "execution_count": 42,
   "metadata": {
    "collapsed": false
   },
   "outputs": [
    {
     "name": "stdout",
     "output_type": "stream",
     "text": [
      "[1, (100, 101, 102), 4, 5]\n"
     ]
    }
   ],
   "source": [
    "L=[1, 2, 3, 4, 5]\n",
    "L[1:3] = [(100, 101, 102)]\n",
    "print L"
   ]
  },
  {
   "cell_type": "markdown",
   "metadata": {},
   "source": [
    "리스트 L에서 1부터 3까지 즉 2,3 대신에 튜플 (100 10.1 102)을 저장 하여 [1,(100, 101, 102), 4, 5] 이출력됩니다.(하나의 튜플만 저장하면 정수 처리 되지만 두개 이상부터는 튜플로 저장됩니다.)"
   ]
  },
  {
   "cell_type": "code",
   "execution_count": 49,
   "metadata": {
    "collapsed": false
   },
   "outputs": [
    {
     "name": "stdout",
     "output_type": "stream",
     "text": [
      "[1, [100, 101, 102], 4, 5]\n"
     ]
    }
   ],
   "source": [
    "L=[1, 2, 3, 4, 5]\n",
    "L[1:3] = [[100, 101, 102]]\n",
    "print L"
   ]
  },
  {
   "cell_type": "markdown",
   "metadata": {},
   "source": [
    "리스트 L에서 1부터 3까지 즉 2,3 대신에 리스트 [100 10.1 102]를 저장 하여 [1,[100, 101, 102], 4, 5] 이 출력 됩니다.(하나의 리스트만 저장하면 정수 처리 되지만 두개 이상부터는 리스트로 저장됩니다.) "
   ]
  },
  {
   "cell_type": "code",
   "execution_count": 77,
   "metadata": {
    "collapsed": false
   },
   "outputs": [
    {
     "name": "stdout",
     "output_type": "stream",
     "text": [
      "Python and World Hello\n",
      "PythonandWorldHello\n"
     ]
    }
   ],
   "source": [
    "#문자열 S = 'Hello World and Python'에 대해 다음 요구사항에 대한 Python 코드를 제시하시오. \n",
    "s='Hello World and Python'\n",
    "L=s.split()\n",
    "L.reverse()\n",
    "s2=(\" \".join(L))\n",
    "print s2\n",
    "s2=s2.split()\n",
    "s2=(\"\".join(L))\n",
    "print s2"
   ]
  },
  {
   "cell_type": "markdown",
   "metadata": {},
   "source": [
    "문자열 s에 'Hello World and Python'을 저장 하여 줍니다. split()을 사용 하여 단어 별로 나누어 주고 이를 매소드 reverse()를 이용하여 단어들의 순서를 반대로 바꾸어 줍니다. 그 후 리스트를 문자열로 바꾸면서 한칸씩 띄워 주기위해 JOIN을 사용하여 앞에는 \" \"을 사용하여 한칸씩 띄어쓰기 해줍니다. 그 후 s2에 문자열로 저장 하여줍니다.\n",
    "이 문자열을 다시 split()으로 나눈 후에 join()을 사용하여 다시 문자열로 s2에 저장하는데 이때 앞의 \"\"에 아무것도 넣지 않으면 단어는 모두 붙어서 나옵니다. 사실 문제에서 spilt()을 사용하라고 하여서 사용했지 이 코드를 주석처리 하여도 똑같은 결과가 출력됩니다."
   ]
  },
  {
   "cell_type": "code",
   "execution_count": 1,
   "metadata": {
    "collapsed": false
   },
   "outputs": [
    {
     "name": "stdout",
     "output_type": "stream",
     "text": [
      "[1, 2, 3, 1, 2, 3, 1, 2, 3]\n",
      "[[1, 2, 3], [1, 2, 3], [1, 2, 3]]\n",
      "[1, 2, 3, 1, 2, 3, 1, 2, 3]\n",
      "[[0, 2, 3], [0, 2, 3], [0, 2, 3]]\n"
     ]
    }
   ],
   "source": [
    "'''다음 코드를 보고 물음에 답하시오.\n",
    "a = [1, 2, 3]\n",
    "b = a * 3\n",
    "c = [a] * 3\n",
    "print b\n",
    "print c  '''\n",
    "\n",
    "a = [1, 2, 3]\n",
    "b = a * 3\n",
    "c = [a] * 3\n",
    "print b\n",
    "print c\n",
    "\n",
    "a[0]=0\n",
    "\n",
    "\n",
    "print b\n",
    "print c"
   ]
  },
  {
   "cell_type": "markdown",
   "metadata": {},
   "source": [
    "b는 새로운 a를 3번 이어서 새로운 리스트 [1, 2, 3, 1, 2, 3, 1, 2, 3]를 가리키는 객체가 되었고 c는 a리스트를 3번을 가리켜 출력을 하도록 되어있습니다. 그러므로  a리스트의 값이 바뀌면 그대로 가리켜 바뀐 값을 3번 출력합니다"
   ]
  },
  {
   "cell_type": "code",
   "execution_count": 140,
   "metadata": {
    "collapsed": false
   },
   "outputs": [
    {
     "name": "stdout",
     "output_type": "stream",
     "text": [
      "['first star', 'second star', 'third star']\n"
     ]
    }
   ],
   "source": [
    "'''다음 문자열을 ':'을 기준으로 분리하여 리스트로 만들고 각 문자열의 좌우 공백을 제거하시오 (즉, 문자열 S에서 l을 만들어라) \n",
    "s = '  first star   :   second star   :    third star  '\n",
    "l = ['first star', 'second star', 'third star']\n",
    "\n",
    "1) for ~ in 문을 이용한 코드를 작성하시오. '''\n",
    "\n",
    "s = '  first star   :   second star   :    third star  '\n",
    "L=[]\n",
    "n= len(s)\n",
    "for i in range(n):\n",
    "    L+=s[i]\n",
    "\n",
    "L=''.join(L)\n",
    "L=L.split(':')\n",
    "for j in range(len(L)):\n",
    "    L[j]=L[j].strip()\n",
    "print L\n"
   ]
  },
  {
   "cell_type": "markdown",
   "metadata": {},
   "source": [
    "문자열 s를 선언한 후 리스트 L을 만들어줍니다. 그리고 0부터 문자열 크기만큼 모든 문자 하나 하나 for문을 써 리스트 L에 저장 하여 줍니다. 그리고 난 후 리스트 L을 join()을 사용하여 문자를 모두 연결 하여 줍니다. 그 후 split(‘:’)을 이용하여 :를 기준으로 리스트를 나누게 하여 줍니다. 그런 후 리스트에 포함된 원소들을 strip()을 사용하여 좌우 공백을 제거해 줍니다.\n"
   ]
  },
  {
   "cell_type": "code",
   "execution_count": null,
   "metadata": {
    "collapsed": true
   },
   "outputs": [],
   "source": [
    "#리스트 내포(list comprehension)를 이용한 코드를 작성하시오.\n",
    "\n",
    "s = '  first star   :   second star   :    third star  '\n",
    "\n",
    "n= len(s)\n",
    "L=[s[i] for i in range(n) ]\n",
    "\n",
    "L=''.join(L)\n",
    "L=L.split(':')\n",
    "for j in range(len(L)):\n",
    "    L[j]=L[j].strip()\n",
    "print L"
   ]
  },
  {
   "cell_type": "markdown",
   "metadata": {},
   "source": [
    "모두 위의 방식과 동일하고 위에서는 리스트 L을 선언하고 아래에서 for문을 이용해 L에 하나하나 문자를 넣었지만 여기서는 리스트 내포를 이용하여 리스트 L을 선언과동시에 그안에서 for문을 사용해 s의 문자열 문자를 리스트 L에 저장하였습니다. "
   ]
  },
  {
   "cell_type": "code",
   "execution_count": 5,
   "metadata": {
    "collapsed": false
   },
   "outputs": [
    {
     "name": "stdout",
     "output_type": "stream",
     "text": [
      "55\n"
     ]
    }
   ],
   "source": [
    "'''다음과 같이 0보다 큰 정수 리스트 변수 list를 인자로 받는 함수 addall(list)와 addallodd(list)를 for ~ in 리터널과 리스트 내포 방식으로 \n",
    "각각 제시하시오.\n",
    "1) addall(list) 함수 (리스트 내의 모든 정수를 더하는 함수로서 해답으로는 for ~ in 리터럴과 리스트 내포 방식으로 각각 제시하시오.)'''\n",
    "\n",
    "#for ~ in 리터럴\n",
    "def addall(list):\n",
    "    result = 0\n",
    "    for x in list:\n",
    "        result += x\n",
    "    return result\n",
    "\n",
    "print addall([1,2,3,4,5,6,7,8,9,10])\n"
   ]
  },
  {
   "cell_type": "code",
   "execution_count": 10,
   "metadata": {
    "collapsed": false
   },
   "outputs": [
    {
     "name": "stdout",
     "output_type": "stream",
     "text": [
      "55\n"
     ]
    }
   ],
   "source": [
    "#리스트 리스트내포\n",
    "def addall(list):\n",
    "    return sum(x for x in list)\n",
    "\n",
    "print addall([1,2,3,4,5,6,7,8,9,10])\n"
   ]
  },
  {
   "cell_type": "code",
   "execution_count": 11,
   "metadata": {
    "collapsed": false
   },
   "outputs": [
    {
     "name": "stdout",
     "output_type": "stream",
     "text": [
      "25\n"
     ]
    }
   ],
   "source": [
    "#2) addallodd(list) 함수 (리스트내의 모든 홀수를 더하는 함수로서 해답으로는 for ~ in 리터럴과 리스트 내포 방식으로 각각 제시하시오.)\n",
    "#for ~ in 리터럴\n",
    "def addodd(list):\n",
    "    result = 0\n",
    "    for x in list:\n",
    "        if x % 2 == 1:\n",
    "            result += x\n",
    "    return result\n",
    "\n",
    "print addodd([1,2,3,4,5,6,7,8,9,10])"
   ]
  },
  {
   "cell_type": "code",
   "execution_count": 12,
   "metadata": {
    "collapsed": false
   },
   "outputs": [
    {
     "name": "stdout",
     "output_type": "stream",
     "text": [
      "25\n"
     ]
    }
   ],
   "source": [
    "#리스트 리스트내포\n",
    "def addodd(list):\n",
    "    return sum(x for x in list if x%2)\n",
    "\n",
    "print addodd([1,2,3,4,5,6,7,8,9,10])"
   ]
  },
  {
   "cell_type": "markdown",
   "metadata": {},
   "source": [
    "1번째 함수는 간단하게 for문을 사용하여 해결하였고 리스트내포로 만든 addall() 함수는 내장함수인 sum()을 이용하여 한줄로 작성하였습니다. addodd()도 마찬가지로 2로 나누었을 때 1이 나오는 경우가 홀수 이므로 if문을 추가하여 간단하게 해결하였습니다."
   ]
  },
  {
   "cell_type": "code",
   "execution_count": 13,
   "metadata": {
    "collapsed": false
   },
   "outputs": [
    {
     "name": "stdout",
     "output_type": "stream",
     "text": [
      "{'high': [4, 5, 6], 'low': [1, 2, 3]}\n",
      "{'high': [4, 5, 6], 'low': [1, 2, 3]}\n",
      "{'high': [4, 5, 6], 'low': [1, 2, 3]}\n",
      "\n",
      "{'high': [4, 500, 6], 'low': [10, 20, 30]}\n",
      "{'high': [4, 500, 6], 'low': [10, 20, 30]}\n",
      "{'high': [4, 500, 6], 'low': [1, 2, 3]}\n"
     ]
    }
   ],
   "source": [
    "L1 = [1, 2, 3]\n",
    "L2 = [4, 5, 6]\n",
    "d = {'low':L1, 'high':L2}\n",
    "e = d\n",
    "f = d.copy()\n",
    "print d\n",
    "print e\n",
    "print f\n",
    "print\n",
    "d['low'] = [10, 20, 30]\n",
    "d['high'][1] = 500\n",
    "print d\n",
    "print e\n",
    "print f"
   ]
  },
  {
   "cell_type": "markdown",
   "metadata": {},
   "source": [
    "1) 위 코드의 수행 결과 d와 e는 항상 같은 결과를 출력한다. 그 이유는 무엇인가?\n",
    "\n",
    "e와 d는 서로 같은 주소를 공유하며 같은 객체를 가리키므로 객체의 값이 바뀌어도 같은 값을 출력합니다."
   ]
  },
  {
   "cell_type": "markdown",
   "metadata": {},
   "source": [
    "2) 위 코드의 수행 결과 마지막 f의 내용은 다음과 같다. 이 때 'high' 키의 값 내용 중 500이 출력된 이유와 'low' 키의 값 내용 중 [1, 2, 3]이 출력된 이유를 설명하시오 ([hint]: shallow copy 관점에서 설명하시오.)\n",
    "\n",
    "f는d를 copy()즉 얕은 복사인 shallow copy를 한 것으로 같은 객체를 참조하되 다른 주소에서 그것을 참조하고 있습니다. 즉 d가 가리키는 리스트를 바꾼다면 d의 주소는 바뀐 리스트를 참조하지만 f의 주소값은 원래의 객체를 참조 하게 됩니다. 여기서 d가 가리키는 리스트의 원소를 바꾸게 되면 그 객체 내에서 바뀐 것 이기 때문에 f가 같이 가리키던 객체의 원소값이 바뀐 것 이기 때문에 f는 원소값이 바뀐 원래의 객체를 참조하게 됩니다."
   ]
  },
  {
   "cell_type": "code",
   "execution_count": 48,
   "metadata": {
    "collapsed": false
   },
   "outputs": [
    {
     "name": "stdout",
     "output_type": "stream",
     "text": [
      "[('five', 5), ('four', 4), ('one', 1), ('three', 3), ('two', 2)]\n"
     ]
    }
   ],
   "source": [
    "'''사전 d = {'one':1, 'two':2, 'three':3, 'four':4, 'five':5}가 주어졌을 때 다음 요구사항에 맞는 코드를 제시하시오\n",
    "[참고]: d.keys(), d.values()를 통해 리스트를 얻어낸 후 리스트가 지니고 있는 sort(cmp=None, key=None, reverse=False)함수를 활용하시오.\n",
    "1) 키의 알파벳 오름차순 순서대로 튜플 (키, 값)을 차례대로 출력하시오.\n",
    "2) 키의 알파벳 내림차순 순서대로 튜플 (키, 값)을 차례대로 출력하시오.\n",
    "3) 값의 오름차순 순서대로 튜플 (키, 값)을 차례대로 출력하시오.\n",
    "4) 값의 내림차순 순서대로 튜플 (키, 값)을 차례대로 출력하시오.'''\n",
    "\n",
    "d={'one':1,'two':2,'three':3,'four':4,'five':5}\n",
    "L=[]\n",
    "key = d.keys()\n",
    "value = d.values()\n",
    "for i in range(5):\n",
    "    L.append((key[i], value[i]))\n",
    "L.sort()\n",
    "print L"
   ]
  },
  {
   "cell_type": "code",
   "execution_count": 41,
   "metadata": {
    "collapsed": false
   },
   "outputs": [
    {
     "name": "stdout",
     "output_type": "stream",
     "text": [
      "[('two', 2), ('three', 3), ('one', 1), ('four', 4), ('five', 5)]\n"
     ]
    }
   ],
   "source": [
    "L.sort(reverse=True)\n",
    "print L"
   ]
  },
  {
   "cell_type": "code",
   "execution_count": 45,
   "metadata": {
    "collapsed": false
   },
   "outputs": [
    {
     "name": "stdout",
     "output_type": "stream",
     "text": [
      "[('one', 1), ('two', 2), ('three', 3), ('four', 4), ('five', 5)]\n"
     ]
    }
   ],
   "source": [
    "def mycmp(a ,b):\n",
    "    return cmp(a[1],b[1])\n",
    "L.sort(mycmp)\n",
    "print L"
   ]
  },
  {
   "cell_type": "code",
   "execution_count": 47,
   "metadata": {
    "collapsed": false
   },
   "outputs": [
    {
     "name": "stdout",
     "output_type": "stream",
     "text": [
      "[('five', 5), ('four', 4), ('three', 3), ('two', 2), ('one', 1)]\n"
     ]
    }
   ],
   "source": [
    "L.sort(mycmp, reverse=True)\n",
    "print L"
   ]
  },
  {
   "cell_type": "markdown",
   "metadata": {},
   "source": [
    "key와 value를 리스트화 하여 각각을 이용해 sort()를 이용해 풀려 하였으나 잘 안되어 다시 append()를 통해 튜플을 만들어 주었고 각 튜플의 첫 번째 원소는 키값이기 때문에 이것을 sort() 하여 오름차순으로 출력 하고 두 번째 출력할 때 에는  reverse=False 하여 내림차순으로 출력을 하여 줍니다. 그리고 mycamp()라는 함수를 사용해 튜플의 두 번째 원소 즉 value값을 반환하도록 함수를 구현하여 sort(mycamp)를 사용해 value값으로 정렬 하였습니다. 내림차순은 위와 같이 reverse=False를 사용 하였습니다"
   ]
  },
  {
   "cell_type": "code",
   "execution_count": 55,
   "metadata": {
    "collapsed": false
   },
   "outputs": [
    {
     "name": "stdout",
     "output_type": "stream",
     "text": [
      "104743\n"
     ]
    }
   ],
   "source": [
    "x=0\n",
    "num=0\n",
    "count=0\n",
    "while x == 0:\n",
    "    num+=1\n",
    "    co = 0\n",
    "    for n in range(1,num+1):\n",
    "        if num %n ==0:\n",
    "            co +=1\n",
    "        if co >2:\n",
    "                break\n",
    "    if co ==2:\n",
    "        count +=1\n",
    "    if count ==10001:\n",
    "        print num\n",
    "        x=1\n"
   ]
  },
  {
   "cell_type": "markdown",
   "metadata": {},
   "source": [
    "처음과제에서 사용한 소수구하는 공식을 가져와 소수가 한 개 구해줄때마다 카운트를 올려 카운트가 10001이되면 while문을 종료하게 하였습니다."
   ]
  },
  {
   "cell_type": "code",
   "execution_count": 58,
   "metadata": {
    "collapsed": false
   },
   "outputs": [
    {
     "name": "stdout",
     "output_type": "stream",
     "text": [
      "40824\n"
     ]
    }
   ],
   "source": [
    "'''다음은 연속된 1000자리 숫자입니다 (읽기 좋게 50자리씩 잘라놓음).\n",
    "\n",
    "73167176531330624919225119674426574742355349194934\n",
    " 96983520312774506326239578318016984801869478851843\n",
    " 85861560789112949495459501737958331952853208805511\n",
    " 12540698747158523863050715693290963295227443043557\n",
    " 66896648950445244523161731856403098711121722383113\n",
    " 62229893423380308135336276614282806444486645238749\n",
    " 30358907296290491560440772390713810515859307960866\n",
    " 70172427121883998797908792274921901699720888093776\n",
    " 65727333001053367881220235421809751254540594752243\n",
    " 52584907711670556013604839586446706324415722155397\n",
    " 53697817977846174064955149290862569321978468622482\n",
    " 83972241375657056057490261407972968652414535100474\n",
    " 82166370484403199890008895243450658541227588666881\n",
    " 16427171479924442928230863465674813919123162824586\n",
    " 17866458359124566529476545682848912883142607690042\n",
    " 24219022671055626321111109370544217506941658960408\n",
    " 07198403850962455444362981230987879927244284909188\n",
    " 84580156166097919133875499200524063689912560717606\n",
    " 05886116467109405077541002256983155200055935729725\n",
    " 71636269561882670428252483600823257530420752963450 \n",
    "\n",
    "여기서 붉게 표시된 71112의 경우 7, 1, 1, 1, 2 각 숫자를 모두 곱하면 14가 됩니다.\n",
    "이런 식으로 맨 처음 (7 × 3 × 1 × 6 × 7 = 882) 부터 맨 끝 (6 × 3 × 4 × 5 × 0 = 0) 까지 5자리 숫자들의 곱을 구할 수 있습니다.\n",
    "\n",
    "이렇게 구할 수 있는 5자리 숫자의 곱 중에서 가장 큰 값은 얼마입니까?\n",
    "\n",
    "'''\n",
    "\n",
    "foo = \"73167176531330624919225119674426574742355349194934\\\n",
    "96983520312774506326239578318016984801869478851843\\\n",
    "85861560789112949495459501737958331952853208805511\\\n",
    "12540698747158523863050715693290963295227443043557\\\n",
    "66896648950445244523161731856403098711121722383113\\\n",
    "62229893423380308135336276614282806444486645238749\\\n",
    "30358907296290491560440772390713810515859307960866\\\n",
    "70172427121883998797908792274921901699720888093776\\\n",
    "65727333001053367881220235421809751254540594752243\\\n",
    "52584907711670556013604839586446706324415722155397\\\n",
    "53697817977846174064955149290862569321978468622482\\\n",
    "83972241375657056057490261407972968652414535100474\\\n",
    "82166370484403199890008895243450658541227588666881\\\n",
    "16427171479924442928230863465674813919123162824586\\\n",
    "17866458359124566529476545682848912883142607690042\\\n",
    "24219022671055626321111109370544217506941658960408\\\n",
    "07198403850962455444362981230987879927244284909188\\\n",
    "84580156166097919133875499200524063689912560717606\\\n",
    "05886116467109405077541002256983155200055935729725\\\n",
    "71636269561882670428252483600823257530420752963450\"\n",
    "\n",
    "sol2=0;\n",
    "for i in range(len(foo)-4):\n",
    "    sol = int(foo[i]) * int(foo[i+1]) * int(foo[i+2]) * int(foo[i+3]) * int(foo[i+4]) \n",
    "\n",
    "    if sol > sol2:\n",
    "        sol2 = sol\n",
    "print  sol2\n",
    "\n"
   ]
  },
  {
   "cell_type": "markdown",
   "metadata": {},
   "source": [
    " 1000자리의 숫자중 5자리씩 끊어서 곱하기 때문에 마지막 996번째 숫자까지를 for문을 돌려\n",
    "줍니다. 이때 문자열이므로 int()를 써 정수형으로 바꾸어 줍니다. 각각 값이 sol로 저장되어 나올 때 sol2 보다 크면 sol2에 저장 해주는 식으로 마지막에 가장 큰 값은 sol2에 저장되어있습니다."
   ]
  },
  {
   "cell_type": "code",
   "execution_count": 96,
   "metadata": {
    "collapsed": false
   },
   "outputs": [
    {
     "name": "stdout",
     "output_type": "stream",
     "text": [
      "31875000\n"
     ]
    }
   ],
   "source": [
    "'''세 자연수 a, b, c 가 피타고라스 정리 a2 + b2 = c2 를 만족하면 피타고라스 수라고 부릅니다 (여기서 a < b < c ).\n",
    "예를 들면 32 + 42 = 9 + 16 = 25 = 52이므로 3, 4, 5는 피타고라스 수입니다.\n",
    "\n",
    "a + b + c = 1000  인 피타고라스 수 a, b, c는 한 가지 뿐입니다. 이 때, a × b × c 는 얼마입니까?'''\n",
    "value=0\n",
    "\n",
    "for a in range(1,1000):\n",
    "    for b in range(1,1000):\n",
    "        for c in range(1,1000):\n",
    "            if (a ** 2) +(b ** 2) ==(c **2):\n",
    "                if a+b+c==1000:\n",
    "                    value = a*b*c\n",
    "\n",
    "print value\n",
    "                    "
   ]
  },
  {
   "cell_type": "markdown",
   "metadata": {},
   "source": [
    "우선 3중 for문으로 a^2 + b^2 의 값이 c^2 이 되는 값을 찾고 그 값들 중 a,b,c의 합이 1000이 되는 숫자를 찾았습니다. "
   ]
  },
  {
   "cell_type": "code",
   "execution_count": 94,
   "metadata": {
    "collapsed": false
   },
   "outputs": [
    {
     "name": "stdout",
     "output_type": "stream",
     "text": [
      "\n",
      "\n",
      "학부 학부홈페이지\n",
      "\n",
      "\n",
      "1142 : 2 브라우저를 : 1 After : 1 【장학지원】보건복지심리재활분야 : 1 간 : 1 국민행복 : 1 Marissa : 1 산실로” : 1 1462 : 1 개최 : 1 제4차 : 1 Journalism : 1 있습니다 : 1 있는 : 1 공공장소에서 : 1 치열···10만원대 : 1 “스타트업은 : 1 전문연구요원 : 1 입학 : 1 구입 : 1 없습니다 : 1 수 : 3 접수 : 1 참여하세요 : 1 5X : 1 Plus : 1 동남구 : 2 출원 : 1 Big : 1 1940 : 2 모집 : 2 학과사무실 : 1 폐지 : 1 1549 : 2 투자유치 : 1 실무프로그래밍 : 1 Contact : 1 IDPW : 1 Xprize’s : 1 Hackathon : 1 2015 : 1 국회로 : 1 아이디 : 1 홈페이지에 : 1 국제전시회IoT : 1 경우 : 1 닫더라도 : 1 릴레이 : 1 국제적인 : 1 Copyright : 1 바로가기 : 2 20151020 : 9 Earnings : 1 Quick : 1 FAX : 1 신청 : 1 가입자 : 1 구성원소개 : 1 대한 : 1 홈커밍데이 : 1 1553 : 2 지원금 : 1 측면에서 : 1 New : 1 장학금 : 1 rights : 1 Mayer : 1 Misses : 1 에서 : 1 팁스타운 : 1 WEBMAIL : 1 ‘2015 : 1 CSE : 1 닷 : 1 Registration : 1 신청서 : 1 1412 : 2 Education : 1 20150930 : 1 이유 : 1 IT사업단 : 1 수준의 : 1 충절로 : 2 북부 : 1 천안시 : 2 Rep : 1 접속부터는 : 1 Empowerment : 1 졸업작품 : 1 Linkedin : 1 엔에스이 : 1 자료실 : 1 Exhibition : 1 기능을 : 1 4천이상 : 1 글로벌 : 3 전자신문 : 1 공지입니다 : 1 유지 : 2 Korea : 1 디스플레이장비전 : 1 for : 1 14601461 : 1 많은 : 1 무료수강 : 1 꼭 : 1 코스닥상장 : 1 신입사원 : 1 학부광장 : 1 산업기능요원 : 1 Manifesto : 1 Facebook : 1 신언론선언 : 1 Mes : 1 Cox : 1 Chris : 1 1401 : 2 1400 : 2 20150923 : 1 앙클 : 1 Facebook’s : 1 소개합니다 : 1 0509 : 2 School : 1 계속 : 1 통했다···최다 : 1 1154 : 2 학사안내 : 1 로그아웃을 : 1 VENTURESQUARE : 1 Study : 1 단 : 1 1331 : 2 1330 : 2 Ventures’ : 1 1932 : 2 우편방 : 1 미래부 : 1 교사직 : 1 컴퓨터공학부 : 6 TEL : 1 연봉 : 1 041 : 2 시 : 1 1532 : 2 0539 : 2 평생교육원 : 1 개인정보가 : 1 다음 : 1 1431 : 2 병천면 : 2 of : 4 기술연구소 : 1 결과 : 1 Wearable : 1 1537 : 2 © : 1 Computer : 1 경영 : 1 2015년 : 1 20150914 : 1 Age : 1 공지사항 : 1 주 : 1 Contents : 1 대한상공회의소 : 1 경쟁력 : 1 안내수정 : 1 Schoolfun : 1 찾기 : 1 넥서스 : 1 on : 1 필요가 : 1 Location : 1 Creative : 1 홈페이지 : 1 2015년도 : 1 자격증 : 1 RECODE : 1 Online : 1 해주세요 : 1 reserved : 1 1900 : 2 위험할 : 1 S : 1 사용할 : 1 KT경기창조경제혁신센터 : 1 있으니 : 1 1638 : 2 자유게시판 : 1 모집공고 : 1 Wall : 1 경쟁 : 1 Yahoo : 2 20150903 : 2 1600한국기술교육대학교 : 1 KoreaI : 1 Falling : 1 CK : 1 LIG그룹사 : 1 로그인이 : 1 20151008 : 1 펜타인 : 1 프로그램’ : 1 Science : 1 게임방 : 1 지식재산권 : 1 로그인할 : 1 “한국형 : 1 취업게시판 : 1 Stock : 1 1203 : 2 31253 : 1 Fun : 1 특성화 : 5 수순···공은 : 1 Consumer : 1 대표 : 1 조언들이 : 1 1625 : 2 0641 : 2 Tesla : 1 Expanding : 1 Twitter : 1 Revenue : 1 Startup : 1 안내 : 1 통신 : 1 등 : 1 강좌 : 1 Engineering : 1 김주윤 : 1 25년만에 : 1 온라인 : 4 Close : 1 크리에이터 : 1 Peter : 1 인력양성사업 : 3 공고 : 2 충청남도 : 2 20151019 : 1 and : 4 양성 : 1 마일리지 : 1 Bill : 1 이통사 : 1 실행력 : 1 메카 : 1 Stake : 1 오신 : 1 0513 : 2 1700 : 2 20151014 : 1 as : 1 주KMW : 1 회원가입 : 1 20151015 : 1 대학원 : 2 학교 : 1 20151016 : 2 컨텐츠 : 3 요금인가제 : 1 20151012 : 1 20151013 : 3 메카한국기술교육대학교 : 1 LG : 1 Fast : 1 7일 : 1 1616 : 2 융합소프트웨어 : 3 채용공고 : 1 경기문화창조허브 : 1 Maris : 1 Alibaba : 1 컨텐츠를 : 1 560 : 2 Bang : 1 LIG인베니아 : 1 학부 : 1 소개 : 1 ”하늘을 : 1 공학교육인증 : 1 고취 : 1 것을환영합니다 : 1 로그인 : 4 개발자를 : 1 About : 1 유지될 : 1 Talks : 1 ‘콘텐츠 : 1 0650 : 2 1019월까지 : 1 한국기술교육대학교 : 5 IR : 1 IT융합분야에 : 1 IT : 5 1356 : 2 Capability : 1 Spinoff : 1 열린다 : 1 히든 : 1 IT경진대회’ : 1 유출될 : 1 교육역량강화사업 : 4 투표 : 1 모집합니다 : 1 ㈜인젠트 : 1 All : 1 Google : 2 가전리 : 1 1800 : 4 교육의 : 2 1600 : 1 Is : 1 1605 : 2 사무직 : 1 0000 : 2 Campus : 1 IT전문인력 : 1 사물인터넷 : 1 Navigation : 1 KT스카이라이프 : 1 이용 : 1 비밀번호 : 1 20151021 : 6 챔피언 : 1 인턴사원 : 1 보라” : 1 전시회 : 1 \n",
      "\n",
      "네이버\n",
      "\n",
      "\n",
      "영상 : 11 datamra11 : 1 code : 1 아이디어 : 1 동시에 : 1 13span : 1 닮은 : 1 의외의 : 1 전문보기 : 2 라인 : 1 만난다 : 2 catch : 2 라이센스 : 2 5위 : 1 않아 : 1 되었을까 : 1 alt : 1 들통 : 1 httpspmnavernetjscntop32015032401minjs : 1 CommonFn : 1 네이버SE : 1 re : 1 hthisquSXIlengthifdvar : 1 adescriptionremoveUrlfunctionaforvar : 1 논의 : 1 classtit스포츠a : 1 뮤직 : 3 init : 1 hrefquothttpfinancenavercomquot : 1 설치 : 3 차테크 : 1 billhref : 1 대세 : 1 네이버me : 1 DLScriptloadWSntop3 : 1 urlhttpfinancenavercom : 1 httpnewsnavercommainlistnhnmodeLPODmidsecsid1001sid2140oid001isYeonhapFlashYaid0007932365 : 1 경우 : 2 쓰는 : 1 hrefquothttpsportsnewsnavercomquot : 1 이덕화 : 1 건강 : 1 NMSonWindowLoad : 1 liuldivtype : 2 타임스퀘어 : 2 DLScriptloadXIntop20130run2true : 1 삭제한 : 1 나만의 : 1 이용을 : 1 힐링캠프 : 1 ntop2 : 1 windowlocalStorageundefinedtryvar : 1 한자사전 : 1 흥행 : 1 켜기 : 5 박서준 : 1 검색등록 : 1 이파니상승246 : 1 try : 3 item : 8 소통 : 1 classoptexchange : 1 classblind경제h4div : 1 div : 16 한국 : 2 학습 : 1 squtext780055010000000DC500 : 1 squtext780055010000000DC502 : 1 들이붓는 : 1 bill : 2 수상한 : 1 classopthappytitspan : 1 삭제검색어저장 : 2 바지락 : 1 담뱃값 : 1 주제형캐스트 : 1 NewsStandUIhideFlickingNoti : 1 생중계 : 1 웹툰 : 2 4위 : 1 i0ickeyslengthi : 1 falserunOnloadfunctionbdcifdreturnvar : 1 hrefquothttpsportsnewsnavercomsportsindexnhncategoryworldbaseballquot : 1 농도 : 1 시작페이지로 : 1 고양이 : 1 선택하여 : 1 예산 : 1 classdscsub : 1 4월29일 : 1 체크 : 1 무료로 : 2 청소년보호정책 : 1 classdsccate6span : 1 출마 : 1 alt7 : 2 new : 1 NULLthisloadDScgreturnkonreadystatechangefunctionifkreadyState4ifkstatus200kstatus0var : 1 살인미수범 : 1 고객센터 : 1 d0dadtrycnew : 1 하니 : 1 classitem : 1 httpspmnavernetjscntop120150907minjs : 1 카페명 : 1 error : 1 setTimeoutloadJS3000 : 1 최근검색어 : 1 run2 : 2 뉴스스탠드 : 2 stylestyle7image7span : 1 strong : 1 친구 : 2 replacevargi : 1 AdMobileinit : 1 다음 : 1 이유는 : 1 명목 : 1 488097 : 1 구독목록 : 1 ActiveXObjectbdcatchfLogErrorDL : 1 문자받기 : 2 JEagleEyeClientsendErrorNEWSSTAND : 1 windowlocalStorageundefinediDLScriptclearLS : 1 배우는소프트웨어 : 1 kDLScriptgetXHRObject : 1 TimeSquareinit : 1 냉장고를 : 1 위해서는플래시 : 1 liuldiv : 1 뉴스 : 3 후보에 : 1 NewsStandinitmyNewsInfo : 1 icexpandspanspana : 1 각 : 1 위력 : 1 DLScriptloadWSjindoAll : 1 FW : 1 활성화되었습니다 : 1 이준석 : 1 Caps : 2 replace : 1 시즌 : 1 href : 3 ntop1 : 1 모든 : 3 ntop3 : 1 최초설치가 : 1 다우 : 1 loadModuleid : 1 게임 : 2 스포츠 : 2 localStorge : 2 켤 : 1 hrefquothttpnewsnavercommainlistnhnmodeLPODampmidsecampctg1quot : 2 날씨를 : 1 squtheme780055010000000DC500 : 1 iftypeof : 3 이미지 : 1 Themecast : 1 등장 : 1 전말 : 1 034관심없어034 : 1 newsstandnavercom : 1 msg : 2 보세요 : 2 type : 1 15회 : 1 hrefjavascript : 5 srca : 1 풍기명란 : 1 오류 : 1 자동완성 : 10 안 : 1 lottonum1212span : 1 챔피언스리그 : 1 뉴스이슈 : 1 주요언론사 : 2 기니상승303 : 1 이전 : 1 신문1면 : 1 XMLHttpRequestcatchfvar : 1 언제부터 : 1 none : 2 이파니 : 1 카메라 : 1 SW교육 : 1 검색해 : 1 2018년 : 1 이용약관’ : 1 classtit부동산a : 1 문화콘텐츠공모전에 : 1 도움말 : 7 우려a : 1 영자지 : 1 lottobonusspanspan : 1 설치된 : 1 차유람 : 1 남편 : 1 칼국수 : 1 설치하시겠습니까 : 2 진짜 : 1 evalstripOutCommentBlockcode : 1 classtit신문1면a : 1 classopttxt사이트로 : 1 002003005006008009011013014015016018020021022023024025028029030031032038040042044047050052055056057073075076079081082083087088089092108109117120122123135138139140143144213214215241243277293296308310311312314326327328329330331332333334335336337338339340344345346354356357361362363364366367368372374376384385386387388389390391396404410416417421422440447536539901902903904905906907908909910911912913914915916917918920921922923924925926927928930931932933934935936937938939940 : 1 ifidvar : 1 classblind생활h4div : 1 비 : 1 datasm2 : 8 classoptshortcut : 1 의리 : 1 주제별 : 1 검색어 : 10 lifilcindexOf0iikopenGETcltrueksetRequestHeaderContentTypeapplicationxwwwformurlencoded : 1 1 : 4 만들기 : 1 Imageasrchttpcecsnavercommbudocumentlocationl1115DLScriptquSXInew : 1 정책 : 2 코스피 : 1 않고 : 1 스포츠연예 : 1 로그인 : 5 설치해야 : 1 캔자스시티 : 2 행복시간표 : 1 신화 : 1 패밀리 : 1 612 : 1 lottonum77spanspan : 1 최근검색어내 : 1 urlclass : 1 Questioninitqstidx : 1 LogErrorJSON : 2 onclickreturn : 1 windowlocalStorageundefinedtrywindowlocalStorageclearcatchaifadescriptionLogErrorDL : 1 httpnewsnavercommainlistnhnmodeLPODmidsecsid1001sid2140oid001isYeonhapFlashYaid0007932449 : 1 영어사전 : 1 data : 1 원리 : 1 a : 29 사실 : 1 도난사건 : 1 slidingCookieExpDate : 1 NshortcutnameTV편성 : 1 전문자료 : 1 가능합니다 : 2 lottonum1111spanspan : 1 9span : 1 주세요 : 1 기사보기 : 1 제휴제안 : 1 1000 : 1 지글아이 : 1 classoptunit℃spanspan : 2 예매 : 1 방송통신 : 1 개인정보 : 1 전송은 : 1 공개수배 : 1 재설치가 : 1 charsetutf8ksetRequestHeadercharsetutf8ksend : 1 실시간 : 1 속 : 1 있습니다 : 5 아이콘을 : 1 databid9 : 1 isOnload : 2 8위 : 1 사이언스 : 1 증권 : 1 않은 : 1 내년 : 1 안녕하세요 : 1 취향 : 1 미세먼지 : 2 눈길 : 1 ready2 : 2 6위 : 1 img : 3 codeElementinnerHTML : 1 useWideLoginboxFlashtrue : 1 검색어는 : 1 넘으려면a : 1 RightBannerinit : 1 RealTimeRankinit : 1 classtsqecowrapul : 1 2015 : 2 아이디 : 1 고고 : 1 PC에서 : 1 return : 1 ckeys : 1 홈 : 4 마세요 : 1 자주 : 2 검색홈 : 1 NewsStand : 1 앱을 : 1 not : 1 빠른 : 1 athiscreateJSDombsrc : 1 계십니다 : 1 공익나눔 : 1 내역이 : 1 위드 : 1 jdescription : 1 classtit교통a : 1 공포 : 1 때는 : 1 번호는 : 1 아내 : 1 hrefquothttpsearchnavercomsearchnaversmtoptsiampwherenexearchampqueryEB8F84EC8B9CEAB3A0EC868DED9994EB8F84EBA19CEAB590ED86B5ECA095EBB3B4quot : 1 em : 2 status : 1 나쁨a : 1 헤드라인 : 2 이전페이지다음페이지 : 2 ablengthforvar : 1 이전다음 : 1 hrefurl : 1 및 : 3 美 : 1 고속도로 : 1 휴대폰번호 : 1 등록를 : 1 삼성 : 1 NAVER : 2 생활위젯 : 1 골병든다 : 1 글로벌 : 2 httpnewsnavercommainlistnhnmodeLPODmidsecsid1001sid2140oid001isYeonhapFlashYaid0007932414 : 1 해피빈쥬니버한게임 : 1 ready3 : 2 ServiceMenuinitCommonFnBaseURL : 1 전체보기 : 1 요구에 : 1 Corp : 1 TV중계 : 1 국제유가상승141 : 1 classtsqlistlia : 3 dataeid3 : 1 종합경제 : 1 한채아 : 1 classoptweatherstate9 : 2 newsStandUrl : 1 ifmibiifdDLScriptquSXIhresponsemDLScriptinjectScriptselsevar : 1 2단계 : 1 밤에 : 1 초등학생 : 1 검은 : 1 dDLScriptquSXIcifddoneifdresponsebreakelseddonetruevar : 1 백화점 : 1 검색어가 : 1 설치하세요 : 1 classatcmpkeywordtxttxtspan : 1 NPay : 1 건강증진 : 1 화려한 : 1 회장 : 1 httpnewsnavercommainlistnhnmodeLPODmidsecsid1001sid2140oid001isYeonhapFlashYaid0007932416 : 1 setTimeout : 2 영어로 : 2 classopthappyword5span : 1 아빠를 : 1 Lshortcutname날씨 : 1 ifbsrcasrccelseatextcreturn : 1 quickNews : 3 오브젝트의 : 1 훈남 : 1 레이어 : 4 getSinglemnbill : 1 mwindowlocalStoragegetItemccatchjifjdescriptionLogErrorDL : 1 2030선 : 1 댄싱 : 1 newspaperUrl : 1 사전 : 2 이곳에서 : 1 squtext780055010000000DC4FD : 1 classoptweatherstate기온 : 2 상봉 : 2 1343 : 1 2450 : 1 놀자 : 1 txttxt : 1 영동 : 1 elsevar : 1 c0cacvar : 1 도시고속화도로 : 1 북한 : 1 수행하면 : 1 추천 : 1 슈가맨 : 1 무료입니다 : 1 JEagleEyeClientsendErrorDL : 1 토론토stronga : 1 초기증상 : 1 했어 : 2 오늘날씨상승102 : 1 국민행복캠페인 : 1 약관 : 1 JEagleEyeClientsendErrormixpanel : 1 newspapernavercom : 1 숨은 : 1 userInfoUrl : 1 forvar : 1 반해 : 1 dataacirrank : 8 가볍고 : 1 폰트를 : 1 nDLScriptcreateJSDomotextDLScriptrunOnloadngtrueDLScriptappendJSDomnelseLogErrorDL : 1 있습니다추가하시려면 : 1 classoptdsc : 1 HomePageSetinit : 1 classtit학습a : 1 ArrayquSnew : 1 인물 : 1 이산가족 : 2 설치해주세요설치방법 : 1 유혹 : 1 classoptnation : 1 호텔롯데 : 1 바로 : 1 aresponsenullonloadgdonefalse : 1 입력 : 1 etcreturn : 1 부동산 : 1 슈가맨상승186 : 1 optexchange11 : 1 해 : 1 okresponseTexttryiftypeof : 1 유형 : 1 인 : 1 ncast : 1 headlinepressInfojson : 1 음식에 : 1 false : 2 hrefquothttpnewsnavercommainlistnhnmodeLPODampmidsecampctg3quot : 1 보기위해서는나눔글꼴 : 1 thisrunOnloadadcthisappendJSDomaelseifdsetTimeoutd100loadXIfunctioncigdifthisisLoadcthisquSDLScriptquSlengthcvar : 1 coinhref : 1 msgdata : 1 메뉴 : 2 나눔글꼴 : 7 미모 : 1 헤드라인a : 2 고객님의 : 1 targetblank : 2 회원가입 : 1 앱스토어new : 1 한글캠페인 : 1 null : 1 039평화협정039 : 1 신청하세요 : 1 국어사전 : 1 truereturn : 1 확인되지 : 2 회사소개 : 1 저출산·고령화현상 : 1 협의 : 1 1721711 : 1 비정상회담 : 1 프리토킹 : 1 squtheme780055010000000DC4E0 : 1 squtheme780055010000000DC524 : 1 입주 : 1 squtheme780055010000000DC526 : 1 squtheme780055010000000DC522 : 1 선택 : 1 책 : 3 확인 : 1 관계 : 1 맑음·미세먼지 : 1 LogErrorfunctionbvar : 1 hrefquothttpsearchnavercomsearchnaversmtoptsiampwherenexearchampqueryEAB590ED86B5EC8381ED99A9quot : 1 메인을 : 2 M : 1 지역 : 2 코레일 : 2 clearLS : 1 명단공개 : 1 나눔글꼴을 : 2 coin : 2 refreshLcsetc : 1 qDLScriptquSXIidvar : 1 httpnv1adnavercomadshowunit002ANnrefreshx0 : 1 slidingCookieName : 1 나눔글꼴이 : 2 사이트 : 3 eventquot : 18 dlerrmsgid : 1 보기 : 1 classblind뉴스이슈h4div : 1 styledisplaynoneintxtspan : 1 b0bifthisquSbathisquSb : 1 squtext780055010000000DC528 : 1 교육을 : 1 베개 : 1 뉴스a : 1 비밀번호 : 1 사용하고 : 1 squtext780055010000000DC521 : 1 squtext780055010000000DC527 : 1 squtext780055010000000DC525 : 1 hrefquothttplandnavercomnewsprscoid025ampartiid0002550338quot : 1 투데이 : 1 PC에서는 : 1 tsNormal : 1 보내기 : 1 width50 : 2 오픈캐스트 : 1 aDLScriptquSXIlengthforvar : 1 classoptamount : 1 아이디찾기비밀번호 : 1 명화 : 1 팔려 : 1 bDLScriptcreateJSDomdresponsetext : 1 classoptlocalnum : 1 보지 : 1 returnifloadedacompleteabonloadDonebonloadDonetruesetTimeoutd100elseifthisretry10thisretrysetTimeoutfunctionDLScriptrunOnloadbdc10createJSDomfunctioncbvar : 1 run1 : 2 run3 : 2 토론토 : 1 catche : 1 cloadWSfunctionadocumentwritescript : 1 더보기 : 2 회화a : 1 숨겨주는 : 1 height40 : 2 8 : 1 hrefquothttpweathernavercomperiodweeklyFcastnhnquot : 1 일정표 : 1 1021수 : 1 정은지 : 1 httpnewsnavercommainlistnhnmodeLPODmidsecsid1001sid2140oid001isYeonhapFlashYaid0007932420 : 1 경제지 : 2 titlespan : 1 신고검색어저장 : 4 시에 : 1 get : 1 httpnewsnavercommainlistnhnmodeLPODmidsecsid1001sid2140oid001isYeonhapFlashYaid0007932428 : 1 classoptweatherstate7span : 2 기어S2 : 1 13 : 1 카페글 : 1 자동차 : 1 무료 : 1 abreadyStateiftypeof : 1 바로가기 : 5 1위 : 1 clearLSfunctioniftypeof : 1 기니 : 1 해제txt : 1 대한 : 1 않습니다나눔글꼴로 : 1 상큼한 : 1 initPage : 1 일괄 : 1 대해 : 1 펼치기 : 1 bwindowlocalStoragegetItemcuidvar : 1 qstsize : 1 set : 1 datakeyword1 : 7 getSinglegnb : 1 토스트에 : 1 Themecastinit : 1 유아인 : 1 금성무 : 1 ifdocumentcookieindexOfnrefreshx1 : 1 서비스 : 2 기능을 : 2 RegExpmpazAZ09mixpanel : 1 lilia : 4 fDLScriptcreateJSDommtextDLScriptrunOnloadfgtrueDLScriptappendJSDomfreturnvar : 1 Fontinit : 1 유지 : 1 성공 : 1 주제별캐스트 : 1 이준석상승147 : 1 기능이 : 5 squtheme780055010000000DC4FD : 1 이전캐스트다음캐스트 : 1 제대로완료되지 : 1 지식iN : 2 ifretestckeysi : 1 lottonum88spanspan : 1 classchanges10 : 1 삭제완료 : 1 자동반응 : 1 연합뉴스 : 1 XHRObject : 1 b0bifthisquSbareturn : 1 핫소스 : 1 나눔글꼴로 : 1 로그아웃을 : 1 새 : 1 qstidx1 : 1 classspatspan행복검색span : 1 일본어사전 : 1 카테고리 : 1 주가검색 : 1 urlhttpweathernavercom : 1 hrefquothttpnewsnavercommainhotissuesectionListnhnmidhotampsid1110ampcid933879quot : 2 fdescriptioncontinuebreakfinallyreturn : 1 7위 : 1 다운로드 : 2 북스 : 1 opencastnavercom : 1 classoptweather : 2 네이버뉴스연예스포츠경제랭킹뉴스 : 1 앱 : 3 축소 : 1 극한 : 1 10개 : 1 공지사항 : 1 DLScriptloadXIntop10130run1true : 1 긍정부정검색 : 1 유어 : 1 라이프 : 1 쓰나…하루 : 1 httpspmnavernetjscntop220150904minjs : 1 꺼져 : 3 IP보안 : 2 2위 : 1 위하여 : 1 Cookiekeys : 1 개인 : 2 콘테스트 : 1 li : 2 네이버를 : 1 sqarejson11 : 1 필요합니다 : 1 상반기 : 1 임의로 : 1 headlineList : 2 미세먼지상승36 : 1 © : 1 통합검색 : 1 김호진 : 1 종합지 : 2 Beta : 1 무 : 1 DLScriptloadDShttpspmnavernetjscJEagleEyeClient20120111minjsv2 : 1 classmquick바로이동a : 1 DLScriptloadWSntop2 : 1 DLScriptloadWSntop1 : 1 중부·호남 : 1 선거일까지 : 1 500 : 1 사용자가 : 2 일회용 : 1 ThemecastUIhideFlickingNoti : 1 경우에 : 1 대책 : 1 classoptunit11spanspan : 2 검색 : 3 hrefhttp5 : 1 함께 : 1 else : 3 전국의 : 1 kstatusDLScriptremoveUrlcDLScriptclearLSsetTimeoutg100 : 1 globalisSupportedFlicking : 1 naverSetHomepage : 1 오늘날씨 : 1 classdscgroup : 1 classspat : 9 극복 : 1 없습니다최근검색어에서 : 1 classopthappysearch : 1 classamountstrong6strong원spanspan : 1 공모전 : 1 TV프로그램 : 1 codeElement : 1 NMSBinderbindImage : 3 TV편성 : 1 안내 : 3 qstsize2 : 1 다시 : 2 보안로그인 : 1 하락 : 2 DLScriptrunOnloadbdonloadtrueDLScriptappendJSDombgetXHRObjectfunctionvar : 1 선호주제설정 : 1 신규 : 1 듣는 : 2 classtxnation5span : 1 공개 : 1 classtsqweatherdivul : 1 ‘단체회원 : 1 투영 : 1 마약범죄 : 1 is : 2 039퇴직합의서 : 1 sqqresponsevar : 1 살게 : 1 vs : 2 elseifgsetTimeoutg100injectScriptsfunctionvar : 1 hrefquothttpweathernavercomquot : 1 httpnewsnavercommainlistnhnmodeLPODmidsecsid1001sid2140oid001isYeonhapFlashYaid0007932355 : 1 하자 : 1 mismatchbeforestrongmatchstrongmismatchafter : 2 if : 3 CommonFninit : 1 나스닥 : 1 Flicking : 1 ifisOnload : 1 찾는 : 1 차유람상승159 : 1 포함 : 2 사용 : 2 올리고…금연 : 1 Cookieremoveckeysinavercom : 1 심근경색 : 1 html : 3 NewsCastFlashNewsRollinitflashnews : 1 예매상승60 : 1 춤동작에 : 1 retrymessage : 1 aundefinedbonloadDonebonloadDonetruecsetTimeoutd100bonloadd : 1 typetextjavascriptscript : 1 수행 : 2 한판승이란 : 1 카페 : 2 저장되지 : 1 위해서는 : 1 datapkid10 : 1 플레이리스트 : 1 네이버 : 14 보호를 : 1 squtext780055010000000DC4FF : 1 classoptnum6span : 1 입력하신 : 1 버튼을 : 1 전체언론사 : 2 블로그 : 2 스페인포르투갈 : 1 검색어를내 : 1 undefined : 3 ckeysi : 1 classatcmpkeyword : 1 갑질고객 : 1 쇼핑 : 2 2천대 : 1 lcsdorefreshLcs : 1 합니다나눔글꼴을 : 1 newSmartSearch : 1 edescription : 3 끄기 : 7 매체보기 : 1 용어사전 : 1 classtsqlifewrapdiv : 1 squtheme780055010000000DC4E2 : 1 loadJS : 2 strreplace : 1 datakeyword5 : 1 차근차근 : 1 최대 : 1 없습니다 : 1 수 : 1 classtit증권a : 1 참여하세요 : 1 windowonload : 1 배우 : 1 까지 : 1 lottonum66spanspan : 1 lottonum99spanspan : 1 CenterBannerinit : 1 aappendJSDomfunctionadocumentgetElementsByTagNamehead0appendChildaloadDSfunctionbdcifthisisLoadbthisquSthisquSlengthbvar : 1 찾기 : 1 닫기 : 6 em10emspan : 2 취소 : 2 classoptdeg8emspan : 2 MY뉴스 : 1 검색어를 : 1 classtsqnewswrapul : 1 httpnewsnavercommainlistnhnmodeLPODmidsecsid1001sid2140oid001isYeonhapFlashYaid0007932378 : 1 키스 : 1 httpnewsnavercommainlistnhnmodeLPODmidsecsid1001sid2140oid001isYeonhapFlashYaid0007932376 : 1 srchttpstaticnavernetmweather2011imwt1706png : 2 전국 : 1 dlerrready1 : 1 플레이어를 : 1 dlerrready3 : 1 dlerrready2 : 1 구독설정 : 1 타개 : 1 주간예보a : 1 httpnv2adnavercomadshowunit002APnrefreshx0 : 1 반드시 : 1 classlottonumarea : 1 웹문서 : 1 강요039논란 : 1 매거진전문지 : 1 9위 : 1 켜져 : 2 hrefquothttpphrasebooknavercomquot : 1 급상승 : 1 Lock이 : 2 기업을 : 2 선출…정몽준 : 1 설정 : 2 hrefquothttpsearchnavercomsearchnaversmtoptsiampwherenexearchampqueryEC98A4EB8A98EB82A0EC94A8quot : 1 비상…034감정노동자 : 1 classlottosub5회차 : 1 메일 : 1 지도 : 2 classdscthmb : 1 userinfowwwnavercom : 1 다운로드URL : 2 lottonum1010spanspan : 1 squtext780055010000000DC4E2 : 1 검색어로 : 1 etcetcetcetcmrf1return : 1 039주의039…강원 : 1 동영상 : 1 classdscword1strong : 1 장윤주 : 1 lslengthvar : 1 현재 : 1 사나이 : 1 내PC : 1 유도 : 1 가능 : 1 Noti : 1 dataos8 : 1 lottonum : 7 과학 : 1 datatemplateid0 : 8 알바생에 : 1 내 : 6 adocumentcreateElementscript : 1 FIFA : 1 부탁해 : 2 당정 : 1 amigo : 1 N드라이브 : 1 squtext780055010000000DC4E0 : 1 등록txtdate삭제intxt : 1 srchttpsstaticnavernetkeypagelifesrchexchangeico121gif : 1 기록 : 3 싸움의 : 1 ready1 : 2 재보궐선거 : 1 네이버캐스트 : 1 국제유가 : 1 TV동영상 : 2 개인정보취급방침 : 1 classoptweathergroup : 2 상태 : 1 urlhttpsearchnavercomsearchnaversmtoptsiwherenexearchieutf8queryED8EB8EC84B1ED919C : 1 마녀사냥과 : 1 미용실 : 1 기존 : 1 고양이의 : 1 울상 : 1 대학생들에게 : 1 열기 : 1 회화 : 1 dataacrrank : 1 쇼핑캐스트 : 2 bthisquSlength1 : 2 bMsxml2XMLHTTPMicrosoftXMLHTTPMsxml2XMLHTTP60Msxml2XMLHTTP30 : 1 지워주세요 : 1 그리다 : 1 DLScriptquSXIhaiftypeof : 1 대란 : 1 h4 : 3 classoptlocal5span : 1 장벽 : 1 광고 : 3 역사 : 1 개와 : 1 windowlocalStoragesetItemcowindowlocalStoragesetItemcuidicatchpifpdescriptionLogErrorDL : 1 심은진 : 1 classopturl5span : 1 인간의 : 1 span : 40 챔피언스리그상승156 : 2 ssubstringl30l : 1 stylestyle1212span : 1 classtit날씨a : 1 공용 : 1 질문형 : 1 var : 26 글꼴설정 : 2 classoptweatherthmb : 2 Elementfooterbanner : 1 stripOutCommentBlockstr : 1 function : 13 이틀째…3차례 : 2 베이비복스 : 1 동작하지 : 1 신세경에 : 1 저장할 : 1 이동span : 1 documentgetElementByIdid : 1 저장해 : 1 e : 2 true : 1 myNewsInfo : 1 IT : 1 IPAD : 1 백과사전 : 1 돕던 : 1 야야야 : 1 onclickquotclickcrthis : 18 도피 : 1 만만히 : 1 anew : 1 CDATA : 5 않습니다자세히보기 : 1 발생합니다 : 1 6시간 : 2 영화 : 4 classoptlotto : 1 엔터테인 : 1 opencastNTopUrl : 1 오늘의 : 2 Eshortcutname금융 : 1 getXHRObject : 1 pid : 1 getSinglemncoin : 1 navertopopencastnavercom : 1 hrefquothttpsearchnavercomsearchnaversmtoptsiampwherenexearchampqueryEAB3A0EC868DEB8F84EBA19CEAB590ED86B5EC8381ED99A9quot : 1 hrefquothttplandnavercomquot : 1 생각한대로 : 1 클릭하세요 : 1 미리보기 : 1 classbarspan : 4 pdescriptionifdDLScriptquSXIhresponseoDLScriptinjectScripts : 1 음악 : 1 소프트웨어야 : 1 저장 : 2 hrefquothttpfinancenavercomnewsquot : 1 cfalsetrycnew : 1 단아한 : 1 Elementthemecastcontents : 1 육룡이 : 1 설정된 : 1 제공되지 : 1 증시 : 1 전체 : 2 httpnewsnavercommainlistnhnmodeLPODmidsecsid1001sid2140oid001isYeonhapFlashYaid0007932417 : 1 차예련에 : 1 ifkLogErrorDL : 1 영영사전 : 1 DLScriptloadXIntop30130run3true : 1 classaddopt : 8 않는 : 1 opencastUrl : 1 이용약관 : 1 Element : 1 squtext780055010000000DC523 : 1 나르샤 : 1 로직 : 1 N : 1 상황a : 2 3위 : 1 slidingOneTimeLink : 1 변경에 : 1 Arrayretry0isLoadfunctionaforvar : 1 strongTV중계 : 1 10위 : 1 2000 : 1 발칙하게 : 1 TV캐스트 : 2 httpsbillnavercompayindexnhn : 2 브레인 : 1 myNewsStand : 2 현재시스템글꼴 : 1 \n",
      "\n",
      "다음\n",
      "\n",
      "\n",
      "top7px : 1 titstory : 11 0fontweightboldfontsize11pxlineheight13pxfontfamilytahomasansserifcolor949494 : 1 6px : 22 titissuerank : 2 식이장애로 : 1 suggestBox : 75 wrapthesong : 1 promotionimg : 8 linkprotect : 1 height103pxmargintop9px : 2 displayblockheight15pxmarginleft15pxpaddingtop14pxlineheight15px : 1 icocolon : 1 top52pxheight22pxlineheight24px : 1 encodeURIComponentlocationsearchtoLowerCasesubstring1 : 1 realestateon : 2 left15px : 3 날짜 : 1 border1px : 2 txtapp : 1 내년 : 1 국정원 : 1 380px : 4 링크모음 : 3 9px : 6 width188pxheight159pxpadding0 : 1 bottom8px : 1 qafter : 1 gulim굴림sansserifcolor000 : 3 overflowhiddenpadding4px : 1 a5a6acbordertop0 : 1 titdaum : 1 displayblockheight30px : 1 icosuggest2 : 1 backgroundposition481px : 2 positionabsolutetop0left264pxwidth16pxheight35pxbackgroundposition140px : 1 bottom7px : 1 eeeef0backgroundcolorfbfbfb : 1 overflowhiddenwidth201pxmargintop19px : 1 날 : 4 hide : 1 width110pxheight12pxmargin4px : 1 9pxlineheight17px : 1 partevent : 33 backgroundposition378px : 4 wrapshop1 : 1 numreader : 1 wrapshop3 : 1 wrapshop2 : 1 wrapshop5 : 1 wrapshop4 : 1 displayblockwidth40pxheight40pxmargin11px : 1 분위기에도 : 1 width232pxpaddingright9pxtextaligncenter : 1 positionabsolutetop45pxleft0width184pxheight220pxpaddingbottom5pxbackgroundcolorfff : 1 경기 : 2 4pxlineheight18pxbackgroundurlhttpi1daumcdnnetdecocomicstopdeco2014v2imgdaumvertv3pngv1130 : 1 height555px : 1 backgroundurlhttpi1searchdaumcdnnetssearchall2011icoicosuggest20110721gif : 1 left7px : 1 100 : 1 icopushhover : 1 appnew : 1 페이지8 : 1 488097 : 1 98px : 2 페이지1 : 2 170pxtextindent9999px : 1 페이지3 : 1 페이지4 : 1 페이지5 : 4 페이지7 : 2 displayinlinefloatleftwidth31pxheight31pxmargin18px : 1 positionabsolutetop104pxleft0width280pxheight309pxbackgroundposition0 : 1 copytxt : 1 listmall : 3 norepeattextindent999em : 1 bottom21pxright295px : 1 height250px : 1 444backgroundcolorfff : 1 wrapblog : 2 paddingtop5px : 1 spanlinkprogram : 1 보게 : 1 norepeatcolorffftextaligncenter : 1 다카시마 : 1 catche : 1 floatleftwidth9pxheight13pxmargin3px : 1 때리고 : 1 189℃ : 1 backgroundurlhttpi1daumcdnnetdecotop2012startblognone20121023png : 1 verticalreader : 20 floatleftlineheight15px : 1 horizontalimg : 12 5위 : 2 color222 : 2 appimport : 2 labsecurity : 2 backgroundposition349px : 2 defaultimg : 22 overflowhiddenwidth181pxmargintop16pxletterspacing1px : 1 color5778ff : 1 backgroundposition40px : 5 wrapsearch : 1 수지 : 1 height44pxmargin0 : 1 칼국수 : 1 color3c77eb : 1 19px : 5 425px : 1 backgroundposition15px : 1 4pxfontsize11pxlineheight14pxtextalignleftwhitespacenowraptextoverflowellipsis : 1 cafeguisortablehelper : 1 displayblockwidth93pxheight27pxmargin15px : 1 w26 : 2 w27 : 2 w24 : 2 w25 : 2 w22 : 2 w23 : 2 0directionltr : 1 w21 : 2 answer : 2 width182pxheight123pxmargin0 : 1 w28 : 2 w29 : 2 캔자스시티 : 1 relaycenter : 1 지금서둘러모든상품15 : 1 overflowhiddenwidth776pxpadding13px : 1 50px : 1 lablogin : 1 79px : 1 displayblockwidth248pxmargin0 : 1 overflowhiddenwidth170pxpadding0 : 1 dbdbdbborderleft1px : 1 color25ad8b : 1 top135pxleft369pxwidth21pxheight17pxbackgroundposition60px : 1 backgroundposition130px : 4 width278pxmargintop5px : 1 floatleftwidth53pxheight20pxfontsize11pxlineheight20pxbackgroundposition170px : 1 dee1e6 : 1 numstatus : 4 자살 : 1 boxtit : 11 linkhome : 3 overflowhiddenpositionabsolutebottom14pxleft11pxwidth100pxheight18pxpaddingleft30pxlineheight21pxbackgroundposition0 : 1 844px : 1 11번가 : 1 loginset : 11 overflowhiddenpositionabsolutetop30pxleft55pxwidth71pxheight87pxtextaligncenter : 1 overflowhiddenwidth280pxheight35pxlineheight15px : 1 floatleftlineheight15pxletterspacing1px : 1 color777 : 1 clb : 1 todaylink : 8 0fontsize11pxlineheight13pxbackgroundposition0 : 1 numindex : 3 현위치 : 1 3830 : 1 145pxtextaligncenter : 1 숨기는 : 1 linkdirect : 1 floatrightwidth62pxheight26pxbackgroundposition170px : 1 overflowhiddenpaddingtop3px : 1 건강은 : 1 3수생 : 1 repeatxletterspacing1pxclearboth : 1 txtthesong : 1 typefstbig : 7 000opacity01filteralphaopacity10 : 1 1226pxletterspacing1px : 1 backgroundposition440px : 1 660px : 3 positionabsolutetop0left0zindex1width14pxheight13pxtextindent9999pxcursorpointer : 1 headlayer : 1 floatleftwidth152pxheight22pxpaddingleft9pxborder0 : 1 13px : 1 450px : 1 positionabsolutepaddingright7pxfontsize11pxlineheight14pxbackgroundposition100 : 1 color262626letterspacing1px : 1 꿀보이스 : 1 990px : 3 webtoonon : 2 overflowhiddenwidth278pxpaddingtop31px : 1 발롱도르 : 1 국사 : 1 1870px : 1 width53pxbackgroundposition40px : 1 left59pxwidth58pxbackgroundposition60px : 1 backgroundposition290px : 2 layerevent : 1 박무 : 1 9위 : 2 wrapcafe : 2 positionabsolutetop30pxleft1pxzindex0width179pxheight87pxbackgroundimageurlhttpi1daumcdnnetdecocomicstopdeco2014v2transparentgif : 1 icodisk : 1 icomarket : 1 displayblockheight100 : 1 positionabsolutetop34pxleft0height33pxpadding0 : 1 blogon : 2 txtgap : 1 zindex1backgroundcolor4e82eebackgroundposition0 : 1 180px : 1 0paddingtop4pxfontbold : 1 textdecorationunderline : 4 사전 : 3 테러 : 1 2450 : 1 color2156c0 : 2 갔어요 : 1 layerservice : 26 width278pxheight217px : 1 txtslash : 2 backgroundposition471px : 3 top : 1 신소연 : 2 linkphone : 1 역시밀레다운7만원대에겟 : 1 positionabsolutetop222pxleft214pxzindex103width466pxheight380pxbackgroundurlhttpi1daumcdnnetdecotop2012startpopie620121026png : 1 displayinlinecolorfff : 1 inputselecttextareabutton : 1 width179pxheight116px : 1 참여 : 1 displayblockfontsize11pxcolor737373textaligncenterletterspacing1px : 1 width100paddingright0fontsize11pxcolorbababa : 1 btnlogin : 2 linktithover : 24 icoplay : 9 1pxborder0 : 3 headermainasidearticlefooter : 1 1pxbackgroundcolore8e8e8 : 1 backgroundfff : 1 minus : 1 5대2 : 1 67px : 1 회원가입 : 1 소호 : 2 e1e1e1borderleft1px : 1 width46pxbackgroundposition2px : 1 곽진언 : 1 회사소개 : 1 infoevent : 1 클라우드 : 1 overflowhiddenpositionabsolutetop19pxright79pxheight25pxbackgroundimageurlhttpi1daumcdnnetdecocomicstopdeco2014v2transparentgiftextindent9999px : 1 650px : 1 7pxcolor000 : 1 bottom20pxleft155px : 2 floatleftpadding0 : 4 이슈 : 2 연예 : 2 displayinlineoverflowhiddenfloatleftwidth83pxheight93pxpadding23px : 1 margintop9pxlineheight18pxcolor5b5b5b : 1 floatleftwidth25pxheight15pxlineheight15pxmargin2px : 1 크로스백 : 1 colore73923 : 1 positionrelativewidth181pxpaddingtop22px : 1 6pxborderright1px : 1 parttoday : 136 colorg : 11 left212px : 1 195px : 1 wraptv : 10 0lineheight15pxbackgroundcolorfff : 1 미즈넷 : 2 titnews : 4 sportson : 2 backgroundposition170px : 11 width123px : 1 displayinlinewidth236pxheight52pxmargin19px : 1 재정비 : 1 toeaebefbackgroundimagemozlineargradienttop : 1 9pxlineheight21pxtextalignleftcursorpointer : 1 바로가기 : 7 marginleft1pxfontnormal : 1 cursordefault : 1 positionabsolutetop9pxright10pxwidth62pxheight19pxpaddingleft2pxbackgroundposition285px : 1 웹접근성안내 : 1 bar : 3 699px : 1 listfavorsch : 3 이메일 : 1 titfavor : 3 color24adc0 : 1 width267pxpadding26px : 1 marginleft3pxpaddingleft13pxbackgroundurlhttpi1daumcdnnetimgsrcsearchsearchall2012icoicocomm2120614gif : 1 gameon : 2 overflowhiddenpositionabsoluteleft24pxwidth153pxheight21pxpaddingleft8pxfontsize11pxlineheight22pxcolor96969bletterspacing1pxcursortext : 1 idadCgiMain : 1 overflowhiddenbackgroundurlhttpi1daumcdnnetdecocomicstopdeco2014v2btndaumv3pngv1247 : 1 서비스약관 : 1 margintop9pxlineheight19pxcolor757474 : 1 floatleftpaddingright4px : 1 nummsg : 1 titbrunch : 4 left205px : 2 top75pxwidth367pxheight20pxpadding8px : 1 displayinlineblockpadding11px : 1 best : 3 0backgroundposition100 : 1 유지 : 1 top0right18px : 1 layoutpromotion : 2 paddingtop16px : 1 wrapbestreader : 1 통합 : 1 aactive : 1 17pxborder1px : 1 linkagora : 7 paddingleft46pxbackgroundposition0 : 1 newg : 6 野 : 1 공양탑 : 1 THEME : 1 width13pxbackgroundposition170px : 1 inpagain : 1 txtlabel : 7 top83pxleft365px : 1 tiertopexpand : 1 marginleft3pxfont12px14px : 2 top156pxleft229px : 1 dotum돋움sansserifcolor000 : 1 tophead : 1 점수 : 1 teamaway : 1 backgroundposition55px : 1 width51pxbackgroundposition180px : 1 displayblockoverflowhiddenwidth78pxheight16pxmargintop8pxfontweightboldlineheight17pxcolorfffletterspacing1px : 1 titbook : 4 rolltxt : 1 margintop10pxlineheight19pxcolor7c7c7c : 1 titentertain : 4 displayinlinepaddingleft11pxbackgroundurlhttpi1daumcdnnetdecocomicstopdeco2014v2barplatepngv1102 : 1 overflowhiddenwidth271pxmarginleft3pxletterspacing1px : 1 125px : 6 폰번호 : 1 displayblockmargintop2pxfontsize11pxcolor262626 : 1 200px : 4 제시카 : 1 whitespacenowrap : 1 linkimghover : 2 검색 : 3 contsort : 2 dotg : 1 eventshop : 2 1pxlineheight14pxverticalaligntopwhitespacenowrap : 1 티스토리 : 1 left80pxwidth177pxbackgroundposition285px : 1 tflogin : 1 171℃ : 1 이은희 : 2 backgroundurlhttpi1daumcdnnetdecocomicstopdeco2014v2imgdaumvertv3pngv1130 : 1 750px : 1 favoron : 2 링크를 : 22 backgroundposition380px : 1 linkservice : 1 eaebefbackgroundimagelineargradientto : 1 베이직 : 1 cont : 2 확인하시려면 : 22 overflowhiddenwidth181pxheight142pxbackgroundurlhttpi1daumcdnnetdecocomicstopdeco2014v2bgweatherpngv1102 : 1 pagedaum : 6 d8d9dbborderbottom1px : 1 linkmore : 2 좋아 : 1 plateg : 13 7화 : 1 13pxpaddingright6pxfontsize11pxbackgroundposition100 : 1 overflowhiddenpositionabsolutetop0left0height18pxpadding0 : 1 linkjoin : 1 0textalignrightletterspacing0 : 1 bottom22pxleft265px : 2 백제의 : 1 titmyset : 1 11pxfontsize14pxlineheight17pxwhitespacenowraptextoverflowellipsis : 1 71pxcolor666letterspacing1px : 1 linkbnr2 : 3 overflowhiddenwidth444pxbackgroundposition0 : 1 backgroundcolorfff : 1 9pxlineheight15px : 1 0lineheight15pxbackgroundposition270px : 1 backgroundposition30px : 2 width30px : 1 displayblockpositionrelativeheight100px : 1 paddingleft9pxbackgroundposition4px : 1 iconew : 1 돌아오실 : 1 황정민의 : 1 항공사 : 1 padding0 : 6 left : 2 verticalimg : 13 icocafehot : 1 임신부들 : 1 shortcutghover : 1 layertoday : 50 quotes : 1 overflowvisibleheight340px : 1 패션 : 1 이준기 : 1 447px : 1 1pxbackgroundposition145px : 1 margintop5pxfontsize11pxcolor878787letterspacing1px : 1 찾기 : 2 닫기 : 2 초 : 1 정도 : 1 17pxbackgroundposition100 : 1 3px : 4 10pxfontsize11pxlineheight14pxfontfamily돋움dotumhelveticasansserifcolor666 : 1 linksale : 1 titnotice : 1 nameuser : 1 left224pxbackgroundposition225px : 1 인기 : 1 txtcont : 4 72pxcolor878787letterspacing1px : 2 backgroundposition390px : 4 width43pxbackgroundposition0 : 1 suggestBoxreverseType : 2 listimgtxt : 12 dindex : 7 11pxlineheight18pxbackgroundposition90px : 1 btnvideo : 1 top251pxleft370pxwidth20pxheight24pxbackgroundposition15px : 1 bookon : 2 backgroundposition100px : 2 2px : 6 467px : 1 relmy : 1 wrapfun : 1 btnsearch : 1 displayblockheight12pxpaddingtop7pxfontsize10pxlineheight12pxcolor848484 : 1 bodydivdldtddulollih1h2h3h4h5h6precodeformfieldsetlegendtextareapblockquotethtdinputselecttextareabutton : 1 가져오기 : 22 btnassay : 1 displayinlinemarginleft1pxpaddingleft2pxbackgroundurlhttpi1daumcdnnetdecocomicstopdeco2014v2imgdaumvertv3pngv1130 : 1 displayinlineblockmargin4px : 1 bottom : 2 positionabsolutetop33pxright0width515pxpadding16px : 1 400px : 12 msgreset : 1 left158px : 1 wrapmiznet : 1 boxcont : 1 displayinlinefloatrightwidth84pxheight15pxmargin14px : 1 0letterspacing1pxcursorpointer : 1 floatleftpaddingleft7pxlineheight15pxbackgroundposition0 : 1 iSTYLE24 : 1 padding36px : 1 0px : 1 width17pxbackgroundposition93px : 1 spetype2 : 6 spetype3 : 3 spetype1 : 3 txtblue : 1 서울 : 1 linkbnr : 2 idadCgiTimeSponsor : 1 plus : 1 546px : 1 17pxbackgroundposition0 : 1 20pxtextaligncenter : 1 paddingleft50pxbackgroundposition0 : 1 천안시 : 1 740pxcolor209bdbcursorpointer : 1 조희팔과 : 1 linksvc : 2 paddingleft44pxbackgroundposition0 : 1 paddingtop25px : 2 imginit : 11 목 : 1 news5tabon : 2 stocksteady : 2 89px : 3 156px : 11 326pxcolor333 : 1 color888 : 1 cafeon : 2 noticecafe : 2 overflowhiddenwidth278pxheight307pxpaddingtop31pxborder1px : 1 displayinlinefloatrightpadding0 : 2 155℃ : 1 color555 : 4 11pxfontsize12pxlineheight17px : 2 fontsize20pxlineheight23px : 1 여권내 : 1 13pxfontsize11pxlineheight14pxcolor959595letterspacing1pxverticalaligntop : 1 padding1px : 2 linkcont : 20 백령도 : 1 listtoday : 8 오늘의 : 3 labid : 1 139℃ : 1 top47pxwidth94pxheight16pxpadding5px : 1 sectionmedia : 44 신규진입 : 2 displayinlineverticalaligntop : 1 txtstate : 1 66px : 9 수납소가죽 : 1 shop1on : 3 marginwidth0 : 3 dotted : 1 tit : 1 총 : 7 로드뷰 : 1 mystockon : 4 14px : 1 headlinespe : 11 eaebefbackgroundimageolineargradienttop : 1 top81pxleft369px : 1 내또래 : 1 labsteady : 1 top8pxright8px : 1 floatrightlineheight15pxletterspacing1px : 1 HOT : 1 scrollingnoiframe : 3 fontsize11pxletterspacing1px : 1 활용하기좋은니트원피스 : 1 linkconthover : 2 shop3on : 3 아니어야 : 1 220px : 4 pagetype2 : 15 골다공증의 : 1 icolive : 1 paddingleft12pxbackgroundposition0 : 1 도움말보기 : 1 fst : 5 displayblockoverflowhiddenheight40pxheight63pxpadding12px : 1 txtblue2 : 1 color6d3fdf : 1 linkdaum : 1 displayinlinefloatleftwidth164pxheight46pxmargin29px : 1 675pxcolor7a7c83letterspacing1px : 1 스페셜 : 3 footdaum : 12 positionabsolutetop64pxleft0width940pxheight64px : 1 partspecial : 19 ㅋㅎ : 1 displayblockoverflowhiddenpositionrelativewidth280pxheight219pxmargintop5px : 1 역사 : 1 show : 1 0 : 202 linkhelp : 1 예쁜가을옷퀄리티 : 1 floatleftwidth63pxheight42pxmargin0 : 1 eaeaeaborderbottom1px : 1 영상중계 : 1 36px : 5 textdecorationnone : 3 주장 : 1 displayinline : 1 scoregame : 4 220pxverticalaligntoptextindent9999px : 1 innerfoot : 1 ahover : 1 width42pxbackgroundposition270px : 1 77px : 1 item : 1 11pxbordertop1px : 1 66pxcursordefault : 1 infomy : 1 width16pxheight15pxbackgroundposition70px : 1 backgroundposition340px : 2 ㅈㅊ : 1 고객센터 : 1 55pxtextindent9999pxcursorpointer : 2 50pxmargintop22pxbackgroundcolorf0f0f0clearboth : 1 imgvert : 2 쇼핑몰 : 1 뭉친 : 1 infonotice : 1 overflowhiddenwidth271pxheight55pxmarginleft7pxpaddingtop6px : 1 msgsave : 1 width63pxbackgroundposition210px : 1 width179pxheight95px : 1 흔들다 : 1 유엔 : 1 원료 : 1 color4559e9 : 2 토론토 : 2 msgmyset : 1 displaytablecellpositionabsoluteleft0top0width100height100 : 1 titgame : 4 벼슬이냐 : 1 함께 : 2 innermain : 1 overflowhiddenpositionrelativewidth188pxheight339pxbordertop1px : 2 최근 : 1 199px : 1 히말라야 : 1 zindex1backgroundcolor4e82eebackgroundposition171px : 1 rank10 : 1 12주년미시무료배송 : 1 linkconthome : 5 정보 : 8 이준석 : 2 verticalsong : 17 170px : 1 tistoryguisortablehelper : 1 height105 : 2 clearboth : 1 floatleftmargintop11pxpaddingright2pxcolor3a5fb9letterspacing1px : 1 displayblockmargin6px : 1 스토리볼 : 1 displayinlineblockwidth280pxheight150pxfontsize0lineheight0verticalaligntop : 1 txtdaum : 2 backgroundposition210px : 2 linksvcmore : 1 titsports : 4 0507 : 1 교육부 : 1 기획전홈 : 1 32pxfontweightboldbackgroundposition0 : 1 overflowhiddenpositionabsolutetop0left0zindex1width15pxheight15pxtextindent9999px : 1 title광고 : 3 icorecom : 2 안 : 1 35pxcolor444 : 1 msgerror : 1 width36pxheight13pxmargin0 : 1 이전 : 8 조르고 : 1 width181pxheight118px : 1 주요 : 2 분단 : 1 검색등록 : 1 listissue : 20 listdaumapp : 5 옥션 : 1 807px : 1 wrapfavor : 9 textindent9999px : 1 Daum : 1 topservice : 15 marginright4pxfontbold : 1 26pxborderbottom1px : 1 noneverticalaligntop : 1 headdaum : 2 tfkeyword : 1 fontweightnormalcolorfff : 2 overflowhiddenpositionabsolutetop48pxleft95pxwidth13pxheight16pxbackgroundposition0 : 1 8pxlineheight15pxbackgroundurlhttpi1daumcdnnetdecocomicstopdeco2014v2imgdaumvertv3pngv1130 : 1 北서 : 1 fontweightbold : 3 left353px : 1 icosteady : 1 margintop14px : 1 floatleftpositionrelativewidth427pxpaddingleft25px : 1 width54pxbackgroundposition40px : 1 1 : 1 btnlogout : 1 boxlst : 3 조연 : 1 innertag : 1 에어서울 : 1 width31pxbackgroundposition310px : 1 영화홈 : 1 titshop5 : 3 titshop4 : 3 floatright : 2 titshop1 : 3 abb5bdbordertop0 : 1 titshop3 : 3 titshop2 : 3 1721711 : 1 자동차 : 1 목록 : 1 캔마트 : 1 q : 1 displayblock : 34 linkrecom : 1 1430px : 8 floatleftcolor6d7078 : 1 displayblockoverflowhiddenfloatleftwidth88pxheight34pxmargintop1pxfontsize12pxlineheight18pxletterspacing0 : 1 lst : 1 rellink : 1 증권 : 3 timenum : 1 14pxbackgroundposition450px : 1 중국 : 1 6위 : 2 쇼핑기획전 : 1 임신이 : 1 floatleftbackgroundposition0 : 1 신과 : 1 txtpso : 1 backgroundcolorf0f0f0 : 1 blockquote : 1 w20 : 2 7pxbordertopnoneborderbottom1px : 1 admaintopad : 1 277pxcolor2c74e0 : 1 headlineimg : 12 여수 : 1 try : 1 CDATA : 4 displayinlineblockpaddingright10pxmargintop11pxbackgroundposition100 : 1 cursorpointer : 1 번째 : 1 displayblockoverflowhiddenwidth174pxheight29pxpadding18px : 1 displayinlineblockwidth2pxheight7pxmargin4px : 1 displayinlineblockwidth18pxheight7pxmargin4px : 1 훈련 : 1 우리 : 1 목적도 : 1 클릭상품 : 1 contthesong : 4 displayblockfontsize11pxlineheight14pxcolor878787 : 1 f2f2f4 : 1 1165px : 1 tittvpot : 4 contshopbest : 37 및 : 2 positionabsolutetop0left92pxwidth154pxheight75pxpaddingleft12pxfontsize11pxbackgroundcolorfbfbfbbackgroundposition285px : 1 inpsteady : 1 linkthumb : 4 전성기 : 1 경기시간 : 1 베일 : 1 floatleftmargin11px : 2 width28pxbackgroundposition75px : 1 eaebefbackgroundcolorf9fafbcolor222letterspacing2pxtextaligncentertextdecorationnonewebkitboxshadowinset : 1 listgoods : 7 65pxtextindent9999px : 1 width179pxheight183px : 1 backgroundposition605px : 2 svcmorelink : 1 부동산 : 2 변경 : 1 bline : 1 379px : 1 contdaysale : 7 하프클럽 : 1 역무원 : 1 width188pxheight283px : 1 광주 : 1 dotum돋움sansserifcolora1a1a1 : 1 height249px : 1 positionabsolutetop38pxleft0zindex9999width100padding0 : 1 width224px : 1 미녀들 : 1 displayinlineblockwidth653pxborderbottom1px : 1 추천 : 2 wrapmycont : 1 티저예고편 : 1 어디서 : 1 floatleftwidth280px : 1 top0left0width54pxheight41pxbackgroundposition110px : 3 overflowhiddenpositionabsolutetop50pxleft91pxwidth17pxheight14pxbackgroundposition40px : 1 white : 1 width190pxheight160pxborderbottom1px : 1 nonebackgroundcolortransparentcursorpointer : 1 시작 : 1 left132pxwidth101pxbackgroundposition410px : 1 adtimead : 1 wraptabcont : 12 brunchon : 2 바로 : 22 면허증도 : 1 제기 : 1 지옥 : 1 wraptierfixcont : 1 330px : 3 365px : 2 eeeef0 : 2 wrapmy : 1 wraplife : 1 overflowhiddenfloatleftwidth37pxmargintop1pxpaddingleft9pxfontsize10pxlineheight12pxcolor81838cwhitespacenowrap : 1 backgroundposition1px : 1 a9abb0bordertop0 : 1 backgroundposition430px : 1 따뜻한 : 1 displayinlineblockwidth278pxheight562pxborder1px : 1 height50px : 1 width397pxheight283px : 1 모으다 : 1 floatleftpadding14px : 1 height291pxpaddingtop36px : 1 positionabsolutetextindent9999pxcursorpointer : 1 icotopic : 2 15px : 14 MLB : 1 책 : 2 overflowhiddenpositionrelativewidth500pxheight53px : 1 a5a6accolor000 : 1 overflowhiddenpositionabsolutetop278pxleft139pxwidth188pxheight38pxbackgroundimageurlhttpi1daumcdnnetdecocomicstopdeco2014v2transparentgiftextindent9999px : 1 7pxpadding1pxbackgroundposition465px : 1 백제 : 1 webkitappearancenone : 1 icog : 1 displayinlineblockoverflowhiddenheight100backgroundfffverticalalignmiddle : 1 icotime : 1 overflowhiddenwidth179pxheight87pxbordertop1px : 1 1760px : 1 b5b8bfborderradius12pxfontsize52pxlineheightnormalbackgroundimagewebkitgradientlinear : 1 아니다 : 1 rgba000006 : 1 비밀번호 : 2 공동행동 : 1 height15px : 1 txtnotice : 1 btnlayer : 2 top0left0width54pxheight41pxbackgroundposition55px : 2 9pxbackgroundurlhttpi1daumcdnnetdecocomicstopdeco2014v2imgdaumvertv3pngv1130 : 1 backgroundposition413px : 2 bottom16pxleft416px : 1 227pxcolored5c5e : 1 overflowhiddenfloatleftwidth127pxmarginright5pxpaddingleft9px : 1 무도서경덕의 : 1 floatleftwidth46pxheight25pxmarginright6pxbackgroundposition0 : 1 캔자스 : 1 descstoryhover : 1 titfun : 4 PC에서만 : 1 padding12px : 2 0lineheight18pxbackgroundurlhttpi1daumcdnnetdecocomicstopdeco2014v2btndaumv3pngv1247 : 1 blogguisortablehelper : 1 height62px : 1 출근길 : 1 margintop7pxlineheight19pxcolor757474 : 1 0font11px : 1 btnmmsrelay : 1 0colorfff : 1 두 : 1 1위 : 2 활동범위 : 1 icocelsius : 1 왜 : 1 titrealestate : 4 marginleft2pxfontsize14pxcolordedede : 1 121℃ : 1 left111px : 2 backgroundcolortransparent : 1 icomono : 1 displayblockpadding5px : 1 margintop2px : 1 380pxtextindent9999px : 1 colord5d4d8 : 1 iST24 : 1 overflowhiddenheight19pxpadding2px : 1 btnlocate : 1 49px : 1 wrapsub : 3 a5a6acborderleft1px : 2 880px : 4 60px : 2 overflowhiddenwidth188pxpaddingtop10pxbordertop1px : 1 전일대비 : 2 edededbackgroundcolorf8f9fa : 1 displayblockpositionabsolutetop0left0width280pxpaddingtop120pxtextaligncenter : 1 paddingleft14pxbackgroundposition1px : 1 titcafe : 4 overflowhiddenpositionabsolutewidth0height0lineheight0textindent9999px : 1 mycontfoot : 1 floatleftwidth201px : 1 날씨 : 3 250px : 4 arialbackgroundurlhttpi1searchdaumcdnnetssearchall2011icoicosuggest20110721gif : 1 405px : 1 rankcont : 1 layoutheadlinevertical : 1 20px : 2 backgroundposition180px : 4 left69px : 1 0lineheight12px : 1 positionabsolutetop0right0width940pxheight33pxborderbottom1px : 1 d8d9dbverticalaligntop : 1 listimg : 20 cafeg : 6 210px : 1 color : 1 top129pxwidth167pxheight23pxpadding9px : 1 backgroundposition350px : 2 205px : 2 displayblockfontsize11pxcolor262626 : 1 top259pxleft369pxwidth21pxheight17pxbackgroundposition60px : 1 줘 : 1 listrel : 2 linkprivacy : 1 width179pxheight116pxborder1px : 2 width167pxheight45pxpadding10px : 2 contfeature : 3 fontsize14pxlineheight22px : 1 floatleftwidth175pxheight144pxpadding15px : 1 묻지 : 1 117도 : 1 zindex1backgroundcolor4e82eebackgroundposition117px : 1 linkinfo : 1 631 : 1 c4cdd6 : 1 22pxbackgroundposition0 : 1 color3f4145 : 1 폭행당한 : 1 noticelogout : 1 titspe : 1 더 : 2 width940pxmargin0 : 1 overflowhiddenpositionabsolutetop171pxheight30pxfontsize11pxletterspacing1pxtextaligncentertextindent9999px : 1 저비용 : 1 안내 : 2 linksvcall : 1 3f78dffontsize12pxlineheight17pxfontfamily굴림gulimsansserifbackgroundcolorfff : 1 하락 : 2 꼬여버린드레스는 : 1 border0 : 2 75px : 2 icofavor : 1 layersteady : 4 margin4px : 2 liststylenone : 1 floatleftpositionrelativezindex0width266pxmargintop14px : 1 width98pxheight50px : 1 contspe : 1 height375px : 1 rgba000006boxshadowinset : 1 기다리며 : 1 backgroundposition200px : 1 overflowhiddenwidth258pxpadding8px : 1 icosuggest : 1 3pxlineheight47pxbackgroundposition0 : 1 linkweather : 42 btnsave : 1 displayinlineblockcolor5d6273verticalaligntop : 1 20pxbordertop2px : 1 IS : 1 overflowhiddenpositionabsolutetop22pxright20pxwidth110pxheight15pxbackgroundposition95px : 1 무심한듯 : 1 baseBox : 3 89pxcolor777 : 1 251px : 1 floatnone : 2 overflowhiddenwidth244pxpadding14px : 1 임창용안지만 : 1 공지사항 : 1 floatrightpaddingleft0backgroundnone : 1 18pxborder1px : 1 fontsize11pxcolor555letterspacing1px : 1 btnbefore : 1 eeeef0backgroundcolorf7f7f7 : 2 positionabsolutetop23pxright39pxheight13pxfontsize11pxlineheight14px : 1 미쳤어이가격단독특가5만 : 1 btncaster : 1 top227pxwidth160pxpadding5px : 1 overflowhiddenwidth66pxheight74pxfontsize11pxlineheight14pxtextaligncentercolor414141letterspacing1px : 1 전 : 22 displaynone : 5 width385pxheight101px : 1 만화속세상 : 1 예뻐난리야지금입기딱 : 1 color8f8f8ftextdecorationunderline : 1 height150 : 1 eventteam : 1 width280 : 1 textaligncenter : 1 3pxletterspacing1px : 1 infothumb : 6 issuetypetxt : 4 icoarrowequal : 1 운세 : 1 적발한국 : 1 floatleftpadding9px : 1 listmainsvc : 3 301pxcolore73923 : 1 1980px : 1 backgroundposition310px : 3 displayblockoverflowhiddenwidth278pxheight80pxmargintop8px : 1 displaynonepositionabsolutetop0left0width100backgroundcolor000filteralphaopacity60opacity06 : 1 fsttxt : 2 wraptvpot : 6 top47pxright10px : 1 sectioncontents : 2 35px : 3 허세 : 1 titbestlike : 4 listthumb : 24 메일 : 1 overflowhiddenpositionrelativewidth266pxheight61px : 1 width41pxbackgroundposition50px : 1 itemvs : 2 영화 : 4 backgroundposition45px : 1 color848585 : 1 동영상 : 2 뉴스홈 : 1 장관 : 1 입니다 : 22 articledaum : 1 titblog : 4 btnnext : 4 tithope : 4 청소년보호정책 : 1 backgroundcolorf8f8f8textdecorationnone : 1 ㅅㅇ : 1 left9999px : 1 126px : 22 displayblockheight22pxlineheight22pxtextaligncentercolor777b80 : 2 4위 : 2 950px : 1 개인정보취급방침 : 2 on : 2 20pxfontsize0 : 1 marginright5pxbackgroundposition355px : 1 outline1px : 1 © : 1 IP보안 : 2 국사교과서 : 1 논란 : 2 icopush : 2 floatleftwidth24pxheight20pxheight24pxmargin5px : 1 width52pxbackgroundposition130px : 1 or : 1 남자들 : 1 1100px : 1 enteron : 2 광고 : 1 height416pxpaddingtop43px : 1 paddingleft45pxbackgroundposition0 : 1 특가 : 2 displayblockoverflowhiddenwidth278pxheight120px : 1 txtarea : 1 위해개인 : 1 servicegroup : 1 icoarrowdown : 1 4559e9 : 1 롯데i몰 : 1 backgroundurlhttpi1daumcdnnetdecocomicstopdeco2014v2imgweatherpngv1102 : 1 imgdaum : 2 titmovie : 4 접근성 : 1 infogame : 1 floatleftwidth21pxheight23pxmargintop3pxbackgroundposition120px : 1 경찰의 : 2 top127pxleft370pxwidth20pxheight24pxbackgroundposition15px : 1 80px : 4 backgroundposition70px : 1 대화 : 1 shopmall : 1 displayblockwidth22pxheight12pxmargin21px : 1 1021 : 1 bordertop1px : 2 marginleft1pxpaddingleft1pxbackgroundposition97px : 3 width399pxheight340pxborderbottom1px : 1 height110pxmargin0 : 1 top6pxleft5pxwidth28pxheight28pxbackgroundposition0 : 1 displayblockoverflowhiddenheight23pxpaddingtop10pxlineheight15pxbackgroundurlhttpi1daumcdnnetdecocomicstopdeco2014v2bgdaumv6pngv1559 : 1 같다 : 1 floatleftwidth13pxheight13pxmargintop1pxtextindent9999px : 1 10위 : 2 mypeopleg : 1 padding4px : 1 txtlabid : 1 wrapbestlike : 5 backgroundposition80px : 1 displayinlineblockoverflowhiddenwidth18pxheight26pxmargintop4pxfontsize0lineheight0verticalaligntop : 1 고통스런하나 : 1 하나가 : 1 이마트몰 : 1 backgroundposition69px : 1 positionabsolutetop146pxleft943pxzindex98width57pxheight105pxbackgroundurlhttpi1daumcdnnetdecotop2012logout20121016png : 1 모바일 : 1 screenout : 2 adstation : 1 여전히 : 1 fontbold : 2 stockg : 6 backgroundposition60px : 1 positionrelativezindex10width279px : 1 floatleftwidth32pxheight21pxtextindent9999px : 1 floatleftwidth73pxheight47pxmargin28px : 1 servicebottom : 2 0marginleft6pxverticalalignmiddle : 1 overflowhiddenwidth278px : 2 width250pxheight220pxmarginright24px : 1 width18pxheight17pxbackgroundposition75px : 1 6pxpadding0fontsize1pxlineheight1pxbackgroundcolore5e5e5 : 1 b8bbbfbordertop0 : 1 btnpage : 4 18px23px : 1 overflowhiddenpositionrelativewidth278pxheight34pxborderbottom1px : 1 displayinlineblockwidth40pxheight23pxmarginright4pxlineheight23pxbackgroundposition35px : 1 eaeaed : 2 649pxcolorec2c2fverticalaligntop : 1 eaeaea : 1 이륙 : 1 width188pxheight159px : 2 displayinlinefontsize11pxlineheight13pxcolorec0000 : 1 setstart : 1 000outlinewebkitfocusringcolor : 1 fontsize14pxcolor000textdecorationnone : 1 지낸 : 1 쇼핑도움 : 1 431pxtextindent9999px : 1 width100pxheight14pxlineheight14pxbackgroundposition145px : 1 wrapwebtoon : 2 top8pxright9px : 1 1px : 17 overflowhiddenpositionabsolutetop96pxleft0width269pxheight17pxbackgroundurlhttpi1daumcdnnetdecocomicstopdeco2014v2linedotgifv1102 : 1 overflowhiddenwidth249pxheight83pxmargin0 : 1 자동실행 : 1 15pxtextindent9999px : 1 teamhome : 1 290px : 20 list : 3 fontweightnormalcolorea570a : 1 강릉 : 1 paddingleft1pxbackgroundnone : 1 displayinlinefloatleftwidth358pxheight18pxpadding0margin11px : 1 linkmyinfo : 1 floatleftwidth13pxheight13pxmarginright3px : 1 width53pxbackgroundposition130px : 1 없던 : 1 67pxtextindent9999pxcursorpointer : 1 height161pxborderbottom0 : 1 top83pxleft164px : 1 lifeon : 2 40pxtextindent999em : 1 top15px : 1 overflowhiddenwidth383pxheight14pxpaddingtop8pxlineheight15pxtextaligncenter : 1 adtime : 13 bodyh1h2h3h4thtdinputselecttextareabutton : 1 피지는줄이고수분은올리고 : 1 floatrightpositionstaticheight17pxpaddingleft12pxbackgroundcolorfff : 1 e8e8e8borderbottom1px : 1 1320px : 3 strong : 1 어수선한 : 1 marginright0backgroundposition455px : 1 국정화 : 1 contg : 8 titlife : 4 displayinlineblockverticalaligntop : 1 희망해 : 3 출연료 : 1 fwb : 1 레깅스 : 1 top148pxwidth216pxheight21pxfontsize12pxlineheight15pxpadding9px : 1 adrightbtm : 5 positionabsolutebottom0left0width515pxheight31pxbackgroundcolorf4f5f7 : 1 2pxcolorddd : 1 floatleftwidth85pxpaddingleft16pxlineheight16px : 1 대전 : 1 paddingleft0backgroundnone : 1 18px20px : 1 울릉도 : 1 urlhttpi1searchdaumcdnnetssearchall2013bgbgfootergif : 1 게임 : 3 사라진마지막 : 1 하정우 : 1 backgroundnone : 1 페이지10 : 1 fontfamilytahomasansserif : 1 1248pxverticalaligntop : 1 floatleftheight19pxpaddingleft7pxcolorfffbackgroundposition0 : 1 Corp : 1 남자 : 1 titnews5tab : 4 titsort : 1 timehour : 1 overflowhiddenpositionabsoluteright12pxbottom10pxheight14pxfontsize11pxlineheight14pxcolor777letterspacing1px : 1 txtnum : 7 overflowhiddenwidth203pxheight18pxmargin14px : 1 txtfortune : 1 13pxlineheight18px : 1 wrapmain : 7 bottom15pxleft208px : 1 0textaligncentercolor5b6473 : 1 overflowhiddenwidth278pxheight273pxbordertop1px : 1 버 : 1 icow04 : 1 icow05 : 1 icow06 : 1 icow07 : 1 icow01 : 1 icow02 : 1 icow03 : 1 imgweather : 2 icow08 : 1 icow09 : 1 irwa : 1 none : 10 0fontsize11pxlineheight14pxcolor5b6473letterspacing1px : 1 mysvclist : 1 10pxbackgroundposition20px : 1 icodownbackgroundposition0 : 1 484pxtextindent9999px : 1 urlhttpi1daumcdnnetdecocomicstopdeco2014v2bgtopbargifv1102 : 1 displayblockfloatleftmarginright8px : 1 color4559e9textdecorationunderline : 3 width180pxheight100px : 1 shop4on : 3 2574 : 1 floatleftmargin5px : 1 num4 : 3 num5 : 2 num6 : 2 num7 : 2 num0 : 2 num1 : 5 num2 : 4 num3 : 4 num8 : 2 num9 : 2 displayblockmargintop4pxfontsize11pxcolor959595letterspacing1px : 1 arialcolor000 : 1 overflowhiddenwidth161pxheight21pxmarginright10pxpadding7px : 1 tvon : 2 positionabsolutetop283pxright9pxwidth19pxheight17pxbackgroundposition225px : 1 txtnum4 : 1 txtnum3 : 1 txtnum2 : 1 txtnum1 : 1 심각하고 : 1 어학사전 : 1 txtstock : 1 linkdaumapp : 1 검색어 : 1 뜨거운 : 1 tahomacolor000 : 1 로그인 : 5 fr : 1 4pxcolor444 : 1 280pxtextaligncenter : 1 loginsimple : 5 G마켓 : 1 logininp : 8 a5a6ac : 1 베스트100 : 1 floatleftwidth100margintop8pxlineheight19pxcolor757474clearboth : 1 wrapdaum : 1 floatleftmargin19px : 1 600px : 2 fl : 2 width58pxheight48px : 1 a : 3 width190pxheight340pxborderbottom1px : 1 width100pxheight52px : 1 footer : 10 daumContent : 1 609px : 1 sortservice : 8 주세요 : 1 backgroundposition420px : 1 numprice : 4 제주 : 1 개인정보 : 1 width410pxheight161px : 1 이사도 : 1 fff : 5 강림도령 : 1 width53pxbackgroundposition0 : 1 backgroundposition185px : 7 미세먼지 : 2 부담없는 : 1 color9b01bc : 1 floatleft : 11 8pxlineheight15pxcolorfc6870letterspacing1px : 1 ellipsisg : 3 220pxletterspacing1px : 1 marginbottom1px : 1 중국서 : 1 uisortablehelper : 1 top191pxheight39px : 1 breakingnews : 3 overflowhiddenpositionrelativewidth263pxheight55pxmargin21px : 1 overflowhiddenfloatrightwidth138pxheight112pxlineheight100pxtextaligncenter : 1 rankissue : 1 floatleftmargin2px : 1 overflowhiddenpositionabsolutebottom10pxleft11pxwidth167pxcursorpointerwhitespacenowraptextoverflowellipsis : 1 searchon : 1 overflowhiddenbackgroundurlhttpi1daumcdnnetdecocomicstopdeco2014v2icodaumv7pngv1324 : 1 top47pxwidth106pxheight17pxpadding4px : 1 left116pxbackgroundposition117px : 1 팁 : 3 linksetpage : 1 hopeon : 2 0lineheight15pxtextaligncenter : 1 overflowhiddenwidth515pxpaddingbottom12pxbackgroundurlhttpi1daumcdnneticon2013topmorelayerbglinev2gif : 1 backgroundposition110px : 1 width53pxbackgroundposition340px : 1 wrapbrunch : 2 positionabsolutebottom3pxleft0width13pxheight13px : 1 listuser : 10 overflowhiddenpositionabsolutebottom15pxleft11pxwidth100pxheight19pxpaddingleft20pxlineheight23pxbackgroundposition0 : 1 overflowhidden : 2 noticeblog : 2 wrapbook : 4 아동실내복따뜻하고포근 : 1 4px : 5 color196adb : 1 0backgroundposition0 : 1 displayblockoverflowhiddenwidth188pxpadding8px : 1 txttv : 1 mypeopleguisortablehelper : 1 레지던트 : 1 width42pxbackgroundposition170px : 1 wraphope : 3 230pxtextindent9999px : 1 floatleftpadding1px : 1 left241px : 1 icoarrowup : 1 left248px : 1 507px : 1 floatleftwidth37pxlineheight17px : 1 width397pxheight159px : 1 overflowhiddenfloatleftwidth89pxheight64pxmarginright3pxpaddingtop11pxfontweightboldfontsize11pxlineheight12pxbackgroundurlhttpi1daumcdnnetdecocomicstopdeco2014v2bgdaumv6pngv1559 : 1 0color222letterspacing1px : 1 대 : 2 fontsize11pxcolor555lineheight15pxletterspacing1px : 1 주연보다 : 1 은정 : 1 linkthesong : 3 조선마술사 : 1 tfkeywordwebkitsearchcancelbutton : 1 layertop : 3 zindex10backgroundposition0 : 1 23px : 1 슈가맨 : 2 verticalalignmiddle : 1 displayblockoverflowhiddenwidth46pxheight18pxmargin57px : 1 한국에서 : 1 txtprice : 1 overflowhiddenfloatleftheight33pxfontweightboldlineheight35pxpadding0 : 1 displayblockmargintop1pxfontsize11pxcolor737373letterspacing1px : 1 wrapdaumapp : 1 backgroundposition135px : 2 overflowhiddenpositionrelativewidth628pxheight597pxpadding37px : 1 390px : 1 nonezindex1 : 1 icoup : 1 130℃ : 1 데일리백 : 1 displayinlinefontsize13pxcolor000 : 1 15pxpaddingtop5pxfontsize11pxlineheight16pxcolor7b7b7bletterspacing1pxwhitespacenormal : 1 displayblockfloatleftwidth32pxheight32pxbackgroundposition120px : 1 layoutheadlinet2 : 1 borderright1px : 1 e1e1e1backgroundcolorfbfbfb : 2 paddingleft48pxbackgroundposition0 : 2 상승84 : 2 247px : 1 tfpw : 1 웹 : 1 외조카 : 1 color454545 : 1 icow13 : 1 icow12 : 1 icow11 : 1 height25pxpadding43px : 1 icow17 : 1 icow16 : 1 icow15 : 1 icow14 : 1 ageg : 1 힘 : 1 icow18 : 1 0colorfffletterspacing1pxtextdecorationnonecursorpointer : 1 가을 : 1 overflowhiddenfloatleftpositionrelativewidth52pxheight53px : 1 15pxbackgroundposition170px : 1 롯데닷컴 : 1 w40 : 2 wrapmysvc : 2 txtred : 1 txtstory : 2 spiritdaum : 2 issuetypeimg : 3 하늘을 : 1 미스터리 : 1 dsch : 6 blockquoteafterqbefore : 1 overflowhiddenpositionrelativewidth181pxheight120pxmargintop14px : 1 120px : 1 AK몰 : 1 145px : 5 funon : 2 shortcutgfocus : 1 오늘 : 1 페이지 : 1 98pxtextdecorationnone : 1 paddingleft39pxbackgroundposition0 : 2 linkagorahover : 1 imgmobileweb : 1 colord40400 : 1 norepeat : 31 displayinlinefloatright : 1 지역 : 2 paddingleft42pxbackgroundposition0 : 1 platebestlike : 1 psogame : 3 22px : 1 layoutvertical : 2 더보기 : 1 width248pxheight176px : 1 backgroundposition105px : 2 총선 : 1 차비 : 1 대세는 : 1 미디어 : 2 오랜만이야 : 1 backgroundposition270px : 2 color676767 : 1 tipon : 2 tittip : 4 top7pxleft7pxwidth45pxheight45pxbackgroundposition30px : 1 checkoff : 1 backgroundposition50px : 4 fontweightnormal : 3 txtagora : 2 srchttpdisplayaddaumnetimpslotid0K904refqry : 1 displayinlineblockpositionabsolutetop13pxlineheight15pxverticalaligntop : 1 0padding0 : 1 대구 : 1 suggestexact : 37 paddingtop7px : 2 246px : 1 하필이면 : 1 listbasis : 6 탭 : 10 나의 : 1 55px : 9 displayinlineblockpaddingleft8pxfontweightboldfontsize10pxlineheight10pxfontfamilytahomasansserif : 1 txtexact : 1 contsub : 1 displayinlineblockmargin13px : 1 상승87 : 2 backgroundposition120px : 2 headlinetxt : 5 797px : 1 icolabel : 2 미니깜찍 : 1 titthesong : 3 inputmsclear : 1 width8pxheight8pxmargin13px : 1 overflowhiddenpositionrelativewidth200px : 1 color209bdb : 1 color303030textdecorationnone : 1 width44pxbackgroundposition25px : 1 btnend : 1 되는 : 1 timethesong : 3 7위 : 2 displayinlinepadding0 : 1 linkcopy : 1 margintop12pxpaddingleft17pxbackgroundposition1px : 1 이번에는 : 1 titstoryhover : 1 paddingleft19pxbackgroundposition3px : 1 c4cdd6borderleft1px : 1 icodown : 1 paddingleft14pxbackgroundurlhttpi1daumcdnnetdecocomicstopdeco2014v2imgdaumvertv3pngv1130 : 1 addresscaptioncitecodedfnemvar : 1 displayblockoverflowhiddenpositionrelative : 1 offSuggest : 1 width220 : 1 overflowhiddenpositionabsoluteright3pxbottom3pxwidth20pxheight20pxtextindent9999px : 1 제휴문의 : 1 linktotalsvc : 1 285px : 6 noticedaum : 18 자위대 : 1 fontsize11pxfontfamilytahomasansserifcolor4c4c4c : 1 width70pxheight14pxlineheight14pxbackgroundposition10px : 1 height24pxbackgroundposition471px : 1 fontsize12pxlineheight15fontfamily돋움dotumsansserifcolor333 : 1 15pxverticalaligntoptextindent9999px : 1 left58px : 1 displayblockwidth26pxheight15pxmargintop4pxbackgroundposition0 : 1 overflowhiddenfloatleftwidth279pxheight21pxpaddingleft17pxlineheight21pxwhitespacenowrap : 1 2363 : 1 btning : 1 0letterspacing1pxwhitespacenowrap : 1 다음 : 10 상승175 : 2 반대기류 : 1 16px : 2 width149pxmarginright5pxpadding1px : 1 height79px : 1 solid : 53 stocktoday : 10 displayinlineblockmarginright4pxpaddingright8pxfontweightboldbackgroundposition100 : 1 fieldsetimg : 1 icow10 : 1 131℃ : 1 overflowhiddenpositionabsolutetop19pxright20pxwidth54pxheight25pxbackgroundimageurlhttpi1daumcdnnetdecocomicstopdeco2014v2transparentgiftextindent9999px : 1 guide : 1 appintro : 7 floatrightpadding11px : 1 infopage : 6 eeeef0verticalaligntop : 1 recomshop : 3 layerie6 : 6 positionabsolutetop0left0zindex102width100 : 1 나스닥 : 1 backgroundurlhttpicondaumcdnnetwc130219696439712097703png : 1 displayinlineblockheight14pxmargintop14pxlineheight14pxverticalaligntopwhitespacenowrap : 1 상승95 : 2 contimport : 1 상승99 : 2 상승206 : 2 ㅁㅂ : 1 카페 : 4 displayblockheight40pxmargintop7pxpaddingleft17pxbackgroundposition1px : 1 positionabsoluteright4pxbottom3pxwidth13pxheight13pxborder0 : 1 nameadCgiBrandingStation : 1 floatleftheight23pxpadding10px : 2 linkimg : 2 headevent : 2 김사랑 : 2 블로그 : 3 1pxtextindent9999px : 1 icoreader : 1 b7c1caverticalaligntop : 1 width28pxbackgroundposition145px : 1 韓日국방회담 : 1 위증했다 : 1 btnrecord : 1 paddingleft5pxlineheight12pxbackgroundnone : 1 마지막편 : 1 삼성 : 1 width167pxheight143pxpadding16px : 1 width430 : 1 밀수 : 1 770px : 1 217px : 1 backgroundposition541px : 2 width63pxbackgroundposition390px : 1 상품 : 3 paddingleft41pxbackgroundposition0 : 5 titevent : 1 13pxlineheight15pxwhitespacenowraptextoverflowellipsis : 1 160px : 3 폭탄 : 1 95px : 3 backgroundposition85px : 1 left61px : 1 15pxlineheight13pxwhitespacenowrap : 1 공감하는 : 1 bottom23pxleft370px : 1 displayblockwidth130px : 1 titwebtoon : 4 icogivehover : 1 displayblockoverflowhiddenpadding25px : 1 readersinfo : 4 floatleftpositionrelativewidth444pxmargintop28px : 1 0border0 : 1 noticestart : 2 itemhover : 1 wrapnews : 1 btnsvcmove : 1 nameadCgiTimeSponsor : 1 findpw : 1 frameborder0 : 3 1pxbackgroundcolore1e1e1 : 2 boxuser : 10 w41 : 2 e1e1e1cursorpointer : 1 displayinlineblockheight23pxpadding10px : 1 btnclose : 7 positionrelativeheight103px : 1 울산 : 1 emphtxt : 1 fontsize12pxcolor000textdecorationnone : 1 positionrelativewidth100zindex101 : 1 listmyset : 15 다우 : 1 txtred2 : 1 overflowhiddenzindex0width280pxheight143px : 1 루리웹 : 1 icophoto : 7 105px : 1 backgroundposition150px : 2 봤더라 : 1 싱크로율 : 1 12px18px : 1 광고안내 : 1 top30px : 1 color6f6f6f : 1 8px : 8 num10 : 1 wrapnews5tab : 1 bottom16pxleft209px : 1 height43pxpaddingtop12px : 2 frameg : 23 width940pxmargin4px : 1 3f4243fontsize11pxlineheight14pxbackgroundcolor26292acolorfffletterspacing1pxtextaligncenter : 1 newslink : 1 fontweightboldfontfamily돋움dotumhelveticasansserifcolor557df6 : 1 overflowhiddenwidth272pxheight29pxpadding6px : 1 txtmyset : 1 icodaum : 4 span : 1 지도 : 3 눈물 : 1 positionabsolute : 2 SALE : 1 contstory : 48 width70pxheight101pxmargin7px : 1 178℃ : 1 fontfamily굴림gulimsansserifcolor363b4a : 1 overflowhiddenfloatleftpaddingleft16pxbackgroundurlhttpi1daumcdnnetdecocomicstopdeco2014v2imgdaumvertv3pngv1130 : 1 96px : 5 141℃ : 1 txtvs : 1 게 : 1 line : 2 linkbasis : 2 0color5b6473letterspacing1px : 1 icoevent : 1 mycafeon : 4 zindex1backgroundcolor4e82eebackgroundposition60px : 1 positionrelativemarginright90pxclearboth : 1 cacbce : 1 24px : 2 170pxtextaligncenter : 1 bigimg : 6 wraptiertop : 2 backgroundurlhttpi1daumcdnnetdecocomicstopdeco2014v2imgdaumv3pngv1324 : 1 국정화로 : 1 fontsize12px : 1 마일리지 : 1 floatrightmargin25px : 1 신세계몰 : 1 positionabsolutetop0left22pxfontsize11pxlineheight14pxletterspacing1px : 1 shortcutg : 2 수원 : 1 storyballon : 2 suggestexacthover : 1 TV : 2 넉넉한 : 1 13pxletterspacing1px : 1 marginright8px : 1 유승호고아라 : 1 다음앱 : 3 wrapentertain : 1 공중그네 : 1 titconthover : 1 top0left0width54pxheight41pxbackgroundposition0 : 2 labagain : 1 left154px : 1 floatleftmaxwidth117pxwidth117pxmargintop5pxfontsize14px : 1 0border2px : 1 tit5 : 1 tit4 : 1 550px : 1 tit1 : 1 505px : 1 tit3 : 1 tit2 : 1 상승67 : 2 영상 : 1 documentwritelniframe : 3 floatleftpositionrelativewidth220pxheight105pxmarginright5px : 1 contshop : 29 아우터10 : 1 9pxheight21pxlineheight21px : 1 overflowhiddenfloatleftwidth282pxheight112pxtextaligncenter : 1 1141 : 1 shortcutgactive : 2 8pxlineheight15pxwhitespacenowrap : 1 유익한 : 2 14pxbackgroundposition10px : 1 고소공포증도 : 1 dlulolmenuli : 1 displayinlineblockmarginright6pxheight11pxfontsize10pxlineheight11pxverticalaligntop : 1 페이지13 : 1 부산 : 1 페이지11 : 1 25px : 7 이파니 : 2 daumSuggestWrap : 1 positionabsolutetop0left0width36pxheight20pxbackgroundposition80px : 1 defaulttxt : 10 backgroundposition2px : 2 문심천 : 1 margintop11px : 1 실시간 : 2 txtissue : 2 left1pxtop1pxpadding0 : 1 남장 : 1 backgroundposition75px : 1 420px : 1 button : 1 110px : 2 bgdaum : 1 ㄱㄹ : 1 paddingleft47pxbackgroundposition0 : 3 todayopen : 2 562px : 1 positionrelativedisplayblockheight100pxborder1px : 1 fontweightnormalcolore5333d : 1 Kakao : 1 베스트공감 : 1 floatleftmarginright2px : 1 재밌는 : 2 135px : 1 infotemper : 15 backgroundposition13px : 41 웹툰 : 2 numbasis : 1 6pxlineheight16pxcolor262626 : 1 mysetbtn : 1 srchttpdisplayaddaumnetimpslotid0K905 : 1 wrapcont : 1 굉장히 : 1 left80pxwidth120pxbackgroundposition285px : 1 displayblockoverflowhiddenpositionrelativezindex1width100height100 : 1 displayblockcursorpointer : 1 margin0padding0 : 1 예뻐 : 1 body : 1 positionabsolutetop0left0border1px : 1 width620pxheight161px : 1 width278pxheight105px : 1 backgroundposition306px : 1 tistoryg : 1 listmysvc : 9 floatleftwidth230pxmarginright17px : 1 typepso : 2 topautobottom62pxleft166px : 1 wraptoday : 3 displayinlineblockpositionrelativewidth280pxheight34pxborderbottom1px : 1 overflowhiddenwidth922pxpadding11px : 1 fontstylenormalfontweightnormal : 1 titedu : 4 displayinlineblockwidth627pxpaddingright1pxverticalaligntop : 1 10pxcolor555 : 1 뉴스 : 2 innershortcut : 1 overflowhiddenpositionabsoluteleft0fontsize12pxbackgroundposition20px : 1 wrapsports : 1 innertxt : 1 displayinlineblockheight110pxverticalaligntop : 1 발로 : 1 397ce0fontsize11pxlineheight20pxbackgroundcolor3f8af9textalignleftcolorfffletterspacing1pxtextdecorationnonecursorpointer : 1 bgframe : 1 paddingleft51pxbackgroundurlhttpi1searchdaumcdnnetssearchall2014icoicoweathersize3gif : 1 오늘만 : 1 뉴스펀딩 : 1 11pxbackgroundposition0 : 1 내용을 : 22 7px : 3 descstory : 8 잇다 : 1 스포츠 : 3 아이들 : 1 브런치 : 2 listpolicy : 6 width30pxbackgroundposition451px : 1 num20 : 1 overflowhiddenpositionrelativeheight17pxmargintop5pxlineheight17pxfontfamily굴림gulimsansserif : 1 overflowhiddenfloatleftwidth130pxheight70pxlineheight14px : 1 교과서 : 2 margintop3px : 2 linkupgrade : 1 idadCgiBrandingStation : 1 marginright6pxwidth15pxbackgroundposition425px : 1 width15pxbackgroundposition86px : 1 icolotto : 1 shop2on : 3 포토 : 3 17px : 1 매진 : 1 marginbottom7px : 1 marginheight0 : 3 displaynonepositionabsoluteright0pxbottom19pxwidth211pxheight27pxbackgroundurlhttpi1searchdaumcdnnetssearchall2009imagesuggestservicegif : 1 borderbottom1px : 1 차유람 : 2 140℃ : 2 379pxcolor6d7078 : 1 marginbottom4px : 1 124℃ : 2 0backgroundurlhttpi1searchdaumcdnnetssearchall2013bgbgshadowpng : 1 놈코어룩 : 1 1650px : 3 floatleftpositionrelativezindex0width280pxheight105pxbackgroundurlhttpi1daumcdnnetdecocomicstopdeco2014v2bgdaumv6pngv1559 : 1 mymileage : 1 5pxbackgroundposition0 : 1 wrapstoryball : 4 listrecomsvc : 4 positionrelativeheight19pxpadding4px : 1 relshop : 7 left115px : 1 displayinlineblockwidth938pxheight67pxborderright1px : 1 소개 : 1 tilesstory : 36 fromfff : 1 아시아나 : 1 offGuide : 1 color383b42 : 1 padding3px : 1 310px : 6 textdecorationnonelistmysvc : 1 인재채용 : 1 345px : 5 linkstock : 1 정의화 : 2 65px : 2 2343 : 1 0lineheight42pxtextaligncentercursormove : 1 displaynonepadding0 : 1 color3770bf : 1 linkmobile : 1 backgroundurlhttpi1daumcdnnetdecocomicstopdeco2014v2txtdaumv9pngv1528 : 1 linkmysvc : 7 overflowhiddenfloatleftwidth66pxheight39pxlineheight39pxbackgroundposition378px : 1 loginmy : 18 f3f3f3fontsize11pxfontfamily돋움dotumsansserifbackgroundcolorf8f8f8letterspacing1pxclearboth : 1 backgroundposition451px : 2 overflowhiddenpositionabsolutebottom10pxleft208pxwidth167pxcursorpointerwhitespacenowraptextoverflowellipsis : 1 positionrelativeheight20pxpadding6px : 1 degreeg : 1 환율 : 1 12pxfontweightnormalfontsize11pxlineheight20pxcolorfffletterspacing1px : 1 margintop9px : 4 color000 : 1 overflowhiddenpositionabsolutetop0right0width68pxheight37pxtextindent9999px : 1 li : 32 걷는 : 1 청주 : 1 상승72 : 2 상승71 : 2 아이디 : 2 floatleftwidth176pxheight143pxpadding16px : 1 auto : 8 colorda4453 : 1 backgroundposition360px : 1 width12pxheight13pxpaddingright14pxbackgroundpositionright : 1 0fontsize14pxlineheight16pxfontfamilyverdanasansserifletterspacing1px : 1 쇼핑홈 : 1 boxsearch : 1 inpprotect : 1 열정樂서 : 1 10px : 13 14px16px : 1 705pxletterspacing1px : 1 icovs : 1 top139pxheight40pxpaddingtop6px : 1 left1pxwidth61pxbackgroundposition0 : 1 color333 : 1 w19 : 2 w18 : 2 3pxbackgroundposition0 : 1 w16 : 2 w15 : 2 w14 : 2 w13 : 2 w12 : 2 w11 : 2 w10 : 2 안젤리나 : 1 운행 : 1 FUN : 1 stockguisortablehelper : 1 floatleftmargin1px : 1 titsong : 1 width156pxheight20pxpadding8px : 1 width278pxheight33pxbordertop1px : 1 floatleftwidth655pxmarginright5pxbordertop1px : 1 bottom97px : 1 displayblockpositionrelative : 1 positionrelativefloatleftwidth92pxheight33pxpadding1px : 1 58px : 1 linkempathy : 1 0lineheight14pxcolor777letterspacing1pxtextdecorationunderline : 1 margintop4pxletterspacing1px : 1 졸리 : 1 backgroundposition410px : 1 floatleftwidth15pxheight13pxmargin4px : 1 positionrelativetop0left0zindex99 : 1 positionrelativetop0left0zindex98 : 1 eduon : 2 12pxfontweightnormallineheight12pxbackgroundposition370px : 1 overflowhiddenfloatleftheight19pxpaddingright5pxlineheight20pxbackgroundposition100 : 1 mizneton : 2 45px : 7 width181pxbackgroundposition166px : 1 width80pxheight14pxlineheight14pxbackgroundposition185px : 1 backgroundposition285px : 6 repeatx : 2 repeaty : 1 top1pxwidth55pxheight32pxbackgroundf9f9f9 : 1 floatleftwidth48pxheight70pxclearboth : 1 backgroundurlhttpi1daumcdnnetdecocomicstopdeco2014v2bgdaumv6pngv1559 : 1 displayinlineblockoverflowhiddenmaxwidth100paddingright2pxwhitespacenowraptextoverflowellipsisverticalaligntop : 1 아고라 : 2 height45pxpaddingtop10px : 2 width13pxmargin6px : 1 color00a0b6 : 2 1343 : 1 color4689df : 1 displayblockoverflowhiddenpositionrelativewidth387pxheight103px : 1 142px : 1 overflowhiddenborderright1px : 1 linkfind : 2 titdaumspe : 1 비주얼커플 : 1 사용해 : 1 loadingmy : 1 약관 : 1 교과서는 : 1 positionabsolutetop5pxright9pxwidth21pxheight21pxbackgroundposition175px : 1 1540px : 2 floatleftwidth90pxfontsize11pxlineheight14pxletterspacing1pxtextaligncenter : 1 fontsize11pxcolor2156c0letterspacing1px : 1 b8bbbfborderbottom0 : 1 최신작 : 1 floatleftwidth15pxheight18pxbackgroundposition0 : 1 숨기는우리 : 1 0backgroundposition485px : 1 마막강 : 1 mykeyword : 1 backgroundposition320px : 1 overflowhiddenwidth376pxheight35pxpadding20px : 1 positionrelativewidth113pxheight103pxmargintop13pxpadding0lineheight14pxtextaligncenterclearbothwhitespacenormal : 1 titmiznet : 4 num30 : 1 1129px : 1 servicetop : 4 13pxfontsize11pxlineheight14pxcolor262626 : 1 85px : 1 left170pxbackgroundposition171px : 1 displayblockwidth280pxmargin0 : 1 7pxborder1px : 1 wrapedu : 2 1210px : 4 150px : 2 displayblockwidth66pxheight18pxbackgroundposition69px : 1 linktit : 54 setagain : 1 bottom96px : 1 positionabsolutetop18pxright11pxpaddingright7pxfontsize11pxlineheight14pxbackgroundposition100 : 2 0color5e646f : 1 wraprealestate : 1 icoupbackgroundposition0 : 1 overflowhiddentop0textdecorationnone : 1 모습 : 1 color61646e : 1 icogive : 3 619px : 1 전주 : 1 tvpoton : 2 overflowhiddenwidth188pxpaddingtop15pxbordertop1px : 1 안전지대 : 1 color36a0e4 : 1 nonefontsize11pxfontfamily돋움dotumsansserifbackgroundf8f8f8 : 1 linkevent : 13 floatleftwidth68pxheight25pxbackgroundposition50px : 1 확산 : 1 위메프 : 2 weathertoday : 1 overflowhiddenwidth608px : 1 contvs : 2 fontsize16pxlineheight26px : 1 width6pxmarginleft1pxbackgroundposition170px : 1 30px : 2 BEST : 1 971px : 1 점점 : 2 신규앱 : 1 stockup : 2 width188pxheight103px : 1 overflowhiddenfloatleftwidth71pxmargintop4pxwhitespacenowraptextoverflowellipsis : 1 470px : 1 width31pxbackgroundposition32px : 1 displayinlineblockpositionrelativezindex0width940pxheight112pxmargintop34pxverticalaligntop : 1 한 : 1 positionabsolutetop9pxright43pxpaddingleft7pxlineheight15pxbackgroundposition0 : 1 5px : 11 labpw : 1 CJ몰 : 1 앞두고 : 1 인기기획전 : 1 overflowhiddenwidth278pxheight32pxlineheight35pxbordertop1px : 1 시험 : 1 height52px : 1 icohot : 2 floatnonemargin0padding0 : 1 width179pxheight233px : 1 14pxlineheight15pxcolor477ae4letterspacing1px : 1 90px : 4 innerevent : 1 overflowhiddenwidth515pxbordertop1px : 1 colorf73a40 : 1 padding15px : 1 ecececfontsize0lineheight0 : 2 height24pxbackgroundposition285px : 1 펼치기 : 1 중계센터 : 1 FIFA : 1 infocont : 4 floatleftwidth228pxheight159pxbordertop1px : 1 46475bclearboth : 1 btnvdorelay : 1 – : 1 775pxcolorf25334cursorpointer : 1 left141px : 1 서비스 : 7 sectionmulti : 47 e8e8e8lineheight20pxbackgroundcolorfbfbfb : 1 icosteadybackgroundposition0 : 1 overflowhiddenpositionabsolutetop7pxright7pxwidth54pxheight25pxtextindent9999px : 1 btndaum : 1 0backgroundurlhttpi1daumcdnnetdecocomicstopdeco2014v2bgdaumv6pngv1559 : 2 510px : 1 floatleftmarginright10px : 1 신동주신동빈 : 1 positionrelativezindex0width181pxheight118pxmargin15px : 1 backgroundposition370px : 1 wrapmovie : 1 bestlikeon : 2 txtexchange : 1 width144pxmarginright0padding12px : 1 w08 : 2 w09 : 2 txtweather : 2 w04 : 2 w05 : 2 w06 : 2 w07 : 2 w01 : 2 w02 : 2 w03 : 2 165pxtextindent9999px : 1 utiltop : 3 height24pxbackgroundposition378px : 1 350px : 2 5명 : 1 floatleftwidth430pxheight105pxmarginright5px : 1 벗다 : 1 wraptiercont : 1 430px : 1 linknum : 1 titappimport : 1 letterspacing1px : 2 939px : 1 width111pxheight66px : 2 라이프 : 2 width94px : 1 e5e5e5 : 1 width258pxmarginright5px : 1 0lineheight15pxverticalalignmiddletextalignleft : 1 titbestreader : 1 overflowhiddenfloatleftheight40pxmargintop0backgroundposition0 : 1 urlhttpi1daumcdnnetdecocomicstopdeco2014v2bgdaumv6pngv1559 : 1 토트백 : 1 22pxfontsize11pxlineheight14pxletterspacing1px : 1 newson : 2 backgroundposition0 : 57 paddingleft53pxbackgroundposition0 : 1 10pxbackgroundposition100 : 1 iconormal : 1 속보 : 1 layoutverticalt4 : 9 생길 : 1 splitg : 1 455px : 1 415pxcolor535353textaligncentertextdecorationnoneverticalaligntop : 1 일 : 1 금융 : 1 fontweightboldcolorfff : 5 marginbottom5px : 3 공감 : 7 overflowhiddenwidth200pxheight221pxmargintop11px : 1 zindex1backgroundcolor4e82eebackgroundposition225px : 1 vs : 1 170pxverticalaligntoptextaligncenter : 1 4pxcolor444verticalaligntop : 1 width42pxbackgroundposition90px : 3 nonebackgroundcolorfff : 1 8위 : 2 overflowvisibleoverflowxhiddenwidth399pxheight160pxhorizontalimg : 1 width83px : 1 num40 : 1 top7pxright10px : 2 colorfff : 1 e1e1e1borderleft0 : 2 color434a55 : 1 contentcontentnone : 1 blockquotebefore : 1 nonefontweightboldfontsize16pxlineheight18pxfontfamily돋움dotumsansserifbackgroundcolortransparentoutlinenoneimemodeactivewebkitappearancenone : 1 positionrelativezindex103 : 1 보호를 : 1 164℃ : 1 positionrelative : 6 linkkids : 1 linkcontvisited : 2 tv팟 : 3 생각에 : 1 ececec : 3 overflowhiddenfloatleftwidth113pxmarginright24pxlineheight14pxtextaligncenter : 1 floatleftpadding4px : 1 left406px : 1 440px : 1 myblogon : 4 stockdown : 2 displayinlineblockheight14pxmargin19px : 1 backgroundposition90px : 7 loadingon : 1 위험한 : 1 297px : 1 width37pxbackgroundposition180px : 1 tittv : 4 ageguisortablehelper : 1 width54pxbackgroundposition481px : 1 미백주름관리1만원 : 1 linkapp : 1 overflowhiddenfloatleftwidth100pxheight22pxpadding4px : 1 topautobottom63pxleft169px : 1 icotag : 3 351pxcolor196adb : 1 margintop1px : 1 floatleftmarginright14pxlineheight15px : 1 춘천 : 1 width10pxmargintop1pxbackgroundposition218px : 1 신격호 : 1 2위 : 2 layermycont : 14 nameadCgiMain : 1 top20px : 1 overflowhiddenheight1pxmargin7px : 1 31pxborder1px : 1 396px : 1 displayinlinepaddingleft18pxbackgroundposition9px : 1 230px : 4 설정 : 3 11px : 2 532pxwhitespacenowrap : 1 paddingtop13px : 1 270px : 1 left291px : 1 EBS지식 : 1 height60px : 1 linkprogram : 1 color005dde : 1 top21pxright0 : 1 언제어디서든미니프레소 : 1 4pxborder1px : 1 positionrelativewidth940pxzindex100 : 1 refQry : 2 displayblockcolor959595 : 1 현재 : 10 1198px : 1 GS샵 : 1 width158pxheight50pxcursorpointer : 1 titcont : 2 displayblockoverflowhiddenheight30pxmargin1pxfontweightnormalfontsize12pxlineheight33pxfontfamily굴림gulimsansseriftextaligncentertextdecorationnonecolor000letterspacing1px : 1 displayblockoverflowhiddenpositionrelativewidth280pxheight107pxmargintop5px : 1 내 : 1 116℃ : 1 linkpolicy : 2 srchttpdisplayaddaumnetimpslotid0K906 : 1 displayblockpadding8px : 1 overflowhiddenwidth427px : 2 nonelineheight21pxbackgroundcolortransparentimemodedisabled : 1 left449px : 1 titbrandspe : 1 btnsearchhover : 1 347px : 1 wrapgame : 3 width235pxpaddingright23px : 1 backgroundposition477px : 2 txtinfo : 2 눌러주세요 : 22 190px : 8 성차별 : 1 positionrelativewidth200pxheight245pxpadding24px : 1 말라가는 : 1 동남구 : 1 height63pxmargintop12px : 1 margintop5pxlineheight15px : 1 left481px : 1 6pxlineheight20pxbackgroundurlhttpi1daumcdnnetdecocomicstopdeco2014v2imgdaumvertv3pngv1130 : 1 paddingleft10pxcolor383b42 : 1 점령을 : 1 tiertopalpha : 1 paddingleft11pxbackgroundposition0 : 2 지식공간 : 1 marginright11px : 1 관련 : 2 displayblockheight54pxpaddingtop7px : 1 wraptip : 10 w17 : 2 e1e1e1borderbottom1px : 2 var : 1 3위 : 2 function : 1 titstoryball : 4 linkmysvchover : 1 mobileweblink : 3 이블 : 1 backgroundposition400px : 1 iconewarr : 2 infothesong : 3 불만 : 1 contcopy : 6 adtodaybrand : 1 backgroundurlhttpi1daumcdnnetdecotop2012startcafenone20121023png : 1 백과사전 : 1 top16px : 1 color262626textdecorationnone : 1 w31 : 2 w30 : 2 w33 : 2 w32 : 2 w35 : 2 w34 : 2 w37 : 2 w36 : 2 w39 : 2 w38 : 2 눈에띈 : 1 fontsize11pxcolor477ae4letterspacing1px : 1 btnreset : 1 0textindent9999px : 2 marginbottom : 1 eon : 1 tittabcont : 7 의미있나 : 1 height16pxpaddingtop7pxlineheight16px : 1 rank9 : 1 rank8 : 1 엇갈린 : 1 쇼핑 : 4 rank3 : 1 rank2 : 1 240px : 7 rank7 : 1 rank6 : 1 rank5 : 1 rank4 : 1 displayblockwidth181pxfontsize16pxlineheight25pxclearboth : 1 overflowhiddenwidth280pxheight224pxfontsize0lineheight0 : 1 전체 : 1 전체보기 : 2 issuenews : 6 floatleftfontsize11pxmargin3px : 1 txttime : 3 백종원 : 1 linkrel : 1 linknewapp : 1 recomlink : 1 movieon : 2 shop5on : 3 backgroundposition330px : 1 floatleftmarginright16pxlineheight15px : 1 icotheme : 1 출근하는 : 1 displayblockoverflowhiddenclearboth : 1 blogg : 6 제목 : 22 \n",
      "\n",
      "뉴욕타임즈\n",
      "\n",
      "\n",
      "Lead : 1 RollsRoyce : 1 6px : 3 NYT : 2 0833 : 1 NYC : 3 ThickRimmed : 1 pageManagertrackingFireEventQueue : 1 Watch : 1 pensions : 3 urlhttpcssnytcomimagesiconsbullet4x4gif : 1 347 : 1 Nytimescom : 1 Western : 1 h4sectionHeaderHome : 2 Yaphank : 1 h3containsThe : 1 League : 2 risk : 1 regional : 1 envar : 1 every : 1 Todays : 3 encounter : 1 Times’s : 1 nrrequireforvar : 1 Less : 1 fontweight : 11 Go : 5 Paul : 3 force : 2 0052 : 1 0051 : 1 Strange : 1 Collins : 1 BET : 1 spouses : 1 2015Today’s : 1 Ibish : 1 Put : 1 new : 7 Presidential : 4 told : 1 Faced : 1 wrapping : 1 Greene : 2 kicker : 4 Faces : 1 103 : 1 Tuesday : 3 135rem : 1 reports : 1 Pushed : 1 Regulated : 2 Owner : 1 Home : 3 aka : 1 changes : 1 sansserif : 2 Privacy : 1 “Being : 1 Behind : 2 Health : 7 ENGBER : 1 Star : 1 would : 1 Includes : 1 Moment : 1 Clockmaker : 1 until : 1 Rule : 1 ‘Goodfellas’ : 1 room : 1 avisited : 1 Ending : 1 Header : 1 Travelers : 1 Advertisers : 1 A81817 : 2 Topics : 1 LEARN : 1 Struggles : 1 DAVID : 1 alinknythpBriefingNewsletterSignup : 1 Bruni : 1 Bruno : 1 Digital : 1 realEstateSearch : 1 end : 1 Watching : 1 Journal : 3 Killing : 1 Admissions : 1 nytfranklinArialsansserif : 1 resignation : 1 A : 17 earlier : 1 Getaway : 1 Will : 3 suing : 1 texttransform : 5 All : 1 Conversation : 2 Brock : 3 over : 4 His : 2 Hit : 1 NYTABTESTengineisUserVariantwatchingNoScroll : 1 DANIEL : 1 Glimpses : 1 400 : 3 videoFactory : 1 hidden : 1 Observatory : 1 Mobile : 2 Fragile : 1 Cubs’ : 2 often : 1 Agenda : 1 tentifrcallenreturn : 1 Liberal : 2 ‘Well : 2 Four : 1 Playbook : 1 fitness : 1 STOLBERG : 1 series : 1 crimes : 1 13px : 1 Styles : 2 BEGIN : 1 Wars : 1 content : 1 authgrowl : 1 foundation : 1 Work : 1 standard : 1 Pension : 1 Soft : 1 Raid : 1 Contributors : 1 002 : 1 Photo : 1 Mushrooms : 1 100000 : 2 Human : 3 0667 : 1 windowmagnumwriteLogosmall : 1 unfilled : 1 Please : 1 Investigated : 1 googletaggoogletaggoogletagcmdgoogletagcmdfunctionvar : 1 top : 2 Volkswagen : 2 0066 : 1 0067 : 1 0064 : 1 too : 1 0061 : 1 Nyong’o : 1 Baltimores : 1 0069 : 1 ‘21’ : 1 Search : 4 B : 2 ‘Being : 2 Victory : 1 Repair : 1 Code : 1 ireturnnew : 1 oet1nreturn : 1 httpstatic01nytcomvideovhsbuildvhs2xmin : 1 Version : 1 realestate : 1 messagebed : 1 runner : 1 E2E2E2 : 1 tevar : 1 Flight : 1 recommended : 1 Ask : 2 Psychoanalyzing : 1 Jones : 1 Presale : 1 Fulfilling : 1 Journalist : 1 aenfececoncatnfunction : 1 Bernie : 1 Gawker : 1 QA : 1 Election : 1 Want : 2 saying : 1 retire : 1 Helvetica : 1 Twain : 1 Differently : 3 Anna : 2 Bin : 3 Lupita : 1 nythpHideKickers : 1 Wars’ : 1 headline : 1 Big : 2 Bid : 1 screening : 1 Stays : 1 Account : 1 de : 1 Vidal’ : 1 Taxes : 1 Jabs : 1 Disabled : 2 SHERYL : 1 seeks : 1 Oven : 1 textdecoration : 1 District : 1 rreturnvar : 1 Anderson : 1 John : 1 Quarterback : 1 ‘Broil’ : 1 01 : 1 05 : 6 Rise : 1 actionlink : 1 Rowling’s : 1 aactive : 2 approach : 1 C : 1 Settings : 1 Irwin : 1 Tree : 1 MOSKIN : 1 paddingtop : 2 OpEd : 4 cousin : 1 kitchen : 1 Dance : 1 country : 1 Bring : 1 Dog’ : 1 Classifieds : 1 Analogies : 1 height : 2 Returns : 2 homepage20151020104656jshomepage : 2 false : 1 conference : 1 Perception : 2 Hillary : 1 Your : 2 Ways’ : 1 Into : 1 Manage : 1 0070 : 1 Schizophrenia : 1 Writers : 1 Erroneously : 1 is : 4 it : 3 Candidates : 1 in : 31 id : 1 if : 2 Carson’s : 1 Stop : 1 Room : 1 h6active : 2 siteindexbrandinglink : 1 Whiteners : 1 Manager : 1 practices : 1 the : 79 left : 2 just : 1 Preserves : 1 Crime : 3 Surprise : 1 previous : 1 Gay : 1 Reform : 2 tentreturn : 1 beloved : 1 News : 6 has : 3 3px : 4 Restaurant : 3 Taking : 3 Morning : 1 oamarkdomContentifunction : 1 background : 4 Art : 1 54 : 2 Newsletters : 1 53 : 1 52 : 1 536 : 1 21px : 1 anythpBriefingNewsletterSignup : 1 sectionopinion : 2 right : 2 old : 1 deal : 1 Divided : 1 begin : 1 Conservation : 1 PaperVideo : 1 Life : 1 for : 22 Cuba : 1 h3containsHoliday : 1 backgroundposition : 1 Let : 1 He : 1 Gray : 1 School : 2 Replaces : 1 bold : 1 Supers : 1 Thing : 1 Corey : 1 0px : 7 ‘Star : 2 First : 7 ltie10 : 9 months : 1 Evidence : 1 Gamers : 1 float : 2 Insider : 3 Misses : 1 Draft : 3 Survive : 1 methods : 1 Militia’ : 2 Mammograms : 2 Break : 2 width : 1 clinical : 1 optsvariation : 1 DNA : 1 Column : 3 some : 1 220 : 1 Tone : 1 Flavorful : 1 romantimesserif : 5 tnvar : 1 Neutrino : 1 average : 1 promises : 1 liberal : 1 Six : 1 Potential : 1 libefore : 1 Recommends : 1 Handle : 1 no : 1 when : 1 14px : 3 role : 1 SoHo : 1 developers : 1 Pages : 1 Shift : 1 Later : 1 Trial : 1 longer : 1 Estate : 4 So : 1 Times : 14 diplomacy : 1 Films : 1 superpower : 1 Maddon : 2 0 : 13 Believe : 1 Tourism : 1 Day : 3 censorship : 1 Prize : 1 Roles : 2 Yield : 1 Jokes : 1 Tech : 2 AUSTEN : 1 Where : 1 ‘Eclipsed’ : 1 ‘Deterrence’ : 1 ahover : 2 Putin’s : 1 div : 2 Debate : 1 says : 1 Lawsuits : 1 Shakespeare : 1 Endorsement : 1 a81817 : 1 inlineblock : 3 Subscriptions : 5 Heal : 1 Public : 2 Delight : 1 Alone : 2 shared : 1 Fort : 2 Runway : 1 margintop : 5 Antonio : 1 Changes : 1 Meditation : 1 topnews : 5 Webb : 1 MM : 1 JULIA : 1 Tomorrow : 1 trial : 2 exams : 1 navigation : 2 Lifer : 1 When : 2 tentnn0undefinedtypeof : 1 Enough : 2 “dissident” : 1 0875 : 1 crisis : 1 nrrequirereturn : 1 Sanders : 2 Dies : 4 helvetica : 1 by : 5 Designers : 1 optspoll : 1 October : 1 Ben : 1 Isolation : 1 Agree : 1 FD8249 : 2 Celebrations : 1 timesvideo : 1 German : 1 urlhttpgraphics8nytimescompackagesimageshomepagebriefingsdogearsmpng : 1 values : 1 Numbers : 3 growing : 1 Tells : 1 Federal : 3 Media : 1 Accusations : 3 ureturn : 1 BAM : 1 Harper’s : 1 Terms : 2 Who : 5 1 : 19 ‘Empire : 1 DategetTimeconcatiargumentsvar : 1 Why : 2 may : 1 alerticon : 1 applications : 12 Healthier : 1 shuffleRecommendations : 1 Editorials : 1 Animated : 1 data : 1 man : 2 Series : 1 so : 1 Regulate : 1 talk : 1 httpstatic01nytcomjs2buildvideoplayersextended20appRequire : 1 homepage20151020104656jsshared : 1 Jay : 1 Breaking : 2 My : 1 White : 1 group : 1 ‘Petticoat : 2 policy : 1 World : 5 Hiding : 1 env : 1 Socialist : 2 Choices : 1 odocumentgetElementsByTagNamescript0oparentNodeinsertBeforeto : 1 END : 1 EDITORIAL : 1 not : 1 Glasses : 1 name : 1 Few : 1 Skip : 2 thttpsssplit0esslForHttpdprotothttpshttpamarkonloadivar : 1 Billion : 1 paddingleft : 3 Split : 2 year : 3 container : 1 pocketregion : 6 space : 1 Welcome : 1 looking : 1 Joe : 2 avisitednythpBriefingNewsletterSignup : 1 shows : 1 50px : 2 Theater : 2 List : 1 httpstatic01nytcomjsmtr : 1 toi0foro : 1 Money : 4 App : 2 Promise : 1 Brazil : 1 spoken : 1 There : 1 Royal : 1 Black : 4 city : 1 Relic : 1 Separate : 1 anyone : 1 nythpGiftguide : 8 Prepares : 1 Post : 3 Data : 1 Girls” : 1 Girls’ : 3 that : 4 rehandleoe1ie2undefinedtypeof : 1 season : 1 ObjectdefinePropertyenvalueowritable0enumerable1ocatchireturn : 1 padding : 8 History : 1 10 : 3 Love : 1 require : 1 windowNREUMNREUMNREUMinfobeaconbamnrdatanetlicenseKeyb5bcf2eba4applicationID4491446transactionNameYwFXZhRYVhAEVUZcX1pLYEAPFlkTFRhCXUAqueueTime0applicationTime442ttGuidagentTokenuserAttributeserrorBeaconbamnrdatanetagentjsagentnewreliccomnr686minjs : 1 Sexism : 1 Advertise : 1 browser : 1 and : 22 Court : 1 Valley : 1 Do : 4 Murphy : 1 DategetTimevar : 1 15px : 1 Stuyvesant : 1 Articles : 1 中文 : 1 multiple : 2 price : 1 Signs : 1 ‘Night : 1 mammograms : 2 assault : 1 Akil : 3 GOP : 3 NRA : 2 tteelength0forvar : 1 ‘Heart : 1 show : 1 Political : 1 Comments : 6 Graduate : 1 Role : 1 Stephen : 1 Awakens’ : 1 40px : 1 upgrade : 1 You’re : 1 only : 1 going : 1 Services : 1 Pampered : 1 Heist : 2 Turn : 1 Magazine : 7 prime : 1 nytcheltenhamshgeorgiatimes : 3 summary : 3 RoseColored : 2 Education : 4 tallWatchingModule : 1 Apps : 1 BOARD : 1 bordertopcolor : 1 That : 1 3 : 1 letterspacing : 1 Than : 1 requirehttpstatic01nytcombijstagxtagxjs : 1 jobs : 1 abcolumn : 1 rapidly : 1 Teeth : 1 arial : 1 20px : 1 787 : 1 optslimit : 1 Phones : 1 Mammogram : 2 comes : 1 yearly : 1 nytcheltenhamgeorgiatimes : 1 color : 6 Travel : 3 Team : 1 Note : 2 nythpBriefings : 2 article : 8 opts : 2 storyheading : 4 Events : 3 booms : 1 Tobar : 1 But : 1 Promos : 1 enable : 1 ercalleotinoeoi1return : 1 Bicyclists : 1 minister : 1 Path : 1 Vincent : 1 Laws : 1 Kenneth : 2 Onslaught : 1 windowlocationsearchindexOfportalvariantwatchingNoScroll : 1 margin : 1 Couch : 2 Better : 1 Plant : 1 author : 1 Freddie : 1 Grisly : 1 Design : 1 Jockeys : 1 referheading : 1 Whisky : 1 Specializes : 2 I : 1 Clear : 1 collectionfirstchild : 2 allocation : 12 Francisco : 1 Dream : 1 Own : 1 Says : 1 charges : 1 Is : 5 nythpBreakingnythpNoRule : 1 It : 1 TV : 3 Rent : 1 In : 6 Nazi : 2 ccc : 1 Loading : 2 Service : 1 displaynone : 2 being : 1 Diesel : 1 rest : 1 coloredSharetools : 1 Log : 1 death : 1 Jobs : 1 Spot : 1 Applications : 1 ccolumn : 6 Ethics : 1 disrupt : 1 Change : 2 Island : 1 Headphones : 1 nytfranklin : 2 Talk : 1 Pig : 1 Biden : 1 Mara : 3 windowlocationsearchindexOfdisabletagx : 1 uppercase : 5 ereturneobjectnfunctionn1ewindow0ieofunctionreturn : 1 International : 2 pinnedMasthead : 1 Brazilians : 2 SelfInflicted : 1 Stanford : 3 timetimestamp : 1 Visit : 1 ontexportset0calloexportsfunctionnvar : 1 Condo : 1 refer : 3 power : 1 Partition : 1 communicate : 1 leadership : 1 Efforts : 1 requirehomepagemain : 2 Evil’ : 2 Almeida : 1 of : 54 Transit : 1 Paper : 1 testimony : 1 Images : 1 or : 4 image : 1 Reboot : 1 Luxury : 1 your : 1 Store : 1 paidPostDriver : 1 her : 1 Visits : 1 hed : 1 start : 1 Artwork : 1 Stirs : 1 J : 1 PM : 11 with : 6 Guide : 6 Trailer : 1 Wrigley : 1 romantic : 1 Laden’s : 2 Alterations : 1 vhs : 1 Society : 2 Eddie : 1 abuses : 1 Close : 1 Crisis : 1 Chauffeur : 1 aehandlece1uwindowfudocumente2var : 1 videos : 1 totaling : 2 Wordplay : 1 an : 7 How : 5 as : 2 at : 13 politics : 1 Real : 4 As : 3 tight : 1 5 : 1 you : 2 Climate : 1 homepage20151020104656jsfoundation : 1 videoPlaylist : 1 important : 5 wfloading : 1 Vale’ : 1 Executive : 2 scroll : 1 Points : 1 starting : 1 Canada : 3 onrcontextiegosnexportstgos7eSDFheefunctionennexportseQJf3ax3functionenfunction : 1 all : 2 founder : 1 Fix : 1 Damage : 1 Amenities : 1 Take : 2 talks : 1 Ceiling : 1 apartment : 1 icons : 1 to : 52 Ear : 1 homepage : 6 4em : 1 Listings : 2 Sale : 2 Headers : 1 1px : 7 slocationsplit0pbeaconbamnrdataneterrorBeaconbamnrdatanetagentjsagentnewreliccomnr686minjsdnexportsoffsetioriginsfeaturesfaddEventListenerfaddEventListenerDOMContentLoadedo1uaddEventListenerloadt1fattachEventonreadystatechangeruattachEventonloadtamarkfirstbytei11223handleD5DuLPloaderfunctionennexportseG9z0Bl12functionenfunction : 1 Frequent : 1 treating : 1 Reveals : 3 heist : 1 Course : 1 messengersuggestions : 5 Ease : 1 East : 2 ribbon : 1 rfcreateElementscriptrsrcdprotoeagentnparentNodeinsertBeforernfunction : 1 what : 1 SHAW : 1 rvar : 1 rlistenerselengthremitentvoidrqrqerqerqepushnvar : 1 public : 1 BreastFeeding : 1 Rhetoric : 1 paddingbottom : 1 Gift : 3 Contact : 1 Briefing : 1 search : 2 ArtsBeat : 3 Itself : 1 Style : 4 followed : 1 family : 1 nythpDeveloping : 1 Top : 2 Too : 1 Serious : 1 Explorer : 1 Benchley : 1 Automobiles : 2 Baseball : 3 Coming : 1 textalign : 2 more : 2 American : 1 Oppose : 1 Found : 1 none : 11 Now : 1 veterans : 1 Today’s : 2 bordertop : 3 326891 : 1 Different : 1 Speaker : 3 matchHeight : 1 You : 2 urlhttpgraphics8nytimescompackagesimageshomepagenewslettericonpng : 1 stir : 1 Television : 2 tdocumentcreateElementscripttasync0ttypetextjavascriptvar : 1 Accepts : 1 Matter : 2 Syria : 2 pageManager : 2 a : 46 ribbonChartbeatMostEmailed : 1 tvar : 2 Player : 1 usurped : 1 Laurie : 1 httpstatic01nytcomjs2buildvideo20videofactoryrequire : 1 What : 4 Arial : 1 help : 1 disabled : 1 Income : 1 articleShareAtEnd : 1 its : 1 ccolumncolumn : 3 style : 1 20 : 3 Enclave : 1 Clinton’s : 1 freturnonaemitncreateulistenersceventsffunction : 1 splitlayout : 5 waitSeconds : 1 return : 2 food : 1 timestamp : 2 demographics : 1 georgiatimes : 1 Trudeau : 6 Era : 2 Capitalist : 2 Organize : 1 Raw : 1 ‘Back : 1 windowNREUMNREUMnrrequirefunctionentfunction : 1 Sports : 5 Setting : 1 More : 9 Dramatized : 1 since : 1 Outlet : 1 7 : 1 Cook : 1 paidPostFivePack : 1 reeecreatenexportstteerrqeeQJf3axhandlefunctionennexportseD5DuLPXL7HBIfunctionenfunction : 1 4px : 4 Town : 1 WMEIMG : 1 ET : 11 Block : 2 People : 3 Bros : 1 Becomes : 1 rcompletefreadyStateofunction : 1 belligerent : 1 EmailedMost : 1 Junction’ : 2 Longtime : 1 1871 : 2 story : 4 Catalogs : 1 Millionth : 1 recommendedLabelTest : 1 5th : 1 pains : 1 0063 : 1 Justin : 5 relationship : 1 Emissions : 1 Road : 1 throttle : 12 Cancer : 2 Puzzle : 2 Layouts : 2 dean’s : 1 nythpBriefingNewsletterSignup : 1 Late : 1 asetPageViewNameaddPageActionsetCustomAttributefinishedaddToTraceinlineHitnoticeErroroafunctionenwindowNREUMntapinnexportswindowNREUM112213handleD5DuLPgosfunctionennexportse7eSDFh7eSDFhfunctionenfunction : 1 paths : 1 Food : 7 borderbottom : 7 officers : 1 Graduates : 1 Arab : 1 also : 1 With : 13 sponsored : 1 71 : 2 The : 29 loopholes : 1 clear : 1 humanitarian : 1 Subscribe : 3 Edge : 2 norepeat : 4 Uniting : 1 United : 1 JK : 2 Has : 1 22px : 1 documentreadyfunction : 2 LONDOÑO : 1 Masters : 1 his : 1 triangle : 1 Fewer : 1 DENISE : 1 feels : 1 breast : 1 Recommendations : 2 banner : 1 him : 1 Help : 1 Plays : 1 For : 1 316 : 1 schizophrenic : 1 are : 3 Violations : 1 edinfoNREUMinfonfgetElementsByTagNamescript0ifeelicenseKeyeapplicationIDncpfunctionntn : 1 Quell : 1 Part : 1 Terry : 1 spanabtopregion : 6 ‘Career : 2 Florida : 1 testId : 12 lineheight : 8 last : 1 Hard : 1 Didn’t : 1 Drinks : 1 simple : 1 community : 1 Way : 1 Was : 1 Wehner : 1 Play : 2 Amanda : 1 Most : 1 Plan : 1 Warner : 1 Women : 3 slideshow : 1 Graduation : 1 else : 1 h3kicker : 2 lives : 2 GuideparentaddClassnythpGiftguide : 1 16px : 2 Old : 1 Journeys : 1 solid : 7 expanded : 1 Wouldn’t : 1 Issues : 1 Concern : 1 City : 1 nytfranklinhelveticaarialsansserif : 1 ready : 1 Proposal : 1 Cosby : 2 Many : 1 9 : 1 fefunction : 1 daughters : 1 Podcast : 1 Asaro : 1 Movies : 3 000 : 4 backgroundimage : 1 Activity : 1 Named : 1 Figure : 1 Technology : 2 Son : 1 Club : 1 Rate : 1 edge : 1 organization : 1 Racial : 1 Tools : 1 Living : 4 Takes : 2 comprehensively : 1 Internet : 1 startups : 1 Emojis : 1 Football : 1 ‘Gilmore : 3 Hands : 1 Brands : 1 input : 1 rObjectprototypehasOwnPropertynexportst13functionenfunction : 1 Alto : 3 On : 3 manage : 1 Die : 2 couple : 1 discriminatory : 1 Air : 1 nythpHideBylines : 1 modifications : 1 collect : 2 continue : 1 Columnists : 1 Find : 1 Happens : 2 velcroSocialFollow : 1 Little : 1 Schiff : 1 Fears : 1 back : 1 Hacks : 1 Email : 1 Daypart : 1 Frank : 1 nythpBreaking : 2 ERNESTO : 1 Box : 1 be : 1 Look : 3 300 : 1 Bill : 1 David : 1 “Gilmore : 1 Russia : 2 Taylor : 1 8px : 3 Age : 2 borderbottomwidth : 1 block : 1 NewsDeveloping : 1 ROMERO : 1 recreate : 1 Woodell : 2 Their : 2 Flights : 1 Speech : 1 themenewsheadlines : 2 Driven : 1 borderbottomcolor : 1 Illuminates : 1 User : 1 Painter : 1 Urges : 1 Opinionator : 1 Office : 1 Africa : 1 up : 1 Books : 5 called : 1 Editor : 3 0012 : 1 Attack : 2 New : 18 Upshot : 2 Manhattan : 1 Map : 1 May : 2 Mary : 3 application : 1 bcolumn : 14 Student : 1 eentvar : 1 Man : 2 Case : 2 Netflix : 1 It’s : 1 AM : 1 Gun : 1 Ad : 1 age : 1 Weddings : 1 An : 3 2000 : 1 At : 4 Village : 1 Newsletter : 1 having : 1 Sell : 1 Self : 1 Enact : 1 Business : 7 CASEY : 1 Glass : 1 Words : 1 Not : 3 » : 35 women : 1 Sanctions : 1 Region : 2 putting : 1 Parini : 1 severely : 1 Branagh : 2 try : 1 functionrenew : 1 rtifntvar : 1 Index : 1 Discrimination : 3 requireportalapp : 1 Long : 2 Sections : 3 Campaigns : 3 America’s : 1 r1otn0iArray0o0oroirenrreturn : 1 chose : 1 Jane’ : 2 Professor : 1 Jane” : 1 445 : 1 explore : 1 Yum : 1 Supposed : 1 otifObjectdefinePropertyObjectkeystryreturn : 1 tenvar : 1 18px : 4 Palo : 3 Photography : 1 338 : 1 Leading : 3 Opinion : 13 Multimedia : 2 333 : 1 Contributing : 1 Safety : 1 Treatment : 3 from : 2 Sold : 1 next : 1 Lens : 1 Novel : 3 on : 17 STYLING : 2 visibility : 1 Editorial : 3 subscription : 1 Affair : 3 Feedback : 1 this : 1 hpHeader : 25 Video : 7 industry : 3 Police : 1 httpstatic01nytcomjsauthgrowldefault : 1 Feature : 2 IAN : 1 Party : 1 Agricole : 1 six : 1 photospotregion : 3 ViewedRecommended : 1 Gore : 1 tereturn : 1 Friends : 1 Fervent : 1 Ghost : 1 iconbefore : 1 NYTABTEST : 1 Corset : 1 Ryan : 3 Letters : 1 Disaster : 1 Ottoman : 1 r1onridiegosnexportstgos7eSDFhidfunctionennexportseXL7HBIG9z0Blfunctionenfunction : 1 Middle : 1 Politics : 4 httpa1nytcomassets : 1 sfunction : 1 including : 1 byline : 2 storythemefeature : 3 Brooks : 2 li : 4 fontfamily : 11 NYTABTESTengine : 1 2015 : 2 paidPostFivePackMock : 1 2016 : 1 Rowling : 1 Can : 1 messagecontainer : 1 Social : 1 transparent : 1 Summer : 1 San : 2 Replica : 1 10px : 2 Over : 2 Arts : 6 Statistics : 1 From : 5 700 : 7 Next : 1 meta : 1 cereturn : 1 our : 1 sexual : 1 87 : 2 Opponent : 1 China : 1 enoovar : 1 inexportstG9z0Bl : 1 supports : 1 Stage : 2 roonooexportsreturn : 1 Corrections : 1 Meet : 3 Spend : 3 spanablayoutlayout : 1 Point : 1 could : 1 Art” : 1 ehttpsdocumentlocationprotocoltsrcehttpshttpwwwgoogletagservicescomtagjsgptjsvar : 1 ntexportsiffunctiontypeof : 1 458 : 1 Review : 8 art : 1 NY : 4 Corporate : 1 requirefoundationmain : 3 relations : 1 their : 2 h6hover : 2 View : 1 final : 1 97px : 1 fontsize : 11 foundationviewspagemanager : 2 Democratic : 3 herself : 1 Apple : 1 Portraits : 2 Beckoning : 1 Edition : 1 requirejquerynyt : 2 mediaslideshow : 1 collecting : 1 Pat : 2 Pay : 1 Drummer : 1 STREITFELD : 1 One : 2 border : 2 Independent : 1 Focuses : 1 Stubblefield : 2 After : 2 authmtr : 1 SIMON : 1 Blogs : 1 Games : 1 but : 2 Enter : 2 masthead : 1 Reserve : 1 Some : 1 Actress : 2 GRADY : 1 nythpHideTimestamps : 1 09 : 1 ‘Sunny : 1 text : 1 0036 : 1 0033 : 1 bring : 1 30px : 1 decade : 1 Undo : 1 should : 1 York : 8 commentspanel : 1 Homes : 1 watching : 1 Overselling : 1 999 : 3 Stories : 1 THE : 1 STEPHANIE : 1 multiyear : 1 o0oppupapplystreturn : 1 Bright : 1 she : 1 House : 4 Broadway : 1 officials : 1 httpa1nytcomassetshomepage20151020104656imagesfoundationlogos : 1 165rem : 1 storythemesummary : 2 21rem : 1 Anderson’s : 1 Kitchen : 3 2px : 7 Study : 1 Silicon : 1 Race : 1 police : 2 CLIFFORD : 1 Mets : 1 taking : 1 display : 7 Osama : 2 functionPortal : 1 Lawyer : 1 Campus : 1 backgroundcolor : 1 Music : 1 maximize : 1 Struggling : 1 Smart : 1 HUGHES : 1 Get : 1 © : 1 baseUrl : 1 Brooklyn : 3 Obituaries : 2 Editing : 1 f8e9d2 : 1 backgroundrepeat : 1 runaroundRight : 2 kickers : 1 Credit : 1 Neighborhood : 1 Essential : 1 criminal : 1 Force : 1 will : 1 nytfranklinarialhelveticasansserif : 2 MORE : 1 site : 1 vs : 1 Turkey’s : 1 Outsiders : 2 Return : 1 GAY : 1 began : 1 ntypeof : 1 NYTimescom : 2 Lalo : 1 Ride : 1 center : 2 well : 2 States : 1 352 : 1 Have : 1 45 : 1 Lennart : 1 Mother : 1 Sunday : 2 — : 1 Be : 6 Company : 3 Understand : 1 By : 14 match : 1 Launch : 1 Cycle : 1 T : 3 variants : 12 Fashion : 3 like : 3 testName : 12 tryTypekitloadcatche : 1 11px : 4 Who’d : 1 12px : 8 Sun : 1 Bleachers : 1 115 : 1 Crossword : 4 Offers : 2 Nocera : 2 Trudeau’s : 1 Future’ : 1 lead : 1 pthemecomments : 1 AheadparentaddClassnythpBriefings : 1 NICHOLAS : 1 windowmagnumprocessFlagslimitFabrikSavemoreFollowSuggestionsunfollowCommentshomepageOpinionKickerCssfollowFeatureallTheEmphasesvideoVHSCovervideoVHSHomepageCoveradditionalOpinionRegionshpViewabilityminiNavCountnewsEventHierarchyfreeTrialinsiderLaunch : 1 Inside : 2 Us : 2 Suspends : 1 after : 1 Withdraws : 1 about : 3 getting : 1 US : 5 UN : 1 nythpDaypartRegion : 6 Mayor : 2 Really : 1 windownewrelicnewrelicwindowNREUMvar : 1 previously : 1 Alerts : 1 h6 : 21 Two : 1 h5 : 2 Approach : 2 Wooster : 1 housing : 1 Therapy : 1 Baltimore : 2 Listening : 1 var : 5 Crédit : 1 function : 7 Cooks : 2 Gadgetwise : 1 Science : 3 Well : 1 Detroit : 1 construction : 1 Wall : 1 Twist : 1 productionpublished : 1 Care : 2 Ivy : 2 Portalcreatenytinthpwatching : 1 Modern : 1 Spirits : 1 Laden : 1 marginbottom : 7 urlhttpi1nytcomimagesiconsiconalert12x12a81817png : 1 Centered : 2 trials : 1 DAN : 1 Million : 1 40 : 1 Delivery : 1 Lufthansa : 1 other : 1 Five : 1 Loss : 1 Like : 1 HPHEADER : 2 “Artists : 1 Remove : 1 rObjectprototypehasOwnPropertynexportstD5DuLPfunctionenfunction : 1 Future : 1 Page : 3 South : 1 Fights : 1 Site : 3 maxHeight : 1 Scandal : 1 Organs : 1\n"
     ]
    }
   ],
   "source": [
    "#-*- coding: cp949-*-\n",
    "#-*- coding: utf-8-*-\n",
    "import urllib2\n",
    "import string\n",
    "source1 = urllib2.urlopen(\"http://cse.kut.ac.kr/\").read()\n",
    "source2 = urllib2.urlopen(\"http://www.naver.com/\").read()\n",
    "source3 = urllib2.urlopen(\"http://www.daum.net/\").read()\n",
    "source4 = urllib2.urlopen(\"http://www.nytimes.com/\").read()\n",
    "\n",
    "\n",
    "#print source # 추후 숙제 답안 제출 때엔 왼쪽 라인은 주석처리할 것\n",
    "def parsing(source):\n",
    "    from bs4 import BeautifulSoup\n",
    "    soup = BeautifulSoup(source)\n",
    "    word = soup.text\n",
    "    start = word.find('<')\n",
    "    end = word.find('>')\n",
    "    word = word[0:start] + word[end+1:]\n",
    "    \n",
    "    delet = string.punctuation\n",
    "    for i in range(len(delet)):\n",
    "        word = word.replace(delet[i],'')\n",
    "    \n",
    "    count = word.split()\n",
    "    \n",
    "    D={}\n",
    "    for word in count:\n",
    "        if word in D:\n",
    "            D[word]+=1\n",
    "        else:\n",
    "            D[word]=1\n",
    "        \n",
    "    for key in D.keys():\n",
    "        print \"%s : %s\" % (key, D[key]),;\n",
    "\n",
    "    return ;\n",
    "\n",
    "print '\\n\\n학부 학부홈페이지\\n\\n'\n",
    "\n",
    "parsing(source1)\n",
    "print '\\n\\n네이버\\n\\n'\n",
    "parsing(source2)\n",
    "print '\\n\\n다음\\n\\n'\n",
    "parsing(source3)\n",
    "print '\\n\\n뉴욕타임즈\\n\\n'\n",
    "parsing(source4)\n",
    " "
   ]
  },
  {
   "cell_type": "markdown",
   "metadata": {},
   "source": [
    "저번과제를 불러와 구두문자를 제거 하기 위하여 여러 메소드를 써봣으나 잘 되지 않았고 replace()를 통해 구두문자를 제거하는 것이 최선이였고 string.punctuation를 통해 구두문자를 가져와 delet에 저장한후 for문으로 모든 구두문자를 replace로 지워 주었습니다.\n",
    "그후 사전 D를 선언 하고 for문을 이용하여 단어가 처음 나오면 단어에 값을 1을 넣어주고 만약 나왔던 단어가 나오면 값에 +1을 해주는 형식으로 사전 D를 구성 하였습니다. 그후 for문을 이용해 key와 value를 출력하였습니다.\n",
    "여러 홈페이지를 파싱해야 하기 때문에 다만들고 난뒤 모든 과정을 pasing()이라는 함수로 바꾸어 주었습니다."
   ]
  }
 ],
 "metadata": {
  "kernelspec": {
   "display_name": "Python 2",
   "language": "python",
   "name": "python2"
  },
  "language_info": {
   "codemirror_mode": {
    "name": "ipython",
    "version": 2
   },
   "file_extension": ".py",
   "mimetype": "text/x-python",
   "name": "python",
   "nbconvert_exporter": "python",
   "pygments_lexer": "ipython2",
   "version": "2.7.9"
  }
 },
 "nbformat": 4,
 "nbformat_minor": 0
}
